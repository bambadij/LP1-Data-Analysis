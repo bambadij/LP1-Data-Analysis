{
 "cells": [
  {
   "cell_type": "markdown",
   "metadata": {},
   "source": [
    "# LP1 Data Analysis Project\n",
    "### Indian Startup Data Analysis (2018-2021)"
   ]
  },
  {
   "cell_type": "markdown",
   "metadata": {},
   "source": [
    "### Objective\n",
    "\n",
    "Understanding the Indian startup ecosystem from previous data on funding and investors from **2018 to 2021**, and proposing to our team the best way to venture into the market.\n",
    "\n",
    "### Hypothesis\n",
    "**Null Hypothesis(Ho)** : No relationship between sector and amount raised(capital)\n",
    "\n",
    "**Alternate Hypothesis(Ha)** : Some sectors receive more funding than others (relationship between the sector and amount raised)\n",
    "\n",
    "### Research Questions\n",
    "\n",
    "1. Which sector has the highest number of investors?\n",
    "\n",
    "2. Which sector received the highest amount of funding collectively?\n",
    "\n",
    "3. Which region has the most startups?\n",
    "\n",
    "4. Which sector received the lowest amount of funding collectively?\n",
    "\n",
    "5. Which industry received the lowest amount of funding collectively?\n",
    "\n",
    "6. What is the average amount of capital invested for the top 5 sectors?\n",
    "\n",
    "### Some Relevant Stakeholders\n",
    "\n",
    "-   Startups\n",
    "\n",
    "-   Investors\n",
    "\n",
    "-   Government\n",
    "\n",
    "-   Incubators and Startup Accelerators\n",
    "\n",
    "-   Other Founders and Entrepreneurs\n",
    "\n",
    "-   Customers\n",
    "\n",
    "-   Competitors\n"
   ]
  },
  {
   "cell_type": "markdown",
   "metadata": {},
   "source": [
    "## Installations\n",
    "\n",
    "Packages for accessing remote database with data"
   ]
  },
  {
   "cell_type": "code",
   "execution_count": 159,
   "metadata": {},
   "outputs": [],
   "source": [
    "# %pip install pyodbc  # Fix some structural errors\n",
    "# %pip install python-dotenv \n"
   ]
  },
  {
   "cell_type": "code",
   "execution_count": 1,
   "metadata": {},
   "outputs": [
    {
     "name": "stdout",
     "output_type": "stream",
     "text": [
      "Requirement already satisfied: plotly in c:\\users\\ad\\anaconda3\\lib\\site-packages (5.15.0)\n",
      "Requirement already satisfied: tenacity>=6.2.0 in c:\\users\\ad\\anaconda3\\lib\\site-packages (from plotly) (8.2.2)\n",
      "Requirement already satisfied: packaging in c:\\users\\ad\\anaconda3\\lib\\site-packages (from plotly) (23.0)\n",
      "Note: you may need to restart the kernel to use updated packages.\n"
     ]
    }
   ],
   "source": [
    "pip install plotly"
   ]
  },
  {
   "cell_type": "markdown",
   "metadata": {},
   "source": [
    "Import other packages/libraries required for the project"
   ]
  },
  {
   "cell_type": "code",
   "execution_count": 2,
   "metadata": {},
   "outputs": [],
   "source": [
    "# Database connections\n",
    "import plotly.express as px\n",
    "import plotly.graph_objects as go\n",
    "import plotly.io as pio\n",
    "import plotly.colors as colors\n",
    "import pyodbc \n",
    "from dotenv import dotenv_values #import the dotenv_values function from the dotenv package\n",
    "import warnings \n",
    "warnings.filterwarnings('ignore')\n",
    "\n",
    "# Data handling\n",
    "\n",
    "import pandas as pd\n",
    "import numpy as np\n",
    "\n",
    "# Data Visualisation\n",
    "\n",
    "import seaborn as sns\n",
    "import matplotlib.pyplot as plt"
   ]
  },
  {
   "cell_type": "markdown",
   "metadata": {},
   "source": [
    "## Accessing 2020-2021 data from the database\n",
    "\n",
    "-   **pyodbc**: A package for creating connection strings to your remote database\n",
    "-   **python-dotenv**: A package for creating environment variables that will help you hide sensitve configuration informantion such as database credentials and API keys\n",
    "\n",
    "We already have our 2018 and 2019 data stored in csv files. We want to access the 2020 and 2021 data."
   ]
  },
  {
   "cell_type": "code",
   "execution_count": 4,
   "metadata": {},
   "outputs": [],
   "source": [
    "# Load environment variables from .env file into a dictionary\n",
    "environment_variables = dotenv_values('.env')\n",
    "\n",
    "\n",
    "# Get the values for the credentials you set in the '.env' file\n",
    "database = environment_variables.get(\"DATABASE\")\n",
    "server = environment_variables.get(\"SERVER\")\n",
    "username = environment_variables.get(\"USERNAME\")\n",
    "password = environment_variables.get(\"PASSWORD\")\n",
    "\n",
    "\n",
    "connection_string = f\"DRIVER={{SQL Server}};SERVER=tcp:{server};DATABASE={database};UID={username};PWD={password}\""
   ]
  },
  {
   "cell_type": "code",
   "execution_count": 5,
   "metadata": {},
   "outputs": [],
   "source": [
    "# Use the connect method of the pyodbc library and pass in the connection string.\n",
    "# This will connect to the server and might take a few seconds to be complete. \n",
    "# Check your internet connection if it takes more time than necessary\n",
    "\n",
    "connection = pyodbc.connect(connection_string)"
   ]
  },
  {
   "cell_type": "code",
   "execution_count": 6,
   "metadata": {},
   "outputs": [
    {
     "name": "stdout",
     "output_type": "stream",
     "text": [
      "LP1_startup_funding2020\n",
      "LP1_startup_funding2021\n",
      "trace_xe_action_map\n",
      "trace_xe_event_map\n"
     ]
    }
   ],
   "source": [
    "# Get the cursor\n",
    "cursor = connection.cursor()\n",
    "\n",
    "# Retrieve the table names\n",
    "table_names = cursor.tables(tableType='TABLE')\n",
    "\n",
    "# Fetch all the table names\n",
    "tables = table_names.fetchall()\n",
    "\n",
    "# Print the table names\n",
    "for table in tables:\n",
    "    print(table.table_name)"
   ]
  },
  {
   "cell_type": "code",
   "execution_count": 7,
   "metadata": {},
   "outputs": [],
   "source": [
    "# Now the sql query to get the data is what what you see below. \n",
    "# Note that you will not have permissions to insert delete or update this database table. \n",
    "\n",
    "query = \"SELECT * FROM LP1_startup_funding2020\"\n",
    "data=pd.read_sql(query,connection)"
   ]
  },
  {
   "cell_type": "code",
   "execution_count": 8,
   "metadata": {},
   "outputs": [
    {
     "data": {
      "text/html": [
       "<div>\n",
       "<style scoped>\n",
       "    .dataframe tbody tr th:only-of-type {\n",
       "        vertical-align: middle;\n",
       "    }\n",
       "\n",
       "    .dataframe tbody tr th {\n",
       "        vertical-align: top;\n",
       "    }\n",
       "\n",
       "    .dataframe thead th {\n",
       "        text-align: right;\n",
       "    }\n",
       "</style>\n",
       "<table border=\"1\" class=\"dataframe\">\n",
       "  <thead>\n",
       "    <tr style=\"text-align: right;\">\n",
       "      <th></th>\n",
       "      <th>Company_Brand</th>\n",
       "      <th>Founded</th>\n",
       "      <th>HeadQuarter</th>\n",
       "      <th>Sector</th>\n",
       "      <th>What_it_does</th>\n",
       "      <th>Founders</th>\n",
       "      <th>Investor</th>\n",
       "      <th>Amount</th>\n",
       "      <th>Stage</th>\n",
       "      <th>column10</th>\n",
       "    </tr>\n",
       "  </thead>\n",
       "  <tbody>\n",
       "    <tr>\n",
       "      <th>0</th>\n",
       "      <td>Aqgromalin</td>\n",
       "      <td>2019.0</td>\n",
       "      <td>Chennai</td>\n",
       "      <td>AgriTech</td>\n",
       "      <td>Cultivating Ideas for Profit</td>\n",
       "      <td>Prasanna Manogaran, Bharani C L</td>\n",
       "      <td>Angel investors</td>\n",
       "      <td>200000.0</td>\n",
       "      <td>None</td>\n",
       "      <td>None</td>\n",
       "    </tr>\n",
       "    <tr>\n",
       "      <th>1</th>\n",
       "      <td>Krayonnz</td>\n",
       "      <td>2019.0</td>\n",
       "      <td>Bangalore</td>\n",
       "      <td>EdTech</td>\n",
       "      <td>An academy-guardian-scholar centric ecosystem ...</td>\n",
       "      <td>Saurabh Dixit, Gurudutt Upadhyay</td>\n",
       "      <td>GSF Accelerator</td>\n",
       "      <td>100000.0</td>\n",
       "      <td>Pre-seed</td>\n",
       "      <td>None</td>\n",
       "    </tr>\n",
       "    <tr>\n",
       "      <th>2</th>\n",
       "      <td>PadCare Labs</td>\n",
       "      <td>2018.0</td>\n",
       "      <td>Pune</td>\n",
       "      <td>Hygiene management</td>\n",
       "      <td>Converting bio-hazardous waste to harmless waste</td>\n",
       "      <td>Ajinkya Dhariya</td>\n",
       "      <td>Venture Center</td>\n",
       "      <td>NaN</td>\n",
       "      <td>Pre-seed</td>\n",
       "      <td>None</td>\n",
       "    </tr>\n",
       "    <tr>\n",
       "      <th>3</th>\n",
       "      <td>NCOME</td>\n",
       "      <td>2020.0</td>\n",
       "      <td>New Delhi</td>\n",
       "      <td>Escrow</td>\n",
       "      <td>Escrow-as-a-service platform</td>\n",
       "      <td>Ritesh Tiwari</td>\n",
       "      <td>Venture Catalysts, PointOne Capital</td>\n",
       "      <td>400000.0</td>\n",
       "      <td>None</td>\n",
       "      <td>None</td>\n",
       "    </tr>\n",
       "    <tr>\n",
       "      <th>4</th>\n",
       "      <td>Gramophone</td>\n",
       "      <td>2016.0</td>\n",
       "      <td>Indore</td>\n",
       "      <td>AgriTech</td>\n",
       "      <td>Gramophone is an AgTech platform enabling acce...</td>\n",
       "      <td>Ashish Rajan Singh, Harshit Gupta, Nishant Mah...</td>\n",
       "      <td>Siana Capital Management, Info Edge</td>\n",
       "      <td>340000.0</td>\n",
       "      <td>None</td>\n",
       "      <td>None</td>\n",
       "    </tr>\n",
       "  </tbody>\n",
       "</table>\n",
       "</div>"
      ],
      "text/plain": [
       "  Company_Brand  Founded HeadQuarter              Sector  \\\n",
       "0    Aqgromalin   2019.0     Chennai            AgriTech   \n",
       "1      Krayonnz   2019.0   Bangalore              EdTech   \n",
       "2  PadCare Labs   2018.0        Pune  Hygiene management   \n",
       "3         NCOME   2020.0   New Delhi              Escrow   \n",
       "4    Gramophone   2016.0      Indore            AgriTech   \n",
       "\n",
       "                                        What_it_does  \\\n",
       "0                       Cultivating Ideas for Profit   \n",
       "1  An academy-guardian-scholar centric ecosystem ...   \n",
       "2   Converting bio-hazardous waste to harmless waste   \n",
       "3                       Escrow-as-a-service platform   \n",
       "4  Gramophone is an AgTech platform enabling acce...   \n",
       "\n",
       "                                            Founders  \\\n",
       "0                    Prasanna Manogaran, Bharani C L   \n",
       "1                   Saurabh Dixit, Gurudutt Upadhyay   \n",
       "2                                    Ajinkya Dhariya   \n",
       "3                                      Ritesh Tiwari   \n",
       "4  Ashish Rajan Singh, Harshit Gupta, Nishant Mah...   \n",
       "\n",
       "                              Investor    Amount     Stage column10  \n",
       "0                      Angel investors  200000.0      None     None  \n",
       "1                      GSF Accelerator  100000.0  Pre-seed     None  \n",
       "2                       Venture Center       NaN  Pre-seed     None  \n",
       "3  Venture Catalysts, PointOne Capital  400000.0      None     None  \n",
       "4  Siana Capital Management, Info Edge  340000.0      None     None  "
      ]
     },
     "execution_count": 8,
     "metadata": {},
     "output_type": "execute_result"
    }
   ],
   "source": [
    "data.head()"
   ]
  },
  {
   "cell_type": "code",
   "execution_count": 9,
   "metadata": {},
   "outputs": [
    {
     "name": "stdout",
     "output_type": "stream",
     "text": [
      "<class 'pandas.core.frame.DataFrame'>\n",
      "RangeIndex: 1055 entries, 0 to 1054\n",
      "Data columns (total 10 columns):\n",
      " #   Column         Non-Null Count  Dtype  \n",
      "---  ------         --------------  -----  \n",
      " 0   Company_Brand  1055 non-null   object \n",
      " 1   Founded        842 non-null    float64\n",
      " 2   HeadQuarter    961 non-null    object \n",
      " 3   Sector         1042 non-null   object \n",
      " 4   What_it_does   1055 non-null   object \n",
      " 5   Founders       1043 non-null   object \n",
      " 6   Investor       1017 non-null   object \n",
      " 7   Amount         801 non-null    float64\n",
      " 8   Stage          591 non-null    object \n",
      " 9   column10       2 non-null      object \n",
      "dtypes: float64(2), object(8)\n",
      "memory usage: 82.5+ KB\n"
     ]
    }
   ],
   "source": [
    "data.info()"
   ]
  },
  {
   "cell_type": "code",
   "execution_count": 10,
   "metadata": {},
   "outputs": [],
   "source": [
    "# save to csv\n",
    "\n",
    "data.to_csv('LP1_startup_funding2020.csv', index=False)"
   ]
  },
  {
   "cell_type": "code",
   "execution_count": 11,
   "metadata": {},
   "outputs": [],
   "source": [
    "query = \"SELECT * FROM LP1_startup_funding2021\"\n",
    "data_2=pd.read_sql(query,connection)"
   ]
  },
  {
   "cell_type": "code",
   "execution_count": 12,
   "metadata": {},
   "outputs": [
    {
     "data": {
      "text/html": [
       "<div>\n",
       "<style scoped>\n",
       "    .dataframe tbody tr th:only-of-type {\n",
       "        vertical-align: middle;\n",
       "    }\n",
       "\n",
       "    .dataframe tbody tr th {\n",
       "        vertical-align: top;\n",
       "    }\n",
       "\n",
       "    .dataframe thead th {\n",
       "        text-align: right;\n",
       "    }\n",
       "</style>\n",
       "<table border=\"1\" class=\"dataframe\">\n",
       "  <thead>\n",
       "    <tr style=\"text-align: right;\">\n",
       "      <th></th>\n",
       "      <th>Company_Brand</th>\n",
       "      <th>Founded</th>\n",
       "      <th>HeadQuarter</th>\n",
       "      <th>Sector</th>\n",
       "      <th>What_it_does</th>\n",
       "      <th>Founders</th>\n",
       "      <th>Investor</th>\n",
       "      <th>Amount</th>\n",
       "      <th>Stage</th>\n",
       "    </tr>\n",
       "  </thead>\n",
       "  <tbody>\n",
       "    <tr>\n",
       "      <th>0</th>\n",
       "      <td>Unbox Robotics</td>\n",
       "      <td>2019.0</td>\n",
       "      <td>Bangalore</td>\n",
       "      <td>AI startup</td>\n",
       "      <td>Unbox Robotics builds on-demand AI-driven ware...</td>\n",
       "      <td>Pramod Ghadge, Shahid Memon</td>\n",
       "      <td>BEENEXT, Entrepreneur First</td>\n",
       "      <td>$1,200,000</td>\n",
       "      <td>Pre-series A</td>\n",
       "    </tr>\n",
       "    <tr>\n",
       "      <th>1</th>\n",
       "      <td>upGrad</td>\n",
       "      <td>2015.0</td>\n",
       "      <td>Mumbai</td>\n",
       "      <td>EdTech</td>\n",
       "      <td>UpGrad is an online higher education platform.</td>\n",
       "      <td>Mayank Kumar, Phalgun Kompalli, Ravijot Chugh,...</td>\n",
       "      <td>Unilazer Ventures, IIFL Asset Management</td>\n",
       "      <td>$120,000,000</td>\n",
       "      <td>None</td>\n",
       "    </tr>\n",
       "    <tr>\n",
       "      <th>2</th>\n",
       "      <td>Lead School</td>\n",
       "      <td>2012.0</td>\n",
       "      <td>Mumbai</td>\n",
       "      <td>EdTech</td>\n",
       "      <td>LEAD School offers technology based school tra...</td>\n",
       "      <td>Smita Deorah, Sumeet Mehta</td>\n",
       "      <td>GSV Ventures, Westbridge Capital</td>\n",
       "      <td>$30,000,000</td>\n",
       "      <td>Series D</td>\n",
       "    </tr>\n",
       "    <tr>\n",
       "      <th>3</th>\n",
       "      <td>Bizongo</td>\n",
       "      <td>2015.0</td>\n",
       "      <td>Mumbai</td>\n",
       "      <td>B2B E-commerce</td>\n",
       "      <td>Bizongo is a business-to-business online marke...</td>\n",
       "      <td>Aniket Deb, Ankit Tomar, Sachin Agrawal</td>\n",
       "      <td>CDC Group, IDG Capital</td>\n",
       "      <td>$51,000,000</td>\n",
       "      <td>Series C</td>\n",
       "    </tr>\n",
       "    <tr>\n",
       "      <th>4</th>\n",
       "      <td>FypMoney</td>\n",
       "      <td>2021.0</td>\n",
       "      <td>Gurugram</td>\n",
       "      <td>FinTech</td>\n",
       "      <td>FypMoney is Digital NEO Bank for Teenagers, em...</td>\n",
       "      <td>Kapil Banwari</td>\n",
       "      <td>Liberatha Kallat, Mukesh Yadav, Dinesh Nagpal</td>\n",
       "      <td>$2,000,000</td>\n",
       "      <td>Seed</td>\n",
       "    </tr>\n",
       "  </tbody>\n",
       "</table>\n",
       "</div>"
      ],
      "text/plain": [
       "    Company_Brand  Founded HeadQuarter          Sector  \\\n",
       "0  Unbox Robotics   2019.0   Bangalore      AI startup   \n",
       "1          upGrad   2015.0      Mumbai          EdTech   \n",
       "2     Lead School   2012.0      Mumbai          EdTech   \n",
       "3         Bizongo   2015.0      Mumbai  B2B E-commerce   \n",
       "4        FypMoney   2021.0    Gurugram         FinTech   \n",
       "\n",
       "                                        What_it_does  \\\n",
       "0  Unbox Robotics builds on-demand AI-driven ware...   \n",
       "1     UpGrad is an online higher education platform.   \n",
       "2  LEAD School offers technology based school tra...   \n",
       "3  Bizongo is a business-to-business online marke...   \n",
       "4  FypMoney is Digital NEO Bank for Teenagers, em...   \n",
       "\n",
       "                                            Founders  \\\n",
       "0                        Pramod Ghadge, Shahid Memon   \n",
       "1  Mayank Kumar, Phalgun Kompalli, Ravijot Chugh,...   \n",
       "2                         Smita Deorah, Sumeet Mehta   \n",
       "3            Aniket Deb, Ankit Tomar, Sachin Agrawal   \n",
       "4                                      Kapil Banwari   \n",
       "\n",
       "                                        Investor        Amount         Stage  \n",
       "0                    BEENEXT, Entrepreneur First    $1,200,000  Pre-series A  \n",
       "1       Unilazer Ventures, IIFL Asset Management  $120,000,000          None  \n",
       "2               GSV Ventures, Westbridge Capital   $30,000,000      Series D  \n",
       "3                         CDC Group, IDG Capital   $51,000,000      Series C  \n",
       "4  Liberatha Kallat, Mukesh Yadav, Dinesh Nagpal    $2,000,000          Seed  "
      ]
     },
     "execution_count": 12,
     "metadata": {},
     "output_type": "execute_result"
    }
   ],
   "source": [
    "data_2.head()"
   ]
  },
  {
   "cell_type": "code",
   "execution_count": 13,
   "metadata": {},
   "outputs": [
    {
     "name": "stdout",
     "output_type": "stream",
     "text": [
      "<class 'pandas.core.frame.DataFrame'>\n",
      "RangeIndex: 1209 entries, 0 to 1208\n",
      "Data columns (total 9 columns):\n",
      " #   Column         Non-Null Count  Dtype  \n",
      "---  ------         --------------  -----  \n",
      " 0   Company_Brand  1209 non-null   object \n",
      " 1   Founded        1208 non-null   float64\n",
      " 2   HeadQuarter    1208 non-null   object \n",
      " 3   Sector         1209 non-null   object \n",
      " 4   What_it_does   1209 non-null   object \n",
      " 5   Founders       1205 non-null   object \n",
      " 6   Investor       1147 non-null   object \n",
      " 7   Amount         1206 non-null   object \n",
      " 8   Stage          781 non-null    object \n",
      "dtypes: float64(1), object(8)\n",
      "memory usage: 85.1+ KB\n"
     ]
    }
   ],
   "source": [
    "data_2.info()"
   ]
  },
  {
   "cell_type": "code",
   "execution_count": 14,
   "metadata": {},
   "outputs": [],
   "source": [
    "# save to csv\n",
    "\n",
    "data_2.to_csv('LP1_startup_funding2021.csv', index=False)"
   ]
  },
  {
   "cell_type": "code",
   "execution_count": 15,
   "metadata": {},
   "outputs": [
    {
     "data": {
      "text/html": [
       "<div>\n",
       "<style scoped>\n",
       "    .dataframe tbody tr th:only-of-type {\n",
       "        vertical-align: middle;\n",
       "    }\n",
       "\n",
       "    .dataframe tbody tr th {\n",
       "        vertical-align: top;\n",
       "    }\n",
       "\n",
       "    .dataframe thead th {\n",
       "        text-align: right;\n",
       "    }\n",
       "</style>\n",
       "<table border=\"1\" class=\"dataframe\">\n",
       "  <thead>\n",
       "    <tr style=\"text-align: right;\">\n",
       "      <th></th>\n",
       "      <th>Company Name</th>\n",
       "      <th>Industry</th>\n",
       "      <th>Round/Series</th>\n",
       "      <th>Amount</th>\n",
       "      <th>Location</th>\n",
       "      <th>About Company</th>\n",
       "    </tr>\n",
       "  </thead>\n",
       "  <tbody>\n",
       "    <tr>\n",
       "      <th>0</th>\n",
       "      <td>TheCollegeFever</td>\n",
       "      <td>Brand Marketing, Event Promotion, Marketing, S...</td>\n",
       "      <td>Seed</td>\n",
       "      <td>250000</td>\n",
       "      <td>Bangalore, Karnataka, India</td>\n",
       "      <td>TheCollegeFever is a hub for fun, fiesta and f...</td>\n",
       "    </tr>\n",
       "    <tr>\n",
       "      <th>1</th>\n",
       "      <td>Happy Cow Dairy</td>\n",
       "      <td>Agriculture, Farming</td>\n",
       "      <td>Seed</td>\n",
       "      <td>₹40,000,000</td>\n",
       "      <td>Mumbai, Maharashtra, India</td>\n",
       "      <td>A startup which aggregates milk from dairy far...</td>\n",
       "    </tr>\n",
       "    <tr>\n",
       "      <th>2</th>\n",
       "      <td>MyLoanCare</td>\n",
       "      <td>Credit, Financial Services, Lending, Marketplace</td>\n",
       "      <td>Series A</td>\n",
       "      <td>₹65,000,000</td>\n",
       "      <td>Gurgaon, Haryana, India</td>\n",
       "      <td>Leading Online Loans Marketplace in India</td>\n",
       "    </tr>\n",
       "    <tr>\n",
       "      <th>3</th>\n",
       "      <td>PayMe India</td>\n",
       "      <td>Financial Services, FinTech</td>\n",
       "      <td>Angel</td>\n",
       "      <td>2000000</td>\n",
       "      <td>Noida, Uttar Pradesh, India</td>\n",
       "      <td>PayMe India is an innovative FinTech organizat...</td>\n",
       "    </tr>\n",
       "    <tr>\n",
       "      <th>4</th>\n",
       "      <td>Eunimart</td>\n",
       "      <td>E-Commerce Platforms, Retail, SaaS</td>\n",
       "      <td>Seed</td>\n",
       "      <td>—</td>\n",
       "      <td>Hyderabad, Andhra Pradesh, India</td>\n",
       "      <td>Eunimart is a one stop solution for merchants ...</td>\n",
       "    </tr>\n",
       "  </tbody>\n",
       "</table>\n",
       "</div>"
      ],
      "text/plain": [
       "      Company Name                                           Industry  \\\n",
       "0  TheCollegeFever  Brand Marketing, Event Promotion, Marketing, S...   \n",
       "1  Happy Cow Dairy                               Agriculture, Farming   \n",
       "2       MyLoanCare   Credit, Financial Services, Lending, Marketplace   \n",
       "3      PayMe India                        Financial Services, FinTech   \n",
       "4         Eunimart                 E-Commerce Platforms, Retail, SaaS   \n",
       "\n",
       "  Round/Series       Amount                          Location  \\\n",
       "0         Seed       250000       Bangalore, Karnataka, India   \n",
       "1         Seed  ₹40,000,000        Mumbai, Maharashtra, India   \n",
       "2     Series A  ₹65,000,000           Gurgaon, Haryana, India   \n",
       "3        Angel      2000000       Noida, Uttar Pradesh, India   \n",
       "4         Seed            —  Hyderabad, Andhra Pradesh, India   \n",
       "\n",
       "                                       About Company  \n",
       "0  TheCollegeFever is a hub for fun, fiesta and f...  \n",
       "1  A startup which aggregates milk from dairy far...  \n",
       "2          Leading Online Loans Marketplace in India  \n",
       "3  PayMe India is an innovative FinTech organizat...  \n",
       "4  Eunimart is a one stop solution for merchants ...  "
      ]
     },
     "execution_count": 15,
     "metadata": {},
     "output_type": "execute_result"
    }
   ],
   "source": [
    "data_3 = pd.read_csv('startup_funding2018.csv')\n",
    "data_3.head()"
   ]
  },
  {
   "cell_type": "code",
   "execution_count": 16,
   "metadata": {},
   "outputs": [
    {
     "name": "stdout",
     "output_type": "stream",
     "text": [
      "<class 'pandas.core.frame.DataFrame'>\n",
      "RangeIndex: 526 entries, 0 to 525\n",
      "Data columns (total 6 columns):\n",
      " #   Column         Non-Null Count  Dtype \n",
      "---  ------         --------------  ----- \n",
      " 0   Company Name   526 non-null    object\n",
      " 1   Industry       526 non-null    object\n",
      " 2   Round/Series   526 non-null    object\n",
      " 3   Amount         526 non-null    object\n",
      " 4   Location       526 non-null    object\n",
      " 5   About Company  526 non-null    object\n",
      "dtypes: object(6)\n",
      "memory usage: 24.8+ KB\n"
     ]
    }
   ],
   "source": [
    "data_3.info()"
   ]
  },
  {
   "cell_type": "code",
   "execution_count": 17,
   "metadata": {},
   "outputs": [
    {
     "data": {
      "text/html": [
       "<div>\n",
       "<style scoped>\n",
       "    .dataframe tbody tr th:only-of-type {\n",
       "        vertical-align: middle;\n",
       "    }\n",
       "\n",
       "    .dataframe tbody tr th {\n",
       "        vertical-align: top;\n",
       "    }\n",
       "\n",
       "    .dataframe thead th {\n",
       "        text-align: right;\n",
       "    }\n",
       "</style>\n",
       "<table border=\"1\" class=\"dataframe\">\n",
       "  <thead>\n",
       "    <tr style=\"text-align: right;\">\n",
       "      <th></th>\n",
       "      <th>Company/Brand</th>\n",
       "      <th>Founded</th>\n",
       "      <th>HeadQuarter</th>\n",
       "      <th>Sector</th>\n",
       "      <th>What it does</th>\n",
       "      <th>Founders</th>\n",
       "      <th>Investor</th>\n",
       "      <th>Amount($)</th>\n",
       "      <th>Stage</th>\n",
       "    </tr>\n",
       "  </thead>\n",
       "  <tbody>\n",
       "    <tr>\n",
       "      <th>0</th>\n",
       "      <td>Bombay Shaving</td>\n",
       "      <td>NaN</td>\n",
       "      <td>NaN</td>\n",
       "      <td>Ecommerce</td>\n",
       "      <td>Provides a range of male grooming products</td>\n",
       "      <td>Shantanu Deshpande</td>\n",
       "      <td>Sixth Sense Ventures</td>\n",
       "      <td>$6,300,000</td>\n",
       "      <td>NaN</td>\n",
       "    </tr>\n",
       "    <tr>\n",
       "      <th>1</th>\n",
       "      <td>Ruangguru</td>\n",
       "      <td>2014.0</td>\n",
       "      <td>Mumbai</td>\n",
       "      <td>Edtech</td>\n",
       "      <td>A learning platform that provides topic-based ...</td>\n",
       "      <td>Adamas Belva Syah Devara, Iman Usman.</td>\n",
       "      <td>General Atlantic</td>\n",
       "      <td>$150,000,000</td>\n",
       "      <td>Series C</td>\n",
       "    </tr>\n",
       "    <tr>\n",
       "      <th>2</th>\n",
       "      <td>Eduisfun</td>\n",
       "      <td>NaN</td>\n",
       "      <td>Mumbai</td>\n",
       "      <td>Edtech</td>\n",
       "      <td>It aims to make learning fun via games.</td>\n",
       "      <td>Jatin Solanki</td>\n",
       "      <td>Deepak Parekh, Amitabh Bachchan, Piyush Pandey</td>\n",
       "      <td>$28,000,000</td>\n",
       "      <td>Fresh funding</td>\n",
       "    </tr>\n",
       "    <tr>\n",
       "      <th>3</th>\n",
       "      <td>HomeLane</td>\n",
       "      <td>2014.0</td>\n",
       "      <td>Chennai</td>\n",
       "      <td>Interior design</td>\n",
       "      <td>Provides interior designing solutions</td>\n",
       "      <td>Srikanth Iyer, Rama Harinath</td>\n",
       "      <td>Evolvence India Fund (EIF), Pidilite Group, FJ...</td>\n",
       "      <td>$30,000,000</td>\n",
       "      <td>Series D</td>\n",
       "    </tr>\n",
       "    <tr>\n",
       "      <th>4</th>\n",
       "      <td>Nu Genes</td>\n",
       "      <td>2004.0</td>\n",
       "      <td>Telangana</td>\n",
       "      <td>AgriTech</td>\n",
       "      <td>It is a seed company engaged in production, pr...</td>\n",
       "      <td>Narayana Reddy Punyala</td>\n",
       "      <td>Innovation in Food and Agriculture (IFA)</td>\n",
       "      <td>$6,000,000</td>\n",
       "      <td>NaN</td>\n",
       "    </tr>\n",
       "  </tbody>\n",
       "</table>\n",
       "</div>"
      ],
      "text/plain": [
       "    Company/Brand  Founded HeadQuarter           Sector  \\\n",
       "0  Bombay Shaving      NaN         NaN        Ecommerce   \n",
       "1       Ruangguru   2014.0      Mumbai           Edtech   \n",
       "2        Eduisfun      NaN      Mumbai           Edtech   \n",
       "3        HomeLane   2014.0     Chennai  Interior design   \n",
       "4        Nu Genes   2004.0   Telangana         AgriTech   \n",
       "\n",
       "                                        What it does  \\\n",
       "0         Provides a range of male grooming products   \n",
       "1  A learning platform that provides topic-based ...   \n",
       "2            It aims to make learning fun via games.   \n",
       "3              Provides interior designing solutions   \n",
       "4  It is a seed company engaged in production, pr...   \n",
       "\n",
       "                                Founders  \\\n",
       "0                     Shantanu Deshpande   \n",
       "1  Adamas Belva Syah Devara, Iman Usman.   \n",
       "2                          Jatin Solanki   \n",
       "3           Srikanth Iyer, Rama Harinath   \n",
       "4                 Narayana Reddy Punyala   \n",
       "\n",
       "                                            Investor     Amount($)  \\\n",
       "0                               Sixth Sense Ventures    $6,300,000   \n",
       "1                                   General Atlantic  $150,000,000   \n",
       "2     Deepak Parekh, Amitabh Bachchan, Piyush Pandey   $28,000,000   \n",
       "3  Evolvence India Fund (EIF), Pidilite Group, FJ...   $30,000,000   \n",
       "4           Innovation in Food and Agriculture (IFA)    $6,000,000   \n",
       "\n",
       "           Stage  \n",
       "0            NaN  \n",
       "1       Series C  \n",
       "2  Fresh funding  \n",
       "3       Series D  \n",
       "4            NaN  "
      ]
     },
     "execution_count": 17,
     "metadata": {},
     "output_type": "execute_result"
    }
   ],
   "source": [
    "data_4 = pd.read_csv('startup_funding2019.csv')\n",
    "data_4.head()"
   ]
  },
  {
   "cell_type": "code",
   "execution_count": 18,
   "metadata": {},
   "outputs": [
    {
     "name": "stdout",
     "output_type": "stream",
     "text": [
      "<class 'pandas.core.frame.DataFrame'>\n",
      "RangeIndex: 89 entries, 0 to 88\n",
      "Data columns (total 9 columns):\n",
      " #   Column         Non-Null Count  Dtype  \n",
      "---  ------         --------------  -----  \n",
      " 0   Company/Brand  89 non-null     object \n",
      " 1   Founded        60 non-null     float64\n",
      " 2   HeadQuarter    70 non-null     object \n",
      " 3   Sector         84 non-null     object \n",
      " 4   What it does   89 non-null     object \n",
      " 5   Founders       86 non-null     object \n",
      " 6   Investor       89 non-null     object \n",
      " 7   Amount($)      89 non-null     object \n",
      " 8   Stage          43 non-null     object \n",
      "dtypes: float64(1), object(8)\n",
      "memory usage: 6.4+ KB\n"
     ]
    }
   ],
   "source": [
    "data_4.info()"
   ]
  },
  {
   "cell_type": "markdown",
   "metadata": {},
   "source": [
    "# Exploratory Data Analysis - EDA\n",
    "## Cleaning and analysis"
   ]
  },
  {
   "cell_type": "markdown",
   "metadata": {},
   "source": [
    "### 2018 Data Cleaning"
   ]
  },
  {
   "cell_type": "code",
   "execution_count": 19,
   "metadata": {},
   "outputs": [
    {
     "data": {
      "text/html": [
       "<div>\n",
       "<style scoped>\n",
       "    .dataframe tbody tr th:only-of-type {\n",
       "        vertical-align: middle;\n",
       "    }\n",
       "\n",
       "    .dataframe tbody tr th {\n",
       "        vertical-align: top;\n",
       "    }\n",
       "\n",
       "    .dataframe thead th {\n",
       "        text-align: right;\n",
       "    }\n",
       "</style>\n",
       "<table border=\"1\" class=\"dataframe\">\n",
       "  <thead>\n",
       "    <tr style=\"text-align: right;\">\n",
       "      <th></th>\n",
       "      <th>Company Name</th>\n",
       "      <th>Industry</th>\n",
       "      <th>Round/Series</th>\n",
       "      <th>Amount</th>\n",
       "      <th>Location</th>\n",
       "      <th>About Company</th>\n",
       "    </tr>\n",
       "  </thead>\n",
       "  <tbody>\n",
       "    <tr>\n",
       "      <th>521</th>\n",
       "      <td>Udaan</td>\n",
       "      <td>B2B, Business Development, Internet, Marketplace</td>\n",
       "      <td>Series C</td>\n",
       "      <td>225000000</td>\n",
       "      <td>Bangalore, Karnataka, India</td>\n",
       "      <td>Udaan is a B2B trade platform, designed specif...</td>\n",
       "    </tr>\n",
       "    <tr>\n",
       "      <th>522</th>\n",
       "      <td>Happyeasygo Group</td>\n",
       "      <td>Tourism, Travel</td>\n",
       "      <td>Series A</td>\n",
       "      <td>—</td>\n",
       "      <td>Haryana, Haryana, India</td>\n",
       "      <td>HappyEasyGo is an online travel domain.</td>\n",
       "    </tr>\n",
       "    <tr>\n",
       "      <th>523</th>\n",
       "      <td>Mombay</td>\n",
       "      <td>Food and Beverage, Food Delivery, Internet</td>\n",
       "      <td>Seed</td>\n",
       "      <td>7500</td>\n",
       "      <td>Mumbai, Maharashtra, India</td>\n",
       "      <td>Mombay is a unique opportunity for housewives ...</td>\n",
       "    </tr>\n",
       "    <tr>\n",
       "      <th>524</th>\n",
       "      <td>Droni Tech</td>\n",
       "      <td>Information Technology</td>\n",
       "      <td>Seed</td>\n",
       "      <td>₹35,000,000</td>\n",
       "      <td>Mumbai, Maharashtra, India</td>\n",
       "      <td>Droni Tech manufacture UAVs and develop softwa...</td>\n",
       "    </tr>\n",
       "    <tr>\n",
       "      <th>525</th>\n",
       "      <td>Netmeds</td>\n",
       "      <td>Biotechnology, Health Care, Pharmaceutical</td>\n",
       "      <td>Series C</td>\n",
       "      <td>35000000</td>\n",
       "      <td>Chennai, Tamil Nadu, India</td>\n",
       "      <td>Welcome to India's most convenient pharmacy!</td>\n",
       "    </tr>\n",
       "  </tbody>\n",
       "</table>\n",
       "</div>"
      ],
      "text/plain": [
       "          Company Name                                          Industry  \\\n",
       "521              Udaan  B2B, Business Development, Internet, Marketplace   \n",
       "522  Happyeasygo Group                                   Tourism, Travel   \n",
       "523             Mombay        Food and Beverage, Food Delivery, Internet   \n",
       "524         Droni Tech                            Information Technology   \n",
       "525            Netmeds        Biotechnology, Health Care, Pharmaceutical   \n",
       "\n",
       "    Round/Series       Amount                     Location  \\\n",
       "521     Series C    225000000  Bangalore, Karnataka, India   \n",
       "522     Series A            —      Haryana, Haryana, India   \n",
       "523         Seed         7500   Mumbai, Maharashtra, India   \n",
       "524         Seed  ₹35,000,000   Mumbai, Maharashtra, India   \n",
       "525     Series C     35000000   Chennai, Tamil Nadu, India   \n",
       "\n",
       "                                         About Company  \n",
       "521  Udaan is a B2B trade platform, designed specif...  \n",
       "522            HappyEasyGo is an online travel domain.  \n",
       "523  Mombay is a unique opportunity for housewives ...  \n",
       "524  Droni Tech manufacture UAVs and develop softwa...  \n",
       "525       Welcome to India's most convenient pharmacy!  "
      ]
     },
     "execution_count": 19,
     "metadata": {},
     "output_type": "execute_result"
    }
   ],
   "source": [
    "data_df_2018 = pd.read_csv('startup_funding2018.csv')\n",
    "data_df_2018.tail()"
   ]
  },
  {
   "cell_type": "code",
   "execution_count": 20,
   "metadata": {},
   "outputs": [
    {
     "name": "stdout",
     "output_type": "stream",
     "text": [
      "<class 'pandas.core.frame.DataFrame'>\n",
      "RangeIndex: 526 entries, 0 to 525\n",
      "Data columns (total 6 columns):\n",
      " #   Column         Non-Null Count  Dtype \n",
      "---  ------         --------------  ----- \n",
      " 0   Company Name   526 non-null    object\n",
      " 1   Industry       526 non-null    object\n",
      " 2   Round/Series   526 non-null    object\n",
      " 3   Amount         526 non-null    object\n",
      " 4   Location       526 non-null    object\n",
      " 5   About Company  526 non-null    object\n",
      "dtypes: object(6)\n",
      "memory usage: 24.8+ KB\n"
     ]
    }
   ],
   "source": [
    "data_df_2018.info()"
   ]
  },
  {
   "cell_type": "code",
   "execution_count": 21,
   "metadata": {},
   "outputs": [
    {
     "data": {
      "text/plain": [
       "1"
      ]
     },
     "execution_count": 21,
     "metadata": {},
     "output_type": "execute_result"
    }
   ],
   "source": [
    "# Check for duplicates\n",
    "\n",
    "data_df_2018.duplicated().sum()"
   ]
  },
  {
   "cell_type": "code",
   "execution_count": 22,
   "metadata": {},
   "outputs": [
    {
     "data": {
      "text/html": [
       "<div>\n",
       "<style scoped>\n",
       "    .dataframe tbody tr th:only-of-type {\n",
       "        vertical-align: middle;\n",
       "    }\n",
       "\n",
       "    .dataframe tbody tr th {\n",
       "        vertical-align: top;\n",
       "    }\n",
       "\n",
       "    .dataframe thead th {\n",
       "        text-align: right;\n",
       "    }\n",
       "</style>\n",
       "<table border=\"1\" class=\"dataframe\">\n",
       "  <thead>\n",
       "    <tr style=\"text-align: right;\">\n",
       "      <th></th>\n",
       "      <th>Company Name</th>\n",
       "      <th>Industry</th>\n",
       "      <th>Round/Series</th>\n",
       "      <th>Amount</th>\n",
       "      <th>Location</th>\n",
       "      <th>About Company</th>\n",
       "    </tr>\n",
       "  </thead>\n",
       "  <tbody>\n",
       "    <tr>\n",
       "      <th>0</th>\n",
       "      <td>TheCollegeFever</td>\n",
       "      <td>Brand Marketing, Event Promotion, Marketing, S...</td>\n",
       "      <td>Seed</td>\n",
       "      <td>250000</td>\n",
       "      <td>Bangalore, Karnataka, India</td>\n",
       "      <td>TheCollegeFever is a hub for fun, fiesta and f...</td>\n",
       "    </tr>\n",
       "    <tr>\n",
       "      <th>348</th>\n",
       "      <td>TheCollegeFever</td>\n",
       "      <td>Brand Marketing, Event Promotion, Marketing, S...</td>\n",
       "      <td>Seed</td>\n",
       "      <td>250000</td>\n",
       "      <td>Bangalore, Karnataka, India</td>\n",
       "      <td>TheCollegeFever is a hub for fun, fiesta and f...</td>\n",
       "    </tr>\n",
       "  </tbody>\n",
       "</table>\n",
       "</div>"
      ],
      "text/plain": [
       "        Company Name                                           Industry  \\\n",
       "0    TheCollegeFever  Brand Marketing, Event Promotion, Marketing, S...   \n",
       "348  TheCollegeFever  Brand Marketing, Event Promotion, Marketing, S...   \n",
       "\n",
       "    Round/Series  Amount                     Location  \\\n",
       "0           Seed  250000  Bangalore, Karnataka, India   \n",
       "348         Seed  250000  Bangalore, Karnataka, India   \n",
       "\n",
       "                                         About Company  \n",
       "0    TheCollegeFever is a hub for fun, fiesta and f...  \n",
       "348  TheCollegeFever is a hub for fun, fiesta and f...  "
      ]
     },
     "execution_count": 22,
     "metadata": {},
     "output_type": "execute_result"
    }
   ],
   "source": [
    "# show all occurences of duplicated rows\n",
    "\n",
    "data_df_2018[data_df_2018.duplicated(keep=False)]"
   ]
  },
  {
   "cell_type": "code",
   "execution_count": 23,
   "metadata": {},
   "outputs": [],
   "source": [
    "# Drop duplicates\n",
    "\n",
    "data_df_2018.drop_duplicates(inplace = True)"
   ]
  },
  {
   "cell_type": "code",
   "execution_count": 24,
   "metadata": {},
   "outputs": [],
   "source": [
    "#pd.set_option('display.max_rows', None)"
   ]
  },
  {
   "cell_type": "code",
   "execution_count": 25,
   "metadata": {},
   "outputs": [
    {
     "data": {
      "text/plain": [
       "—                                                                                 30\n",
       "Financial Services                                                                15\n",
       "Education                                                                          8\n",
       "Information Technology                                                             7\n",
       "Finance, Financial Services                                                        5\n",
       "                                                                                  ..\n",
       "Business Intelligence, Customer Service, Market Research, SaaS                     1\n",
       "Digital Media, Internet, Media and Entertainment, Online Portals, Social Media     1\n",
       "Consumer Lending, Financial Services, Lending, Personal Finance                    1\n",
       "Education, Information Technology, Internet, Mobile, Software                      1\n",
       "Biotechnology, Health Care, Pharmaceutical                                         1\n",
       "Name: Industry, Length: 405, dtype: int64"
      ]
     },
     "execution_count": 25,
     "metadata": {},
     "output_type": "execute_result"
    }
   ],
   "source": [
    "data_df_2018['Industry'].value_counts()"
   ]
  },
  {
   "cell_type": "code",
   "execution_count": 26,
   "metadata": {},
   "outputs": [
    {
     "data": {
      "text/html": [
       "<div>\n",
       "<style scoped>\n",
       "    .dataframe tbody tr th:only-of-type {\n",
       "        vertical-align: middle;\n",
       "    }\n",
       "\n",
       "    .dataframe tbody tr th {\n",
       "        vertical-align: top;\n",
       "    }\n",
       "\n",
       "    .dataframe thead th {\n",
       "        text-align: right;\n",
       "    }\n",
       "</style>\n",
       "<table border=\"1\" class=\"dataframe\">\n",
       "  <thead>\n",
       "    <tr style=\"text-align: right;\">\n",
       "      <th></th>\n",
       "      <th>Company Name</th>\n",
       "      <th>Industry</th>\n",
       "      <th>Round/Series</th>\n",
       "      <th>Amount</th>\n",
       "      <th>Location</th>\n",
       "      <th>About Company</th>\n",
       "    </tr>\n",
       "  </thead>\n",
       "  <tbody>\n",
       "    <tr>\n",
       "      <th>58</th>\n",
       "      <td>MissMalini Entertainment</td>\n",
       "      <td>—</td>\n",
       "      <td>Seed</td>\n",
       "      <td>₹104,000,000</td>\n",
       "      <td>Mumbai, Maharashtra, India</td>\n",
       "      <td>MissMalini Entertainment is a multi-platform n...</td>\n",
       "    </tr>\n",
       "    <tr>\n",
       "      <th>105</th>\n",
       "      <td>Jagaran Microfin</td>\n",
       "      <td>—</td>\n",
       "      <td>Debt Financing</td>\n",
       "      <td>₹550,000,000</td>\n",
       "      <td>Kolkata, West Bengal, India</td>\n",
       "      <td>Jagaran Microfin is a Microfinance institution...</td>\n",
       "    </tr>\n",
       "    <tr>\n",
       "      <th>121</th>\n",
       "      <td>FLEECA</td>\n",
       "      <td>—</td>\n",
       "      <td>Seed</td>\n",
       "      <td>—</td>\n",
       "      <td>Jaipur, Rajasthan, India</td>\n",
       "      <td>FLEECA is a Tyre Care Provider company.</td>\n",
       "    </tr>\n",
       "    <tr>\n",
       "      <th>146</th>\n",
       "      <td>WheelsEMI</td>\n",
       "      <td>—</td>\n",
       "      <td>Series B</td>\n",
       "      <td>$14,000,000</td>\n",
       "      <td>Pune, Maharashtra, India</td>\n",
       "      <td>WheelsEMI is the brand name of NBFC, WheelsEMI...</td>\n",
       "    </tr>\n",
       "    <tr>\n",
       "      <th>153</th>\n",
       "      <td>Fric Bergen</td>\n",
       "      <td>—</td>\n",
       "      <td>Venture - Series Unknown</td>\n",
       "      <td>—</td>\n",
       "      <td>Alwar, Rajasthan, India</td>\n",
       "      <td>Fric Bergen is a leader in the specialty food ...</td>\n",
       "    </tr>\n",
       "  </tbody>\n",
       "</table>\n",
       "</div>"
      ],
      "text/plain": [
       "                 Company Name Industry              Round/Series  \\\n",
       "58   MissMalini Entertainment        —                      Seed   \n",
       "105          Jagaran Microfin        —            Debt Financing   \n",
       "121                    FLEECA        —                      Seed   \n",
       "146                 WheelsEMI        —                  Series B   \n",
       "153               Fric Bergen        —  Venture - Series Unknown   \n",
       "\n",
       "           Amount                     Location  \\\n",
       "58   ₹104,000,000   Mumbai, Maharashtra, India   \n",
       "105  ₹550,000,000  Kolkata, West Bengal, India   \n",
       "121             —     Jaipur, Rajasthan, India   \n",
       "146   $14,000,000     Pune, Maharashtra, India   \n",
       "153             —      Alwar, Rajasthan, India   \n",
       "\n",
       "                                         About Company  \n",
       "58   MissMalini Entertainment is a multi-platform n...  \n",
       "105  Jagaran Microfin is a Microfinance institution...  \n",
       "121            FLEECA is a Tyre Care Provider company.  \n",
       "146  WheelsEMI is the brand name of NBFC, WheelsEMI...  \n",
       "153  Fric Bergen is a leader in the specialty food ...  "
      ]
     },
     "execution_count": 26,
     "metadata": {},
     "output_type": "execute_result"
    }
   ],
   "source": [
    "# Missing values in Industry Column\n",
    "\n",
    "data_df_2018[data_df_2018['Industry'] == '—'].head()"
   ]
  },
  {
   "cell_type": "code",
   "execution_count": 27,
   "metadata": {},
   "outputs": [],
   "source": [
    "# Replace missing values with np.nan\n",
    "\n",
    "data_df_2018['Industry']=data_df_2018['Industry'].replace('—',np.nan)"
   ]
  },
  {
   "cell_type": "code",
   "execution_count": 28,
   "metadata": {},
   "outputs": [],
   "source": [
    "# we want to simplify the industry column\n",
    "## Split values with a comma delimiter, select only the first element from the resulting list of substrings\n",
    "## remove single quotes, since it is a string\n",
    "\n",
    "data_df_2018['Industry'] = data_df_2018['Industry'].str.split(',').str[0].str.replace(\"'\", \"\", regex=True)"
   ]
  },
  {
   "cell_type": "code",
   "execution_count": 29,
   "metadata": {},
   "outputs": [
    {
     "data": {
      "text/plain": [
       "139    3D Printing\n",
       "446     Accounting\n",
       "422     Accounting\n",
       "17      Accounting\n",
       "81     Advertising\n",
       "          ...     \n",
       "473            NaN\n",
       "476            NaN\n",
       "478            NaN\n",
       "480            NaN\n",
       "510            NaN\n",
       "Name: Industry, Length: 525, dtype: object"
      ]
     },
     "execution_count": 29,
     "metadata": {},
     "output_type": "execute_result"
    }
   ],
   "source": [
    "data_df_2018['Industry'].sort_values()"
   ]
  },
  {
   "cell_type": "code",
   "execution_count": 30,
   "metadata": {},
   "outputs": [
    {
     "data": {
      "text/html": [
       "<div>\n",
       "<style scoped>\n",
       "    .dataframe tbody tr th:only-of-type {\n",
       "        vertical-align: middle;\n",
       "    }\n",
       "\n",
       "    .dataframe tbody tr th {\n",
       "        vertical-align: top;\n",
       "    }\n",
       "\n",
       "    .dataframe thead th {\n",
       "        text-align: right;\n",
       "    }\n",
       "</style>\n",
       "<table border=\"1\" class=\"dataframe\">\n",
       "  <thead>\n",
       "    <tr style=\"text-align: right;\">\n",
       "      <th></th>\n",
       "      <th>Company Name</th>\n",
       "      <th>Industry</th>\n",
       "      <th>Round/Series</th>\n",
       "      <th>Amount</th>\n",
       "      <th>Location</th>\n",
       "      <th>About Company</th>\n",
       "    </tr>\n",
       "  </thead>\n",
       "  <tbody>\n",
       "    <tr>\n",
       "      <th>265</th>\n",
       "      <td>edureka!</td>\n",
       "      <td>Android</td>\n",
       "      <td>Series A</td>\n",
       "      <td>2000000</td>\n",
       "      <td>Bangalore, Karnataka, India</td>\n",
       "      <td>Edureka is the fastest growing online learning platform that offers live, instructor-led courses for professionals from various industries.</td>\n",
       "    </tr>\n",
       "  </tbody>\n",
       "</table>\n",
       "</div>"
      ],
      "text/plain": [
       "    Company Name Industry Round/Series   Amount                     Location  \\\n",
       "265     edureka!  Android     Series A  2000000  Bangalore, Karnataka, India   \n",
       "\n",
       "                                                                                                                                   About Company  \n",
       "265  Edureka is the fastest growing online learning platform that offers live, instructor-led courses for professionals from various industries.  "
      ]
     },
     "execution_count": 30,
     "metadata": {},
     "output_type": "execute_result"
    }
   ],
   "source": [
    "pd.set_option(\"display.max_colwidth\", None)\n",
    "data_df_2018[data_df_2018['Industry'] == 'Android']"
   ]
  },
  {
   "cell_type": "code",
   "execution_count": 31,
   "metadata": {},
   "outputs": [],
   "source": [
    "# Fix some structural errors (done through observation and individual inspection)\n",
    "\n",
    "data_df_2018['Industry'].replace('Android','E-Learning',inplace =True, regex=True)\n",
    "data_df_2018['Industry'].replace('Wellness','Health Care',inplace =True, regex=True)\n",
    "data_df_2018['Industry'].replace('Basketball','Apps',inplace =True, regex=True) \n",
    "data_df_2018['Industry'].replace('Catering','Food Delivery',inplace =True, regex=True)\n",
    "data_df_2018['Industry'].replace('Cooking','Food Delivery',inplace =True, regex=True)\n",
    "data_df_2018['Industry'].replace('Crowdsourcing','Crowdfunding',inplace =True, regex=True)"
   ]
  },
  {
   "cell_type": "code",
   "execution_count": 32,
   "metadata": {},
   "outputs": [
    {
     "data": {
      "text/plain": [
       "—              148\n",
       "1000000         24\n",
       "500000          13\n",
       "2000000         12\n",
       "₹50,000,000      9\n",
       "              ... \n",
       "2200000          1\n",
       "1200000          1\n",
       "$15,000          1\n",
       "$1,041,000       1\n",
       "35000000         1\n",
       "Name: Amount, Length: 198, dtype: int64"
      ]
     },
     "execution_count": 32,
     "metadata": {},
     "output_type": "execute_result"
    }
   ],
   "source": [
    "# checking amount column for different values\n",
    "\n",
    "data_df_2018['Amount'].value_counts()"
   ]
  },
  {
   "cell_type": "code",
   "execution_count": 33,
   "metadata": {},
   "outputs": [
    {
     "data": {
      "text/html": [
       "<div>\n",
       "<style scoped>\n",
       "    .dataframe tbody tr th:only-of-type {\n",
       "        vertical-align: middle;\n",
       "    }\n",
       "\n",
       "    .dataframe tbody tr th {\n",
       "        vertical-align: top;\n",
       "    }\n",
       "\n",
       "    .dataframe thead th {\n",
       "        text-align: right;\n",
       "    }\n",
       "</style>\n",
       "<table border=\"1\" class=\"dataframe\">\n",
       "  <thead>\n",
       "    <tr style=\"text-align: right;\">\n",
       "      <th></th>\n",
       "      <th>Company Name</th>\n",
       "      <th>Industry</th>\n",
       "      <th>Round/Series</th>\n",
       "      <th>Amount</th>\n",
       "      <th>Location</th>\n",
       "      <th>About Company</th>\n",
       "    </tr>\n",
       "  </thead>\n",
       "  <tbody>\n",
       "    <tr>\n",
       "      <th>4</th>\n",
       "      <td>Eunimart</td>\n",
       "      <td>E-Commerce Platforms</td>\n",
       "      <td>Seed</td>\n",
       "      <td>—</td>\n",
       "      <td>Hyderabad, Andhra Pradesh, India</td>\n",
       "      <td>Eunimart is a one stop solution for merchants to create a difference by selling globally.</td>\n",
       "    </tr>\n",
       "    <tr>\n",
       "      <th>8</th>\n",
       "      <td>Freightwalla</td>\n",
       "      <td>Information Services</td>\n",
       "      <td>Seed</td>\n",
       "      <td>—</td>\n",
       "      <td>Mumbai, Maharashtra, India</td>\n",
       "      <td>Freightwalla is an international forwarder thats helps you manage supply chain by providing online tools including instant quotations.</td>\n",
       "    </tr>\n",
       "    <tr>\n",
       "      <th>9</th>\n",
       "      <td>Microchip Payments</td>\n",
       "      <td>Mobile Payments</td>\n",
       "      <td>Seed</td>\n",
       "      <td>—</td>\n",
       "      <td>Bangalore, Karnataka, India</td>\n",
       "      <td>Microchip payments is a mobile-based payment application and point-of-sale device</td>\n",
       "    </tr>\n",
       "    <tr>\n",
       "      <th>10</th>\n",
       "      <td>BizCrum Infotech Pvt. Ltd.</td>\n",
       "      <td>B2B</td>\n",
       "      <td>Seed</td>\n",
       "      <td>—</td>\n",
       "      <td>Delhi, Delhi, India</td>\n",
       "      <td>Building Transactionary B2B Marketplaces</td>\n",
       "    </tr>\n",
       "    <tr>\n",
       "      <th>11</th>\n",
       "      <td>Emojifi</td>\n",
       "      <td>Internet</td>\n",
       "      <td>Seed</td>\n",
       "      <td>—</td>\n",
       "      <td>Bengaluru, Karnataka, India</td>\n",
       "      <td>Emojifi is an app that provides live emoji, stickers &amp; GIFs suggestions based on the typed words across chat platforms.</td>\n",
       "    </tr>\n",
       "  </tbody>\n",
       "</table>\n",
       "</div>"
      ],
      "text/plain": [
       "                  Company Name              Industry Round/Series Amount  \\\n",
       "4                     Eunimart  E-Commerce Platforms         Seed      —   \n",
       "8                 Freightwalla  Information Services         Seed      —   \n",
       "9           Microchip Payments       Mobile Payments         Seed      —   \n",
       "10  BizCrum Infotech Pvt. Ltd.                   B2B         Seed      —   \n",
       "11                     Emojifi              Internet         Seed      —   \n",
       "\n",
       "                            Location  \\\n",
       "4   Hyderabad, Andhra Pradesh, India   \n",
       "8         Mumbai, Maharashtra, India   \n",
       "9        Bangalore, Karnataka, India   \n",
       "10               Delhi, Delhi, India   \n",
       "11       Bengaluru, Karnataka, India   \n",
       "\n",
       "                                                                                                                             About Company  \n",
       "4                                                Eunimart is a one stop solution for merchants to create a difference by selling globally.  \n",
       "8   Freightwalla is an international forwarder thats helps you manage supply chain by providing online tools including instant quotations.  \n",
       "9                                                        Microchip payments is a mobile-based payment application and point-of-sale device  \n",
       "10                                                                                                Building Transactionary B2B Marketplaces  \n",
       "11                 Emojifi is an app that provides live emoji, stickers & GIFs suggestions based on the typed words across chat platforms.  "
      ]
     },
     "execution_count": 33,
     "metadata": {},
     "output_type": "execute_result"
    }
   ],
   "source": [
    "# Missing values in Amount Column\n",
    "\n",
    "data_df_2018[data_df_2018['Amount'] == '—'].head()"
   ]
  },
  {
   "cell_type": "code",
   "execution_count": 34,
   "metadata": {},
   "outputs": [],
   "source": [
    "# Replace Values\n",
    "\n",
    "data_df_2018['Amount'].replace(\"—\", np.nan, inplace = True, regex=True)\n",
    "data_df_2018['Amount'].replace(\"[,$]\", \"\", inplace = True, regex=True)"
   ]
  },
  {
   "cell_type": "code",
   "execution_count": 35,
   "metadata": {},
   "outputs": [],
   "source": [
    "# we must convert rupees to dollars\n",
    "## create new columns to store INR values and $ values\n",
    "## rsplit the 'Amount' using '₹' as the delimiter. We only want values with'₹' from the right.\n",
    "data_df_2018['Amount (₹)'] = data_df_2018['Amount'].str.rsplit('₹', n = 2).str[1]\n",
    "\n",
    "# Convert to float and fill any missing (NaN) values wit 0\n",
    "data_df_2018['Amount (₹)'] = data_df_2018['Amount (₹)'].apply(float).fillna(0)\n",
    "\n",
    "# Convert the INR values to USD\n",
    "data_df_2018['Amount ($)'] = data_df_2018['Amount (₹)'] * 0.0146 # Average exchange rate in 2018\n"
   ]
  },
  {
   "cell_type": "code",
   "execution_count": 36,
   "metadata": {},
   "outputs": [
    {
     "data": {
      "text/html": [
       "<div>\n",
       "<style scoped>\n",
       "    .dataframe tbody tr th:only-of-type {\n",
       "        vertical-align: middle;\n",
       "    }\n",
       "\n",
       "    .dataframe tbody tr th {\n",
       "        vertical-align: top;\n",
       "    }\n",
       "\n",
       "    .dataframe thead th {\n",
       "        text-align: right;\n",
       "    }\n",
       "</style>\n",
       "<table border=\"1\" class=\"dataframe\">\n",
       "  <thead>\n",
       "    <tr style=\"text-align: right;\">\n",
       "      <th></th>\n",
       "      <th>Company Name</th>\n",
       "      <th>Industry</th>\n",
       "      <th>Round/Series</th>\n",
       "      <th>Amount</th>\n",
       "      <th>Location</th>\n",
       "      <th>About Company</th>\n",
       "      <th>Amount (₹)</th>\n",
       "      <th>Amount ($)</th>\n",
       "    </tr>\n",
       "  </thead>\n",
       "  <tbody>\n",
       "    <tr>\n",
       "      <th>521</th>\n",
       "      <td>Udaan</td>\n",
       "      <td>B2B</td>\n",
       "      <td>Series C</td>\n",
       "      <td>225000000</td>\n",
       "      <td>Bangalore, Karnataka, India</td>\n",
       "      <td>Udaan is a B2B trade platform, designed specifically for small and medium businesses in India.</td>\n",
       "      <td>0.0</td>\n",
       "      <td>0.0</td>\n",
       "    </tr>\n",
       "    <tr>\n",
       "      <th>522</th>\n",
       "      <td>Happyeasygo Group</td>\n",
       "      <td>Tourism</td>\n",
       "      <td>Series A</td>\n",
       "      <td>NaN</td>\n",
       "      <td>Haryana, Haryana, India</td>\n",
       "      <td>HappyEasyGo is an online travel domain.</td>\n",
       "      <td>0.0</td>\n",
       "      <td>0.0</td>\n",
       "    </tr>\n",
       "    <tr>\n",
       "      <th>523</th>\n",
       "      <td>Mombay</td>\n",
       "      <td>Food and Beverage</td>\n",
       "      <td>Seed</td>\n",
       "      <td>7500</td>\n",
       "      <td>Mumbai, Maharashtra, India</td>\n",
       "      <td>Mombay is a unique opportunity for housewives to start household food business and avail everyone with their homemade healthy dishes.</td>\n",
       "      <td>0.0</td>\n",
       "      <td>0.0</td>\n",
       "    </tr>\n",
       "    <tr>\n",
       "      <th>524</th>\n",
       "      <td>Droni Tech</td>\n",
       "      <td>Information Technology</td>\n",
       "      <td>Seed</td>\n",
       "      <td>₹35000000</td>\n",
       "      <td>Mumbai, Maharashtra, India</td>\n",
       "      <td>Droni Tech manufacture UAVs and develop software to service a range of industry requirements.</td>\n",
       "      <td>35000000.0</td>\n",
       "      <td>511000.0</td>\n",
       "    </tr>\n",
       "    <tr>\n",
       "      <th>525</th>\n",
       "      <td>Netmeds</td>\n",
       "      <td>Biotechnology</td>\n",
       "      <td>Series C</td>\n",
       "      <td>35000000</td>\n",
       "      <td>Chennai, Tamil Nadu, India</td>\n",
       "      <td>Welcome to India's most convenient pharmacy!</td>\n",
       "      <td>0.0</td>\n",
       "      <td>0.0</td>\n",
       "    </tr>\n",
       "  </tbody>\n",
       "</table>\n",
       "</div>"
      ],
      "text/plain": [
       "          Company Name                Industry Round/Series     Amount  \\\n",
       "521              Udaan                     B2B     Series C  225000000   \n",
       "522  Happyeasygo Group                 Tourism     Series A        NaN   \n",
       "523             Mombay       Food and Beverage         Seed       7500   \n",
       "524         Droni Tech  Information Technology         Seed  ₹35000000   \n",
       "525            Netmeds           Biotechnology     Series C   35000000   \n",
       "\n",
       "                        Location  \\\n",
       "521  Bangalore, Karnataka, India   \n",
       "522      Haryana, Haryana, India   \n",
       "523   Mumbai, Maharashtra, India   \n",
       "524   Mumbai, Maharashtra, India   \n",
       "525   Chennai, Tamil Nadu, India   \n",
       "\n",
       "                                                                                                                             About Company  \\\n",
       "521                                         Udaan is a B2B trade platform, designed specifically for small and medium businesses in India.   \n",
       "522                                                                                                HappyEasyGo is an online travel domain.   \n",
       "523  Mombay is a unique opportunity for housewives to start household food business and avail everyone with their homemade healthy dishes.   \n",
       "524                                          Droni Tech manufacture UAVs and develop software to service a range of industry requirements.   \n",
       "525                                                                                           Welcome to India's most convenient pharmacy!   \n",
       "\n",
       "     Amount (₹)  Amount ($)  \n",
       "521         0.0         0.0  \n",
       "522         0.0         0.0  \n",
       "523         0.0         0.0  \n",
       "524  35000000.0    511000.0  \n",
       "525         0.0         0.0  "
      ]
     },
     "execution_count": 36,
     "metadata": {},
     "output_type": "execute_result"
    }
   ],
   "source": [
    "data_df_2018.tail()"
   ]
  },
  {
   "cell_type": "code",
   "execution_count": 37,
   "metadata": {},
   "outputs": [],
   "source": [
    "# Replace 0 values with np.nan in the converted rupee values\n",
    "data_df_2018['Amount ($)'] = data_df_2018['Amount ($)'].replace(0, np.nan)\n",
    "\n",
    "# Fill nan values in USD amount column with values in Amount column\n",
    "data_df_2018['Amount ($)'] = data_df_2018['Amount ($)'].fillna(data_df_2018['Amount'])\n",
    "\n",
    "# drop Amount column and INR column\n",
    "data_df_2018.drop(['Amount','Amount (₹)'], axis = 1, inplace = True)\n"
   ]
  },
  {
   "cell_type": "code",
   "execution_count": 38,
   "metadata": {},
   "outputs": [
    {
     "data": {
      "text/plain": [
       "0         250000\n",
       "1       584000.0\n",
       "2       949000.0\n",
       "3        2000000\n",
       "4            NaN\n",
       "         ...    \n",
       "521    225000000\n",
       "522          NaN\n",
       "523         7500\n",
       "524     511000.0\n",
       "525     35000000\n",
       "Name: Amount ($), Length: 525, dtype: object"
      ]
     },
     "execution_count": 38,
     "metadata": {},
     "output_type": "execute_result"
    }
   ],
   "source": [
    "data_df_2018['Amount ($)']"
   ]
  },
  {
   "cell_type": "code",
   "execution_count": 39,
   "metadata": {},
   "outputs": [
    {
     "name": "stdout",
     "output_type": "stream",
     "text": [
      "<class 'pandas.core.frame.DataFrame'>\n",
      "Int64Index: 525 entries, 0 to 525\n",
      "Data columns (total 6 columns):\n",
      " #   Column         Non-Null Count  Dtype \n",
      "---  ------         --------------  ----- \n",
      " 0   Company Name   525 non-null    object\n",
      " 1   Industry       495 non-null    object\n",
      " 2   Round/Series   525 non-null    object\n",
      " 3   Location       525 non-null    object\n",
      " 4   About Company  525 non-null    object\n",
      " 5   Amount ($)     377 non-null    object\n",
      "dtypes: object(6)\n",
      "memory usage: 28.7+ KB\n"
     ]
    }
   ],
   "source": [
    "data_df_2018.info()"
   ]
  },
  {
   "cell_type": "code",
   "execution_count": 40,
   "metadata": {},
   "outputs": [],
   "source": [
    "# add a year column\n",
    "\n",
    "data_df_2018['Year'] = 2018"
   ]
  },
  {
   "cell_type": "code",
   "execution_count": 41,
   "metadata": {},
   "outputs": [
    {
     "data": {
      "text/plain": [
       "Bangalore, Karnataka, India         101\n",
       "Mumbai, Maharashtra, India           94\n",
       "Bengaluru, Karnataka, India          55\n",
       "Gurgaon, Haryana, India              52\n",
       "New Delhi, Delhi, India              51\n",
       "Pune, Maharashtra, India             20\n",
       "Chennai, Tamil Nadu, India           19\n",
       "Hyderabad, Andhra Pradesh, India     18\n",
       "Delhi, Delhi, India                  16\n",
       "Noida, Uttar Pradesh, India          15\n",
       "Haryana, Haryana, India              11\n",
       "Jaipur, Rajasthan, India              9\n",
       "Ahmedabad, Gujarat, India             6\n",
       "Kolkata, West Bengal, India           6\n",
       "Bangalore City, Karnataka, India      5\n",
       "Indore, Madhya Pradesh, India         4\n",
       "India, Asia                           4\n",
       "Kormangala, Karnataka, India          3\n",
       "Ghaziabad, Uttar Pradesh, India       2\n",
       "Kochi, Kerala, India                  2\n",
       "Bhopal, Madhya Pradesh, India         2\n",
       "Thane, Maharashtra, India             2\n",
       "Jodhpur, Rajasthan, India             1\n",
       "Powai, Assam, India                   1\n",
       "Andheri, Maharashtra, India           1\n",
       "Mylapore, Tamil Nadu, India           1\n",
       "Kalpakkam, Tamil Nadu, India          1\n",
       "Guntur, Andhra Pradesh, India         1\n",
       "Coimbatore, Tamil Nadu, India         1\n",
       "Worli, Maharashtra, India             1\n",
       "Alleppey, Kerala, India               1\n",
       "Chandigarh, Chandigarh, India         1\n",
       "Guindy, Tamil Nadu, India             1\n",
       "Uttar Pradesh, India, Asia            1\n",
       "Trivandrum, Kerala, India             1\n",
       "Ernakulam, Kerala, India              1\n",
       "Kanpur, Uttar Pradesh, India          1\n",
       "Kannur, Kerala, India                 1\n",
       "Alwar, Rajasthan, India               1\n",
       "Margão, Goa, India                    1\n",
       "Belgaum, Karnataka, India             1\n",
       "Kalkaji, Delhi, India                 1\n",
       "Anand, Gujarat, India                 1\n",
       "Kota, Rajasthan, India                1\n",
       "Faridabad, Haryana, India             1\n",
       "Cochin, Kerala, India                 1\n",
       "Hubli, Karnataka, India               1\n",
       "Azadpur, Delhi, India                 1\n",
       "Mohali, Punjab, India                 1\n",
       "Lucknow, Uttar Pradesh, India         1\n",
       "Name: Location, dtype: int64"
      ]
     },
     "execution_count": 41,
     "metadata": {},
     "output_type": "execute_result"
    }
   ],
   "source": [
    "data_df_2018['Location'].value_counts()"
   ]
  },
  {
   "cell_type": "code",
   "execution_count": 42,
   "metadata": {},
   "outputs": [],
   "source": [
    "# we want to simplify the location column\n",
    "## Split values with a comma delimiter, select only the first element from the resulting list of substrings\n",
    "## remove single quotes, since it is a string\n",
    "\n",
    "\n",
    "data_df_2018['Location'] = data_df_2018['Location'].str.split(',').str[0].replace(\"'\",\"\",regex=True)"
   ]
  },
  {
   "cell_type": "code",
   "execution_count": 43,
   "metadata": {},
   "outputs": [
    {
     "data": {
      "text/plain": [
       "Seed                                                                                                       279\n",
       "Series A                                                                                                    73\n",
       "Angel                                                                                                       37\n",
       "Venture - Series Unknown                                                                                    37\n",
       "Series B                                                                                                    20\n",
       "Series C                                                                                                    16\n",
       "Debt Financing                                                                                              13\n",
       "Private Equity                                                                                              10\n",
       "Corporate Round                                                                                              8\n",
       "Pre-Seed                                                                                                     6\n",
       "Series E                                                                                                     5\n",
       "Grant                                                                                                        4\n",
       "Series D                                                                                                     3\n",
       "Secondary Market                                                                                             3\n",
       "Post-IPO Equity                                                                                              3\n",
       "Undisclosed                                                                                                  2\n",
       "Post-IPO Debt                                                                                                2\n",
       "Non-equity Assistance                                                                                        1\n",
       "Series H                                                                                                     1\n",
       "https://docs.google.com/spreadsheets/d/1x9ziNeaz6auNChIHnMI8U6kS7knTr3byy_YBGfQaoUA/edit#gid=1861303593      1\n",
       "Funding Round                                                                                                1\n",
       "Name: Round/Series, dtype: int64"
      ]
     },
     "execution_count": 43,
     "metadata": {},
     "output_type": "execute_result"
    }
   ],
   "source": [
    "data_df_2018['Round/Series'].value_counts()"
   ]
  },
  {
   "cell_type": "code",
   "execution_count": 44,
   "metadata": {},
   "outputs": [],
   "source": [
    "#replace missing/unkown values with np.nan\n",
    "\n",
    "data_df_2018['Round/Series']=data_df_2018['Round/Series'].replace('Venture - Series Unknown',np.nan)\n",
    "data_df_2018['Round/Series']=data_df_2018['Round/Series'].replace('https://docs.google.com/spreadsheets/d/1x9ziNeaz6auNChIHnMI8U6kS7knTr3byy_YBGfQaoUA/edit#gid=1861303593',np.nan)\n",
    "data_df_2018['Round/Series']=data_df_2018['Round/Series'].replace('Undisclosed',np.nan)\n"
   ]
  },
  {
   "cell_type": "code",
   "execution_count": 45,
   "metadata": {},
   "outputs": [
    {
     "name": "stdout",
     "output_type": "stream",
     "text": [
      "<class 'pandas.core.frame.DataFrame'>\n",
      "Int64Index: 525 entries, 0 to 525\n",
      "Data columns (total 7 columns):\n",
      " #   Column         Non-Null Count  Dtype \n",
      "---  ------         --------------  ----- \n",
      " 0   Company/Brand  525 non-null    object\n",
      " 1   Sector         495 non-null    object\n",
      " 2   Stage          485 non-null    object\n",
      " 3   HeadQuarter    525 non-null    object\n",
      " 4   What it does   525 non-null    object\n",
      " 5   Amount($)      377 non-null    object\n",
      " 6   Year           525 non-null    int64 \n",
      "dtypes: int64(1), object(6)\n",
      "memory usage: 32.8+ KB\n"
     ]
    }
   ],
   "source": [
    "# Rename Columns to match other Data tables\n",
    "data_df_2018.rename(columns = {'Company Name': 'Company/Brand', 'Industry': 'Sector', \n",
    "                               'Round/Series':'Stage', 'Location': 'HeadQuarter', 'About Company':'What it does', 'Amount ($)': 'Amount($)'}, inplace=True)\n",
    "data_df_2018.info()"
   ]
  },
  {
   "cell_type": "markdown",
   "metadata": {},
   "source": [
    "### 2019 Data Cleaning"
   ]
  },
  {
   "cell_type": "code",
   "execution_count": 46,
   "metadata": {},
   "outputs": [
    {
     "data": {
      "text/html": [
       "<div>\n",
       "<style scoped>\n",
       "    .dataframe tbody tr th:only-of-type {\n",
       "        vertical-align: middle;\n",
       "    }\n",
       "\n",
       "    .dataframe tbody tr th {\n",
       "        vertical-align: top;\n",
       "    }\n",
       "\n",
       "    .dataframe thead th {\n",
       "        text-align: right;\n",
       "    }\n",
       "</style>\n",
       "<table border=\"1\" class=\"dataframe\">\n",
       "  <thead>\n",
       "    <tr style=\"text-align: right;\">\n",
       "      <th></th>\n",
       "      <th>Company/Brand</th>\n",
       "      <th>Founded</th>\n",
       "      <th>HeadQuarter</th>\n",
       "      <th>Sector</th>\n",
       "      <th>What it does</th>\n",
       "      <th>Founders</th>\n",
       "      <th>Investor</th>\n",
       "      <th>Amount($)</th>\n",
       "      <th>Stage</th>\n",
       "    </tr>\n",
       "  </thead>\n",
       "  <tbody>\n",
       "    <tr>\n",
       "      <th>84</th>\n",
       "      <td>Infra.Market</td>\n",
       "      <td>NaN</td>\n",
       "      <td>Mumbai</td>\n",
       "      <td>Infratech</td>\n",
       "      <td>It connects client requirements to their supply chain infrastructure for ease of ordering, tracking and manufacturing</td>\n",
       "      <td>Aaditya Sharda, Souvik Sengupta</td>\n",
       "      <td>Tiger Global, Nexus Venture Partners, Accel Partners, Dhruv Agarwala</td>\n",
       "      <td>$20,000,000</td>\n",
       "      <td>Series A</td>\n",
       "    </tr>\n",
       "    <tr>\n",
       "      <th>85</th>\n",
       "      <td>Oyo</td>\n",
       "      <td>2013.0</td>\n",
       "      <td>Gurugram</td>\n",
       "      <td>Hospitality</td>\n",
       "      <td>Provides rooms for comfortable stay</td>\n",
       "      <td>Ritesh Agarwal</td>\n",
       "      <td>MyPreferred Transformation, Avendus Finance, SoftBank</td>\n",
       "      <td>$693,000,000</td>\n",
       "      <td>NaN</td>\n",
       "    </tr>\n",
       "    <tr>\n",
       "      <th>86</th>\n",
       "      <td>GoMechanic</td>\n",
       "      <td>2016.0</td>\n",
       "      <td>Delhi</td>\n",
       "      <td>Automobile &amp; Technology</td>\n",
       "      <td>Find automobile repair and maintenance service providers</td>\n",
       "      <td>Amit Bhasin, Kushal Karwa, Nitin Rana, Rishabh Karwa</td>\n",
       "      <td>Sequoia Capital</td>\n",
       "      <td>$5,000,000</td>\n",
       "      <td>Series B</td>\n",
       "    </tr>\n",
       "    <tr>\n",
       "      <th>87</th>\n",
       "      <td>Spinny</td>\n",
       "      <td>2015.0</td>\n",
       "      <td>Delhi</td>\n",
       "      <td>Automobile</td>\n",
       "      <td>Online car retailer</td>\n",
       "      <td>Niraj Singh, Ramanshu Mahaur, Ganesh Pawar, Mohit Gupta</td>\n",
       "      <td>Norwest Venture Partners, General Catalyst, Fundamentum, Accel Partners</td>\n",
       "      <td>$50,000,000</td>\n",
       "      <td>NaN</td>\n",
       "    </tr>\n",
       "    <tr>\n",
       "      <th>88</th>\n",
       "      <td>Ess Kay Fincorp</td>\n",
       "      <td>NaN</td>\n",
       "      <td>Rajasthan</td>\n",
       "      <td>Banking</td>\n",
       "      <td>Organised Non-Banking Finance Company</td>\n",
       "      <td>Rajendra Setia</td>\n",
       "      <td>TPG, Norwest Venture Partners, Evolvence India</td>\n",
       "      <td>$33,000,000</td>\n",
       "      <td>NaN</td>\n",
       "    </tr>\n",
       "  </tbody>\n",
       "</table>\n",
       "</div>"
      ],
      "text/plain": [
       "      Company/Brand  Founded HeadQuarter                   Sector  \\\n",
       "84     Infra.Market      NaN      Mumbai                Infratech   \n",
       "85              Oyo   2013.0    Gurugram              Hospitality   \n",
       "86       GoMechanic   2016.0       Delhi  Automobile & Technology   \n",
       "87           Spinny   2015.0       Delhi               Automobile   \n",
       "88  Ess Kay Fincorp      NaN   Rajasthan                  Banking   \n",
       "\n",
       "                                                                                                             What it does  \\\n",
       "84  It connects client requirements to their supply chain infrastructure for ease of ordering, tracking and manufacturing   \n",
       "85                                                                                    Provides rooms for comfortable stay   \n",
       "86                                                               Find automobile repair and maintenance service providers   \n",
       "87                                                                                                    Online car retailer   \n",
       "88                                                                                  Organised Non-Banking Finance Company   \n",
       "\n",
       "                                                   Founders  \\\n",
       "84                          Aaditya Sharda, Souvik Sengupta   \n",
       "85                                           Ritesh Agarwal   \n",
       "86     Amit Bhasin, Kushal Karwa, Nitin Rana, Rishabh Karwa   \n",
       "87  Niraj Singh, Ramanshu Mahaur, Ganesh Pawar, Mohit Gupta   \n",
       "88                                           Rajendra Setia   \n",
       "\n",
       "                                                                   Investor  \\\n",
       "84     Tiger Global, Nexus Venture Partners, Accel Partners, Dhruv Agarwala   \n",
       "85                    MyPreferred Transformation, Avendus Finance, SoftBank   \n",
       "86                                                          Sequoia Capital   \n",
       "87  Norwest Venture Partners, General Catalyst, Fundamentum, Accel Partners   \n",
       "88                           TPG, Norwest Venture Partners, Evolvence India   \n",
       "\n",
       "       Amount($)     Stage  \n",
       "84   $20,000,000  Series A  \n",
       "85  $693,000,000       NaN  \n",
       "86    $5,000,000  Series B  \n",
       "87   $50,000,000       NaN  \n",
       "88   $33,000,000       NaN  "
      ]
     },
     "execution_count": 46,
     "metadata": {},
     "output_type": "execute_result"
    }
   ],
   "source": [
    "data_df_2019 = pd.read_csv('startup_funding2019.csv')\n",
    "data_df_2019.tail()"
   ]
  },
  {
   "cell_type": "code",
   "execution_count": 47,
   "metadata": {},
   "outputs": [
    {
     "name": "stdout",
     "output_type": "stream",
     "text": [
      "<class 'pandas.core.frame.DataFrame'>\n",
      "RangeIndex: 89 entries, 0 to 88\n",
      "Data columns (total 9 columns):\n",
      " #   Column         Non-Null Count  Dtype  \n",
      "---  ------         --------------  -----  \n",
      " 0   Company/Brand  89 non-null     object \n",
      " 1   Founded        60 non-null     float64\n",
      " 2   HeadQuarter    70 non-null     object \n",
      " 3   Sector         84 non-null     object \n",
      " 4   What it does   89 non-null     object \n",
      " 5   Founders       86 non-null     object \n",
      " 6   Investor       89 non-null     object \n",
      " 7   Amount($)      89 non-null     object \n",
      " 8   Stage          43 non-null     object \n",
      "dtypes: float64(1), object(8)\n",
      "memory usage: 6.4+ KB\n"
     ]
    }
   ],
   "source": [
    "data_df_2019.info()"
   ]
  },
  {
   "cell_type": "code",
   "execution_count": 48,
   "metadata": {},
   "outputs": [
    {
     "data": {
      "text/plain": [
       "0"
      ]
     },
     "execution_count": 48,
     "metadata": {},
     "output_type": "execute_result"
    }
   ],
   "source": [
    "# check duplicates\n",
    "\n",
    "data_df_2019.duplicated().sum()"
   ]
  },
  {
   "cell_type": "code",
   "execution_count": 49,
   "metadata": {},
   "outputs": [],
   "source": [
    "# drop columns\n",
    "\n",
    "data_df_2019.drop(['Founded', 'Founders', 'Investor'], axis = 1, inplace = True)\n"
   ]
  },
  {
   "cell_type": "code",
   "execution_count": 50,
   "metadata": {},
   "outputs": [],
   "source": [
    "# add year column\n",
    "\n",
    "data_df_2019['Year']=2019"
   ]
  },
  {
   "cell_type": "code",
   "execution_count": 51,
   "metadata": {},
   "outputs": [
    {
     "data": {
      "text/plain": [
       "Undisclosed     12\n",
       "$5,000,000       6\n",
       "$1,500,000       4\n",
       "$6,000,000       4\n",
       "$1,000,000       4\n",
       "$30,000,000      3\n",
       "$20,000,000      3\n",
       "$50,000,000      3\n",
       "$4,000,000       3\n",
       "$5,500,000       3\n",
       "$26,000,000      2\n",
       "$2,000,000       2\n",
       "$12,000,000      2\n",
       "$100,000         2\n",
       "$5,700,000       1\n",
       "$693,000,000     1\n",
       "$4,800,000       1\n",
       "$120,000,000     1\n",
       "$311,000,000     1\n",
       "$6,800,000       1\n",
       "$36,000,000      1\n",
       "$2,800,000       1\n",
       "$220,000         1\n",
       "$600,000         1\n",
       "$7,000,000       1\n",
       "$2,100,000       1\n",
       "$70,000,000      1\n",
       "$60,000,000      1\n",
       "$8,000,000       1\n",
       "$25,000,000      1\n",
       "$6,300,000       1\n",
       "$100,000,000     1\n",
       "$11,000,000      1\n",
       "$28,000,000      1\n",
       "$275,000,000     1\n",
       "$22,000,000      1\n",
       "$140,500         1\n",
       "$540,000,000     1\n",
       "$15,000,000      1\n",
       "$182,700         1\n",
       "$15,500,000      1\n",
       "$400,000         1\n",
       "$2,500,000       1\n",
       "$140,000         1\n",
       "$230,000,000     1\n",
       "$49,400,000      1\n",
       "$32,000,000      1\n",
       "$150,000,000     1\n",
       "$150,000         1\n",
       "$33,000,000      1\n",
       "Name: Amount($), dtype: int64"
      ]
     },
     "execution_count": 51,
     "metadata": {},
     "output_type": "execute_result"
    }
   ],
   "source": [
    "data_df_2019['Amount($)'].value_counts()"
   ]
  },
  {
   "cell_type": "code",
   "execution_count": 52,
   "metadata": {},
   "outputs": [],
   "source": [
    "# Replace values\n",
    "\n",
    "data_df_2019['Amount($)'].replace('Undisclosed', np.nan, inplace = True, regex=True)\n",
    "data_df_2019['Amount($)'].replace(\"[,$]\", \"\", inplace = True, regex=True)"
   ]
  },
  {
   "cell_type": "code",
   "execution_count": 53,
   "metadata": {},
   "outputs": [
    {
     "data": {
      "text/plain": [
       "array([nan, 'Mumbai', 'Chennai', 'Telangana', 'Pune', 'Bangalore',\n",
       "       'Noida', 'Delhi', 'Ahmedabad', 'Gurugram', 'Haryana', 'Chandigarh',\n",
       "       'Jaipur', 'New Delhi', 'Surat', 'Uttar pradesh', 'Hyderabad',\n",
       "       'Rajasthan'], dtype=object)"
      ]
     },
     "execution_count": 53,
     "metadata": {},
     "output_type": "execute_result"
    }
   ],
   "source": [
    "data_df_2019['HeadQuarter'].unique()"
   ]
  },
  {
   "cell_type": "code",
   "execution_count": 54,
   "metadata": {},
   "outputs": [
    {
     "data": {
      "text/plain": [
       "Edtech                          7\n",
       "Fintech                         5\n",
       "AgriTech                        4\n",
       "Technology                      4\n",
       "SaaS                            4\n",
       "Automobile                      3\n",
       "E-commerce                      3\n",
       "Logistics                       3\n",
       "Food                            2\n",
       "Foodtech                        2\n",
       "Accomodation                    2\n",
       "Automotive tech                 2\n",
       "IoT                             2\n",
       "AI                              2\n",
       "E-marketplace                   2\n",
       "Ecommerce                       1\n",
       "Cybersecurity                   1\n",
       "Mutual Funds                    1\n",
       "Food & tech                     1\n",
       "Legal tech                      1\n",
       "Sports                          1\n",
       "B2B Supply Chain                1\n",
       "Healthtech                      1\n",
       "Yoga & wellness                 1\n",
       "Virtual Banking                 1\n",
       "Transportation                  1\n",
       "Transport & Rentals             1\n",
       "Marketing & Customer loyalty    1\n",
       "Infratech                       1\n",
       "Hospitality                     1\n",
       "Automobile & Technology         1\n",
       "Games                           1\n",
       "Food & Nutrition                1\n",
       "Jewellery                       1\n",
       "Safety tech                     1\n",
       "Interior design                 1\n",
       "AI & Tech                       1\n",
       "E-commerce & AR                 1\n",
       "HR tech                         1\n",
       "Food tech                       1\n",
       "Health                          1\n",
       "Healthcare                      1\n",
       "Pharmaceutical                  1\n",
       "B2B                             1\n",
       "Insurance technology            1\n",
       "Robotics & AI                   1\n",
       "Travel                          1\n",
       "Manufacturing                   1\n",
       "Social Media                    1\n",
       "E-Sports                        1\n",
       "Cosmetics                       1\n",
       "Banking                         1\n",
       "Name: Sector, dtype: int64"
      ]
     },
     "execution_count": 54,
     "metadata": {},
     "output_type": "execute_result"
    }
   ],
   "source": [
    "data_df_2019['Sector'].value_counts()"
   ]
  },
  {
   "cell_type": "code",
   "execution_count": 55,
   "metadata": {},
   "outputs": [],
   "source": [
    "# Fix some structural errors (done through observation and individual inspection)\n",
    "\n",
    "data_df_2018['Sector'].replace('Ecommerce','E-commerce',inplace =True, regex=True)\n",
    "data_df_2018['Sector'].replace('Food & tech','Foodtech',inplace =True, regex=True)\n",
    "data_df_2018['Sector'].replace('Food tech','Foodtech',inplace =True, regex=True)"
   ]
  },
  {
   "cell_type": "code",
   "execution_count": 56,
   "metadata": {},
   "outputs": [
    {
     "data": {
      "text/plain": [
       "Series A         10\n",
       "Pre series A      8\n",
       "Series B          8\n",
       "Series D          4\n",
       "Series C          3\n",
       "Fresh funding     1\n",
       "Series G          1\n",
       "Post series A     1\n",
       "Seed funding      1\n",
       "Seed fund         1\n",
       "Series E          1\n",
       "Series F          1\n",
       "Series B+         1\n",
       "Seed round        1\n",
       "Pre-series A      1\n",
       "Name: Stage, dtype: int64"
      ]
     },
     "execution_count": 56,
     "metadata": {},
     "output_type": "execute_result"
    }
   ],
   "source": [
    "data_df_2019['Stage'].value_counts()"
   ]
  },
  {
   "cell_type": "code",
   "execution_count": 57,
   "metadata": {},
   "outputs": [],
   "source": [
    "# Fix some structural errors \n",
    "\n",
    "data_df_2018['Stage'].replace('Pre-series A','Pre series A',inplace =True, regex=True)\n",
    "data_df_2018['Stage'].replace('Seed fund','Seed',inplace =True, regex=True)\n",
    "data_df_2018['Stage'].replace('Seed funding','Seed',inplace =True, regex=True)\n",
    "data_df_2018['Stage'].replace('Seed round','Seed',inplace =True, regex=True)"
   ]
  },
  {
   "cell_type": "code",
   "execution_count": 58,
   "metadata": {},
   "outputs": [
    {
     "data": {
      "text/html": [
       "<div>\n",
       "<style scoped>\n",
       "    .dataframe tbody tr th:only-of-type {\n",
       "        vertical-align: middle;\n",
       "    }\n",
       "\n",
       "    .dataframe tbody tr th {\n",
       "        vertical-align: top;\n",
       "    }\n",
       "\n",
       "    .dataframe thead th {\n",
       "        text-align: right;\n",
       "    }\n",
       "</style>\n",
       "<table border=\"1\" class=\"dataframe\">\n",
       "  <thead>\n",
       "    <tr style=\"text-align: right;\">\n",
       "      <th></th>\n",
       "      <th>Company/Brand</th>\n",
       "      <th>Sector</th>\n",
       "      <th>Stage</th>\n",
       "      <th>HeadQuarter</th>\n",
       "      <th>What it does</th>\n",
       "      <th>Amount($)</th>\n",
       "      <th>Year</th>\n",
       "    </tr>\n",
       "  </thead>\n",
       "  <tbody>\n",
       "    <tr>\n",
       "      <th>609</th>\n",
       "      <td>Infra.Market</td>\n",
       "      <td>Infratech</td>\n",
       "      <td>Series A</td>\n",
       "      <td>Mumbai</td>\n",
       "      <td>It connects client requirements to their supply chain infrastructure for ease of ordering, tracking and manufacturing</td>\n",
       "      <td>20000000</td>\n",
       "      <td>2019</td>\n",
       "    </tr>\n",
       "    <tr>\n",
       "      <th>610</th>\n",
       "      <td>Oyo</td>\n",
       "      <td>Hospitality</td>\n",
       "      <td>NaN</td>\n",
       "      <td>Gurugram</td>\n",
       "      <td>Provides rooms for comfortable stay</td>\n",
       "      <td>693000000</td>\n",
       "      <td>2019</td>\n",
       "    </tr>\n",
       "    <tr>\n",
       "      <th>611</th>\n",
       "      <td>GoMechanic</td>\n",
       "      <td>Automobile &amp; Technology</td>\n",
       "      <td>Series B</td>\n",
       "      <td>Delhi</td>\n",
       "      <td>Find automobile repair and maintenance service providers</td>\n",
       "      <td>5000000</td>\n",
       "      <td>2019</td>\n",
       "    </tr>\n",
       "    <tr>\n",
       "      <th>612</th>\n",
       "      <td>Spinny</td>\n",
       "      <td>Automobile</td>\n",
       "      <td>NaN</td>\n",
       "      <td>Delhi</td>\n",
       "      <td>Online car retailer</td>\n",
       "      <td>50000000</td>\n",
       "      <td>2019</td>\n",
       "    </tr>\n",
       "    <tr>\n",
       "      <th>613</th>\n",
       "      <td>Ess Kay Fincorp</td>\n",
       "      <td>Banking</td>\n",
       "      <td>NaN</td>\n",
       "      <td>Rajasthan</td>\n",
       "      <td>Organised Non-Banking Finance Company</td>\n",
       "      <td>33000000</td>\n",
       "      <td>2019</td>\n",
       "    </tr>\n",
       "  </tbody>\n",
       "</table>\n",
       "</div>"
      ],
      "text/plain": [
       "       Company/Brand                   Sector     Stage HeadQuarter  \\\n",
       "609     Infra.Market                Infratech  Series A      Mumbai   \n",
       "610              Oyo              Hospitality       NaN    Gurugram   \n",
       "611       GoMechanic  Automobile & Technology  Series B       Delhi   \n",
       "612           Spinny               Automobile       NaN       Delhi   \n",
       "613  Ess Kay Fincorp                  Banking       NaN   Rajasthan   \n",
       "\n",
       "                                                                                                              What it does  \\\n",
       "609  It connects client requirements to their supply chain infrastructure for ease of ordering, tracking and manufacturing   \n",
       "610                                                                                    Provides rooms for comfortable stay   \n",
       "611                                                               Find automobile repair and maintenance service providers   \n",
       "612                                                                                                    Online car retailer   \n",
       "613                                                                                  Organised Non-Banking Finance Company   \n",
       "\n",
       "     Amount($)  Year  \n",
       "609   20000000  2019  \n",
       "610  693000000  2019  \n",
       "611    5000000  2019  \n",
       "612   50000000  2019  \n",
       "613   33000000  2019  "
      ]
     },
     "execution_count": 58,
     "metadata": {},
     "output_type": "execute_result"
    }
   ],
   "source": [
    "#Merge 2018 and 2019 Data\n",
    "\n",
    "data_new = pd.concat([data_df_2018, data_df_2019], ignore_index=True)\n",
    "data_new.tail()"
   ]
  },
  {
   "cell_type": "code",
   "execution_count": 59,
   "metadata": {},
   "outputs": [
    {
     "name": "stdout",
     "output_type": "stream",
     "text": [
      "<class 'pandas.core.frame.DataFrame'>\n",
      "RangeIndex: 614 entries, 0 to 613\n",
      "Data columns (total 7 columns):\n",
      " #   Column         Non-Null Count  Dtype \n",
      "---  ------         --------------  ----- \n",
      " 0   Company/Brand  614 non-null    object\n",
      " 1   Sector         579 non-null    object\n",
      " 2   Stage          528 non-null    object\n",
      " 3   HeadQuarter    595 non-null    object\n",
      " 4   What it does   614 non-null    object\n",
      " 5   Amount($)      454 non-null    object\n",
      " 6   Year           614 non-null    int64 \n",
      "dtypes: int64(1), object(6)\n",
      "memory usage: 33.7+ KB\n"
     ]
    }
   ],
   "source": [
    "data_new.info()"
   ]
  },
  {
   "cell_type": "markdown",
   "metadata": {},
   "source": [
    "### 2020 Data Cleaning"
   ]
  },
  {
   "cell_type": "code",
   "execution_count": 60,
   "metadata": {},
   "outputs": [
    {
     "data": {
      "text/html": [
       "<div>\n",
       "<style scoped>\n",
       "    .dataframe tbody tr th:only-of-type {\n",
       "        vertical-align: middle;\n",
       "    }\n",
       "\n",
       "    .dataframe tbody tr th {\n",
       "        vertical-align: top;\n",
       "    }\n",
       "\n",
       "    .dataframe thead th {\n",
       "        text-align: right;\n",
       "    }\n",
       "</style>\n",
       "<table border=\"1\" class=\"dataframe\">\n",
       "  <thead>\n",
       "    <tr style=\"text-align: right;\">\n",
       "      <th></th>\n",
       "      <th>Company_Brand</th>\n",
       "      <th>Founded</th>\n",
       "      <th>HeadQuarter</th>\n",
       "      <th>Sector</th>\n",
       "      <th>What_it_does</th>\n",
       "      <th>Founders</th>\n",
       "      <th>Investor</th>\n",
       "      <th>Amount</th>\n",
       "      <th>Stage</th>\n",
       "      <th>column10</th>\n",
       "    </tr>\n",
       "  </thead>\n",
       "  <tbody>\n",
       "    <tr>\n",
       "      <th>0</th>\n",
       "      <td>Aqgromalin</td>\n",
       "      <td>2019.0</td>\n",
       "      <td>Chennai</td>\n",
       "      <td>AgriTech</td>\n",
       "      <td>Cultivating Ideas for Profit</td>\n",
       "      <td>Prasanna Manogaran, Bharani C L</td>\n",
       "      <td>Angel investors</td>\n",
       "      <td>200000.0</td>\n",
       "      <td>NaN</td>\n",
       "      <td>NaN</td>\n",
       "    </tr>\n",
       "    <tr>\n",
       "      <th>1</th>\n",
       "      <td>Krayonnz</td>\n",
       "      <td>2019.0</td>\n",
       "      <td>Bangalore</td>\n",
       "      <td>EdTech</td>\n",
       "      <td>An academy-guardian-scholar centric ecosystem which provides state of the art technological solutions.</td>\n",
       "      <td>Saurabh Dixit, Gurudutt Upadhyay</td>\n",
       "      <td>GSF Accelerator</td>\n",
       "      <td>100000.0</td>\n",
       "      <td>Pre-seed</td>\n",
       "      <td>NaN</td>\n",
       "    </tr>\n",
       "    <tr>\n",
       "      <th>2</th>\n",
       "      <td>PadCare Labs</td>\n",
       "      <td>2018.0</td>\n",
       "      <td>Pune</td>\n",
       "      <td>Hygiene management</td>\n",
       "      <td>Converting bio-hazardous waste to harmless waste</td>\n",
       "      <td>Ajinkya Dhariya</td>\n",
       "      <td>Venture Center</td>\n",
       "      <td>NaN</td>\n",
       "      <td>Pre-seed</td>\n",
       "      <td>NaN</td>\n",
       "    </tr>\n",
       "    <tr>\n",
       "      <th>3</th>\n",
       "      <td>NCOME</td>\n",
       "      <td>2020.0</td>\n",
       "      <td>New Delhi</td>\n",
       "      <td>Escrow</td>\n",
       "      <td>Escrow-as-a-service platform</td>\n",
       "      <td>Ritesh Tiwari</td>\n",
       "      <td>Venture Catalysts, PointOne Capital</td>\n",
       "      <td>400000.0</td>\n",
       "      <td>NaN</td>\n",
       "      <td>NaN</td>\n",
       "    </tr>\n",
       "    <tr>\n",
       "      <th>4</th>\n",
       "      <td>Gramophone</td>\n",
       "      <td>2016.0</td>\n",
       "      <td>Indore</td>\n",
       "      <td>AgriTech</td>\n",
       "      <td>Gramophone is an AgTech platform enabling access to agri inputs and powering efficient farm management.</td>\n",
       "      <td>Ashish Rajan Singh, Harshit Gupta, Nishant Mahatre, Tauseef Khan</td>\n",
       "      <td>Siana Capital Management, Info Edge</td>\n",
       "      <td>340000.0</td>\n",
       "      <td>NaN</td>\n",
       "      <td>NaN</td>\n",
       "    </tr>\n",
       "    <tr>\n",
       "      <th>...</th>\n",
       "      <td>...</td>\n",
       "      <td>...</td>\n",
       "      <td>...</td>\n",
       "      <td>...</td>\n",
       "      <td>...</td>\n",
       "      <td>...</td>\n",
       "      <td>...</td>\n",
       "      <td>...</td>\n",
       "      <td>...</td>\n",
       "      <td>...</td>\n",
       "    </tr>\n",
       "    <tr>\n",
       "      <th>1050</th>\n",
       "      <td>Leverage Edu</td>\n",
       "      <td>NaN</td>\n",
       "      <td>Delhi</td>\n",
       "      <td>Edtech</td>\n",
       "      <td>AI enabled marketplace that provides career guidance</td>\n",
       "      <td>Akshay Chaturvedi</td>\n",
       "      <td>DSG Consumer Partners, Blume Ventures</td>\n",
       "      <td>1500000.0</td>\n",
       "      <td>NaN</td>\n",
       "      <td>NaN</td>\n",
       "    </tr>\n",
       "    <tr>\n",
       "      <th>1051</th>\n",
       "      <td>EpiFi</td>\n",
       "      <td>NaN</td>\n",
       "      <td>NaN</td>\n",
       "      <td>Fintech</td>\n",
       "      <td>It offers customers with a single interface for all their financial and banking mandates</td>\n",
       "      <td>Sujith Narayanan, Sumit Gwalani</td>\n",
       "      <td>Sequoia India, Ribbit Capital</td>\n",
       "      <td>13200000.0</td>\n",
       "      <td>Seed Round</td>\n",
       "      <td>NaN</td>\n",
       "    </tr>\n",
       "    <tr>\n",
       "      <th>1052</th>\n",
       "      <td>Purplle</td>\n",
       "      <td>2012.0</td>\n",
       "      <td>Mumbai</td>\n",
       "      <td>Cosmetics</td>\n",
       "      <td>Online makeup and beauty products retailer</td>\n",
       "      <td>Manish Taneja, Rahul Dash</td>\n",
       "      <td>Verlinvest</td>\n",
       "      <td>8000000.0</td>\n",
       "      <td>NaN</td>\n",
       "      <td>NaN</td>\n",
       "    </tr>\n",
       "    <tr>\n",
       "      <th>1053</th>\n",
       "      <td>Shuttl</td>\n",
       "      <td>2015.0</td>\n",
       "      <td>Delhi</td>\n",
       "      <td>Transport</td>\n",
       "      <td>App based bus aggregator serice</td>\n",
       "      <td>Amit Singh, Deepanshu Malviya</td>\n",
       "      <td>SIG Global India Fund LLP.</td>\n",
       "      <td>8043000.0</td>\n",
       "      <td>Series C</td>\n",
       "      <td>NaN</td>\n",
       "    </tr>\n",
       "    <tr>\n",
       "      <th>1054</th>\n",
       "      <td>Pando</td>\n",
       "      <td>2017.0</td>\n",
       "      <td>Chennai</td>\n",
       "      <td>Logitech</td>\n",
       "      <td>Networked logistics management software</td>\n",
       "      <td>Jayakrishnan, Abhijeet Manohar</td>\n",
       "      <td>Chiratae Ventures</td>\n",
       "      <td>9000000.0</td>\n",
       "      <td>Series A</td>\n",
       "      <td>NaN</td>\n",
       "    </tr>\n",
       "  </tbody>\n",
       "</table>\n",
       "<p>1055 rows × 10 columns</p>\n",
       "</div>"
      ],
      "text/plain": [
       "     Company_Brand  Founded HeadQuarter              Sector  \\\n",
       "0       Aqgromalin   2019.0     Chennai            AgriTech   \n",
       "1         Krayonnz   2019.0   Bangalore              EdTech   \n",
       "2     PadCare Labs   2018.0        Pune  Hygiene management   \n",
       "3            NCOME   2020.0   New Delhi              Escrow   \n",
       "4       Gramophone   2016.0      Indore            AgriTech   \n",
       "...            ...      ...         ...                 ...   \n",
       "1050  Leverage Edu      NaN       Delhi              Edtech   \n",
       "1051         EpiFi      NaN         NaN             Fintech   \n",
       "1052       Purplle   2012.0      Mumbai           Cosmetics   \n",
       "1053        Shuttl   2015.0       Delhi           Transport   \n",
       "1054         Pando   2017.0     Chennai            Logitech   \n",
       "\n",
       "                                                                                                 What_it_does  \\\n",
       "0                                                                                Cultivating Ideas for Profit   \n",
       "1      An academy-guardian-scholar centric ecosystem which provides state of the art technological solutions.   \n",
       "2                                                            Converting bio-hazardous waste to harmless waste   \n",
       "3                                                                                Escrow-as-a-service platform   \n",
       "4     Gramophone is an AgTech platform enabling access to agri inputs and powering efficient farm management.   \n",
       "...                                                                                                       ...   \n",
       "1050                                                     AI enabled marketplace that provides career guidance   \n",
       "1051                 It offers customers with a single interface for all their financial and banking mandates   \n",
       "1052                                                               Online makeup and beauty products retailer   \n",
       "1053                                                                          App based bus aggregator serice   \n",
       "1054                                                                  Networked logistics management software   \n",
       "\n",
       "                                                              Founders  \\\n",
       "0                                      Prasanna Manogaran, Bharani C L   \n",
       "1                                     Saurabh Dixit, Gurudutt Upadhyay   \n",
       "2                                                      Ajinkya Dhariya   \n",
       "3                                                        Ritesh Tiwari   \n",
       "4     Ashish Rajan Singh, Harshit Gupta, Nishant Mahatre, Tauseef Khan   \n",
       "...                                                                ...   \n",
       "1050                                                 Akshay Chaturvedi   \n",
       "1051                                   Sujith Narayanan, Sumit Gwalani   \n",
       "1052                                         Manish Taneja, Rahul Dash   \n",
       "1053                                     Amit Singh, Deepanshu Malviya   \n",
       "1054                                    Jayakrishnan, Abhijeet Manohar   \n",
       "\n",
       "                                   Investor      Amount       Stage column10  \n",
       "0                           Angel investors    200000.0         NaN      NaN  \n",
       "1                           GSF Accelerator    100000.0    Pre-seed      NaN  \n",
       "2                            Venture Center         NaN    Pre-seed      NaN  \n",
       "3       Venture Catalysts, PointOne Capital    400000.0         NaN      NaN  \n",
       "4       Siana Capital Management, Info Edge    340000.0         NaN      NaN  \n",
       "...                                     ...         ...         ...      ...  \n",
       "1050  DSG Consumer Partners, Blume Ventures   1500000.0         NaN      NaN  \n",
       "1051          Sequoia India, Ribbit Capital  13200000.0  Seed Round      NaN  \n",
       "1052                             Verlinvest   8000000.0         NaN      NaN  \n",
       "1053             SIG Global India Fund LLP.   8043000.0    Series C      NaN  \n",
       "1054                      Chiratae Ventures   9000000.0    Series A      NaN  \n",
       "\n",
       "[1055 rows x 10 columns]"
      ]
     },
     "execution_count": 60,
     "metadata": {},
     "output_type": "execute_result"
    }
   ],
   "source": [
    "data_df_2020 = pd.read_csv('LP1_startup_funding2020.csv')\n",
    "data_df_2020"
   ]
  },
  {
   "cell_type": "code",
   "execution_count": 61,
   "metadata": {},
   "outputs": [
    {
     "name": "stdout",
     "output_type": "stream",
     "text": [
      "<class 'pandas.core.frame.DataFrame'>\n",
      "RangeIndex: 1055 entries, 0 to 1054\n",
      "Data columns (total 10 columns):\n",
      " #   Column         Non-Null Count  Dtype  \n",
      "---  ------         --------------  -----  \n",
      " 0   Company_Brand  1055 non-null   object \n",
      " 1   Founded        842 non-null    float64\n",
      " 2   HeadQuarter    961 non-null    object \n",
      " 3   Sector         1042 non-null   object \n",
      " 4   What_it_does   1055 non-null   object \n",
      " 5   Founders       1043 non-null   object \n",
      " 6   Investor       1017 non-null   object \n",
      " 7   Amount         801 non-null    float64\n",
      " 8   Stage          591 non-null    object \n",
      " 9   column10       2 non-null      object \n",
      "dtypes: float64(2), object(8)\n",
      "memory usage: 82.5+ KB\n"
     ]
    }
   ],
   "source": [
    "data_df_2020.info()"
   ]
  },
  {
   "cell_type": "code",
   "execution_count": 62,
   "metadata": {},
   "outputs": [
    {
     "data": {
      "text/plain": [
       "3"
      ]
     },
     "execution_count": 62,
     "metadata": {},
     "output_type": "execute_result"
    }
   ],
   "source": [
    "# check duplicates\n",
    "\n",
    "data_df_2020.duplicated().sum()"
   ]
  },
  {
   "cell_type": "code",
   "execution_count": 63,
   "metadata": {},
   "outputs": [
    {
     "data": {
      "text/html": [
       "<div>\n",
       "<style scoped>\n",
       "    .dataframe tbody tr th:only-of-type {\n",
       "        vertical-align: middle;\n",
       "    }\n",
       "\n",
       "    .dataframe tbody tr th {\n",
       "        vertical-align: top;\n",
       "    }\n",
       "\n",
       "    .dataframe thead th {\n",
       "        text-align: right;\n",
       "    }\n",
       "</style>\n",
       "<table border=\"1\" class=\"dataframe\">\n",
       "  <thead>\n",
       "    <tr style=\"text-align: right;\">\n",
       "      <th></th>\n",
       "      <th>Company_Brand</th>\n",
       "      <th>Founded</th>\n",
       "      <th>HeadQuarter</th>\n",
       "      <th>Sector</th>\n",
       "      <th>What_it_does</th>\n",
       "      <th>Founders</th>\n",
       "      <th>Investor</th>\n",
       "      <th>Amount</th>\n",
       "      <th>Stage</th>\n",
       "      <th>column10</th>\n",
       "    </tr>\n",
       "  </thead>\n",
       "  <tbody>\n",
       "    <tr>\n",
       "      <th>120</th>\n",
       "      <td>Nykaa</td>\n",
       "      <td>2012.0</td>\n",
       "      <td>Mumbai</td>\n",
       "      <td>Cosmetics</td>\n",
       "      <td>Nykaa is an online marketplace for different beauty and wellness products.</td>\n",
       "      <td>Falguni Nayar</td>\n",
       "      <td>Alia Bhatt, Katrina Kaif</td>\n",
       "      <td>NaN</td>\n",
       "      <td>NaN</td>\n",
       "      <td>NaN</td>\n",
       "    </tr>\n",
       "    <tr>\n",
       "      <th>129</th>\n",
       "      <td>Krimanshi</td>\n",
       "      <td>2015.0</td>\n",
       "      <td>Jodhpur</td>\n",
       "      <td>Biotechnology company</td>\n",
       "      <td>Krimanshi aims to increase rural income by improving the productivity of Indian cattle with better quality feed.</td>\n",
       "      <td>Nikhil Bohra</td>\n",
       "      <td>Rajasthan Venture Capital Fund, AIM Smart City</td>\n",
       "      <td>600000.0</td>\n",
       "      <td>Seed</td>\n",
       "      <td>NaN</td>\n",
       "    </tr>\n",
       "    <tr>\n",
       "      <th>145</th>\n",
       "      <td>Krimanshi</td>\n",
       "      <td>2015.0</td>\n",
       "      <td>Jodhpur</td>\n",
       "      <td>Biotechnology company</td>\n",
       "      <td>Krimanshi aims to increase rural income by improving the productivity of Indian cattle with better quality feed.</td>\n",
       "      <td>Nikhil Bohra</td>\n",
       "      <td>Rajasthan Venture Capital Fund, AIM Smart City</td>\n",
       "      <td>600000.0</td>\n",
       "      <td>Seed</td>\n",
       "      <td>NaN</td>\n",
       "    </tr>\n",
       "    <tr>\n",
       "      <th>205</th>\n",
       "      <td>Nykaa</td>\n",
       "      <td>2012.0</td>\n",
       "      <td>Mumbai</td>\n",
       "      <td>Cosmetics</td>\n",
       "      <td>Nykaa is an online marketplace for different beauty and wellness products.</td>\n",
       "      <td>Falguni Nayar</td>\n",
       "      <td>Alia Bhatt, Katrina Kaif</td>\n",
       "      <td>NaN</td>\n",
       "      <td>NaN</td>\n",
       "      <td>NaN</td>\n",
       "    </tr>\n",
       "    <tr>\n",
       "      <th>326</th>\n",
       "      <td>Byju’s</td>\n",
       "      <td>2011.0</td>\n",
       "      <td>Bangalore</td>\n",
       "      <td>EdTech</td>\n",
       "      <td>An Indian educational technology and online tutoring firm</td>\n",
       "      <td>Byju Raveendran</td>\n",
       "      <td>Owl Ventures, Tiger Global Management</td>\n",
       "      <td>500000000.0</td>\n",
       "      <td>NaN</td>\n",
       "      <td>NaN</td>\n",
       "    </tr>\n",
       "    <tr>\n",
       "      <th>362</th>\n",
       "      <td>Byju’s</td>\n",
       "      <td>2011.0</td>\n",
       "      <td>Bangalore</td>\n",
       "      <td>EdTech</td>\n",
       "      <td>An Indian educational technology and online tutoring firm</td>\n",
       "      <td>Byju Raveendran</td>\n",
       "      <td>Owl Ventures, Tiger Global Management</td>\n",
       "      <td>500000000.0</td>\n",
       "      <td>NaN</td>\n",
       "      <td>NaN</td>\n",
       "    </tr>\n",
       "  </tbody>\n",
       "</table>\n",
       "</div>"
      ],
      "text/plain": [
       "    Company_Brand  Founded HeadQuarter                 Sector  \\\n",
       "120         Nykaa   2012.0      Mumbai              Cosmetics   \n",
       "129     Krimanshi   2015.0     Jodhpur  Biotechnology company   \n",
       "145     Krimanshi   2015.0     Jodhpur  Biotechnology company   \n",
       "205         Nykaa   2012.0      Mumbai              Cosmetics   \n",
       "326        Byju’s   2011.0   Bangalore                 EdTech   \n",
       "362        Byju’s   2011.0   Bangalore                 EdTech   \n",
       "\n",
       "                                                                                                         What_it_does  \\\n",
       "120                                        Nykaa is an online marketplace for different beauty and wellness products.   \n",
       "129  Krimanshi aims to increase rural income by improving the productivity of Indian cattle with better quality feed.   \n",
       "145  Krimanshi aims to increase rural income by improving the productivity of Indian cattle with better quality feed.   \n",
       "205                                        Nykaa is an online marketplace for different beauty and wellness products.   \n",
       "326                                                         An Indian educational technology and online tutoring firm   \n",
       "362                                                         An Indian educational technology and online tutoring firm   \n",
       "\n",
       "            Founders                                        Investor  \\\n",
       "120    Falguni Nayar                        Alia Bhatt, Katrina Kaif   \n",
       "129     Nikhil Bohra  Rajasthan Venture Capital Fund, AIM Smart City   \n",
       "145     Nikhil Bohra  Rajasthan Venture Capital Fund, AIM Smart City   \n",
       "205    Falguni Nayar                        Alia Bhatt, Katrina Kaif   \n",
       "326  Byju Raveendran           Owl Ventures, Tiger Global Management   \n",
       "362  Byju Raveendran           Owl Ventures, Tiger Global Management   \n",
       "\n",
       "          Amount Stage column10  \n",
       "120          NaN   NaN      NaN  \n",
       "129     600000.0  Seed      NaN  \n",
       "145     600000.0  Seed      NaN  \n",
       "205          NaN   NaN      NaN  \n",
       "326  500000000.0   NaN      NaN  \n",
       "362  500000000.0   NaN      NaN  "
      ]
     },
     "execution_count": 63,
     "metadata": {},
     "output_type": "execute_result"
    }
   ],
   "source": [
    "# show all occurences of duplicated rows\n",
    "\n",
    "data_df_2020[data_df_2020.duplicated(keep=False)]"
   ]
  },
  {
   "cell_type": "code",
   "execution_count": 64,
   "metadata": {},
   "outputs": [],
   "source": [
    "# Drop duplicates\n",
    "\n",
    "data_df_2020.drop_duplicates(inplace = True)"
   ]
  },
  {
   "cell_type": "code",
   "execution_count": 65,
   "metadata": {},
   "outputs": [],
   "source": [
    "# drop columns\n",
    "\n",
    "data_df_2020.drop(['Founded', 'Founders', 'Investor', 'column10'], axis=1, inplace=True)"
   ]
  },
  {
   "cell_type": "code",
   "execution_count": 66,
   "metadata": {},
   "outputs": [],
   "source": [
    "# add year column\n",
    "\n",
    "data_df_2020['Year']=2020"
   ]
  },
  {
   "cell_type": "code",
   "execution_count": 67,
   "metadata": {},
   "outputs": [],
   "source": [
    "# Rename Columns to match other Data\n",
    "data_df_2020.rename(columns = {'Company_Brand': 'Company/Brand', 'What_it_does': 'What it does',\n",
    "                                'Amount': 'Amount($)'}, inplace=True)"
   ]
  },
  {
   "cell_type": "code",
   "execution_count": 68,
   "metadata": {},
   "outputs": [
    {
     "data": {
      "text/plain": [
       "Bangalore                                                   316\n",
       "Mumbai                                                      164\n",
       "Gurugram                                                     79\n",
       "Delhi                                                        62\n",
       "Chennai                                                      43\n",
       "                                                           ... \n",
       "Newcastle Upon Tyne, Newcastle upon Tyne, United Kingdom      1\n",
       "Shanghai, China                                               1\n",
       "Jiaxing, Zhejiang, China                                      1\n",
       "Rajastan                                                      1\n",
       "Sydney, New South Wales, Australia                            1\n",
       "Name: HeadQuarter, Length: 77, dtype: int64"
      ]
     },
     "execution_count": 68,
     "metadata": {},
     "output_type": "execute_result"
    }
   ],
   "source": [
    "data_df_2020['HeadQuarter'].value_counts()"
   ]
  },
  {
   "cell_type": "code",
   "execution_count": 69,
   "metadata": {},
   "outputs": [],
   "source": [
    "# we want to simplify some of the values the HeadQuarter column\n",
    "## Split values with a comma delimiter; select only the first element from the resulting list of substrings\n",
    "## remove single quotes, since it is a string\n",
    "\n",
    "data_df_2020['HeadQuarter'] = data_df_2020['HeadQuarter'].str.split(',').str[0].str.replace(\"'\", \"\", regex=True)"
   ]
  },
  {
   "cell_type": "code",
   "execution_count": 70,
   "metadata": {},
   "outputs": [],
   "source": [
    "# Fix some structural errors\n",
    "\n",
    "data_df_2020['HeadQuarter'].replace('Hyderebad','Hyderabad',inplace =True, regex=True)\n",
    "data_df_2020['HeadQuarter'].replace('San Francisco Bay Area',\n",
    "                                    'San Francisco',inplace =True, regex=True)\n",
    "data_df_2020['HeadQuarter'].replace('San Franciscao','San Francisco',inplace =True, regex=True)\n",
    "data_df_2020['HeadQuarter'].replace('Banglore','Bangalore',inplace =True, regex=True)\n",
    "data_df_2020['HeadQuarter'].replace('Hyderebad','Hyderabad',inplace =True, regex=True)"
   ]
  },
  {
   "cell_type": "code",
   "execution_count": 71,
   "metadata": {},
   "outputs": [
    {
     "data": {
      "text/plain": [
       "array(['AgriTech', 'EdTech', 'Hygiene management', 'Escrow',\n",
       "       'Networking platform', 'FinTech', 'Crowdsourcing',\n",
       "       'Food & Bevarages', 'HealthTech', 'Fashion startup',\n",
       "       'Food Industry', 'Food Delivery', 'Virtual auditing startup',\n",
       "       'E-commerce', 'Gaming', 'Work fulfillment', 'AI startup',\n",
       "       'Telecommunication', 'Logistics', 'Tech Startup', 'Sports',\n",
       "       'Retail', 'Medtech', 'Tyre management', 'Cloud company',\n",
       "       'Software company', 'Venture capitalist', 'Renewable player',\n",
       "       'IoT startup', 'SaaS startup', 'Aero company', 'Marketing company',\n",
       "       'Retail startup', 'Co-working Startup', 'Finance company',\n",
       "       'Tech company', 'Solar Monitoring Company',\n",
       "       'Video sharing platform', 'Gaming startup',\n",
       "       'Video streaming platform', 'Consumer appliances',\n",
       "       'Blockchain startup', 'Conversational AI platform', 'Real Estate',\n",
       "       'SaaS platform', 'AI platform', 'Fusion beverages', 'HR Tech',\n",
       "       'Job portal', 'Hospitality', 'Digital Media', 'Dairy startup',\n",
       "       'Content management', 'Spacetech', 'Transportation',\n",
       "       'Trading platform', 'AI Company', 'Photonics startup',\n",
       "       'Entertainment', 'Cosmetics', 'Scanning app', 'Skincare startup',\n",
       "       'Food and Beverages', 'Biotechnology company', 'FoodTech',\n",
       "       'Proptech', 'CleanTech', 'Fitness startup', 'Healthcare',\n",
       "       'PaaS startup', 'Beverages', 'Social Media', 'Automobiles',\n",
       "       'Deeptech', 'EV startup', 'AR/VR startup', 'Recruitment startup',\n",
       "       'QSR startup', 'Video platform', 'Edtech', 'Fertility tech',\n",
       "       'Luxury car startup', 'FM', 'Food', 'Nutrition sector',\n",
       "       'Tech platform', 'Video', 'Retail Tech', 'HeathTech',\n",
       "       'Sles and marketing', 'LegalTech', 'Car Service',\n",
       "       'Bike marketplace', 'Agri tech', 'Reatil startup', 'AR platform',\n",
       "       'Consumer Goods', 'Content marketplace', 'Interior Design',\n",
       "       'Rental space', 'Soil-Tech', 'Ayurveda tech',\n",
       "       'Packaging solution startup', 'Cleantech', 'Sanitation solutions',\n",
       "       'HealthCare', 'Home Design', 'InsureTech', 'AI Startup',\n",
       "       'Solar solution', 'Jewellery startup',\n",
       "       'Multinational conglomerate company', 'Deeptech startup',\n",
       "       'Social Network', 'Publication', 'Tech', 'Fashion', 'Finance',\n",
       "       'Venture capital', 'Entreprenurship', 'Food devlivery',\n",
       "       'Warehouse', 'Online financial service', 'Eyeglasses',\n",
       "       'Battery design', 'Online credit management startup', 'Beverage',\n",
       "       'TravelTech', 'Agriculture', 'Startup laboratory',\n",
       "       'Personal care startup', 'Customer service company',\n",
       "       'SaaS\\xa0\\xa0startup', 'Marketing startup', 'Service industry',\n",
       "       'Social media', 'AI', 'Jewellery', 'AR startup', 'HR Tech startup',\n",
       "       'Automotive Startup', 'Food Startup', 'EdTech Startup',\n",
       "       'Car Trade', 'EdtTech', 'Manufacturing', 'AI Platform',\n",
       "       'Automation', 'Solar SaaS', 'WL & RAC protection',\n",
       "       'Social commerce', 'Home interior services', 'Agritech startup',\n",
       "       'API platform', 'Deep Tech', 'Electricity', 'Automotive company',\n",
       "       'FMCG', 'Insurance Tech', 'Video personalization',\n",
       "       'Software Company', 'Biomaterial startup', 'Health', 'IT',\n",
       "       'Craft Beer', 'Healthtech', 'Education', 'Investment',\n",
       "       'Linguistic Spiritual', 'Construction', 'Battery manufacturer',\n",
       "       'Nano Distribution Network', 'AI health', 'Dating app', 'Media',\n",
       "       'Fintech', 'Healthcare/Edtech', 'Social Commerce',\n",
       "       'Agritech/Commerce', 'Mobility tech', 'Social e-commerce',\n",
       "       'Food & Logistics', 'SpaceTech', 'Nutrition Tech', 'HR', 'IoT',\n",
       "       nan, 'Agritech', 'Interior design', 'Foodtech', 'AR/VR',\n",
       "       'Appliance', 'HR tech', 'Food tech', 'Mental Health', 'Ecommerce',\n",
       "       'Solar Solution', 'SaaS', 'Automobile', 'B2B marketplace',\n",
       "       'Fashion Tech', 'Nutrition tech', 'Health & Wellness',\n",
       "       'Cloud Kitchen', 'IoT/Automobile', 'Eye Wear', 'Digital tech',\n",
       "       'Data Intelligence', 'Co-living', 'Food & Beverages', 'Automotive',\n",
       "       'B2B', 'Defense tech', 'Marketplace', 'Construction tech',\n",
       "       'Nutrition', 'Coworking', 'Micro-mobiity', 'Auto-tech', 'Beauty',\n",
       "       'Robotics', 'Yoga & wellness', 'Logitech', 'Med Tech',\n",
       "       'Life sciences', 'Retail Aggregator', 'Deep Tech AI', 'Biotech',\n",
       "       'Blockchain', 'HrTech', 'Mobility/Transport', 'Travel', 'Rental',\n",
       "       'AI & Debt', 'SaaS/Edtech', 'Transport', 'Co-working', 'Insurtech',\n",
       "       'Cryptocurrency', 'Automotive tech', 'Legal', 'Fitness', 'EV',\n",
       "       'Supply chain, Agritech', 'Pharma', 'Insurance technology',\n",
       "       'Foodtech & Logistics', 'Housing', 'Pharmaceutical',\n",
       "       'Data Analytics', 'Investment Tech', 'Financial Services',\n",
       "       'Biopharma', 'Dairy', 'Beauty & wellness', 'Travel & SaaS',\n",
       "       'Tourism & EV', 'Media Tech', 'Location Analytics', 'E store',\n",
       "       'Data Science', 'Insurance', 'Health and Fitness', 'Technology',\n",
       "       'Interior & decor', 'eMobility', 'Automation tech',\n",
       "       'Media & Networking', 'E-market', 'AI & Data science',\n",
       "       'Travel tech', 'Automotive and Rentals', 'E-tail', 'Accomodation',\n",
       "       'AI & Media', 'Machine Learning', 'Content Marktplace',\n",
       "       'Visual Media', 'Hygiene', 'VR & SaaS', 'Sales & Services',\n",
       "       'AI & Deep learning', 'Housing & Rentals', 'Estore', 'Marketing',\n",
       "       'E tailor', 'E-mobility', 'Ad-tech', 'Neo-banking',\n",
       "       'Transport Automation', 'Techonology', 'Transport & Rentals',\n",
       "       'AI Robotics', 'Preschool Daycare', 'Food diet', 'B2B Agritech',\n",
       "       'E-connect', 'Tech hub', 'Consultancy', 'Pharmacy', 'Deisgning',\n",
       "       'Taxation', 'Automobile Technology'], dtype=object)"
      ]
     },
     "execution_count": 71,
     "metadata": {},
     "output_type": "execute_result"
    }
   ],
   "source": [
    "data_df_2020['Sector'].unique()"
   ]
  },
  {
   "cell_type": "code",
   "execution_count": 72,
   "metadata": {},
   "outputs": [
    {
     "data": {
      "text/html": [
       "<div>\n",
       "<style scoped>\n",
       "    .dataframe tbody tr th:only-of-type {\n",
       "        vertical-align: middle;\n",
       "    }\n",
       "\n",
       "    .dataframe tbody tr th {\n",
       "        vertical-align: top;\n",
       "    }\n",
       "\n",
       "    .dataframe thead th {\n",
       "        text-align: right;\n",
       "    }\n",
       "</style>\n",
       "<table border=\"1\" class=\"dataframe\">\n",
       "  <thead>\n",
       "    <tr style=\"text-align: right;\">\n",
       "      <th></th>\n",
       "      <th>Company/Brand</th>\n",
       "      <th>HeadQuarter</th>\n",
       "      <th>Sector</th>\n",
       "      <th>What it does</th>\n",
       "      <th>Amount($)</th>\n",
       "      <th>Stage</th>\n",
       "      <th>Year</th>\n",
       "    </tr>\n",
       "  </thead>\n",
       "  <tbody>\n",
       "    <tr>\n",
       "      <th>705</th>\n",
       "      <td>Intello Labs</td>\n",
       "      <td>Gurugram</td>\n",
       "      <td>Supply chain, Agritech</td>\n",
       "      <td>Standardisation and Quality control of fruits &amp; vegetables</td>\n",
       "      <td>5900000.0</td>\n",
       "      <td>Series A</td>\n",
       "      <td>2020</td>\n",
       "    </tr>\n",
       "  </tbody>\n",
       "</table>\n",
       "</div>"
      ],
      "text/plain": [
       "    Company/Brand HeadQuarter                  Sector  \\\n",
       "705  Intello Labs    Gurugram  Supply chain, Agritech   \n",
       "\n",
       "                                                   What it does  Amount($)  \\\n",
       "705  Standardisation and Quality control of fruits & vegetables  5900000.0   \n",
       "\n",
       "        Stage  Year  \n",
       "705  Series A  2020  "
      ]
     },
     "execution_count": 72,
     "metadata": {},
     "output_type": "execute_result"
    }
   ],
   "source": [
    "data_df_2020[data_df_2020['Sector'] == 'Supply chain, Agritech']"
   ]
  },
  {
   "cell_type": "code",
   "execution_count": 73,
   "metadata": {},
   "outputs": [],
   "source": [
    "# Fix some structural errors (manual observation)\n",
    "\n",
    "data_df_2020['Sector'].replace('AI startup','AI',inplace =True, regex=True)\n",
    "data_df_2020['Sector'].replace('AI Startup','AI',inplace =True, regex=True)\n",
    "data_df_2020['Sector'].replace('AI Company','AI',inplace =True, regex=True)\n",
    "data_df_2020['Sector'].replace('AR/VR startup','AR/VR',inplace =True, regex=True)\n",
    "data_df_2020['Sector'].replace('Agri tech','AgriTech',inplace =True, regex=True)\n",
    "data_df_2020['Sector'].replace('Agritech','AgriTech',inplace =True, regex=True)\n",
    "data_df_2020['Sector'].replace('Agritech startup','AgriTech',inplace =True, regex=True)\n",
    "data_df_2020['Sector'].replace('Agritech/Commerce','AgriTech',inplace =True, regex=True)\n",
    "data_df_2020['Sector'].replace('Automobiles','Automobile',inplace =True, regex=True)\n",
    "data_df_2020['Sector'].replace('Automotive Startup','Automotive company',inplace =True, regex=True)\n",
    "data_df_2020['Sector'].replace('Beverages','Beverage',inplace =True, regex=True)\n",
    "data_df_2020['Sector'].replace('Biotechnology company','Biotech',inplace =True, regex=True)\n",
    "data_df_2020['Sector'].replace('Blockchain startup','Blockchain',inplace =True, regex=True)\n",
    "data_df_2020['Sector'].replace('Co-working Startup','Co-working',inplace =True, regex=True)\n",
    "data_df_2020['Sector'].replace('Coworking','Co-working',inplace =True, regex=True)\n",
    "data_df_2020['Sector'].replace('Content marketplace','Content Marktplace',inplace =True, regex=True)\n",
    "data_df_2020['Sector'].replace('Deep Tech','Deeptech',inplace =True, regex=True)\n",
    "data_df_2020['Sector'].replace('EV','EV startup',inplace =True, regex=True)\n",
    "data_df_2020['Sector'].replace('Ecommerce','E-commerce',inplace =True, regex=True)\n",
    "data_df_2020['Sector'].replace('EdTech Startup','EdTech',inplace =True, regex=True)\n",
    "data_df_2020['Sector'].replace('EdtTech','EdTech',inplace =True, regex=True)\n",
    "data_df_2020['Sector'].replace('Edtech','EdTech',inplace =True, regex=True)\n",
    "data_df_2020['Sector'].replace('Fintech','FinTech',inplace =True, regex=True)\n",
    "data_df_2020['Sector'].replace('Food devlivery','Food delivery',inplace =True, regex=True)\n",
    "data_df_2020['Sector'].replace('Food diet','FoodTech',inplace =True, regex=True)\n",
    "data_df_2020['Sector'].replace('Food tech','FoodTech',inplace =True, regex=True)\n",
    "data_df_2020['Sector'].replace('Foodtech','FoodTech',inplace =True, regex=True)\n",
    "data_df_2020['Sector'].replace('HR tech','HR Tech',inplace =True, regex=True)\n",
    "data_df_2020['Sector'].replace('HR Tech startup','HR Tech',inplace =True, regex=True)\n",
    "data_df_2020['Sector'].replace('Healthtech','HealthTech',inplace =True, regex=True)\n",
    "data_df_2020['Sector'].replace('HeathTech','HealthTech',inplace =True, regex=True)\n",
    "data_df_2020['Sector'].replace('Insurtech','InsureTech',inplace =True, regex=True)\n",
    "data_df_2020['Sector'].replace('Insurance technology','InsureTech',inplace =True, regex=True)\n",
    "data_df_2020['Sector'].replace('IoT startup','IoT',inplace =True, regex=True)\n",
    "data_df_2020['Sector'].replace('Nutrition tech','Nutrition Tech',inplace =True, regex=True)\n",
    "data_df_2020['Sector'].replace('Reatil startup','Retail startup',inplace =True, regex=True)\n",
    "data_df_2020['Sector'].replace('SaaS startup','SaaS',inplace =True, regex=True)\n",
    "data_df_2020['Sector'].replace('SaaS  startup','SaaS',inplace =True, regex=True)\n",
    "data_df_2020['Sector'].replace('Sles and marketing','Sales and marketing',inplace =True, regex=True)\n",
    "data_df_2020['Sector'].replace('Social media','Social Media',inplace =True, regex=True)\n",
    "data_df_2020['Sector'].replace('Software company','Software Company',inplace =True, regex=True)\n",
    "data_df_2020['Sector'].replace('Solar solution','Solar Solution',inplace =True, regex=True)\n",
    "data_df_2020['Sector'].replace('Spacetech','SpaceTech',inplace =True, regex=True)\n",
    "data_df_2020['Sector'].replace('Supply chain, Agritech','Supply chain',inplace =True, regex=True)\n",
    "data_df_2020['Sector'].replace('Tech company','Tech Startup',inplace =True, regex=True)\n",
    "data_df_2020['Sector'].replace('Travel tech','TravelTech',inplace =True, regex=True)"
   ]
  },
  {
   "cell_type": "code",
   "execution_count": 74,
   "metadata": {},
   "outputs": [
    {
     "data": {
      "text/plain": [
       "array(['200000.0', '100000.0', 'nan', '400000.0', '340000.0', '600000.0',\n",
       "       '45000000.0', '1000000.0', '2000000.0', '1200000.0', '660000000.0',\n",
       "       '120000.0', '7500000.0', '5000000.0', '500000.0', '3000000.0',\n",
       "       '10000000.0', '145000000.0', '100000000.0', '21000000.0',\n",
       "       '4000000.0', '20000000.0', '560000.0', '275000.0', '4500000.0',\n",
       "       '15000000.0', '390000000.0', '7000000.0', '5100000.0',\n",
       "       '700000000.0', '2300000.0', '700000.0', '19000000.0', '9000000.0',\n",
       "       '40000000.0', '750000.0', '1500000.0', '7800000.0', '50000000.0',\n",
       "       '80000000.0', '30000000.0', '1700000.0', '2500000.0', '40000.0',\n",
       "       '33000000.0', '35000000.0', '300000.0', '25000000.0', '3500000.0',\n",
       "       '200000000.0', '6000000.0', '1300000.0', '4100000.0', '575000.0',\n",
       "       '800000.0', '28000000.0', '18000000.0', '3200000.0', '900000.0',\n",
       "       '250000.0', '4700000.0', '75000000.0', '8000000.0', '121000000.0',\n",
       "       '55000000.0', '3300000.0', '11000000.0', '16000000.0', '5400000.0',\n",
       "       '150000000.0', '4200000.0', '22000000.0', '52000000.0',\n",
       "       '1100000.0', '118000000.0', '1600000.0', '18500000.0',\n",
       "       '70000000000.0', '800000000.0', '400000000.0', '150000.0',\n",
       "       '176000000.0', '60000000.0', '470000.0', '240000.0',\n",
       "       '3000000000.0', '74000000.0', '62000000.0', '2100000.0',\n",
       "       '500000000.0', '12500000.0', '2200000000.0', '5060000.0',\n",
       "       '225000000.0', '24700000.0', '7700000.0', '19067328.0',\n",
       "       '51000000.0', '115000.0', '54000.0', '20000.0', '803146.0',\n",
       "       '238000.0', '10220000.0', '1020000.0', '12000000.0', '13400000.0',\n",
       "       '170000000.0', '2900000.0', '543000.0', '90000000.0', '3400000.0',\n",
       "       '23000000.0', '8090000.0', '1030000.0', '5040000.0', '360000.0',\n",
       "       '1400000.0', '650000.0', '54000000.0', '42500000.0', '11370000.0',\n",
       "       '325000.0', '410000.0', '450000.0', '682000.0', '4050000.0',\n",
       "       '1050000.0', '1080000.0', '4300000.0', '6800000.0', '2110000.0',\n",
       "       '764000.0', '603000.0', '409000.0', '292000.0', '286000.0',\n",
       "       '136000.0', '546000.0', '887000.0', '43000.0', '40900.0',\n",
       "       '2200000.0', '5660000.0', '350000.0', '110000.0', '122000000.0',\n",
       "       '11635000.0', '2800000.0', '1065000.0', '669000.0', '16076000.0',\n",
       "       '649600.0', '6700000.0', '220000.0', '266500.0', '2879000.0',\n",
       "       '26500000.0', '351000.0', '46761000.0', '175000.0', '11241000.0',\n",
       "       '804000.0', '1340000.0', '467000.0', '133000.0', '3823000.0',\n",
       "       '934000.0', '293000.0', '198000.0', '927000.0', '971000.0',\n",
       "       '3060000.0', '1862000.0', '232000.0', '2888000.0', '1328000.0',\n",
       "       '15500000.0', '56000000.0', '2250000.0', '16753000.0', '3700000.0',\n",
       "       '1470000.0', '530000.0', '267000.0', '3344000.0', '7200000.0',\n",
       "       '2743000.0', '6082000.0', '6609000.0', '27700000.0', '5940000.0',\n",
       "       '3964000.0', '5500000.0', '197000.0', '4327000.0', '459000.0',\n",
       "       '3937000.0', '1313500.0', '229800.0', '5305000.0', '264000.0',\n",
       "       '1750000.0', '5967000.0', '2980000.0', '323000.0', '1326000.0',\n",
       "       '27000000.0', '5200000.0', '2530000.0', '792000.0', '11363000.0',\n",
       "       '1715000.0', '329000.0', '5271000.0', '8700000.0', '3226000.0',\n",
       "       '5900000.0', '44000000.0', '3879000.0', '13000000.0', '8800000.0',\n",
       "       '9500000.0', '920000.0', '35600000.0', '9400000.0', '790000.0',\n",
       "       '480000.0', '160000.0', '8200000.0', '4257000.0', '1410000.0',\n",
       "       '349800.0', '786000.0', '2004000.0', '123000000.0', '248000.0',\n",
       "       '24000000.0', '14259000.0', '24500000.0', '3800000.0',\n",
       "       '18370000.0', '68525000.0', '4800000.0', '1834000.0', '23850000.0',\n",
       "       '43000000.0', '21600000.0', '4598000.0', '13137000.0',\n",
       "       '115000000.0', '3900000.0', '670000.0', '8500000.0', '3148000.0',\n",
       "       '2600000.0', '4049500.0', '10500000.0', '6500000.0', '43700000.0',\n",
       "       '13800000.0', '306900.0', '420000.0', '627300.0', '113000000.0',\n",
       "       '32000000.0', '110000000.0', '1397000.0', '448500.0', '7975700.0',\n",
       "       '330000.0', '5600000.0', '1402000.0', '21500000.0', '296000000.0',\n",
       "       '4900000.0', '1402400.0', '12618300.0', '9900000.0', '982530.0',\n",
       "       '70185200.0', '210000000.0', '84000000.0', '39000000.0',\n",
       "       '2700000.0', '1403400.0', '105000000.0', '103000000.0', '281300.0',\n",
       "       '12700.0', '25000.0', '97500000.0', '507000.0', '8400000.0',\n",
       "       '18300000.0', '125000000.0', '181000.0', '280000.0', '14700000.0',\n",
       "       '13200000.0', '8043000.0'], dtype=object)"
      ]
     },
     "execution_count": 74,
     "metadata": {},
     "output_type": "execute_result"
    }
   ],
   "source": [
    "# values in amount column\n",
    "\n",
    "data_df_2020['Amount($)'] = data_df_2020['Amount($)'].astype(str)\n",
    "data_df_2020['Amount($)'].unique()"
   ]
  },
  {
   "cell_type": "code",
   "execution_count": 75,
   "metadata": {},
   "outputs": [],
   "source": [
    "data_df_2020[\"Amount($)\"].replace(\"nan\", np.nan, inplace = True, regex=True)"
   ]
  },
  {
   "cell_type": "code",
   "execution_count": 76,
   "metadata": {},
   "outputs": [
    {
     "data": {
      "text/plain": [
       "array([nan, 'Pre-seed', 'Seed', 'Pre-series A', 'Pre-series', 'Series C',\n",
       "       'Series A', 'Series B', 'Debt', 'Pre-series C', 'Pre-series B',\n",
       "       'Series E', 'Bridge', 'Series D', 'Series B2', 'Series F',\n",
       "       'Pre- series A', 'Edge', 'Series H', 'Pre-Series B', 'Seed A',\n",
       "       'Series A-1', 'Seed Funding', 'Pre-Seed', 'Seed round',\n",
       "       'Pre-seed Round', 'Seed Round & Series A', 'Pre Series A',\n",
       "       'Pre seed Round', 'Angel Round', 'Pre series A1', 'Series E2',\n",
       "       'Pre series A', 'Seed Round', 'Bridge Round', 'Pre seed round',\n",
       "       'Pre series B', 'Pre series C', 'Seed Investment', 'Series D1',\n",
       "       'Mid series', 'Series C, D', 'Seed funding'], dtype=object)"
      ]
     },
     "execution_count": 76,
     "metadata": {},
     "output_type": "execute_result"
    }
   ],
   "source": [
    "data_df_2020['Stage'].unique()"
   ]
  },
  {
   "cell_type": "code",
   "execution_count": 77,
   "metadata": {},
   "outputs": [],
   "source": [
    "# Fix some structural errors \n",
    "\n",
    "data_df_2020['Stage'].replace('Bridge Round','Bridge',inplace =True, regex=True)\n",
    "data_df_2020['Stage'].replace('Pre seed round','Pre seed Round',inplace =True, regex=True)\n",
    "data_df_2020['Stage'].replace('Pre series A','Pre Series A',inplace =True, regex=True)\n",
    "data_df_2020['Stage'].replace('Pre- series A','Pre Series A',inplace =True, regex=True)\n",
    "data_df_2020['Stage'].replace('Pre-seed','Pre-Seed',inplace =True, regex=True)\n",
    "data_df_2020['Stage'].replace('Pre-series A','Pre Series A',inplace =True, regex=True)\n",
    "data_df_2020['Stage'].replace('Pre series B','Pre Series B',inplace =True, regex=True)\n",
    "data_df_2020['Stage'].replace('Pre-Series B','Pre Series B',inplace =True, regex=True)\n",
    "data_df_2020['Stage'].replace('Pre-series B','Pre Series B',inplace =True, regex=True)\n",
    "data_df_2020['Stage'].replace('Pre series C','Pre Series C',inplace =True, regex=True)\n",
    "data_df_2020['Stage'].replace('Pre-series C','Pre Series C',inplace =True, regex=True)\n",
    "data_df_2020['Stage'].replace('Seed A','Seed',inplace =True, regex=True)\n",
    "data_df_2020['Stage'].replace('Seed Funding','Seed',inplace =True, regex=True)\n",
    "data_df_2020['Stage'].replace('Seed Round','Seed',inplace =True, regex=True)\n",
    "data_df_2020['Stage'].replace('Seed round','Seed',inplace =True, regex=True)\n",
    "data_df_2020['Stage'].replace('Seed funding','Seed',inplace =True, regex=True)\n",
    "data_df_2020['Stage'].replace('Seed Investment','Seed',inplace =True, regex=True)"
   ]
  },
  {
   "cell_type": "code",
   "execution_count": 78,
   "metadata": {},
   "outputs": [
    {
     "data": {
      "text/plain": [
       "array([nan, 'Pre-Seed', 'Seed', 'Pre Series A', 'Pre-series', 'Series C',\n",
       "       'Series A', 'Series B', 'Debt', 'Pre Series C', 'Pre Series B',\n",
       "       'Series E', 'Bridge', 'Series D', 'Series B2', 'Series F', 'Edge',\n",
       "       'Series H', 'Series A-1', 'Seed & Series A', 'Pre seed Round',\n",
       "       'Angel Round', 'Pre Series A1', 'Series E2', 'Series D1',\n",
       "       'Mid series', 'Series C, D'], dtype=object)"
      ]
     },
     "execution_count": 78,
     "metadata": {},
     "output_type": "execute_result"
    }
   ],
   "source": [
    "data_df_2020['Stage'].unique()"
   ]
  },
  {
   "cell_type": "code",
   "execution_count": 79,
   "metadata": {},
   "outputs": [
    {
     "name": "stdout",
     "output_type": "stream",
     "text": [
      "<class 'pandas.core.frame.DataFrame'>\n",
      "Int64Index: 1052 entries, 0 to 1054\n",
      "Data columns (total 7 columns):\n",
      " #   Column         Non-Null Count  Dtype \n",
      "---  ------         --------------  ----- \n",
      " 0   Company/Brand  1052 non-null   object\n",
      " 1   HeadQuarter    958 non-null    object\n",
      " 2   Sector         1039 non-null   object\n",
      " 3   What it does   1052 non-null   object\n",
      " 4   Amount($)      799 non-null    object\n",
      " 5   Stage          590 non-null    object\n",
      " 6   Year           1052 non-null   int64 \n",
      "dtypes: int64(1), object(6)\n",
      "memory usage: 65.8+ KB\n"
     ]
    }
   ],
   "source": [
    "data_df_2020.info()"
   ]
  },
  {
   "cell_type": "markdown",
   "metadata": {},
   "source": [
    "### 2021 Data Cleaning"
   ]
  },
  {
   "cell_type": "code",
   "execution_count": 80,
   "metadata": {},
   "outputs": [
    {
     "data": {
      "text/html": [
       "<div>\n",
       "<style scoped>\n",
       "    .dataframe tbody tr th:only-of-type {\n",
       "        vertical-align: middle;\n",
       "    }\n",
       "\n",
       "    .dataframe tbody tr th {\n",
       "        vertical-align: top;\n",
       "    }\n",
       "\n",
       "    .dataframe thead th {\n",
       "        text-align: right;\n",
       "    }\n",
       "</style>\n",
       "<table border=\"1\" class=\"dataframe\">\n",
       "  <thead>\n",
       "    <tr style=\"text-align: right;\">\n",
       "      <th></th>\n",
       "      <th>Company_Brand</th>\n",
       "      <th>Founded</th>\n",
       "      <th>HeadQuarter</th>\n",
       "      <th>Sector</th>\n",
       "      <th>What_it_does</th>\n",
       "      <th>Founders</th>\n",
       "      <th>Investor</th>\n",
       "      <th>Amount</th>\n",
       "      <th>Stage</th>\n",
       "    </tr>\n",
       "  </thead>\n",
       "  <tbody>\n",
       "    <tr>\n",
       "      <th>1204</th>\n",
       "      <td>Gigforce</td>\n",
       "      <td>2019.0</td>\n",
       "      <td>Gurugram</td>\n",
       "      <td>Staffing &amp; Recruiting</td>\n",
       "      <td>A gig/on-demand staffing company.</td>\n",
       "      <td>Chirag Mittal, Anirudh Syal</td>\n",
       "      <td>Endiya Partners</td>\n",
       "      <td>$3000000</td>\n",
       "      <td>Pre-series A</td>\n",
       "    </tr>\n",
       "    <tr>\n",
       "      <th>1205</th>\n",
       "      <td>Vahdam</td>\n",
       "      <td>2015.0</td>\n",
       "      <td>New Delhi</td>\n",
       "      <td>Food &amp; Beverages</td>\n",
       "      <td>VAHDAM is among the world’s first vertically integrated online-first tea brands.</td>\n",
       "      <td>Bala Sarda</td>\n",
       "      <td>IIFL AMC</td>\n",
       "      <td>$20000000</td>\n",
       "      <td>Series D</td>\n",
       "    </tr>\n",
       "    <tr>\n",
       "      <th>1206</th>\n",
       "      <td>Leap Finance</td>\n",
       "      <td>2019.0</td>\n",
       "      <td>Bangalore</td>\n",
       "      <td>Financial Services</td>\n",
       "      <td>International education loans for high potential students.</td>\n",
       "      <td>Arnav Kumar, Vaibhav Singh</td>\n",
       "      <td>Owl Ventures</td>\n",
       "      <td>$55000000</td>\n",
       "      <td>Series C</td>\n",
       "    </tr>\n",
       "    <tr>\n",
       "      <th>1207</th>\n",
       "      <td>CollegeDekho</td>\n",
       "      <td>2015.0</td>\n",
       "      <td>Gurugram</td>\n",
       "      <td>EdTech</td>\n",
       "      <td>Collegedekho.com is Student’s Partner, Friend &amp; Confidante, To Help Him Take a Decision and Move On to His Career Goals.</td>\n",
       "      <td>Ruchir Arora</td>\n",
       "      <td>Winter Capital, ETS, Man Capital</td>\n",
       "      <td>$26000000</td>\n",
       "      <td>Series B</td>\n",
       "    </tr>\n",
       "    <tr>\n",
       "      <th>1208</th>\n",
       "      <td>WeRize</td>\n",
       "      <td>2019.0</td>\n",
       "      <td>Bangalore</td>\n",
       "      <td>Financial Services</td>\n",
       "      <td>India’s first socially distributed full stack financial services platform for small town India</td>\n",
       "      <td>Vishal Chopra, Himanshu Gupta</td>\n",
       "      <td>3one4 Capital, Kalaari Capital</td>\n",
       "      <td>$8000000</td>\n",
       "      <td>Series A</td>\n",
       "    </tr>\n",
       "  </tbody>\n",
       "</table>\n",
       "</div>"
      ],
      "text/plain": [
       "     Company_Brand  Founded HeadQuarter                 Sector  \\\n",
       "1204      Gigforce   2019.0    Gurugram  Staffing & Recruiting   \n",
       "1205        Vahdam   2015.0   New Delhi       Food & Beverages   \n",
       "1206  Leap Finance   2019.0   Bangalore     Financial Services   \n",
       "1207  CollegeDekho   2015.0    Gurugram                 EdTech   \n",
       "1208        WeRize   2019.0   Bangalore     Financial Services   \n",
       "\n",
       "                                                                                                                  What_it_does  \\\n",
       "1204                                                                                         A gig/on-demand staffing company.   \n",
       "1205                                          VAHDAM is among the world’s first vertically integrated online-first tea brands.   \n",
       "1206                                                                International education loans for high potential students.   \n",
       "1207  Collegedekho.com is Student’s Partner, Friend & Confidante, To Help Him Take a Decision and Move On to His Career Goals.   \n",
       "1208                            India’s first socially distributed full stack financial services platform for small town India   \n",
       "\n",
       "                           Founders                          Investor  \\\n",
       "1204    Chirag Mittal, Anirudh Syal                   Endiya Partners   \n",
       "1205                     Bala Sarda                          IIFL AMC   \n",
       "1206     Arnav Kumar, Vaibhav Singh                      Owl Ventures   \n",
       "1207                   Ruchir Arora  Winter Capital, ETS, Man Capital   \n",
       "1208  Vishal Chopra, Himanshu Gupta    3one4 Capital, Kalaari Capital   \n",
       "\n",
       "         Amount         Stage  \n",
       "1204   $3000000  Pre-series A  \n",
       "1205  $20000000      Series D  \n",
       "1206  $55000000      Series C  \n",
       "1207  $26000000      Series B  \n",
       "1208   $8000000      Series A  "
      ]
     },
     "execution_count": 80,
     "metadata": {},
     "output_type": "execute_result"
    }
   ],
   "source": [
    "data_df_2021 = pd.read_csv('LP1_startup_funding2021.csv')\n",
    "data_df_2021.tail()"
   ]
  },
  {
   "cell_type": "code",
   "execution_count": 81,
   "metadata": {},
   "outputs": [
    {
     "name": "stdout",
     "output_type": "stream",
     "text": [
      "<class 'pandas.core.frame.DataFrame'>\n",
      "RangeIndex: 1209 entries, 0 to 1208\n",
      "Data columns (total 9 columns):\n",
      " #   Column         Non-Null Count  Dtype  \n",
      "---  ------         --------------  -----  \n",
      " 0   Company_Brand  1209 non-null   object \n",
      " 1   Founded        1208 non-null   float64\n",
      " 2   HeadQuarter    1208 non-null   object \n",
      " 3   Sector         1209 non-null   object \n",
      " 4   What_it_does   1209 non-null   object \n",
      " 5   Founders       1205 non-null   object \n",
      " 6   Investor       1147 non-null   object \n",
      " 7   Amount         1206 non-null   object \n",
      " 8   Stage          781 non-null    object \n",
      "dtypes: float64(1), object(8)\n",
      "memory usage: 85.1+ KB\n"
     ]
    }
   ],
   "source": [
    "data_df_2021.info()"
   ]
  },
  {
   "cell_type": "code",
   "execution_count": 82,
   "metadata": {},
   "outputs": [
    {
     "data": {
      "text/plain": [
       "19"
      ]
     },
     "execution_count": 82,
     "metadata": {},
     "output_type": "execute_result"
    }
   ],
   "source": [
    "data_df_2021.duplicated().sum()"
   ]
  },
  {
   "cell_type": "code",
   "execution_count": 83,
   "metadata": {},
   "outputs": [
    {
     "data": {
      "text/html": [
       "<div>\n",
       "<style scoped>\n",
       "    .dataframe tbody tr th:only-of-type {\n",
       "        vertical-align: middle;\n",
       "    }\n",
       "\n",
       "    .dataframe tbody tr th {\n",
       "        vertical-align: top;\n",
       "    }\n",
       "\n",
       "    .dataframe thead th {\n",
       "        text-align: right;\n",
       "    }\n",
       "</style>\n",
       "<table border=\"1\" class=\"dataframe\">\n",
       "  <thead>\n",
       "    <tr style=\"text-align: right;\">\n",
       "      <th></th>\n",
       "      <th>Company_Brand</th>\n",
       "      <th>Founded</th>\n",
       "      <th>HeadQuarter</th>\n",
       "      <th>Sector</th>\n",
       "      <th>What_it_does</th>\n",
       "      <th>Founders</th>\n",
       "      <th>Investor</th>\n",
       "      <th>Amount</th>\n",
       "      <th>Stage</th>\n",
       "    </tr>\n",
       "  </thead>\n",
       "  <tbody>\n",
       "    <tr>\n",
       "      <th>107</th>\n",
       "      <td>Curefoods</td>\n",
       "      <td>2020.0</td>\n",
       "      <td>Bangalore</td>\n",
       "      <td>Food &amp; Beverages</td>\n",
       "      <td>Healthy &amp; nutritious foods and cold pressed juices produced in Edinburgh. Currently distributing wholesale within the Edinburgh region.</td>\n",
       "      <td>Ankit Nagori</td>\n",
       "      <td>Iron Pillar, Nordstar, Binny Bansal</td>\n",
       "      <td>$13000000</td>\n",
       "      <td>NaN</td>\n",
       "    </tr>\n",
       "    <tr>\n",
       "      <th>109</th>\n",
       "      <td>Bewakoof</td>\n",
       "      <td>2012.0</td>\n",
       "      <td>Mumbai</td>\n",
       "      <td>Apparel &amp; Fashion</td>\n",
       "      <td>Bewakoof is a lifestyle fashion brand that makes creative, distinctive fashion for the trendy, contemporary Indian.</td>\n",
       "      <td>Prabhkiran Singh</td>\n",
       "      <td>InvestCorp</td>\n",
       "      <td>$8000000</td>\n",
       "      <td>NaN</td>\n",
       "    </tr>\n",
       "    <tr>\n",
       "      <th>111</th>\n",
       "      <td>FanPlay</td>\n",
       "      <td>2020.0</td>\n",
       "      <td>Computer Games</td>\n",
       "      <td>Computer Games</td>\n",
       "      <td>A real money game app specializing in trivia games</td>\n",
       "      <td>YC W21</td>\n",
       "      <td>Pritesh Kumar, Bharat Gupta</td>\n",
       "      <td>Upsparks</td>\n",
       "      <td>$1200000</td>\n",
       "    </tr>\n",
       "    <tr>\n",
       "      <th>117</th>\n",
       "      <td>Advantage Club</td>\n",
       "      <td>2014.0</td>\n",
       "      <td>Mumbai</td>\n",
       "      <td>HRTech</td>\n",
       "      <td>Advantage Club is India's largest employee engagement platform, Provide end to end employee benefit management with state of the art products like:</td>\n",
       "      <td>Sourabh Deorah, Smiti Bhatt Deorah</td>\n",
       "      <td>Y Combinator, Broom Ventures, Kunal Shah</td>\n",
       "      <td>$1700000</td>\n",
       "      <td>NaN</td>\n",
       "    </tr>\n",
       "    <tr>\n",
       "      <th>119</th>\n",
       "      <td>Ruptok</td>\n",
       "      <td>2020.0</td>\n",
       "      <td>New Delhi</td>\n",
       "      <td>FinTech</td>\n",
       "      <td>Ruptok fintech Pvt. Ltd. is an online gold loan service provider , with attractive interests rate .</td>\n",
       "      <td>Ankur Gupta</td>\n",
       "      <td>Eclear Leasing</td>\n",
       "      <td>$1000000</td>\n",
       "      <td>NaN</td>\n",
       "    </tr>\n",
       "    <tr>\n",
       "      <th>243</th>\n",
       "      <td>Trinkerr</td>\n",
       "      <td>2021.0</td>\n",
       "      <td>Bangalore</td>\n",
       "      <td>Capital Markets</td>\n",
       "      <td>Trinkerr is India's first social trading platform.</td>\n",
       "      <td>Manvendra Singh, Gaurav Agarwal</td>\n",
       "      <td>Accel India</td>\n",
       "      <td>$6600000</td>\n",
       "      <td>Series A</td>\n",
       "    </tr>\n",
       "    <tr>\n",
       "      <th>244</th>\n",
       "      <td>Zorro</td>\n",
       "      <td>2021.0</td>\n",
       "      <td>Gurugram</td>\n",
       "      <td>Social network</td>\n",
       "      <td>Pseudonymous social network platform</td>\n",
       "      <td>Jasveer Singh, Abhishek Asthana, Deepak Kumar</td>\n",
       "      <td>Vijay Shekhar Sharma, Ritesh Agarwal, Ankiti Bose</td>\n",
       "      <td>$32000000</td>\n",
       "      <td>Seed</td>\n",
       "    </tr>\n",
       "    <tr>\n",
       "      <th>245</th>\n",
       "      <td>Ultraviolette</td>\n",
       "      <td>2021.0</td>\n",
       "      <td>Bangalore</td>\n",
       "      <td>Automotive</td>\n",
       "      <td>Create and Inspire the future of sustainable urban transportation through Accelerated Innovation.</td>\n",
       "      <td>Subramaniam Narayan, Niraj Rajmohan</td>\n",
       "      <td>TVS Motor, Zoho</td>\n",
       "      <td>$150000000</td>\n",
       "      <td>Series C</td>\n",
       "    </tr>\n",
       "    <tr>\n",
       "      <th>246</th>\n",
       "      <td>NephroPlus</td>\n",
       "      <td>2009.0</td>\n",
       "      <td>Hyderabad</td>\n",
       "      <td>Hospital &amp; Health Care</td>\n",
       "      <td>A vision and passion of redefining healthcare delivery in India in 2010, NephroPlus today is India’s largest network of dialysis centres.</td>\n",
       "      <td>Vikram Vuppala</td>\n",
       "      <td>IIFL Asset Management</td>\n",
       "      <td>$24000000</td>\n",
       "      <td>Series E</td>\n",
       "    </tr>\n",
       "    <tr>\n",
       "      <th>247</th>\n",
       "      <td>Unremot</td>\n",
       "      <td>2020.0</td>\n",
       "      <td>Bangalore</td>\n",
       "      <td>Information Technology &amp; Services</td>\n",
       "      <td>Unremot is a personal office for consultants!</td>\n",
       "      <td>Shiju Radhakrishnan</td>\n",
       "      <td>Inflection Point Ventures</td>\n",
       "      <td>$700000</td>\n",
       "      <td>Seed</td>\n",
       "    </tr>\n",
       "    <tr>\n",
       "      <th>248</th>\n",
       "      <td>FanAnywhere</td>\n",
       "      <td>2021.0</td>\n",
       "      <td>Bangalore</td>\n",
       "      <td>Financial Services</td>\n",
       "      <td>Celebrity NFT platform</td>\n",
       "      <td>Varun Chaudhary, Amit Kumar</td>\n",
       "      <td>Oasis Capital, Scorpio VC, DeltaHub Capital</td>\n",
       "      <td>$Undisclosed</td>\n",
       "      <td>Seed</td>\n",
       "    </tr>\n",
       "    <tr>\n",
       "      <th>249</th>\n",
       "      <td>PingoLearn</td>\n",
       "      <td>2021.0</td>\n",
       "      <td>Pune</td>\n",
       "      <td>E-learning</td>\n",
       "      <td>PingoLearn offers language learning courses with snackable videos.</td>\n",
       "      <td>Mohit Menghani, Shubham Maheshwari</td>\n",
       "      <td>Titan Capital, Haresh Chawla, AngelList Syndicate</td>\n",
       "      <td>$200000</td>\n",
       "      <td>NaN</td>\n",
       "    </tr>\n",
       "    <tr>\n",
       "      <th>250</th>\n",
       "      <td>Spry</td>\n",
       "      <td>2021.0</td>\n",
       "      <td>Mumbai</td>\n",
       "      <td>Music</td>\n",
       "      <td>THE BEST ROYALTY-FREE MUSIC TO CREATE TRENDING VIDEOS</td>\n",
       "      <td>Gaurav Dagaonkar, Meghna Mittal</td>\n",
       "      <td>9Unicorns, Ashneer Grover</td>\n",
       "      <td>$1500000</td>\n",
       "      <td>Seed</td>\n",
       "    </tr>\n",
       "    <tr>\n",
       "      <th>251</th>\n",
       "      <td>Enmovil</td>\n",
       "      <td>2015.0</td>\n",
       "      <td>Hyderabad</td>\n",
       "      <td>Information Technology &amp; Services</td>\n",
       "      <td>Enmovil delivers a Business Intelligence Platform driven by a connected asset ecosystem that enables organizations to maximise their operational efficiency.</td>\n",
       "      <td>Ravi Bulusu, Nanda Kishore, Venkat Moganty</td>\n",
       "      <td>Anicut Angel Fund</td>\n",
       "      <td>$1300000</td>\n",
       "      <td>Pre-series A</td>\n",
       "    </tr>\n",
       "    <tr>\n",
       "      <th>252</th>\n",
       "      <td>ASQI Advisors</td>\n",
       "      <td>2019.0</td>\n",
       "      <td>Mumbai</td>\n",
       "      <td>Financial Services</td>\n",
       "      <td>Bringing Blockchain technology intro mainstream finance!</td>\n",
       "      <td>Swapnil Pawar</td>\n",
       "      <td>Founders Room Capital</td>\n",
       "      <td>$1000000</td>\n",
       "      <td>Pre-series A</td>\n",
       "    </tr>\n",
       "    <tr>\n",
       "      <th>253</th>\n",
       "      <td>Insurance Samadhan</td>\n",
       "      <td>2018.0</td>\n",
       "      <td>New Delhi</td>\n",
       "      <td>Insurance</td>\n",
       "      <td>The insurance industry will help in representation with the insurance companies and will help to find adequate redressal for grievances.</td>\n",
       "      <td>Deepak Bhuvenshwari Uniyal</td>\n",
       "      <td>9Unicorns, ZNL</td>\n",
       "      <td>$725000</td>\n",
       "      <td>Pre-series A</td>\n",
       "    </tr>\n",
       "    <tr>\n",
       "      <th>254</th>\n",
       "      <td>Evenflow Brands</td>\n",
       "      <td>2020.0</td>\n",
       "      <td>Mumbai</td>\n",
       "      <td>Consumer Goods</td>\n",
       "      <td>Identify and partner with the upcoming eCommerce-1st brands that sell on marketplaces and have a successful track record of positive reviews &amp; ratings</td>\n",
       "      <td>Utsav Agarwal, Pulkit Chhabra</td>\n",
       "      <td>NaN</td>\n",
       "      <td>$500000</td>\n",
       "      <td>NaN</td>\n",
       "    </tr>\n",
       "    <tr>\n",
       "      <th>255</th>\n",
       "      <td>MasterChow</td>\n",
       "      <td>2020.0</td>\n",
       "      <td>Food &amp; Beverages</td>\n",
       "      <td>Hauz Khas</td>\n",
       "      <td>A ready-to-cook Asian cuisine brand</td>\n",
       "      <td>Vidur Kataria, Sidhanth Madan</td>\n",
       "      <td>WEH Ventures</td>\n",
       "      <td>$461000</td>\n",
       "      <td>Seed</td>\n",
       "    </tr>\n",
       "    <tr>\n",
       "      <th>256</th>\n",
       "      <td>Fullife Healthcare</td>\n",
       "      <td>2009.0</td>\n",
       "      <td>Pharmaceuticals\\t#REF!</td>\n",
       "      <td>Primary Business is Development and Manufacturing of Novel Healthcare Products in Effervescent forms using imported propriety ingredients.</td>\n",
       "      <td>Varun Khanna</td>\n",
       "      <td>Morgan Stanley Private Equity Asia</td>\n",
       "      <td>$22000000</td>\n",
       "      <td>Series C</td>\n",
       "      <td>NaN</td>\n",
       "    </tr>\n",
       "  </tbody>\n",
       "</table>\n",
       "</div>"
      ],
      "text/plain": [
       "          Company_Brand  Founded             HeadQuarter  \\\n",
       "107           Curefoods   2020.0               Bangalore   \n",
       "109            Bewakoof   2012.0                  Mumbai   \n",
       "111             FanPlay   2020.0          Computer Games   \n",
       "117      Advantage Club   2014.0                  Mumbai   \n",
       "119              Ruptok   2020.0               New Delhi   \n",
       "243            Trinkerr   2021.0               Bangalore   \n",
       "244               Zorro   2021.0                Gurugram   \n",
       "245       Ultraviolette   2021.0               Bangalore   \n",
       "246          NephroPlus   2009.0               Hyderabad   \n",
       "247             Unremot   2020.0               Bangalore   \n",
       "248         FanAnywhere   2021.0               Bangalore   \n",
       "249          PingoLearn   2021.0                    Pune   \n",
       "250                Spry   2021.0                  Mumbai   \n",
       "251             Enmovil   2015.0               Hyderabad   \n",
       "252       ASQI Advisors   2019.0                  Mumbai   \n",
       "253  Insurance Samadhan   2018.0               New Delhi   \n",
       "254     Evenflow Brands   2020.0                  Mumbai   \n",
       "255          MasterChow   2020.0        Food & Beverages   \n",
       "256  Fullife Healthcare   2009.0  Pharmaceuticals\\t#REF!   \n",
       "\n",
       "                                                                                                                                         Sector  \\\n",
       "107                                                                                                                            Food & Beverages   \n",
       "109                                                                                                                           Apparel & Fashion   \n",
       "111                                                                                                                              Computer Games   \n",
       "117                                                                                                                                      HRTech   \n",
       "119                                                                                                                                     FinTech   \n",
       "243                                                                                                                             Capital Markets   \n",
       "244                                                                                                                              Social network   \n",
       "245                                                                                                                                  Automotive   \n",
       "246                                                                                                                      Hospital & Health Care   \n",
       "247                                                                                                           Information Technology & Services   \n",
       "248                                                                                                                          Financial Services   \n",
       "249                                                                                                                                  E-learning   \n",
       "250                                                                                                                                       Music   \n",
       "251                                                                                                           Information Technology & Services   \n",
       "252                                                                                                                          Financial Services   \n",
       "253                                                                                                                                   Insurance   \n",
       "254                                                                                                                              Consumer Goods   \n",
       "255                                                                                                                                   Hauz Khas   \n",
       "256  Primary Business is Development and Manufacturing of Novel Healthcare Products in Effervescent forms using imported propriety ingredients.   \n",
       "\n",
       "                                                                                                                                                     What_it_does  \\\n",
       "107                       Healthy & nutritious foods and cold pressed juices produced in Edinburgh. Currently distributing wholesale within the Edinburgh region.   \n",
       "109                                           Bewakoof is a lifestyle fashion brand that makes creative, distinctive fashion for the trendy, contemporary Indian.   \n",
       "111                                                                                                            A real money game app specializing in trivia games   \n",
       "117           Advantage Club is India's largest employee engagement platform, Provide end to end employee benefit management with state of the art products like:   \n",
       "119                                                           Ruptok fintech Pvt. Ltd. is an online gold loan service provider , with attractive interests rate .   \n",
       "243                                                                                                            Trinkerr is India's first social trading platform.   \n",
       "244                                                                                                                          Pseudonymous social network platform   \n",
       "245                                                             Create and Inspire the future of sustainable urban transportation through Accelerated Innovation.   \n",
       "246                     A vision and passion of redefining healthcare delivery in India in 2010, NephroPlus today is India’s largest network of dialysis centres.   \n",
       "247                                                                                                                 Unremot is a personal office for consultants!   \n",
       "248                                                                                                                                        Celebrity NFT platform   \n",
       "249                                                                                            PingoLearn offers language learning courses with snackable videos.   \n",
       "250                                                                                                         THE BEST ROYALTY-FREE MUSIC TO CREATE TRENDING VIDEOS   \n",
       "251  Enmovil delivers a Business Intelligence Platform driven by a connected asset ecosystem that enables organizations to maximise their operational efficiency.   \n",
       "252                                                                                                      Bringing Blockchain technology intro mainstream finance!   \n",
       "253                      The insurance industry will help in representation with the insurance companies and will help to find adequate redressal for grievances.   \n",
       "254        Identify and partner with the upcoming eCommerce-1st brands that sell on marketplaces and have a successful track record of positive reviews & ratings   \n",
       "255                                                                                                                           A ready-to-cook Asian cuisine brand   \n",
       "256                                                                                                                                                  Varun Khanna   \n",
       "\n",
       "                                          Founders  \\\n",
       "107                                   Ankit Nagori   \n",
       "109                               Prabhkiran Singh   \n",
       "111                                         YC W21   \n",
       "117             Sourabh Deorah, Smiti Bhatt Deorah   \n",
       "119                                    Ankur Gupta   \n",
       "243                Manvendra Singh, Gaurav Agarwal   \n",
       "244  Jasveer Singh, Abhishek Asthana, Deepak Kumar   \n",
       "245            Subramaniam Narayan, Niraj Rajmohan   \n",
       "246                                 Vikram Vuppala   \n",
       "247                            Shiju Radhakrishnan   \n",
       "248                    Varun Chaudhary, Amit Kumar   \n",
       "249             Mohit Menghani, Shubham Maheshwari   \n",
       "250                Gaurav Dagaonkar, Meghna Mittal   \n",
       "251     Ravi Bulusu, Nanda Kishore, Venkat Moganty   \n",
       "252                                  Swapnil Pawar   \n",
       "253                     Deepak Bhuvenshwari Uniyal   \n",
       "254                  Utsav Agarwal, Pulkit Chhabra   \n",
       "255                  Vidur Kataria, Sidhanth Madan   \n",
       "256             Morgan Stanley Private Equity Asia   \n",
       "\n",
       "                                              Investor        Amount  \\\n",
       "107                Iron Pillar, Nordstar, Binny Bansal     $13000000   \n",
       "109                                         InvestCorp      $8000000   \n",
       "111                        Pritesh Kumar, Bharat Gupta      Upsparks   \n",
       "117           Y Combinator, Broom Ventures, Kunal Shah      $1700000   \n",
       "119                                     Eclear Leasing      $1000000   \n",
       "243                                        Accel India      $6600000   \n",
       "244  Vijay Shekhar Sharma, Ritesh Agarwal, Ankiti Bose     $32000000   \n",
       "245                                    TVS Motor, Zoho    $150000000   \n",
       "246                              IIFL Asset Management     $24000000   \n",
       "247                          Inflection Point Ventures       $700000   \n",
       "248        Oasis Capital, Scorpio VC, DeltaHub Capital  $Undisclosed   \n",
       "249  Titan Capital, Haresh Chawla, AngelList Syndicate       $200000   \n",
       "250                          9Unicorns, Ashneer Grover      $1500000   \n",
       "251                                  Anicut Angel Fund      $1300000   \n",
       "252                              Founders Room Capital      $1000000   \n",
       "253                                     9Unicorns, ZNL       $725000   \n",
       "254                                                NaN       $500000   \n",
       "255                                       WEH Ventures       $461000   \n",
       "256                                          $22000000      Series C   \n",
       "\n",
       "            Stage  \n",
       "107           NaN  \n",
       "109           NaN  \n",
       "111      $1200000  \n",
       "117           NaN  \n",
       "119           NaN  \n",
       "243      Series A  \n",
       "244          Seed  \n",
       "245      Series C  \n",
       "246      Series E  \n",
       "247          Seed  \n",
       "248          Seed  \n",
       "249           NaN  \n",
       "250          Seed  \n",
       "251  Pre-series A  \n",
       "252  Pre-series A  \n",
       "253  Pre-series A  \n",
       "254           NaN  \n",
       "255          Seed  \n",
       "256           NaN  "
      ]
     },
     "execution_count": 83,
     "metadata": {},
     "output_type": "execute_result"
    }
   ],
   "source": [
    "# show all occurences of duplicated rows\n",
    "\n",
    "data_df_2021[data_df_2021.duplicated]"
   ]
  },
  {
   "cell_type": "code",
   "execution_count": 84,
   "metadata": {},
   "outputs": [],
   "source": [
    "# Drop duplicates\n",
    "\n",
    "data_df_2021.drop_duplicates(inplace = True)"
   ]
  },
  {
   "cell_type": "code",
   "execution_count": 85,
   "metadata": {},
   "outputs": [],
   "source": [
    "#drop columns\n",
    "\n",
    "data_df_2021.drop(['Founded', 'Founders', 'Investor'], axis=1, inplace=True)"
   ]
  },
  {
   "cell_type": "code",
   "execution_count": 86,
   "metadata": {},
   "outputs": [],
   "source": [
    "# add year column\n",
    "\n",
    "data_df_2021['Year']=2021"
   ]
  },
  {
   "cell_type": "code",
   "execution_count": 87,
   "metadata": {},
   "outputs": [
    {
     "name": "stdout",
     "output_type": "stream",
     "text": [
      "<class 'pandas.core.frame.DataFrame'>\n",
      "Int64Index: 1190 entries, 0 to 1208\n",
      "Data columns (total 7 columns):\n",
      " #   Column         Non-Null Count  Dtype \n",
      "---  ------         --------------  ----- \n",
      " 0   Company_Brand  1190 non-null   object\n",
      " 1   HeadQuarter    1189 non-null   object\n",
      " 2   Sector         1190 non-null   object\n",
      " 3   What_it_does   1190 non-null   object\n",
      " 4   Amount         1187 non-null   object\n",
      " 5   Stage          769 non-null    object\n",
      " 6   Year           1190 non-null   int64 \n",
      "dtypes: int64(1), object(6)\n",
      "memory usage: 74.4+ KB\n"
     ]
    }
   ],
   "source": [
    "data_df_2021.info()"
   ]
  },
  {
   "cell_type": "code",
   "execution_count": 88,
   "metadata": {},
   "outputs": [
    {
     "data": {
      "text/plain": [
       "Bangalore             421\n",
       "Mumbai                198\n",
       "Gurugram              154\n",
       "New Delhi             142\n",
       "Pune                   46\n",
       "                     ... \n",
       "Thiruvananthapuram      1\n",
       "Faridabad               1\n",
       "Roorkee                 1\n",
       "Ambernath               1\n",
       "Gandhinagar             1\n",
       "Name: HeadQuarter, Length: 70, dtype: int64"
      ]
     },
     "execution_count": 88,
     "metadata": {},
     "output_type": "execute_result"
    }
   ],
   "source": [
    "data_df_2021['HeadQuarter'].value_counts()"
   ]
  },
  {
   "cell_type": "code",
   "execution_count": 89,
   "metadata": {},
   "outputs": [
    {
     "data": {
      "text/html": [
       "<div>\n",
       "<style scoped>\n",
       "    .dataframe tbody tr th:only-of-type {\n",
       "        vertical-align: middle;\n",
       "    }\n",
       "\n",
       "    .dataframe tbody tr th {\n",
       "        vertical-align: top;\n",
       "    }\n",
       "\n",
       "    .dataframe thead th {\n",
       "        text-align: right;\n",
       "    }\n",
       "</style>\n",
       "<table border=\"1\" class=\"dataframe\">\n",
       "  <thead>\n",
       "    <tr style=\"text-align: right;\">\n",
       "      <th></th>\n",
       "      <th>Company_Brand</th>\n",
       "      <th>HeadQuarter</th>\n",
       "      <th>Sector</th>\n",
       "      <th>What_it_does</th>\n",
       "      <th>Amount</th>\n",
       "      <th>Stage</th>\n",
       "      <th>Year</th>\n",
       "    </tr>\n",
       "  </thead>\n",
       "  <tbody>\n",
       "    <tr>\n",
       "      <th>1100</th>\n",
       "      <td>Sochcast</td>\n",
       "      <td>Online Media\\t#REF!</td>\n",
       "      <td>Sochcast is an Audio experiences company that give the listener and creators an Immersive Audio experience</td>\n",
       "      <td>CA Harvinderjit Singh Bhatia, Garima Surana, Anil Srivatsa</td>\n",
       "      <td>NaN</td>\n",
       "      <td>NaN</td>\n",
       "      <td>2021</td>\n",
       "    </tr>\n",
       "  </tbody>\n",
       "</table>\n",
       "</div>"
      ],
      "text/plain": [
       "     Company_Brand          HeadQuarter  \\\n",
       "1100      Sochcast  Online Media\\t#REF!   \n",
       "\n",
       "                                                                                                          Sector  \\\n",
       "1100  Sochcast is an Audio experiences company that give the listener and creators an Immersive Audio experience   \n",
       "\n",
       "                                                    What_it_does Amount Stage  \\\n",
       "1100  CA Harvinderjit Singh Bhatia, Garima Surana, Anil Srivatsa    NaN   NaN   \n",
       "\n",
       "      Year  \n",
       "1100  2021  "
      ]
     },
     "execution_count": 89,
     "metadata": {},
     "output_type": "execute_result"
    }
   ],
   "source": [
    "data_df_2021[data_df_2021['HeadQuarter']=='Online Media\\t#REF!']"
   ]
  },
  {
   "cell_type": "code",
   "execution_count": 90,
   "metadata": {},
   "outputs": [
    {
     "data": {
      "text/html": [
       "<div>\n",
       "<style scoped>\n",
       "    .dataframe tbody tr th:only-of-type {\n",
       "        vertical-align: middle;\n",
       "    }\n",
       "\n",
       "    .dataframe tbody tr th {\n",
       "        vertical-align: top;\n",
       "    }\n",
       "\n",
       "    .dataframe thead th {\n",
       "        text-align: right;\n",
       "    }\n",
       "</style>\n",
       "<table border=\"1\" class=\"dataframe\">\n",
       "  <thead>\n",
       "    <tr style=\"text-align: right;\">\n",
       "      <th></th>\n",
       "      <th>Company_Brand</th>\n",
       "      <th>HeadQuarter</th>\n",
       "      <th>Sector</th>\n",
       "      <th>What_it_does</th>\n",
       "      <th>Amount</th>\n",
       "      <th>Stage</th>\n",
       "      <th>Year</th>\n",
       "    </tr>\n",
       "  </thead>\n",
       "  <tbody>\n",
       "    <tr>\n",
       "      <th>1176</th>\n",
       "      <td>Peak</td>\n",
       "      <td>Information Technology &amp; Services</td>\n",
       "      <td>Manchester, Greater Manchester</td>\n",
       "      <td>Peak helps the world's smartest companies put the power of AI at the center of all commercial decision making with Decision Intelligence</td>\n",
       "      <td>$75000000</td>\n",
       "      <td>Series C</td>\n",
       "      <td>2021</td>\n",
       "    </tr>\n",
       "  </tbody>\n",
       "</table>\n",
       "</div>"
      ],
      "text/plain": [
       "     Company_Brand                        HeadQuarter  \\\n",
       "1176          Peak  Information Technology & Services   \n",
       "\n",
       "                              Sector  \\\n",
       "1176  Manchester, Greater Manchester   \n",
       "\n",
       "                                                                                                                                  What_it_does  \\\n",
       "1176  Peak helps the world's smartest companies put the power of AI at the center of all commercial decision making with Decision Intelligence   \n",
       "\n",
       "         Amount     Stage  Year  \n",
       "1176  $75000000  Series C  2021  "
      ]
     },
     "execution_count": 90,
     "metadata": {},
     "output_type": "execute_result"
    }
   ],
   "source": [
    "data_df_2021[data_df_2021['HeadQuarter']=='Information Technology & Services']"
   ]
  },
  {
   "cell_type": "code",
   "execution_count": 91,
   "metadata": {},
   "outputs": [
    {
     "data": {
      "text/html": [
       "<div>\n",
       "<style scoped>\n",
       "    .dataframe tbody tr th:only-of-type {\n",
       "        vertical-align: middle;\n",
       "    }\n",
       "\n",
       "    .dataframe tbody tr th {\n",
       "        vertical-align: top;\n",
       "    }\n",
       "\n",
       "    .dataframe thead th {\n",
       "        text-align: right;\n",
       "    }\n",
       "</style>\n",
       "<table border=\"1\" class=\"dataframe\">\n",
       "  <thead>\n",
       "    <tr style=\"text-align: right;\">\n",
       "      <th></th>\n",
       "      <th>Company_Brand</th>\n",
       "      <th>HeadQuarter</th>\n",
       "      <th>Sector</th>\n",
       "      <th>What_it_does</th>\n",
       "      <th>Amount</th>\n",
       "      <th>Stage</th>\n",
       "      <th>Year</th>\n",
       "    </tr>\n",
       "  </thead>\n",
       "  <tbody>\n",
       "    <tr>\n",
       "      <th>98</th>\n",
       "      <td>FanPlay</td>\n",
       "      <td>Computer Games</td>\n",
       "      <td>Computer Games</td>\n",
       "      <td>A real money game app specializing in trivia games</td>\n",
       "      <td>Upsparks</td>\n",
       "      <td>$1200000</td>\n",
       "      <td>2021</td>\n",
       "    </tr>\n",
       "  </tbody>\n",
       "</table>\n",
       "</div>"
      ],
      "text/plain": [
       "   Company_Brand     HeadQuarter          Sector  \\\n",
       "98       FanPlay  Computer Games  Computer Games   \n",
       "\n",
       "                                          What_it_does    Amount     Stage  \\\n",
       "98  A real money game app specializing in trivia games  Upsparks  $1200000   \n",
       "\n",
       "    Year  \n",
       "98  2021  "
      ]
     },
     "execution_count": 91,
     "metadata": {},
     "output_type": "execute_result"
    }
   ],
   "source": [
    "data_df_2021[data_df_2021['HeadQuarter']=='Computer Games']"
   ]
  },
  {
   "cell_type": "code",
   "execution_count": 92,
   "metadata": {},
   "outputs": [
    {
     "data": {
      "text/html": [
       "<div>\n",
       "<style scoped>\n",
       "    .dataframe tbody tr th:only-of-type {\n",
       "        vertical-align: middle;\n",
       "    }\n",
       "\n",
       "    .dataframe tbody tr th {\n",
       "        vertical-align: top;\n",
       "    }\n",
       "\n",
       "    .dataframe thead th {\n",
       "        text-align: right;\n",
       "    }\n",
       "</style>\n",
       "<table border=\"1\" class=\"dataframe\">\n",
       "  <thead>\n",
       "    <tr style=\"text-align: right;\">\n",
       "      <th></th>\n",
       "      <th>Company_Brand</th>\n",
       "      <th>HeadQuarter</th>\n",
       "      <th>Sector</th>\n",
       "      <th>What_it_does</th>\n",
       "      <th>Amount</th>\n",
       "      <th>Stage</th>\n",
       "      <th>Year</th>\n",
       "    </tr>\n",
       "  </thead>\n",
       "  <tbody>\n",
       "    <tr>\n",
       "      <th>241</th>\n",
       "      <td>MasterChow</td>\n",
       "      <td>Food &amp; Beverages</td>\n",
       "      <td>Hauz Khas</td>\n",
       "      <td>A ready-to-cook Asian cuisine brand</td>\n",
       "      <td>$461000</td>\n",
       "      <td>Seed</td>\n",
       "      <td>2021</td>\n",
       "    </tr>\n",
       "  </tbody>\n",
       "</table>\n",
       "</div>"
      ],
      "text/plain": [
       "    Company_Brand       HeadQuarter     Sector  \\\n",
       "241    MasterChow  Food & Beverages  Hauz Khas   \n",
       "\n",
       "                            What_it_does   Amount Stage  Year  \n",
       "241  A ready-to-cook Asian cuisine brand  $461000  Seed  2021  "
      ]
     },
     "execution_count": 92,
     "metadata": {},
     "output_type": "execute_result"
    }
   ],
   "source": [
    "data_df_2021[data_df_2021['HeadQuarter']=='Food & Beverages']"
   ]
  },
  {
   "cell_type": "code",
   "execution_count": 93,
   "metadata": {},
   "outputs": [
    {
     "data": {
      "text/html": [
       "<div>\n",
       "<style scoped>\n",
       "    .dataframe tbody tr th:only-of-type {\n",
       "        vertical-align: middle;\n",
       "    }\n",
       "\n",
       "    .dataframe tbody tr th {\n",
       "        vertical-align: top;\n",
       "    }\n",
       "\n",
       "    .dataframe thead th {\n",
       "        text-align: right;\n",
       "    }\n",
       "</style>\n",
       "<table border=\"1\" class=\"dataframe\">\n",
       "  <thead>\n",
       "    <tr style=\"text-align: right;\">\n",
       "      <th></th>\n",
       "      <th>Company_Brand</th>\n",
       "      <th>HeadQuarter</th>\n",
       "      <th>Sector</th>\n",
       "      <th>What_it_does</th>\n",
       "      <th>Amount</th>\n",
       "      <th>Stage</th>\n",
       "      <th>Year</th>\n",
       "    </tr>\n",
       "  </thead>\n",
       "  <tbody>\n",
       "    <tr>\n",
       "      <th>242</th>\n",
       "      <td>Fullife Healthcare</td>\n",
       "      <td>Pharmaceuticals\\t#REF!</td>\n",
       "      <td>Primary Business is Development and Manufacturing of Novel Healthcare Products in Effervescent forms using imported propriety ingredients.</td>\n",
       "      <td>Varun Khanna</td>\n",
       "      <td>Series C</td>\n",
       "      <td>NaN</td>\n",
       "      <td>2021</td>\n",
       "    </tr>\n",
       "  </tbody>\n",
       "</table>\n",
       "</div>"
      ],
      "text/plain": [
       "          Company_Brand             HeadQuarter  \\\n",
       "242  Fullife Healthcare  Pharmaceuticals\\t#REF!   \n",
       "\n",
       "                                                                                                                                         Sector  \\\n",
       "242  Primary Business is Development and Manufacturing of Novel Healthcare Products in Effervescent forms using imported propriety ingredients.   \n",
       "\n",
       "     What_it_does    Amount Stage  Year  \n",
       "242  Varun Khanna  Series C   NaN  2021  "
      ]
     },
     "execution_count": 93,
     "metadata": {},
     "output_type": "execute_result"
    }
   ],
   "source": [
    "data_df_2021[data_df_2021['HeadQuarter']=='Pharmaceuticals\\t#REF!']"
   ]
  },
  {
   "cell_type": "code",
   "execution_count": 94,
   "metadata": {},
   "outputs": [],
   "source": [
    "# Fix some structural errors\n",
    "\n",
    "data_df_2021['HeadQuarter'].replace('Faridabad, Haryana','Faridabad',inplace =True, regex=True)\n",
    "data_df_2021['HeadQuarter'].replace('Mountain View, CA','California',inplace =True, regex=True) \n",
    "data_df_2021['HeadQuarter'].replace('Online Media\\t#REF!',np.nan,inplace =True, regex=True)\n",
    "data_df_2021['HeadQuarter'].replace('Information Technology & Services','Manchester',inplace =True, regex=True)\n",
    "data_df_2021['HeadQuarter'].replace('Small Towns, Andhra Pradesh','Andhra Pradesh',inplace =True, regex=True)\n",
    "data_df_2021['HeadQuarter'].replace('Computer Games',np.nan,inplace =True, regex=True)\n",
    "data_df_2021['HeadQuarter'].replace('Food & Beverages',np.nan,inplace =True, regex=True)\n",
    "data_df_2021['HeadQuarter'].replace('Pharmaceuticals\\t#REF!',np.nan,inplace =True, regex=True)\n",
    "data_df_2021['HeadQuarter'].replace('Gurugram\\t#REF!','Gurugram',inplace =True, regex=True)"
   ]
  },
  {
   "cell_type": "code",
   "execution_count": 95,
   "metadata": {},
   "outputs": [
    {
     "data": {
      "text/plain": [
       "AI Chatbot              1\n",
       "AI company              2\n",
       "AI startup             10\n",
       "AR startup              1\n",
       "Advertisement           1\n",
       "                       ..\n",
       "Video communication     1\n",
       "Water purification      1\n",
       "Wholesale               1\n",
       "Wine & Spirits          2\n",
       "sports                  4\n",
       "Name: Sector, Length: 254, dtype: int64"
      ]
     },
     "execution_count": 95,
     "metadata": {},
     "output_type": "execute_result"
    }
   ],
   "source": [
    "data_df_2021['Sector'].value_counts().sort_index()"
   ]
  },
  {
   "cell_type": "code",
   "execution_count": 96,
   "metadata": {},
   "outputs": [],
   "source": [
    "# Fix some structural errors\n",
    "\n",
    "data_df_2021['Sector'].replace('AI company','AI',inplace =True, regex=True)\n",
    "data_df_2021['Sector'].replace('AI startup','AI',inplace =True, regex=True)\n",
    "data_df_2021['Sector'].replace('AR startup','AR',inplace =True, regex=True)\n",
    "data_df_2021['Sector'].replace('Augmented reality','AR',inplace =True, regex=True)\n",
    "data_df_2021['Sector'].replace('B2B Ecommerce','B2B E-commerce',inplace =True, regex=True)\n",
    "data_df_2021['Sector'].replace('B2B marketplace','B2B Marketplace',inplace =True, regex=True)\n",
    "data_df_2021['Sector'].replace('B2B startup','B2B',inplace =True, regex=True)\n",
    "data_df_2021['Sector'].replace('Biotechnology','BioTechnology',inplace =True, regex=True)\n",
    "data_df_2021['Sector'].replace('Blockchain startup','Blockchain',inplace =True, regex=True)\n",
    "data_df_2021['Sector'].replace('Computer software','Computer Software',inplace =True, regex=True)\n",
    "data_df_2021['Sector'].replace('Consumer goods','Consumer Goods',inplace =True, regex=True)\n",
    "data_df_2021['Sector'].replace('Consumer service','Consumer Services',inplace =True, regex=True)\n",
    "data_df_2021['Sector'].replace('Cryptocurrency','Crypto',inplace =True, regex=True)\n",
    "data_df_2021['Sector'].replace('D2C Business','D2C',inplace =True, regex=True)\n",
    "data_df_2021['Sector'].replace('D2C startup','D2C',inplace =True, regex=True)\n",
    "data_df_2021['Sector'].replace('Deep Tech','Deeptech',inplace =True, regex=True)\n",
    "data_df_2021['Sector'].replace('EV startup','EV',inplace =True, regex=True)\n",
    "data_df_2021['Sector'].replace('Environmental service','Environmental Services',inplace =True, regex=True)\n",
    "data_df_2021['Sector'].replace('Fashion and lifestyle','Fashion & Lifestyle',inplace =True, regex=True)\n",
    "data_df_2021['Sector'].replace('Femtech','FemTech',inplace =True, regex=True)\n",
    "data_df_2021['Sector'].replace('Food and Beverages','Food & Beverages',inplace =True, regex=True)\n",
    "data_df_2021['Sector'].replace('HR Tech','HRTech',inplace =True, regex=True)\n",
    "data_df_2021['Sector'].replace('Hauz Khas','Food & Beverages',inplace =True, regex=True)\n",
    "data_df_2021['Sector'].replace('Healtcare','HealthCare',inplace =True, regex=True)\n",
    "data_df_2021['Sector'].replace('Health care','HealthCare',inplace =True, regex=True)\n",
    "data_df_2021['Sector'].replace('Health, Wellness & Fitness','Health',inplace =True, regex=True)\n",
    "data_df_2021['Sector'].replace('Healthcare','HealthCare',inplace =True, regex=True)\n",
    "data_df_2021['Sector'].replace('Heathcare','HealthCare',inplace =True, regex=True)\n",
    "data_df_2021['Sector'].replace('Healthtech','HealthTech',inplace =True, regex=True)\n",
    "data_df_2021['Sector'].replace('HeathTech','HealthTech',inplace =True, regex=True)\n",
    "data_df_2021['Sector'].replace('IT company','IT',inplace =True, regex=True)\n",
    "data_df_2021['Sector'].replace('IT startup','IT',inplace =True, regex=True)\n",
    "data_df_2021['Sector'].replace('Information Technology','IT',inplace =True, regex=True)\n",
    "data_df_2021['Sector'].replace('Innovation management','Innovation Management',inplace =True, regex=True)\n",
    "data_df_2021['Sector'].replace('Insuretech','InsureTech',inplace =True, regex=True)\n",
    "data_df_2021['Sector'].replace('Legaltech','LegalTech',inplace =True, regex=True)\n",
    "data_df_2021['Sector'].replace('Manchester, Greater Manchester','Information Technology & Services',inplace =True, regex=True)\n",
    "data_df_2021['Sector'].replace('Mechanical Or Industrial Engineering','Mechanical & Industrial Engineering',inplace =True, regex=True)\n",
    "data_df_2021['Sector'].replace('MoEVing is India\\'s only Electric Mobility focused Technology Platform with a vision to accelerate EV adoption in India.','EV',inplace =True, regex=True)\n",
    "data_df_2021['Sector'].replace('Oil and Energy','Oil & Energy',inplace =True, regex=True)\n",
    "data_df_2021['Sector'].replace('Primary Business is Development and Manufacturing of Novel Healthcare Products in Effervescent forms using imported propriety ingredients.','HealthCare',inplace =True, regex=True)\n",
    "data_df_2021['Sector'].replace('Real estate','Real Estate',inplace =True, regex=True)\n",
    "data_df_2021['Sector'].replace('SaaS startup','SaaS',inplace =True, regex=True)\n",
    "data_df_2021['Sector'].replace('Sochcast is an Audio experiences company that give the listener and creators an Immersive Audio experience','Online Media',inplace =True, regex=True)\n",
    "data_df_2021['Sector'].replace('Social media','Social Media',inplace =True, regex=True)\n",
    "data_df_2021['Sector'].replace('Software Startup','Software',inplace =True, regex=True)\n",
    "data_df_2021['Sector'].replace('Software company','Software',inplace =True, regex=True)\n",
    "data_df_2021['Sector'].replace('Sports startup','Sports',inplace =True, regex=True)\n",
    "data_df_2021['Sector'].replace('Tech startup','Tech Startup',inplace =True, regex=True)\n",
    "data_df_2021['Sector'].replace('Telecommuncation','Telecommunications',inplace =True, regex=True)\n",
    "data_df_2021['Sector'].replace('sports','Sports',inplace =True, regex=True)"
   ]
  },
  {
   "cell_type": "code",
   "execution_count": 97,
   "metadata": {},
   "outputs": [
    {
     "data": {
      "text/plain": [
       "$                  2\n",
       "$$1,55,000         1\n",
       "$$100,00           1\n",
       "$1,000,000        33\n",
       "$1,000,000,000     1\n",
       "                  ..\n",
       "Seed               2\n",
       "Series C           1\n",
       "Undisclosed       43\n",
       "Upsparks           1\n",
       "ah! Ventures       1\n",
       "Name: Amount, Length: 278, dtype: int64"
      ]
     },
     "execution_count": 97,
     "metadata": {},
     "output_type": "execute_result"
    }
   ],
   "source": [
    "data_df_2021['Amount'].value_counts().sort_index()"
   ]
  },
  {
   "cell_type": "code",
   "execution_count": 98,
   "metadata": {},
   "outputs": [],
   "source": [
    "# Replace Values\n",
    "\n",
    "data_df_2021['Amount'].replace(\"[,$J]\", \"\", inplace = True, regex=True)"
   ]
  },
  {
   "cell_type": "code",
   "execution_count": 99,
   "metadata": {},
   "outputs": [
    {
     "data": {
      "text/plain": [
       "                  2\n",
       "10000             1\n",
       "100000           14\n",
       "1000000          83\n",
       "10000000         43\n",
       "               ... \n",
       "Series C          1\n",
       "Undisclosed     115\n",
       "Upsparks          1\n",
       "ah! Ventures      1\n",
       "undisclosed      22\n",
       "Name: Amount, Length: 206, dtype: int64"
      ]
     },
     "execution_count": 99,
     "metadata": {},
     "output_type": "execute_result"
    }
   ],
   "source": [
    "data_df_2021['Amount'].value_counts().sort_index()"
   ]
  },
  {
   "cell_type": "code",
   "execution_count": 100,
   "metadata": {},
   "outputs": [
    {
     "data": {
      "text/html": [
       "<div>\n",
       "<style scoped>\n",
       "    .dataframe tbody tr th:only-of-type {\n",
       "        vertical-align: middle;\n",
       "    }\n",
       "\n",
       "    .dataframe tbody tr th {\n",
       "        vertical-align: top;\n",
       "    }\n",
       "\n",
       "    .dataframe thead th {\n",
       "        text-align: right;\n",
       "    }\n",
       "</style>\n",
       "<table border=\"1\" class=\"dataframe\">\n",
       "  <thead>\n",
       "    <tr style=\"text-align: right;\">\n",
       "      <th></th>\n",
       "      <th>Company_Brand</th>\n",
       "      <th>HeadQuarter</th>\n",
       "      <th>Sector</th>\n",
       "      <th>What_it_does</th>\n",
       "      <th>Amount</th>\n",
       "      <th>Stage</th>\n",
       "      <th>Year</th>\n",
       "    </tr>\n",
       "  </thead>\n",
       "  <tbody>\n",
       "    <tr>\n",
       "      <th>551</th>\n",
       "      <td>BHyve</td>\n",
       "      <td>Mumbai</td>\n",
       "      <td>Human Resources</td>\n",
       "      <td>A Future of Work Platform for diffusing Employee Tacit Knowledge and enabling Peer Learning Networks</td>\n",
       "      <td>ITO Angel Network LetsVenture</td>\n",
       "      <td>$300000</td>\n",
       "      <td>2021</td>\n",
       "    </tr>\n",
       "    <tr>\n",
       "      <th>677</th>\n",
       "      <td>Saarthi Pedagogy</td>\n",
       "      <td>Ahmadabad</td>\n",
       "      <td>EdTech</td>\n",
       "      <td>India's fastest growing Pedagogy company, serving to school as an academic growth partner and provide 360° solutions to schools on Academic Strategies</td>\n",
       "      <td>ITO Angel Network LetsVenture</td>\n",
       "      <td>$1000000</td>\n",
       "      <td>2021</td>\n",
       "    </tr>\n",
       "  </tbody>\n",
       "</table>\n",
       "</div>"
      ],
      "text/plain": [
       "        Company_Brand HeadQuarter           Sector  \\\n",
       "551             BHyve      Mumbai  Human Resources   \n",
       "677  Saarthi Pedagogy   Ahmadabad           EdTech   \n",
       "\n",
       "                                                                                                                                               What_it_does  \\\n",
       "551                                                    A Future of Work Platform for diffusing Employee Tacit Knowledge and enabling Peer Learning Networks   \n",
       "677  India's fastest growing Pedagogy company, serving to school as an academic growth partner and provide 360° solutions to schools on Academic Strategies   \n",
       "\n",
       "                            Amount     Stage  Year  \n",
       "551  ITO Angel Network LetsVenture   $300000  2021  \n",
       "677  ITO Angel Network LetsVenture  $1000000  2021  "
      ]
     },
     "execution_count": 100,
     "metadata": {},
     "output_type": "execute_result"
    }
   ],
   "source": [
    "data_df_2021[data_df_2021['Amount']=='ITO Angel Network LetsVenture']"
   ]
  },
  {
   "cell_type": "code",
   "execution_count": 101,
   "metadata": {},
   "outputs": [],
   "source": [
    "# Replace individual rows in Amount column\n",
    "\n",
    "data_df_2021.at[551, 'Amount'] = '300000'\n",
    "data_df_2021.at[677, 'Amount'] = '1000000'"
   ]
  },
  {
   "cell_type": "code",
   "execution_count": 102,
   "metadata": {},
   "outputs": [
    {
     "data": {
      "text/html": [
       "<div>\n",
       "<style scoped>\n",
       "    .dataframe tbody tr th:only-of-type {\n",
       "        vertical-align: middle;\n",
       "    }\n",
       "\n",
       "    .dataframe tbody tr th {\n",
       "        vertical-align: top;\n",
       "    }\n",
       "\n",
       "    .dataframe thead th {\n",
       "        text-align: right;\n",
       "    }\n",
       "</style>\n",
       "<table border=\"1\" class=\"dataframe\">\n",
       "  <thead>\n",
       "    <tr style=\"text-align: right;\">\n",
       "      <th></th>\n",
       "      <th>Company_Brand</th>\n",
       "      <th>HeadQuarter</th>\n",
       "      <th>Sector</th>\n",
       "      <th>What_it_does</th>\n",
       "      <th>Amount</th>\n",
       "      <th>Stage</th>\n",
       "      <th>Year</th>\n",
       "    </tr>\n",
       "  </thead>\n",
       "  <tbody>\n",
       "    <tr>\n",
       "      <th>545</th>\n",
       "      <td>AdmitKard</td>\n",
       "      <td>Noida</td>\n",
       "      <td>EdTech</td>\n",
       "      <td>A tech solution for end to end career advisory to students looking to study abroad.</td>\n",
       "      <td>Pre-series A</td>\n",
       "      <td>NaN</td>\n",
       "      <td>2021</td>\n",
       "    </tr>\n",
       "  </tbody>\n",
       "</table>\n",
       "</div>"
      ],
      "text/plain": [
       "    Company_Brand HeadQuarter  Sector  \\\n",
       "545     AdmitKard       Noida  EdTech   \n",
       "\n",
       "                                                                            What_it_does  \\\n",
       "545  A tech solution for end to end career advisory to students looking to study abroad.   \n",
       "\n",
       "           Amount Stage  Year  \n",
       "545  Pre-series A   NaN  2021  "
      ]
     },
     "execution_count": 102,
     "metadata": {},
     "output_type": "execute_result"
    }
   ],
   "source": [
    "data_df_2021[data_df_2021['Amount']=='Pre-series A']"
   ]
  },
  {
   "cell_type": "code",
   "execution_count": 103,
   "metadata": {},
   "outputs": [
    {
     "data": {
      "text/html": [
       "<div>\n",
       "<style scoped>\n",
       "    .dataframe tbody tr th:only-of-type {\n",
       "        vertical-align: middle;\n",
       "    }\n",
       "\n",
       "    .dataframe tbody tr th {\n",
       "        vertical-align: top;\n",
       "    }\n",
       "\n",
       "    .dataframe thead th {\n",
       "        text-align: right;\n",
       "    }\n",
       "</style>\n",
       "<table border=\"1\" class=\"dataframe\">\n",
       "  <thead>\n",
       "    <tr style=\"text-align: right;\">\n",
       "      <th></th>\n",
       "      <th>Company_Brand</th>\n",
       "      <th>HeadQuarter</th>\n",
       "      <th>Sector</th>\n",
       "      <th>What_it_does</th>\n",
       "      <th>Amount</th>\n",
       "      <th>Stage</th>\n",
       "      <th>Year</th>\n",
       "    </tr>\n",
       "  </thead>\n",
       "  <tbody>\n",
       "    <tr>\n",
       "      <th>257</th>\n",
       "      <td>MoEVing</td>\n",
       "      <td>Gurugram</td>\n",
       "      <td>EV</td>\n",
       "      <td>Vikash Mishra, Mragank Jain</td>\n",
       "      <td>Seed</td>\n",
       "      <td>NaN</td>\n",
       "      <td>2021</td>\n",
       "    </tr>\n",
       "    <tr>\n",
       "      <th>1148</th>\n",
       "      <td>Godamwale</td>\n",
       "      <td>Mumbai</td>\n",
       "      <td>Logistics &amp; Supply Chain</td>\n",
       "      <td>Godamwale is tech enabled integrated logistics company providing end to end supply chain solutions.</td>\n",
       "      <td>Seed</td>\n",
       "      <td>NaN</td>\n",
       "      <td>2021</td>\n",
       "    </tr>\n",
       "  </tbody>\n",
       "</table>\n",
       "</div>"
      ],
      "text/plain": [
       "     Company_Brand HeadQuarter                    Sector  \\\n",
       "257        MoEVing    Gurugram                        EV   \n",
       "1148     Godamwale      Mumbai  Logistics & Supply Chain   \n",
       "\n",
       "                                                                                             What_it_does  \\\n",
       "257                                                                           Vikash Mishra, Mragank Jain   \n",
       "1148  Godamwale is tech enabled integrated logistics company providing end to end supply chain solutions.   \n",
       "\n",
       "     Amount Stage  Year  \n",
       "257    Seed   NaN  2021  \n",
       "1148   Seed   NaN  2021  "
      ]
     },
     "execution_count": 103,
     "metadata": {},
     "output_type": "execute_result"
    }
   ],
   "source": [
    "data_df_2021[data_df_2021['Amount']=='Seed']"
   ]
  },
  {
   "cell_type": "code",
   "execution_count": 104,
   "metadata": {},
   "outputs": [
    {
     "data": {
      "text/html": [
       "<div>\n",
       "<style scoped>\n",
       "    .dataframe tbody tr th:only-of-type {\n",
       "        vertical-align: middle;\n",
       "    }\n",
       "\n",
       "    .dataframe tbody tr th {\n",
       "        vertical-align: top;\n",
       "    }\n",
       "\n",
       "    .dataframe thead th {\n",
       "        text-align: right;\n",
       "    }\n",
       "</style>\n",
       "<table border=\"1\" class=\"dataframe\">\n",
       "  <thead>\n",
       "    <tr style=\"text-align: right;\">\n",
       "      <th></th>\n",
       "      <th>Company_Brand</th>\n",
       "      <th>HeadQuarter</th>\n",
       "      <th>Sector</th>\n",
       "      <th>What_it_does</th>\n",
       "      <th>Amount</th>\n",
       "      <th>Stage</th>\n",
       "      <th>Year</th>\n",
       "    </tr>\n",
       "  </thead>\n",
       "  <tbody>\n",
       "    <tr>\n",
       "      <th>242</th>\n",
       "      <td>Fullife Healthcare</td>\n",
       "      <td>NaN</td>\n",
       "      <td>Primary Business is Development and Manufacturing of Novel HealthCare Products in Effervescent forms using imported propriety ingredients.</td>\n",
       "      <td>Varun Khanna</td>\n",
       "      <td>Series C</td>\n",
       "      <td>NaN</td>\n",
       "      <td>2021</td>\n",
       "    </tr>\n",
       "  </tbody>\n",
       "</table>\n",
       "</div>"
      ],
      "text/plain": [
       "          Company_Brand HeadQuarter  \\\n",
       "242  Fullife Healthcare         NaN   \n",
       "\n",
       "                                                                                                                                         Sector  \\\n",
       "242  Primary Business is Development and Manufacturing of Novel HealthCare Products in Effervescent forms using imported propriety ingredients.   \n",
       "\n",
       "     What_it_does    Amount Stage  Year  \n",
       "242  Varun Khanna  Series C   NaN  2021  "
      ]
     },
     "execution_count": 104,
     "metadata": {},
     "output_type": "execute_result"
    }
   ],
   "source": [
    "data_df_2021[data_df_2021['Amount']=='Series C']"
   ]
  },
  {
   "cell_type": "code",
   "execution_count": 105,
   "metadata": {},
   "outputs": [
    {
     "data": {
      "text/html": [
       "<div>\n",
       "<style scoped>\n",
       "    .dataframe tbody tr th:only-of-type {\n",
       "        vertical-align: middle;\n",
       "    }\n",
       "\n",
       "    .dataframe tbody tr th {\n",
       "        vertical-align: top;\n",
       "    }\n",
       "\n",
       "    .dataframe thead th {\n",
       "        text-align: right;\n",
       "    }\n",
       "</style>\n",
       "<table border=\"1\" class=\"dataframe\">\n",
       "  <thead>\n",
       "    <tr style=\"text-align: right;\">\n",
       "      <th></th>\n",
       "      <th>Company_Brand</th>\n",
       "      <th>HeadQuarter</th>\n",
       "      <th>Sector</th>\n",
       "      <th>What_it_does</th>\n",
       "      <th>Amount</th>\n",
       "      <th>Stage</th>\n",
       "      <th>Year</th>\n",
       "    </tr>\n",
       "  </thead>\n",
       "  <tbody>\n",
       "    <tr>\n",
       "      <th>98</th>\n",
       "      <td>FanPlay</td>\n",
       "      <td>NaN</td>\n",
       "      <td>Computer Games</td>\n",
       "      <td>A real money game app specializing in trivia games</td>\n",
       "      <td>Upsparks</td>\n",
       "      <td>$1200000</td>\n",
       "      <td>2021</td>\n",
       "    </tr>\n",
       "  </tbody>\n",
       "</table>\n",
       "</div>"
      ],
      "text/plain": [
       "   Company_Brand HeadQuarter          Sector  \\\n",
       "98       FanPlay         NaN  Computer Games   \n",
       "\n",
       "                                          What_it_does    Amount     Stage  \\\n",
       "98  A real money game app specializing in trivia games  Upsparks  $1200000   \n",
       "\n",
       "    Year  \n",
       "98  2021  "
      ]
     },
     "execution_count": 105,
     "metadata": {},
     "output_type": "execute_result"
    }
   ],
   "source": [
    "data_df_2021[data_df_2021['Amount']=='Upsparks']"
   ]
  },
  {
   "cell_type": "code",
   "execution_count": 106,
   "metadata": {},
   "outputs": [
    {
     "data": {
      "text/html": [
       "<div>\n",
       "<style scoped>\n",
       "    .dataframe tbody tr th:only-of-type {\n",
       "        vertical-align: middle;\n",
       "    }\n",
       "\n",
       "    .dataframe tbody tr th {\n",
       "        vertical-align: top;\n",
       "    }\n",
       "\n",
       "    .dataframe thead th {\n",
       "        text-align: right;\n",
       "    }\n",
       "</style>\n",
       "<table border=\"1\" class=\"dataframe\">\n",
       "  <thead>\n",
       "    <tr style=\"text-align: right;\">\n",
       "      <th></th>\n",
       "      <th>Company_Brand</th>\n",
       "      <th>HeadQuarter</th>\n",
       "      <th>Sector</th>\n",
       "      <th>What_it_does</th>\n",
       "      <th>Amount</th>\n",
       "      <th>Stage</th>\n",
       "      <th>Year</th>\n",
       "    </tr>\n",
       "  </thead>\n",
       "  <tbody>\n",
       "    <tr>\n",
       "      <th>538</th>\n",
       "      <td>Little Leap</td>\n",
       "      <td>New Delhi</td>\n",
       "      <td>EdTech</td>\n",
       "      <td>Soft Skills that make Smart Leaders</td>\n",
       "      <td>ah! Ventures</td>\n",
       "      <td>$300000</td>\n",
       "      <td>2021</td>\n",
       "    </tr>\n",
       "  </tbody>\n",
       "</table>\n",
       "</div>"
      ],
      "text/plain": [
       "    Company_Brand HeadQuarter  Sector                         What_it_does  \\\n",
       "538   Little Leap   New Delhi  EdTech  Soft Skills that make Smart Leaders   \n",
       "\n",
       "           Amount    Stage  Year  \n",
       "538  ah! Ventures  $300000  2021  "
      ]
     },
     "execution_count": 106,
     "metadata": {},
     "output_type": "execute_result"
    }
   ],
   "source": [
    "data_df_2021[data_df_2021['Amount']=='ah! Ventures']"
   ]
  },
  {
   "cell_type": "code",
   "execution_count": 107,
   "metadata": {},
   "outputs": [],
   "source": [
    "# Replace Values\n",
    "\n",
    "data_df_2021['Amount'].replace('', np.nan, inplace = True, regex=True)\n",
    "data_df_2021['Amount'].replace('Pre-series A', np.nan, inplace = True, regex=True)\n",
    "data_df_2021['Amount'].replace('Seed', np.nan, inplace = True, regex=True)\n",
    "data_df_2021['Amount'].replace('Series C', np.nan, inplace = True, regex=True)\n",
    "data_df_2021['Amount'].replace('Undisclosed', np.nan, inplace = True, regex=True)\n",
    "data_df_2021['Amount'].replace('Upsparks', '1200000', inplace = True, regex=True)\n",
    "data_df_2021['Amount'].replace('ah! Ventures', '300000', inplace = True, regex=True)\n",
    "data_df_2021['Amount'].replace('undisclosed', np.nan, inplace = True, regex=True)"
   ]
  },
  {
   "cell_type": "code",
   "execution_count": 108,
   "metadata": {},
   "outputs": [
    {
     "data": {
      "text/plain": [
       "array(['1200000', '120000000', '30000000', '51000000', '2000000',\n",
       "       '188000000', '200000', nan, '1000000', '3000000', '100000',\n",
       "       '700000', '9000000', '40000000', '49000000', '400000', '300000',\n",
       "       '25000000', '160000000', '150000', '1800000', '5000000', '850000',\n",
       "       '53000000', '500000', '1100000', '6000000', '800000', '10000000',\n",
       "       '21000000', '7500000', '26000000', '7400000', '1500000', '600000',\n",
       "       '800000000', '17000000', '3500000', '15000000', '215000000',\n",
       "       '2500000', '350000000', '5500000', '83000000', '110000000',\n",
       "       '500000000', '65000000', '150000000000', '300000000', '2200000',\n",
       "       '35000000', '140000000', '4000000', '13000000', '9500000',\n",
       "       '8000000', '12000000', '1700000', '150000000', '100000000',\n",
       "       '225000000', '6700000', '1300000', '20000000', '250000',\n",
       "       '52000000', '3800000', '17500000', '42000000', '2300000',\n",
       "       '7000000', '450000000', '28000000', '8500000', '37000000',\n",
       "       '370000000', '16000000', '44000000', '770000', '125000000',\n",
       "       '50000000', '4900000', '145000000', '22000000', '70000000',\n",
       "       '6600000', '32000000', '24000000', '725000', '461000', '96000000',\n",
       "       '60000000', '266000000', '4500000', '325000000', '6500000',\n",
       "       '1600000', '225000', '85000000', '235000', '260000', '2900000',\n",
       "       '86000000', '130000', '10000', '111000000', '265000', '76000000',\n",
       "       '75000000', '1000000000', '18000000', '350000', '95000000',\n",
       "       '4100000', '5200000', '1400000', '2600000', '900000', '11000000',\n",
       "       '280000000', '14300000', '81000000', '8200000', '720000', '330000',\n",
       "       '200000000', '36000000', '67000000', '10200000', '220000000',\n",
       "       '108000000', '450000', '660000000', '45000000', '3200000',\n",
       "       '370000', '48000000', '3600000', '192000000', '1900000',\n",
       "       '41000000', '144000000', '270000000', '140000', '250000000',\n",
       "       '320000', '4800000', '38000000', '125000', '64000000', '620000',\n",
       "       '1250000', '400000000', '27000000', '234000000', '460000000',\n",
       "       '13500000', '5100000', '195000000', '7300000', '6300000',\n",
       "       '12500000', '16500000', '340000', '43000000', '3300000',\n",
       "       '92000000', '135000000', '155000', '2100000', '840000000',\n",
       "       '248000000', '4300000', '570000', '4700000', '260000000',\n",
       "       '175000000', '19000000', '810000', '600000000', '90000000',\n",
       "       '5700000', '6750000', '78000000', '5400000', '115000000',\n",
       "       '255000000', '570000000', '550000', '2700000', '4200000',\n",
       "       '31000000', '540000', '14000000', '6200000', '750000', '23000000',\n",
       "       '55000000'], dtype=object)"
      ]
     },
     "execution_count": 108,
     "metadata": {},
     "output_type": "execute_result"
    }
   ],
   "source": [
    "data_df_2021['Amount'].unique()"
   ]
  },
  {
   "cell_type": "code",
   "execution_count": 109,
   "metadata": {},
   "outputs": [
    {
     "data": {
      "text/plain": [
       "$1000000           1\n",
       "$1200000           1\n",
       "$300000            2\n",
       "$6000000           1\n",
       "Bridge             2\n",
       "Debt              27\n",
       "Early seed         1\n",
       "PE                 1\n",
       "Pre-seed          47\n",
       "Pre-series         2\n",
       "Pre-series A     154\n",
       "Pre-series A1      4\n",
       "Pre-series B      10\n",
       "Seed             241\n",
       "Seed+              1\n",
       "Seies A            1\n",
       "Series A         125\n",
       "Series A+          1\n",
       "Series A2          1\n",
       "Series B          49\n",
       "Series B3          1\n",
       "Series C          44\n",
       "Series D          21\n",
       "Series D1          1\n",
       "Series E          17\n",
       "Series F           6\n",
       "Series F1          1\n",
       "Series F2          1\n",
       "Series G           2\n",
       "Series H           2\n",
       "Series I           1\n",
       "Name: Stage, dtype: int64"
      ]
     },
     "execution_count": 109,
     "metadata": {},
     "output_type": "execute_result"
    }
   ],
   "source": [
    "data_df_2021['Stage'].value_counts().sort_index()\n"
   ]
  },
  {
   "cell_type": "code",
   "execution_count": 110,
   "metadata": {},
   "outputs": [],
   "source": [
    "# Replace Values\n",
    "\n",
    "data_df_2021['Stage'].replace(\"[$]\", \"\", inplace = True, regex=True)"
   ]
  },
  {
   "cell_type": "code",
   "execution_count": 111,
   "metadata": {},
   "outputs": [
    {
     "data": {
      "text/html": [
       "<div>\n",
       "<style scoped>\n",
       "    .dataframe tbody tr th:only-of-type {\n",
       "        vertical-align: middle;\n",
       "    }\n",
       "\n",
       "    .dataframe tbody tr th {\n",
       "        vertical-align: top;\n",
       "    }\n",
       "\n",
       "    .dataframe thead th {\n",
       "        text-align: right;\n",
       "    }\n",
       "</style>\n",
       "<table border=\"1\" class=\"dataframe\">\n",
       "  <thead>\n",
       "    <tr style=\"text-align: right;\">\n",
       "      <th></th>\n",
       "      <th>Company_Brand</th>\n",
       "      <th>HeadQuarter</th>\n",
       "      <th>Sector</th>\n",
       "      <th>What_it_does</th>\n",
       "      <th>Amount</th>\n",
       "      <th>Stage</th>\n",
       "      <th>Year</th>\n",
       "    </tr>\n",
       "  </thead>\n",
       "  <tbody>\n",
       "    <tr>\n",
       "      <th>677</th>\n",
       "      <td>Saarthi Pedagogy</td>\n",
       "      <td>Ahmadabad</td>\n",
       "      <td>EdTech</td>\n",
       "      <td>India's fastest growing Pedagogy company, serving to school as an academic growth partner and provide 360° solutions to schools on Academic Strategies</td>\n",
       "      <td>1000000</td>\n",
       "      <td>1000000</td>\n",
       "      <td>2021</td>\n",
       "    </tr>\n",
       "  </tbody>\n",
       "</table>\n",
       "</div>"
      ],
      "text/plain": [
       "        Company_Brand HeadQuarter  Sector  \\\n",
       "677  Saarthi Pedagogy   Ahmadabad  EdTech   \n",
       "\n",
       "                                                                                                                                               What_it_does  \\\n",
       "677  India's fastest growing Pedagogy company, serving to school as an academic growth partner and provide 360° solutions to schools on Academic Strategies   \n",
       "\n",
       "      Amount    Stage  Year  \n",
       "677  1000000  1000000  2021  "
      ]
     },
     "execution_count": 111,
     "metadata": {},
     "output_type": "execute_result"
    }
   ],
   "source": [
    "data_df_2021[data_df_2021['Stage']=='1000000']"
   ]
  },
  {
   "cell_type": "code",
   "execution_count": 112,
   "metadata": {},
   "outputs": [
    {
     "data": {
      "text/html": [
       "<div>\n",
       "<style scoped>\n",
       "    .dataframe tbody tr th:only-of-type {\n",
       "        vertical-align: middle;\n",
       "    }\n",
       "\n",
       "    .dataframe tbody tr th {\n",
       "        vertical-align: top;\n",
       "    }\n",
       "\n",
       "    .dataframe thead th {\n",
       "        text-align: right;\n",
       "    }\n",
       "</style>\n",
       "<table border=\"1\" class=\"dataframe\">\n",
       "  <thead>\n",
       "    <tr style=\"text-align: right;\">\n",
       "      <th></th>\n",
       "      <th>Company_Brand</th>\n",
       "      <th>HeadQuarter</th>\n",
       "      <th>Sector</th>\n",
       "      <th>What_it_does</th>\n",
       "      <th>Amount</th>\n",
       "      <th>Stage</th>\n",
       "      <th>Year</th>\n",
       "    </tr>\n",
       "  </thead>\n",
       "  <tbody>\n",
       "    <tr>\n",
       "      <th>98</th>\n",
       "      <td>FanPlay</td>\n",
       "      <td>NaN</td>\n",
       "      <td>Computer Games</td>\n",
       "      <td>A real money game app specializing in trivia games</td>\n",
       "      <td>1200000</td>\n",
       "      <td>1200000</td>\n",
       "      <td>2021</td>\n",
       "    </tr>\n",
       "  </tbody>\n",
       "</table>\n",
       "</div>"
      ],
      "text/plain": [
       "   Company_Brand HeadQuarter          Sector  \\\n",
       "98       FanPlay         NaN  Computer Games   \n",
       "\n",
       "                                          What_it_does   Amount    Stage  Year  \n",
       "98  A real money game app specializing in trivia games  1200000  1200000  2021  "
      ]
     },
     "execution_count": 112,
     "metadata": {},
     "output_type": "execute_result"
    }
   ],
   "source": [
    "data_df_2021[data_df_2021['Stage']=='1200000']"
   ]
  },
  {
   "cell_type": "code",
   "execution_count": 113,
   "metadata": {},
   "outputs": [
    {
     "data": {
      "text/html": [
       "<div>\n",
       "<style scoped>\n",
       "    .dataframe tbody tr th:only-of-type {\n",
       "        vertical-align: middle;\n",
       "    }\n",
       "\n",
       "    .dataframe tbody tr th {\n",
       "        vertical-align: top;\n",
       "    }\n",
       "\n",
       "    .dataframe thead th {\n",
       "        text-align: right;\n",
       "    }\n",
       "</style>\n",
       "<table border=\"1\" class=\"dataframe\">\n",
       "  <thead>\n",
       "    <tr style=\"text-align: right;\">\n",
       "      <th></th>\n",
       "      <th>Company_Brand</th>\n",
       "      <th>HeadQuarter</th>\n",
       "      <th>Sector</th>\n",
       "      <th>What_it_does</th>\n",
       "      <th>Amount</th>\n",
       "      <th>Stage</th>\n",
       "      <th>Year</th>\n",
       "    </tr>\n",
       "  </thead>\n",
       "  <tbody>\n",
       "    <tr>\n",
       "      <th>538</th>\n",
       "      <td>Little Leap</td>\n",
       "      <td>New Delhi</td>\n",
       "      <td>EdTech</td>\n",
       "      <td>Soft Skills that make Smart Leaders</td>\n",
       "      <td>300000</td>\n",
       "      <td>300000</td>\n",
       "      <td>2021</td>\n",
       "    </tr>\n",
       "    <tr>\n",
       "      <th>551</th>\n",
       "      <td>BHyve</td>\n",
       "      <td>Mumbai</td>\n",
       "      <td>Human Resources</td>\n",
       "      <td>A Future of Work Platform for diffusing Employee Tacit Knowledge and enabling Peer Learning Networks</td>\n",
       "      <td>300000</td>\n",
       "      <td>300000</td>\n",
       "      <td>2021</td>\n",
       "    </tr>\n",
       "  </tbody>\n",
       "</table>\n",
       "</div>"
      ],
      "text/plain": [
       "    Company_Brand HeadQuarter           Sector  \\\n",
       "538   Little Leap   New Delhi           EdTech   \n",
       "551         BHyve      Mumbai  Human Resources   \n",
       "\n",
       "                                                                                             What_it_does  \\\n",
       "538                                                                   Soft Skills that make Smart Leaders   \n",
       "551  A Future of Work Platform for diffusing Employee Tacit Knowledge and enabling Peer Learning Networks   \n",
       "\n",
       "     Amount   Stage  Year  \n",
       "538  300000  300000  2021  \n",
       "551  300000  300000  2021  "
      ]
     },
     "execution_count": 113,
     "metadata": {},
     "output_type": "execute_result"
    }
   ],
   "source": [
    "data_df_2021[data_df_2021['Stage']=='300000']"
   ]
  },
  {
   "cell_type": "code",
   "execution_count": 114,
   "metadata": {},
   "outputs": [
    {
     "data": {
      "text/html": [
       "<div>\n",
       "<style scoped>\n",
       "    .dataframe tbody tr th:only-of-type {\n",
       "        vertical-align: middle;\n",
       "    }\n",
       "\n",
       "    .dataframe tbody tr th {\n",
       "        vertical-align: top;\n",
       "    }\n",
       "\n",
       "    .dataframe thead th {\n",
       "        text-align: right;\n",
       "    }\n",
       "</style>\n",
       "<table border=\"1\" class=\"dataframe\">\n",
       "  <thead>\n",
       "    <tr style=\"text-align: right;\">\n",
       "      <th></th>\n",
       "      <th>Company_Brand</th>\n",
       "      <th>HeadQuarter</th>\n",
       "      <th>Sector</th>\n",
       "      <th>What_it_does</th>\n",
       "      <th>Amount</th>\n",
       "      <th>Stage</th>\n",
       "      <th>Year</th>\n",
       "    </tr>\n",
       "  </thead>\n",
       "  <tbody>\n",
       "    <tr>\n",
       "      <th>674</th>\n",
       "      <td>MYRE Capital</td>\n",
       "      <td>Mumbai</td>\n",
       "      <td>Commercial Real Estate</td>\n",
       "      <td>Democratising Real Estate Ownership</td>\n",
       "      <td>NaN</td>\n",
       "      <td>6000000</td>\n",
       "      <td>2021</td>\n",
       "    </tr>\n",
       "  </tbody>\n",
       "</table>\n",
       "</div>"
      ],
      "text/plain": [
       "    Company_Brand HeadQuarter                  Sector  \\\n",
       "674  MYRE Capital      Mumbai  Commercial Real Estate   \n",
       "\n",
       "                            What_it_does Amount    Stage  Year  \n",
       "674  Democratising Real Estate Ownership    NaN  6000000  2021  "
      ]
     },
     "execution_count": 114,
     "metadata": {},
     "output_type": "execute_result"
    }
   ],
   "source": [
    "data_df_2021[data_df_2021['Stage']=='6000000']"
   ]
  },
  {
   "cell_type": "code",
   "execution_count": 115,
   "metadata": {},
   "outputs": [],
   "source": [
    "# Replace Values\n",
    "\n",
    "data_df_2021['Stage'].replace('1000000', np.nan, inplace = True, regex=True)\n",
    "data_df_2021['Stage'].replace('1200000', np.nan, inplace = True, regex=True)\n",
    "data_df_2021['Stage'].replace('300000', np.nan, inplace = True, regex=True)\n",
    "data_df_2021['Stage'].replace('6000000', np.nan, inplace = True, regex=True)\n",
    "data_df_2021['Stage'].replace('Seies A', 'Series A', inplace = True, regex=True)"
   ]
  },
  {
   "cell_type": "code",
   "execution_count": 116,
   "metadata": {},
   "outputs": [
    {
     "name": "stdout",
     "output_type": "stream",
     "text": [
      "<class 'pandas.core.frame.DataFrame'>\n",
      "Int64Index: 1190 entries, 0 to 1208\n",
      "Data columns (total 7 columns):\n",
      " #   Column         Non-Null Count  Dtype \n",
      "---  ------         --------------  ----- \n",
      " 0   Company_Brand  1190 non-null   object\n",
      " 1   HeadQuarter    1185 non-null   object\n",
      " 2   Sector         1190 non-null   object\n",
      " 3   What_it_does   1190 non-null   object\n",
      " 4   Amount         1044 non-null   object\n",
      " 5   Stage          764 non-null    object\n",
      " 6   Year           1190 non-null   int64 \n",
      "dtypes: int64(1), object(6)\n",
      "memory usage: 106.7+ KB\n"
     ]
    }
   ],
   "source": [
    "data_df_2021.info()"
   ]
  },
  {
   "cell_type": "code",
   "execution_count": 117,
   "metadata": {},
   "outputs": [
    {
     "name": "stdout",
     "output_type": "stream",
     "text": [
      "<class 'pandas.core.frame.DataFrame'>\n",
      "Int64Index: 1052 entries, 0 to 1054\n",
      "Data columns (total 7 columns):\n",
      " #   Column         Non-Null Count  Dtype \n",
      "---  ------         --------------  ----- \n",
      " 0   Company/Brand  1052 non-null   object\n",
      " 1   HeadQuarter    958 non-null    object\n",
      " 2   Sector         1039 non-null   object\n",
      " 3   What it does   1052 non-null   object\n",
      " 4   Amount($)      799 non-null    object\n",
      " 5   Stage          590 non-null    object\n",
      " 6   Year           1052 non-null   int64 \n",
      "dtypes: int64(1), object(6)\n",
      "memory usage: 65.8+ KB\n"
     ]
    }
   ],
   "source": [
    "data_df_2020.info()"
   ]
  },
  {
   "cell_type": "code",
   "execution_count": 118,
   "metadata": {},
   "outputs": [],
   "source": [
    "# Rename Columns to match other Data\n",
    "data_df_2021.rename(columns = {'Company_Brand': 'Company/Brand', 'What_it_does': 'What it does',\n",
    "                                'Amount': 'Amount($)'}, inplace=True)"
   ]
  },
  {
   "cell_type": "code",
   "execution_count": 119,
   "metadata": {},
   "outputs": [
    {
     "data": {
      "text/html": [
       "<div>\n",
       "<style scoped>\n",
       "    .dataframe tbody tr th:only-of-type {\n",
       "        vertical-align: middle;\n",
       "    }\n",
       "\n",
       "    .dataframe tbody tr th {\n",
       "        vertical-align: top;\n",
       "    }\n",
       "\n",
       "    .dataframe thead th {\n",
       "        text-align: right;\n",
       "    }\n",
       "</style>\n",
       "<table border=\"1\" class=\"dataframe\">\n",
       "  <thead>\n",
       "    <tr style=\"text-align: right;\">\n",
       "      <th></th>\n",
       "      <th>Company/Brand</th>\n",
       "      <th>HeadQuarter</th>\n",
       "      <th>Sector</th>\n",
       "      <th>What it does</th>\n",
       "      <th>Amount($)</th>\n",
       "      <th>Stage</th>\n",
       "      <th>Year</th>\n",
       "    </tr>\n",
       "  </thead>\n",
       "  <tbody>\n",
       "    <tr>\n",
       "      <th>2237</th>\n",
       "      <td>Gigforce</td>\n",
       "      <td>Gurugram</td>\n",
       "      <td>Staffing &amp; Recruiting</td>\n",
       "      <td>A gig/on-demand staffing company.</td>\n",
       "      <td>3000000</td>\n",
       "      <td>Pre-series A</td>\n",
       "      <td>2021</td>\n",
       "    </tr>\n",
       "    <tr>\n",
       "      <th>2238</th>\n",
       "      <td>Vahdam</td>\n",
       "      <td>New Delhi</td>\n",
       "      <td>Food &amp; Beverages</td>\n",
       "      <td>VAHDAM is among the world’s first vertically integrated online-first tea brands.</td>\n",
       "      <td>20000000</td>\n",
       "      <td>Series D</td>\n",
       "      <td>2021</td>\n",
       "    </tr>\n",
       "    <tr>\n",
       "      <th>2239</th>\n",
       "      <td>Leap Finance</td>\n",
       "      <td>Bangalore</td>\n",
       "      <td>Financial Services</td>\n",
       "      <td>International education loans for high potential students.</td>\n",
       "      <td>55000000</td>\n",
       "      <td>Series C</td>\n",
       "      <td>2021</td>\n",
       "    </tr>\n",
       "    <tr>\n",
       "      <th>2240</th>\n",
       "      <td>CollegeDekho</td>\n",
       "      <td>Gurugram</td>\n",
       "      <td>EdTech</td>\n",
       "      <td>Collegedekho.com is Student’s Partner, Friend &amp; Confidante, To Help Him Take a Decision and Move On to His Career Goals.</td>\n",
       "      <td>26000000</td>\n",
       "      <td>Series B</td>\n",
       "      <td>2021</td>\n",
       "    </tr>\n",
       "    <tr>\n",
       "      <th>2241</th>\n",
       "      <td>WeRize</td>\n",
       "      <td>Bangalore</td>\n",
       "      <td>Financial Services</td>\n",
       "      <td>India’s first socially distributed full stack financial services platform for small town India</td>\n",
       "      <td>8000000</td>\n",
       "      <td>Series A</td>\n",
       "      <td>2021</td>\n",
       "    </tr>\n",
       "  </tbody>\n",
       "</table>\n",
       "</div>"
      ],
      "text/plain": [
       "     Company/Brand HeadQuarter                 Sector  \\\n",
       "2237      Gigforce    Gurugram  Staffing & Recruiting   \n",
       "2238        Vahdam   New Delhi       Food & Beverages   \n",
       "2239  Leap Finance   Bangalore     Financial Services   \n",
       "2240  CollegeDekho    Gurugram                 EdTech   \n",
       "2241        WeRize   Bangalore     Financial Services   \n",
       "\n",
       "                                                                                                                  What it does  \\\n",
       "2237                                                                                         A gig/on-demand staffing company.   \n",
       "2238                                          VAHDAM is among the world’s first vertically integrated online-first tea brands.   \n",
       "2239                                                                International education loans for high potential students.   \n",
       "2240  Collegedekho.com is Student’s Partner, Friend & Confidante, To Help Him Take a Decision and Move On to His Career Goals.   \n",
       "2241                            India’s first socially distributed full stack financial services platform for small town India   \n",
       "\n",
       "     Amount($)         Stage  Year  \n",
       "2237   3000000  Pre-series A  2021  \n",
       "2238  20000000      Series D  2021  \n",
       "2239  55000000      Series C  2021  \n",
       "2240  26000000      Series B  2021  \n",
       "2241   8000000      Series A  2021  "
      ]
     },
     "execution_count": 119,
     "metadata": {},
     "output_type": "execute_result"
    }
   ],
   "source": [
    "#Merge 2020 and 2021 Data\n",
    "\n",
    "data_new_2 = pd.concat([data_df_2020, data_df_2021], ignore_index=True)\n",
    "data_new_2.tail()"
   ]
  },
  {
   "cell_type": "code",
   "execution_count": 120,
   "metadata": {},
   "outputs": [
    {
     "name": "stdout",
     "output_type": "stream",
     "text": [
      "<class 'pandas.core.frame.DataFrame'>\n",
      "RangeIndex: 2242 entries, 0 to 2241\n",
      "Data columns (total 7 columns):\n",
      " #   Column         Non-Null Count  Dtype \n",
      "---  ------         --------------  ----- \n",
      " 0   Company/Brand  2242 non-null   object\n",
      " 1   HeadQuarter    2143 non-null   object\n",
      " 2   Sector         2229 non-null   object\n",
      " 3   What it does   2242 non-null   object\n",
      " 4   Amount($)      1843 non-null   object\n",
      " 5   Stage          1354 non-null   object\n",
      " 6   Year           2242 non-null   int64 \n",
      "dtypes: int64(1), object(6)\n",
      "memory usage: 122.7+ KB\n"
     ]
    }
   ],
   "source": [
    "data_new_2.info()"
   ]
  },
  {
   "cell_type": "code",
   "execution_count": 121,
   "metadata": {},
   "outputs": [],
   "source": [
    "# Merge all tables together into 1 DataFrame\n",
    "\n",
    "Final_Startup_Data = pd.concat([data_new, data_new_2], ignore_index=True)\n"
   ]
  },
  {
   "cell_type": "markdown",
   "metadata": {},
   "source": [
    "### Final Data set \n",
    "Understanding, cleaning and preprocessing Final merged dataset\n",
    "\n",
    "-   Check for duplicates\n",
    "\n",
    "-   Deal with missing data\n",
    "\n",
    "-   Check and refine column datatypes\n",
    "\n",
    "-   Any other custom rule based checks"
   ]
  },
  {
   "cell_type": "code",
   "execution_count": 122,
   "metadata": {},
   "outputs": [
    {
     "data": {
      "text/html": [
       "<div>\n",
       "<style scoped>\n",
       "    .dataframe tbody tr th:only-of-type {\n",
       "        vertical-align: middle;\n",
       "    }\n",
       "\n",
       "    .dataframe tbody tr th {\n",
       "        vertical-align: top;\n",
       "    }\n",
       "\n",
       "    .dataframe thead th {\n",
       "        text-align: right;\n",
       "    }\n",
       "</style>\n",
       "<table border=\"1\" class=\"dataframe\">\n",
       "  <thead>\n",
       "    <tr style=\"text-align: right;\">\n",
       "      <th></th>\n",
       "      <th>Company/Brand</th>\n",
       "      <th>Sector</th>\n",
       "      <th>Stage</th>\n",
       "      <th>HeadQuarter</th>\n",
       "      <th>What it does</th>\n",
       "      <th>Amount($)</th>\n",
       "      <th>Year</th>\n",
       "    </tr>\n",
       "  </thead>\n",
       "  <tbody>\n",
       "    <tr>\n",
       "      <th>2851</th>\n",
       "      <td>Gigforce</td>\n",
       "      <td>Staffing &amp; Recruiting</td>\n",
       "      <td>Pre-series A</td>\n",
       "      <td>Gurugram</td>\n",
       "      <td>A gig/on-demand staffing company.</td>\n",
       "      <td>3000000</td>\n",
       "      <td>2021</td>\n",
       "    </tr>\n",
       "    <tr>\n",
       "      <th>2852</th>\n",
       "      <td>Vahdam</td>\n",
       "      <td>Food &amp; Beverages</td>\n",
       "      <td>Series D</td>\n",
       "      <td>New Delhi</td>\n",
       "      <td>VAHDAM is among the world’s first vertically integrated online-first tea brands.</td>\n",
       "      <td>20000000</td>\n",
       "      <td>2021</td>\n",
       "    </tr>\n",
       "    <tr>\n",
       "      <th>2853</th>\n",
       "      <td>Leap Finance</td>\n",
       "      <td>Financial Services</td>\n",
       "      <td>Series C</td>\n",
       "      <td>Bangalore</td>\n",
       "      <td>International education loans for high potential students.</td>\n",
       "      <td>55000000</td>\n",
       "      <td>2021</td>\n",
       "    </tr>\n",
       "    <tr>\n",
       "      <th>2854</th>\n",
       "      <td>CollegeDekho</td>\n",
       "      <td>EdTech</td>\n",
       "      <td>Series B</td>\n",
       "      <td>Gurugram</td>\n",
       "      <td>Collegedekho.com is Student’s Partner, Friend &amp; Confidante, To Help Him Take a Decision and Move On to His Career Goals.</td>\n",
       "      <td>26000000</td>\n",
       "      <td>2021</td>\n",
       "    </tr>\n",
       "    <tr>\n",
       "      <th>2855</th>\n",
       "      <td>WeRize</td>\n",
       "      <td>Financial Services</td>\n",
       "      <td>Series A</td>\n",
       "      <td>Bangalore</td>\n",
       "      <td>India’s first socially distributed full stack financial services platform for small town India</td>\n",
       "      <td>8000000</td>\n",
       "      <td>2021</td>\n",
       "    </tr>\n",
       "  </tbody>\n",
       "</table>\n",
       "</div>"
      ],
      "text/plain": [
       "     Company/Brand                 Sector         Stage HeadQuarter  \\\n",
       "2851      Gigforce  Staffing & Recruiting  Pre-series A    Gurugram   \n",
       "2852        Vahdam       Food & Beverages      Series D   New Delhi   \n",
       "2853  Leap Finance     Financial Services      Series C   Bangalore   \n",
       "2854  CollegeDekho                 EdTech      Series B    Gurugram   \n",
       "2855        WeRize     Financial Services      Series A   Bangalore   \n",
       "\n",
       "                                                                                                                  What it does  \\\n",
       "2851                                                                                         A gig/on-demand staffing company.   \n",
       "2852                                          VAHDAM is among the world’s first vertically integrated online-first tea brands.   \n",
       "2853                                                                International education loans for high potential students.   \n",
       "2854  Collegedekho.com is Student’s Partner, Friend & Confidante, To Help Him Take a Decision and Move On to His Career Goals.   \n",
       "2855                            India’s first socially distributed full stack financial services platform for small town India   \n",
       "\n",
       "     Amount($)  Year  \n",
       "2851   3000000  2021  \n",
       "2852  20000000  2021  \n",
       "2853  55000000  2021  \n",
       "2854  26000000  2021  \n",
       "2855   8000000  2021  "
      ]
     },
     "execution_count": 122,
     "metadata": {},
     "output_type": "execute_result"
    }
   ],
   "source": [
    "Final_Startup_Data.tail()"
   ]
  },
  {
   "cell_type": "code",
   "execution_count": 123,
   "metadata": {},
   "outputs": [
    {
     "name": "stdout",
     "output_type": "stream",
     "text": [
      "<class 'pandas.core.frame.DataFrame'>\n",
      "RangeIndex: 2856 entries, 0 to 2855\n",
      "Data columns (total 7 columns):\n",
      " #   Column         Non-Null Count  Dtype \n",
      "---  ------         --------------  ----- \n",
      " 0   Company/Brand  2856 non-null   object\n",
      " 1   Sector         2808 non-null   object\n",
      " 2   Stage          1882 non-null   object\n",
      " 3   HeadQuarter    2738 non-null   object\n",
      " 4   What it does   2856 non-null   object\n",
      " 5   Amount($)      2297 non-null   object\n",
      " 6   Year           2856 non-null   int64 \n",
      "dtypes: int64(1), object(6)\n",
      "memory usage: 156.3+ KB\n"
     ]
    }
   ],
   "source": [
    "Final_Startup_Data.info()"
   ]
  },
  {
   "cell_type": "code",
   "execution_count": 124,
   "metadata": {},
   "outputs": [
    {
     "data": {
      "text/plain": [
       "3"
      ]
     },
     "execution_count": 124,
     "metadata": {},
     "output_type": "execute_result"
    }
   ],
   "source": [
    "# Check for duplicates\n",
    "\n",
    "Final_Startup_Data.duplicated().sum()"
   ]
  },
  {
   "cell_type": "code",
   "execution_count": 125,
   "metadata": {},
   "outputs": [
    {
     "data": {
      "text/html": [
       "<div>\n",
       "<style scoped>\n",
       "    .dataframe tbody tr th:only-of-type {\n",
       "        vertical-align: middle;\n",
       "    }\n",
       "\n",
       "    .dataframe tbody tr th {\n",
       "        vertical-align: top;\n",
       "    }\n",
       "\n",
       "    .dataframe thead th {\n",
       "        text-align: right;\n",
       "    }\n",
       "</style>\n",
       "<table border=\"1\" class=\"dataframe\">\n",
       "  <thead>\n",
       "    <tr style=\"text-align: right;\">\n",
       "      <th></th>\n",
       "      <th>Company/Brand</th>\n",
       "      <th>Sector</th>\n",
       "      <th>Stage</th>\n",
       "      <th>HeadQuarter</th>\n",
       "      <th>What it does</th>\n",
       "      <th>Amount($)</th>\n",
       "      <th>Year</th>\n",
       "    </tr>\n",
       "  </thead>\n",
       "  <tbody>\n",
       "    <tr>\n",
       "      <th>827</th>\n",
       "      <td>Genius Teacher</td>\n",
       "      <td>EdTech</td>\n",
       "      <td>NaN</td>\n",
       "      <td>Mumbai</td>\n",
       "      <td>Genius Teacher creates engaging educational content, delivers fun learning experience to the students</td>\n",
       "      <td>2000000.0</td>\n",
       "      <td>2020</td>\n",
       "    </tr>\n",
       "    <tr>\n",
       "      <th>845</th>\n",
       "      <td>Genius Teacher</td>\n",
       "      <td>EdTech</td>\n",
       "      <td>NaN</td>\n",
       "      <td>Mumbai</td>\n",
       "      <td>Genius Teacher creates engaging educational content, delivers fun learning experience to the students</td>\n",
       "      <td>2000000.0</td>\n",
       "      <td>2020</td>\n",
       "    </tr>\n",
       "    <tr>\n",
       "      <th>1546</th>\n",
       "      <td>Byju</td>\n",
       "      <td>EdTech</td>\n",
       "      <td>NaN</td>\n",
       "      <td>NaN</td>\n",
       "      <td>Provides online learning classes</td>\n",
       "      <td>200000000.0</td>\n",
       "      <td>2020</td>\n",
       "    </tr>\n",
       "    <tr>\n",
       "      <th>1646</th>\n",
       "      <td>Byju</td>\n",
       "      <td>EdTech</td>\n",
       "      <td>NaN</td>\n",
       "      <td>NaN</td>\n",
       "      <td>Provides online learning classes</td>\n",
       "      <td>200000000.0</td>\n",
       "      <td>2020</td>\n",
       "    </tr>\n",
       "    <tr>\n",
       "      <th>1998</th>\n",
       "      <td>Siply</td>\n",
       "      <td>FinTech</td>\n",
       "      <td>Seed</td>\n",
       "      <td>Bangalore</td>\n",
       "      <td>Siply Services operates as a micro-savings platform.</td>\n",
       "      <td>1000000</td>\n",
       "      <td>2021</td>\n",
       "    </tr>\n",
       "    <tr>\n",
       "      <th>2063</th>\n",
       "      <td>Siply</td>\n",
       "      <td>FinTech</td>\n",
       "      <td>Seed</td>\n",
       "      <td>Bangalore</td>\n",
       "      <td>Siply Services operates as a micro-savings platform.</td>\n",
       "      <td>1000000</td>\n",
       "      <td>2021</td>\n",
       "    </tr>\n",
       "  </tbody>\n",
       "</table>\n",
       "</div>"
      ],
      "text/plain": [
       "       Company/Brand   Sector Stage HeadQuarter  \\\n",
       "827   Genius Teacher   EdTech   NaN      Mumbai   \n",
       "845   Genius Teacher   EdTech   NaN      Mumbai   \n",
       "1546            Byju   EdTech   NaN         NaN   \n",
       "1646            Byju   EdTech   NaN         NaN   \n",
       "1998           Siply  FinTech  Seed   Bangalore   \n",
       "2063           Siply  FinTech  Seed   Bangalore   \n",
       "\n",
       "                                                                                               What it does  \\\n",
       "827   Genius Teacher creates engaging educational content, delivers fun learning experience to the students   \n",
       "845   Genius Teacher creates engaging educational content, delivers fun learning experience to the students   \n",
       "1546                                                                       Provides online learning classes   \n",
       "1646                                                                       Provides online learning classes   \n",
       "1998                                                   Siply Services operates as a micro-savings platform.   \n",
       "2063                                                   Siply Services operates as a micro-savings platform.   \n",
       "\n",
       "        Amount($)  Year  \n",
       "827     2000000.0  2020  \n",
       "845     2000000.0  2020  \n",
       "1546  200000000.0  2020  \n",
       "1646  200000000.0  2020  \n",
       "1998      1000000  2021  \n",
       "2063      1000000  2021  "
      ]
     },
     "execution_count": 125,
     "metadata": {},
     "output_type": "execute_result"
    }
   ],
   "source": [
    "# show all occurences of duplicated rows\n",
    "\n",
    "Final_Startup_Data[Final_Startup_Data.duplicated(keep=False)]"
   ]
  },
  {
   "cell_type": "code",
   "execution_count": 126,
   "metadata": {},
   "outputs": [],
   "source": [
    "Final_Startup_Data.drop_duplicates(inplace = True, ignore_index=True)"
   ]
  },
  {
   "cell_type": "code",
   "execution_count": 127,
   "metadata": {},
   "outputs": [
    {
     "data": {
      "text/plain": [
       "Company/Brand    object\n",
       "Sector           object\n",
       "Stage            object\n",
       "HeadQuarter      object\n",
       "What it does     object\n",
       "Amount($)        object\n",
       "Year              int64\n",
       "dtype: object"
      ]
     },
     "execution_count": 127,
     "metadata": {},
     "output_type": "execute_result"
    }
   ],
   "source": [
    "Final_Startup_Data.dtypes"
   ]
  },
  {
   "cell_type": "code",
   "execution_count": 128,
   "metadata": {},
   "outputs": [],
   "source": [
    "# Change dtypes\n",
    "\n",
    "Final_Startup_Data['Amount($)']=Final_Startup_Data['Amount($)'].astype(float)\n",
    "Final_Startup_Data['Year']=Final_Startup_Data['Year'].astype(str)"
   ]
  },
  {
   "cell_type": "code",
   "execution_count": 129,
   "metadata": {},
   "outputs": [
    {
     "name": "stdout",
     "output_type": "stream",
     "text": [
      "<class 'pandas.core.frame.DataFrame'>\n",
      "RangeIndex: 2853 entries, 0 to 2852\n",
      "Data columns (total 7 columns):\n",
      " #   Column         Non-Null Count  Dtype  \n",
      "---  ------         --------------  -----  \n",
      " 0   Company/Brand  2853 non-null   object \n",
      " 1   Sector         2805 non-null   object \n",
      " 2   Stage          1881 non-null   object \n",
      " 3   HeadQuarter    2736 non-null   object \n",
      " 4   What it does   2853 non-null   object \n",
      " 5   Amount($)      2294 non-null   float64\n",
      " 6   Year           2853 non-null   object \n",
      "dtypes: float64(1), object(6)\n",
      "memory usage: 156.1+ KB\n"
     ]
    }
   ],
   "source": [
    "Final_Startup_Data.info()"
   ]
  },
  {
   "cell_type": "code",
   "execution_count": 130,
   "metadata": {},
   "outputs": [
    {
     "data": {
      "text/plain": [
       "object     6\n",
       "float64    1\n",
       "dtype: int64"
      ]
     },
     "execution_count": 130,
     "metadata": {},
     "output_type": "execute_result"
    }
   ],
   "source": [
    "Final_Startup_Data.dtypes.value_counts()"
   ]
  },
  {
   "cell_type": "code",
   "execution_count": 131,
   "metadata": {},
   "outputs": [
    {
     "data": {
      "text/html": [
       "<div>\n",
       "<style scoped>\n",
       "    .dataframe tbody tr th:only-of-type {\n",
       "        vertical-align: middle;\n",
       "    }\n",
       "\n",
       "    .dataframe tbody tr th {\n",
       "        vertical-align: top;\n",
       "    }\n",
       "\n",
       "    .dataframe thead th {\n",
       "        text-align: right;\n",
       "    }\n",
       "</style>\n",
       "<table border=\"1\" class=\"dataframe\">\n",
       "  <thead>\n",
       "    <tr style=\"text-align: right;\">\n",
       "      <th></th>\n",
       "      <th>Amount($)</th>\n",
       "    </tr>\n",
       "  </thead>\n",
       "  <tbody>\n",
       "    <tr>\n",
       "      <th>count</th>\n",
       "      <td>2,294.00</td>\n",
       "    </tr>\n",
       "    <tr>\n",
       "      <th>mean</th>\n",
       "      <td>121,793,941.14</td>\n",
       "    </tr>\n",
       "    <tr>\n",
       "      <th>std</th>\n",
       "      <td>3,456,420,135.78</td>\n",
       "    </tr>\n",
       "    <tr>\n",
       "      <th>min</th>\n",
       "      <td>876.00</td>\n",
       "    </tr>\n",
       "    <tr>\n",
       "      <th>25%</th>\n",
       "      <td>1,000,000.00</td>\n",
       "    </tr>\n",
       "    <tr>\n",
       "      <th>50%</th>\n",
       "      <td>3,000,000.00</td>\n",
       "    </tr>\n",
       "    <tr>\n",
       "      <th>75%</th>\n",
       "      <td>12,000,000.00</td>\n",
       "    </tr>\n",
       "    <tr>\n",
       "      <th>max</th>\n",
       "      <td>150,000,000,000.00</td>\n",
       "    </tr>\n",
       "  </tbody>\n",
       "</table>\n",
       "</div>"
      ],
      "text/plain": [
       "               Amount($)\n",
       "count           2,294.00\n",
       "mean      121,793,941.14\n",
       "std     3,456,420,135.78\n",
       "min               876.00\n",
       "25%         1,000,000.00\n",
       "50%         3,000,000.00\n",
       "75%        12,000,000.00\n",
       "max   150,000,000,000.00"
      ]
     },
     "execution_count": 131,
     "metadata": {},
     "output_type": "execute_result"
    }
   ],
   "source": [
    "pd.set_option('display.float_format', '{:,.2f}'.format)\n",
    "Final_Startup_Data.describe()"
   ]
  },
  {
   "cell_type": "code",
   "execution_count": 132,
   "metadata": {},
   "outputs": [
    {
     "data": {
      "text/plain": [
       "3D Printing            1\n",
       "AI                    46\n",
       "AI & Data science      1\n",
       "AI & Debt              1\n",
       "AI & Deep learning     1\n",
       "                      ..\n",
       "Wine & Spirits         2\n",
       "Work fulfillment       1\n",
       "Yoga & wellness        3\n",
       "eMobility              1\n",
       "eSports                1\n",
       "Name: Sector, Length: 527, dtype: int64"
      ]
     },
     "execution_count": 132,
     "metadata": {},
     "output_type": "execute_result"
    }
   ],
   "source": [
    "Final_Startup_Data['Sector'].value_counts().sort_index()"
   ]
  },
  {
   "cell_type": "code",
   "execution_count": 133,
   "metadata": {},
   "outputs": [
    {
     "data": {
      "text/html": [
       "<div>\n",
       "<style scoped>\n",
       "    .dataframe tbody tr th:only-of-type {\n",
       "        vertical-align: middle;\n",
       "    }\n",
       "\n",
       "    .dataframe tbody tr th {\n",
       "        vertical-align: top;\n",
       "    }\n",
       "\n",
       "    .dataframe thead th {\n",
       "        text-align: right;\n",
       "    }\n",
       "</style>\n",
       "<table border=\"1\" class=\"dataframe\">\n",
       "  <thead>\n",
       "    <tr style=\"text-align: right;\">\n",
       "      <th></th>\n",
       "      <th>Company/Brand</th>\n",
       "      <th>Sector</th>\n",
       "      <th>Stage</th>\n",
       "      <th>HeadQuarter</th>\n",
       "      <th>What it does</th>\n",
       "      <th>Amount($)</th>\n",
       "      <th>Year</th>\n",
       "    </tr>\n",
       "  </thead>\n",
       "  <tbody>\n",
       "    <tr>\n",
       "      <th>58</th>\n",
       "      <td>MissMalini Entertainment</td>\n",
       "      <td>NaN</td>\n",
       "      <td>Seed</td>\n",
       "      <td>Mumbai</td>\n",
       "      <td>MissMalini Entertainment is a multi-platform new media network dedicated to Entertaining, Connecting &amp; Empowering young Indians.</td>\n",
       "      <td>1,518,400.00</td>\n",
       "      <td>2018</td>\n",
       "    </tr>\n",
       "    <tr>\n",
       "      <th>105</th>\n",
       "      <td>Jagaran Microfin</td>\n",
       "      <td>NaN</td>\n",
       "      <td>Debt Financing</td>\n",
       "      <td>Kolkata</td>\n",
       "      <td>Jagaran Microfin is a Microfinance institution which achieves a healthy amalgamation of social and financial</td>\n",
       "      <td>8,030,000.00</td>\n",
       "      <td>2018</td>\n",
       "    </tr>\n",
       "    <tr>\n",
       "      <th>121</th>\n",
       "      <td>FLEECA</td>\n",
       "      <td>NaN</td>\n",
       "      <td>Seed</td>\n",
       "      <td>Jaipur</td>\n",
       "      <td>FLEECA is a Tyre Care Provider company.</td>\n",
       "      <td>NaN</td>\n",
       "      <td>2018</td>\n",
       "    </tr>\n",
       "    <tr>\n",
       "      <th>146</th>\n",
       "      <td>WheelsEMI</td>\n",
       "      <td>NaN</td>\n",
       "      <td>Series B</td>\n",
       "      <td>Pune</td>\n",
       "      <td>WheelsEMI is the brand name of NBFC, WheelsEMI Pvt. Ltd.</td>\n",
       "      <td>14,000,000.00</td>\n",
       "      <td>2018</td>\n",
       "    </tr>\n",
       "    <tr>\n",
       "      <th>153</th>\n",
       "      <td>Fric Bergen</td>\n",
       "      <td>NaN</td>\n",
       "      <td>NaN</td>\n",
       "      <td>Alwar</td>\n",
       "      <td>Fric Bergen is a leader in the specialty food industry.</td>\n",
       "      <td>NaN</td>\n",
       "      <td>2018</td>\n",
       "    </tr>\n",
       "    <tr>\n",
       "      <th>174</th>\n",
       "      <td>Deftouch</td>\n",
       "      <td>NaN</td>\n",
       "      <td>Seed</td>\n",
       "      <td>Bangalore</td>\n",
       "      <td>Deftouch is a mobile game development company that currently focuses on winning the Cricket gaming market with a social multiplayer game.</td>\n",
       "      <td>NaN</td>\n",
       "      <td>2018</td>\n",
       "    </tr>\n",
       "    <tr>\n",
       "      <th>181</th>\n",
       "      <td>Corefactors</td>\n",
       "      <td>NaN</td>\n",
       "      <td>Seed</td>\n",
       "      <td>Bangalore</td>\n",
       "      <td>Corefactors is a leading campaign management, business communication and analytics company.</td>\n",
       "      <td>NaN</td>\n",
       "      <td>2018</td>\n",
       "    </tr>\n",
       "    <tr>\n",
       "      <th>210</th>\n",
       "      <td>Cell Propulsion</td>\n",
       "      <td>NaN</td>\n",
       "      <td>Seed</td>\n",
       "      <td>Bangalore</td>\n",
       "      <td>Cell Propulsion is an electric mobility startup that designs autonomous electric vehicles.</td>\n",
       "      <td>102,200.00</td>\n",
       "      <td>2018</td>\n",
       "    </tr>\n",
       "    <tr>\n",
       "      <th>230</th>\n",
       "      <td>Flathalt</td>\n",
       "      <td>NaN</td>\n",
       "      <td>Angel</td>\n",
       "      <td>Gurgaon</td>\n",
       "      <td>FInd your Customized Home here.</td>\n",
       "      <td>50,000.00</td>\n",
       "      <td>2018</td>\n",
       "    </tr>\n",
       "    <tr>\n",
       "      <th>235</th>\n",
       "      <td>dishq</td>\n",
       "      <td>NaN</td>\n",
       "      <td>Seed</td>\n",
       "      <td>Bengaluru</td>\n",
       "      <td>dishq leverages food science and machine learning (AI) to understand and predict people's tastes.</td>\n",
       "      <td>400,000.00</td>\n",
       "      <td>2018</td>\n",
       "    </tr>\n",
       "    <tr>\n",
       "      <th>238</th>\n",
       "      <td>Trell</td>\n",
       "      <td>NaN</td>\n",
       "      <td>Seed</td>\n",
       "      <td>Bangalore City</td>\n",
       "      <td>Trell is a location based network which helps you in exploring amazing experiences and annotating places around you.</td>\n",
       "      <td>1,250,000.00</td>\n",
       "      <td>2018</td>\n",
       "    </tr>\n",
       "    <tr>\n",
       "      <th>242</th>\n",
       "      <td>HousingMan.com</td>\n",
       "      <td>NaN</td>\n",
       "      <td>Seed</td>\n",
       "      <td>Bengaluru</td>\n",
       "      <td>New Apartments, Flats for Sale in Bangalore</td>\n",
       "      <td>1,503,800.00</td>\n",
       "      <td>2018</td>\n",
       "    </tr>\n",
       "    <tr>\n",
       "      <th>243</th>\n",
       "      <td>Steradian Semiconductors</td>\n",
       "      <td>NaN</td>\n",
       "      <td>Seed</td>\n",
       "      <td>Bangalore</td>\n",
       "      <td>It is a fabless semiconductor company focused on CMOS millimeter wave products for Radar.</td>\n",
       "      <td>NaN</td>\n",
       "      <td>2018</td>\n",
       "    </tr>\n",
       "    <tr>\n",
       "      <th>247</th>\n",
       "      <td>SaffronStays</td>\n",
       "      <td>NaN</td>\n",
       "      <td>Seed</td>\n",
       "      <td>Mumbai</td>\n",
       "      <td>SaffronStays connects travellers to India's Incredible hosts.</td>\n",
       "      <td>2,000,000.00</td>\n",
       "      <td>2018</td>\n",
       "    </tr>\n",
       "    <tr>\n",
       "      <th>251</th>\n",
       "      <td>Inner Being Wellness</td>\n",
       "      <td>NaN</td>\n",
       "      <td>Angel</td>\n",
       "      <td>Hyderabad</td>\n",
       "      <td>Inner Being Wellness manufactures beauty, wellness, and nutrition products.</td>\n",
       "      <td>511,000.00</td>\n",
       "      <td>2018</td>\n",
       "    </tr>\n",
       "    <tr>\n",
       "      <th>257</th>\n",
       "      <td>MySEODoc</td>\n",
       "      <td>NaN</td>\n",
       "      <td>Seed</td>\n",
       "      <td>Delhi</td>\n",
       "      <td>SEO, PPC, Search Engine Marketing, Social Media Optimization, Content Marketing, Brand Reputation Management</td>\n",
       "      <td>NaN</td>\n",
       "      <td>2018</td>\n",
       "    </tr>\n",
       "    <tr>\n",
       "      <th>258</th>\n",
       "      <td>ENLYFT DIGITAL SOLUTIONS PRIVATE LIMITED</td>\n",
       "      <td>NaN</td>\n",
       "      <td>Seed</td>\n",
       "      <td>Pune</td>\n",
       "      <td>Digital Marketing Agency</td>\n",
       "      <td>2,920.00</td>\n",
       "      <td>2018</td>\n",
       "    </tr>\n",
       "    <tr>\n",
       "      <th>259</th>\n",
       "      <td>Scale Labs</td>\n",
       "      <td>NaN</td>\n",
       "      <td>Seed</td>\n",
       "      <td>Delhi</td>\n",
       "      <td>Scale Labs is a cross border e-commerce solutions provider that drives global trade for brands.</td>\n",
       "      <td>1,000,000.00</td>\n",
       "      <td>2018</td>\n",
       "    </tr>\n",
       "    <tr>\n",
       "      <th>294</th>\n",
       "      <td>Roadcast</td>\n",
       "      <td>NaN</td>\n",
       "      <td>Angel</td>\n",
       "      <td>New Delhi</td>\n",
       "      <td>Transforming the way businesses deliver. Work-force &amp; fleet mobility tools.</td>\n",
       "      <td>250,000.00</td>\n",
       "      <td>2018</td>\n",
       "    </tr>\n",
       "    <tr>\n",
       "      <th>325</th>\n",
       "      <td>Toffee</td>\n",
       "      <td>NaN</td>\n",
       "      <td>Seed</td>\n",
       "      <td>Gurgaon</td>\n",
       "      <td>Toffee is a bite size, micro-event &amp; contextual insurtech startup which aims to de-jargonise the insurance buying experience.</td>\n",
       "      <td>1,500,000.00</td>\n",
       "      <td>2018</td>\n",
       "    </tr>\n",
       "    <tr>\n",
       "      <th>326</th>\n",
       "      <td>ORO Wealth</td>\n",
       "      <td>NaN</td>\n",
       "      <td>Series A</td>\n",
       "      <td>Mumbai</td>\n",
       "      <td>Online wealth management platform</td>\n",
       "      <td>1,600,000.00</td>\n",
       "      <td>2018</td>\n",
       "    </tr>\n",
       "    <tr>\n",
       "      <th>346</th>\n",
       "      <td>Finwego</td>\n",
       "      <td>NaN</td>\n",
       "      <td>Seed</td>\n",
       "      <td>Chennai</td>\n",
       "      <td>Finwego partners with Small and Medium Businesses in India to offer convenient and responsible credit to their employees</td>\n",
       "      <td>NaN</td>\n",
       "      <td>2018</td>\n",
       "    </tr>\n",
       "    <tr>\n",
       "      <th>397</th>\n",
       "      <td>Cred</td>\n",
       "      <td>NaN</td>\n",
       "      <td>Seed</td>\n",
       "      <td>Bengaluru</td>\n",
       "      <td>Cred is a platform to celebrate and reward the most creditworthy people of India.</td>\n",
       "      <td>NaN</td>\n",
       "      <td>2018</td>\n",
       "    </tr>\n",
       "    <tr>\n",
       "      <th>456</th>\n",
       "      <td>Origo</td>\n",
       "      <td>NaN</td>\n",
       "      <td>NaN</td>\n",
       "      <td>Gurgaon</td>\n",
       "      <td>Origo Commodities, a complete post-harvest management services for agricultural commodities, is the fastest growing company in its sector.</td>\n",
       "      <td>11,680,000.00</td>\n",
       "      <td>2018</td>\n",
       "    </tr>\n",
       "    <tr>\n",
       "      <th>471</th>\n",
       "      <td>Sequretek</td>\n",
       "      <td>NaN</td>\n",
       "      <td>NaN</td>\n",
       "      <td>Mumbai</td>\n",
       "      <td>Sequretek is a cyber security start-up.</td>\n",
       "      <td>3,700,000.00</td>\n",
       "      <td>2018</td>\n",
       "    </tr>\n",
       "    <tr>\n",
       "      <th>472</th>\n",
       "      <td>Avenues Payments India Pvt. Ltd.</td>\n",
       "      <td>NaN</td>\n",
       "      <td>Corporate Round</td>\n",
       "      <td>Mumbai</td>\n",
       "      <td>Avenues Payments is an IT solutions provider for the remittance\\money transfer and forex industries.</td>\n",
       "      <td>1,300,000.00</td>\n",
       "      <td>2018</td>\n",
       "    </tr>\n",
       "    <tr>\n",
       "      <th>475</th>\n",
       "      <td>Planet11 eCommerce Solutions India (Avenue11)</td>\n",
       "      <td>NaN</td>\n",
       "      <td>Corporate Round</td>\n",
       "      <td>Bengaluru</td>\n",
       "      <td>Planet11 is backed by SK Planet, which is a part of the SK Group – one of the largest conglomerates in South Korea.</td>\n",
       "      <td>3,796,000.00</td>\n",
       "      <td>2018</td>\n",
       "    </tr>\n",
       "    <tr>\n",
       "      <th>477</th>\n",
       "      <td>Iba Halal Care</td>\n",
       "      <td>NaN</td>\n",
       "      <td>Series A</td>\n",
       "      <td>Ahmedabad</td>\n",
       "      <td>Iba Halal Care is a cosmetics brand company.</td>\n",
       "      <td>2,190,000.00</td>\n",
       "      <td>2018</td>\n",
       "    </tr>\n",
       "    <tr>\n",
       "      <th>479</th>\n",
       "      <td>Togedr</td>\n",
       "      <td>NaN</td>\n",
       "      <td>NaN</td>\n",
       "      <td>Gurgaon</td>\n",
       "      <td>Togedr is an activity discovery &amp; booking platform.</td>\n",
       "      <td>NaN</td>\n",
       "      <td>2018</td>\n",
       "    </tr>\n",
       "    <tr>\n",
       "      <th>509</th>\n",
       "      <td>Scholify</td>\n",
       "      <td>NaN</td>\n",
       "      <td>Pre-Seed</td>\n",
       "      <td>Bengaluru</td>\n",
       "      <td>Edutech</td>\n",
       "      <td>NaN</td>\n",
       "      <td>2018</td>\n",
       "    </tr>\n",
       "    <tr>\n",
       "      <th>566</th>\n",
       "      <td>VMate</td>\n",
       "      <td>NaN</td>\n",
       "      <td>NaN</td>\n",
       "      <td>NaN</td>\n",
       "      <td>A short video platform</td>\n",
       "      <td>100,000,000.00</td>\n",
       "      <td>2019</td>\n",
       "    </tr>\n",
       "    <tr>\n",
       "      <th>574</th>\n",
       "      <td>Awign Enterprises</td>\n",
       "      <td>NaN</td>\n",
       "      <td>Series A</td>\n",
       "      <td>Bangalore</td>\n",
       "      <td>It supplies workforce to the economy</td>\n",
       "      <td>4,000,000.00</td>\n",
       "      <td>2019</td>\n",
       "    </tr>\n",
       "    <tr>\n",
       "      <th>577</th>\n",
       "      <td>TapChief</td>\n",
       "      <td>NaN</td>\n",
       "      <td>Pre series A</td>\n",
       "      <td>Bangalore</td>\n",
       "      <td>It connects individuals in need of advice in a specific domain to individuals who have expertise in the same</td>\n",
       "      <td>1,500,000.00</td>\n",
       "      <td>2019</td>\n",
       "    </tr>\n",
       "    <tr>\n",
       "      <th>581</th>\n",
       "      <td>KredX</td>\n",
       "      <td>NaN</td>\n",
       "      <td>Series B</td>\n",
       "      <td>Bangalore</td>\n",
       "      <td>Invoice discounting platform</td>\n",
       "      <td>26,000,000.00</td>\n",
       "      <td>2019</td>\n",
       "    </tr>\n",
       "    <tr>\n",
       "      <th>582</th>\n",
       "      <td>m.Paani</td>\n",
       "      <td>NaN</td>\n",
       "      <td>Series A</td>\n",
       "      <td>Mumbai</td>\n",
       "      <td>It digitizes and organises local retailers</td>\n",
       "      <td>5,500,000.00</td>\n",
       "      <td>2019</td>\n",
       "    </tr>\n",
       "    <tr>\n",
       "      <th>1128</th>\n",
       "      <td>Text Mercato</td>\n",
       "      <td>NaN</td>\n",
       "      <td>Series A</td>\n",
       "      <td>Bangalore</td>\n",
       "      <td>Cataloguing startup that serves ecommerce platforms</td>\n",
       "      <td>649,600.00</td>\n",
       "      <td>2020</td>\n",
       "    </tr>\n",
       "    <tr>\n",
       "      <th>1179</th>\n",
       "      <td>Magicpin</td>\n",
       "      <td>NaN</td>\n",
       "      <td>Series D</td>\n",
       "      <td>Gurugram</td>\n",
       "      <td>It is a local discovery, rewards, and commerce platform</td>\n",
       "      <td>7,000,000.00</td>\n",
       "      <td>2020</td>\n",
       "    </tr>\n",
       "    <tr>\n",
       "      <th>1297</th>\n",
       "      <td>Leap Club</td>\n",
       "      <td>NaN</td>\n",
       "      <td>Pre seed Round</td>\n",
       "      <td>Gurugram</td>\n",
       "      <td>Community led professional network for women</td>\n",
       "      <td>340,000.00</td>\n",
       "      <td>2020</td>\n",
       "    </tr>\n",
       "    <tr>\n",
       "      <th>1309</th>\n",
       "      <td>Juicy Chemistry</td>\n",
       "      <td>NaN</td>\n",
       "      <td>Series A</td>\n",
       "      <td>NaN</td>\n",
       "      <td>It focuses on organic based skincare products</td>\n",
       "      <td>650,000.00</td>\n",
       "      <td>2020</td>\n",
       "    </tr>\n",
       "    <tr>\n",
       "      <th>1317</th>\n",
       "      <td>Magicpin</td>\n",
       "      <td>NaN</td>\n",
       "      <td>NaN</td>\n",
       "      <td>Gurugram</td>\n",
       "      <td>It is a local discovery, rewards, and commerce platform</td>\n",
       "      <td>3,879,000.00</td>\n",
       "      <td>2020</td>\n",
       "    </tr>\n",
       "    <tr>\n",
       "      <th>1342</th>\n",
       "      <td>Servify</td>\n",
       "      <td>NaN</td>\n",
       "      <td>NaN</td>\n",
       "      <td>Mumbai</td>\n",
       "      <td>It is a technology company which serves as a platform for brands to offer end-to-end solutions to their users</td>\n",
       "      <td>250,000.00</td>\n",
       "      <td>2020</td>\n",
       "    </tr>\n",
       "    <tr>\n",
       "      <th>1356</th>\n",
       "      <td>Wagonfly</td>\n",
       "      <td>NaN</td>\n",
       "      <td>NaN</td>\n",
       "      <td>Bangalore</td>\n",
       "      <td>Contactless shopping and delivery experience by using radio frequency to tag retail items</td>\n",
       "      <td>500,000.00</td>\n",
       "      <td>2020</td>\n",
       "    </tr>\n",
       "    <tr>\n",
       "      <th>1373</th>\n",
       "      <td>DrinkPrime</td>\n",
       "      <td>NaN</td>\n",
       "      <td>Seed</td>\n",
       "      <td>Bangalore</td>\n",
       "      <td>Water purifier subscription service</td>\n",
       "      <td>NaN</td>\n",
       "      <td>2020</td>\n",
       "    </tr>\n",
       "    <tr>\n",
       "      <th>1419</th>\n",
       "      <td>Kitchens Centre</td>\n",
       "      <td>NaN</td>\n",
       "      <td>Seed</td>\n",
       "      <td>Delhi</td>\n",
       "      <td>Offers solutions to cloud kitchens by providing commercial space and kitchen infrastructure to assisting with branding and other services</td>\n",
       "      <td>500,000.00</td>\n",
       "      <td>2020</td>\n",
       "    </tr>\n",
       "    <tr>\n",
       "      <th>1528</th>\n",
       "      <td>Innoviti</td>\n",
       "      <td>NaN</td>\n",
       "      <td>NaN</td>\n",
       "      <td>Bangalore</td>\n",
       "      <td>Digital payments solutions company</td>\n",
       "      <td>5,000,000.00</td>\n",
       "      <td>2020</td>\n",
       "    </tr>\n",
       "    <tr>\n",
       "      <th>1536</th>\n",
       "      <td>Brick&amp;Bolt</td>\n",
       "      <td>NaN</td>\n",
       "      <td>Pre Series A</td>\n",
       "      <td>Bangalore</td>\n",
       "      <td>Operates in the residential construction space</td>\n",
       "      <td>1,500,000.00</td>\n",
       "      <td>2020</td>\n",
       "    </tr>\n",
       "    <tr>\n",
       "      <th>1622</th>\n",
       "      <td>Toddle</td>\n",
       "      <td>NaN</td>\n",
       "      <td>NaN</td>\n",
       "      <td>Bengaluru</td>\n",
       "      <td>Collaboration and productivity platform for teachers across the world</td>\n",
       "      <td>NaN</td>\n",
       "      <td>2020</td>\n",
       "    </tr>\n",
       "    <tr>\n",
       "      <th>1641</th>\n",
       "      <td>HaikuJAM</td>\n",
       "      <td>NaN</td>\n",
       "      <td>NaN</td>\n",
       "      <td>NaN</td>\n",
       "      <td>Creative writing mobile platform</td>\n",
       "      <td>3,400,000.00</td>\n",
       "      <td>2020</td>\n",
       "    </tr>\n",
       "  </tbody>\n",
       "</table>\n",
       "</div>"
      ],
      "text/plain": [
       "                                      Company/Brand Sector            Stage  \\\n",
       "58                         MissMalini Entertainment    NaN             Seed   \n",
       "105                                Jagaran Microfin    NaN   Debt Financing   \n",
       "121                                          FLEECA    NaN             Seed   \n",
       "146                                       WheelsEMI    NaN         Series B   \n",
       "153                                     Fric Bergen    NaN              NaN   \n",
       "174                                        Deftouch    NaN             Seed   \n",
       "181                                     Corefactors    NaN             Seed   \n",
       "210                                 Cell Propulsion    NaN             Seed   \n",
       "230                                        Flathalt    NaN            Angel   \n",
       "235                                           dishq    NaN             Seed   \n",
       "238                                           Trell    NaN             Seed   \n",
       "242                                  HousingMan.com    NaN             Seed   \n",
       "243                        Steradian Semiconductors    NaN             Seed   \n",
       "247                                    SaffronStays    NaN             Seed   \n",
       "251                            Inner Being Wellness    NaN            Angel   \n",
       "257                                        MySEODoc    NaN             Seed   \n",
       "258        ENLYFT DIGITAL SOLUTIONS PRIVATE LIMITED    NaN             Seed   \n",
       "259                                      Scale Labs    NaN             Seed   \n",
       "294                                        Roadcast    NaN            Angel   \n",
       "325                                          Toffee    NaN             Seed   \n",
       "326                                      ORO Wealth    NaN         Series A   \n",
       "346                                         Finwego    NaN             Seed   \n",
       "397                                            Cred    NaN             Seed   \n",
       "456                                           Origo    NaN              NaN   \n",
       "471                                       Sequretek    NaN              NaN   \n",
       "472                Avenues Payments India Pvt. Ltd.    NaN  Corporate Round   \n",
       "475   Planet11 eCommerce Solutions India (Avenue11)    NaN  Corporate Round   \n",
       "477                                  Iba Halal Care    NaN         Series A   \n",
       "479                                          Togedr    NaN              NaN   \n",
       "509                                        Scholify    NaN         Pre-Seed   \n",
       "566                                           VMate    NaN              NaN   \n",
       "574                               Awign Enterprises    NaN         Series A   \n",
       "577                                        TapChief    NaN     Pre series A   \n",
       "581                                           KredX    NaN         Series B   \n",
       "582                                         m.Paani    NaN         Series A   \n",
       "1128                                   Text Mercato    NaN         Series A   \n",
       "1179                                       Magicpin    NaN         Series D   \n",
       "1297                                      Leap Club    NaN   Pre seed Round   \n",
       "1309                                Juicy Chemistry    NaN         Series A   \n",
       "1317                                       Magicpin    NaN              NaN   \n",
       "1342                                        Servify    NaN              NaN   \n",
       "1356                                       Wagonfly    NaN              NaN   \n",
       "1373                                     DrinkPrime    NaN             Seed   \n",
       "1419                                Kitchens Centre    NaN             Seed   \n",
       "1528                                       Innoviti    NaN              NaN   \n",
       "1536                                     Brick&Bolt    NaN     Pre Series A   \n",
       "1622                                         Toddle    NaN              NaN   \n",
       "1641                                       HaikuJAM    NaN              NaN   \n",
       "\n",
       "         HeadQuarter  \\\n",
       "58            Mumbai   \n",
       "105          Kolkata   \n",
       "121           Jaipur   \n",
       "146             Pune   \n",
       "153            Alwar   \n",
       "174        Bangalore   \n",
       "181        Bangalore   \n",
       "210        Bangalore   \n",
       "230          Gurgaon   \n",
       "235        Bengaluru   \n",
       "238   Bangalore City   \n",
       "242        Bengaluru   \n",
       "243        Bangalore   \n",
       "247           Mumbai   \n",
       "251        Hyderabad   \n",
       "257            Delhi   \n",
       "258             Pune   \n",
       "259            Delhi   \n",
       "294        New Delhi   \n",
       "325          Gurgaon   \n",
       "326           Mumbai   \n",
       "346          Chennai   \n",
       "397        Bengaluru   \n",
       "456          Gurgaon   \n",
       "471           Mumbai   \n",
       "472           Mumbai   \n",
       "475        Bengaluru   \n",
       "477        Ahmedabad   \n",
       "479          Gurgaon   \n",
       "509        Bengaluru   \n",
       "566              NaN   \n",
       "574        Bangalore   \n",
       "577        Bangalore   \n",
       "581        Bangalore   \n",
       "582           Mumbai   \n",
       "1128       Bangalore   \n",
       "1179        Gurugram   \n",
       "1297        Gurugram   \n",
       "1309             NaN   \n",
       "1317        Gurugram   \n",
       "1342          Mumbai   \n",
       "1356       Bangalore   \n",
       "1373       Bangalore   \n",
       "1419           Delhi   \n",
       "1528       Bangalore   \n",
       "1536       Bangalore   \n",
       "1622       Bengaluru   \n",
       "1641             NaN   \n",
       "\n",
       "                                                                                                                                    What it does  \\\n",
       "58              MissMalini Entertainment is a multi-platform new media network dedicated to Entertaining, Connecting & Empowering young Indians.   \n",
       "105                                 Jagaran Microfin is a Microfinance institution which achieves a healthy amalgamation of social and financial   \n",
       "121                                                                                                      FLEECA is a Tyre Care Provider company.   \n",
       "146                                                                                     WheelsEMI is the brand name of NBFC, WheelsEMI Pvt. Ltd.   \n",
       "153                                                                                      Fric Bergen is a leader in the specialty food industry.   \n",
       "174    Deftouch is a mobile game development company that currently focuses on winning the Cricket gaming market with a social multiplayer game.   \n",
       "181                                                  Corefactors is a leading campaign management, business communication and analytics company.   \n",
       "210                                                   Cell Propulsion is an electric mobility startup that designs autonomous electric vehicles.   \n",
       "230                                                                                                              FInd your Customized Home here.   \n",
       "235                                            dishq leverages food science and machine learning (AI) to understand and predict people's tastes.   \n",
       "238                         Trell is a location based network which helps you in exploring amazing experiences and annotating places around you.   \n",
       "242                                                                                                  New Apartments, Flats for Sale in Bangalore   \n",
       "243                                                    It is a fabless semiconductor company focused on CMOS millimeter wave products for Radar.   \n",
       "247                                                                                SaffronStays connects travellers to India's Incredible hosts.   \n",
       "251                                                                  Inner Being Wellness manufactures beauty, wellness, and nutrition products.   \n",
       "257                                 SEO, PPC, Search Engine Marketing, Social Media Optimization, Content Marketing, Brand Reputation Management   \n",
       "258                                                                                                                     Digital Marketing Agency   \n",
       "259                                              Scale Labs is a cross border e-commerce solutions provider that drives global trade for brands.   \n",
       "294                                                                  Transforming the way businesses deliver. Work-force & fleet mobility tools.   \n",
       "325                Toffee is a bite size, micro-event & contextual insurtech startup which aims to de-jargonise the insurance buying experience.   \n",
       "326                                                                                                            Online wealth management platform   \n",
       "346                     Finwego partners with Small and Medium Businesses in India to offer convenient and responsible credit to their employees   \n",
       "397                                                            Cred is a platform to celebrate and reward the most creditworthy people of India.   \n",
       "456   Origo Commodities, a complete post-harvest management services for agricultural commodities, is the fastest growing company in its sector.   \n",
       "471                                                                                                      Sequretek is a cyber security start-up.   \n",
       "472                                         Avenues Payments is an IT solutions provider for the remittance\\money transfer and forex industries.   \n",
       "475                          Planet11 is backed by SK Planet, which is a part of the SK Group – one of the largest conglomerates in South Korea.   \n",
       "477                                                                                                 Iba Halal Care is a cosmetics brand company.   \n",
       "479                                                                                          Togedr is an activity discovery & booking platform.   \n",
       "509                                                                                                                                      Edutech   \n",
       "566                                                                                                                       A short video platform   \n",
       "574                                                                                                         It supplies workforce to the economy   \n",
       "577                                 It connects individuals in need of advice in a specific domain to individuals who have expertise in the same   \n",
       "581                                                                                                                 Invoice discounting platform   \n",
       "582                                                                                                   It digitizes and organises local retailers   \n",
       "1128                                                                                         Cataloguing startup that serves ecommerce platforms   \n",
       "1179                                                                                     It is a local discovery, rewards, and commerce platform   \n",
       "1297                                                                                                Community led professional network for women   \n",
       "1309                                                                                               It focuses on organic based skincare products   \n",
       "1317                                                                                     It is a local discovery, rewards, and commerce platform   \n",
       "1342                               It is a technology company which serves as a platform for brands to offer end-to-end solutions to their users   \n",
       "1356                                                   Contactless shopping and delivery experience by using radio frequency to tag retail items   \n",
       "1373                                                                                                         Water purifier subscription service   \n",
       "1419   Offers solutions to cloud kitchens by providing commercial space and kitchen infrastructure to assisting with branding and other services   \n",
       "1528                                                                                                          Digital payments solutions company   \n",
       "1536                                                                                              Operates in the residential construction space   \n",
       "1622                                                                       Collaboration and productivity platform for teachers across the world   \n",
       "1641                                                                                                            Creative writing mobile platform   \n",
       "\n",
       "          Amount($)  Year  \n",
       "58     1,518,400.00  2018  \n",
       "105    8,030,000.00  2018  \n",
       "121             NaN  2018  \n",
       "146   14,000,000.00  2018  \n",
       "153             NaN  2018  \n",
       "174             NaN  2018  \n",
       "181             NaN  2018  \n",
       "210      102,200.00  2018  \n",
       "230       50,000.00  2018  \n",
       "235      400,000.00  2018  \n",
       "238    1,250,000.00  2018  \n",
       "242    1,503,800.00  2018  \n",
       "243             NaN  2018  \n",
       "247    2,000,000.00  2018  \n",
       "251      511,000.00  2018  \n",
       "257             NaN  2018  \n",
       "258        2,920.00  2018  \n",
       "259    1,000,000.00  2018  \n",
       "294      250,000.00  2018  \n",
       "325    1,500,000.00  2018  \n",
       "326    1,600,000.00  2018  \n",
       "346             NaN  2018  \n",
       "397             NaN  2018  \n",
       "456   11,680,000.00  2018  \n",
       "471    3,700,000.00  2018  \n",
       "472    1,300,000.00  2018  \n",
       "475    3,796,000.00  2018  \n",
       "477    2,190,000.00  2018  \n",
       "479             NaN  2018  \n",
       "509             NaN  2018  \n",
       "566  100,000,000.00  2019  \n",
       "574    4,000,000.00  2019  \n",
       "577    1,500,000.00  2019  \n",
       "581   26,000,000.00  2019  \n",
       "582    5,500,000.00  2019  \n",
       "1128     649,600.00  2020  \n",
       "1179   7,000,000.00  2020  \n",
       "1297     340,000.00  2020  \n",
       "1309     650,000.00  2020  \n",
       "1317   3,879,000.00  2020  \n",
       "1342     250,000.00  2020  \n",
       "1356     500,000.00  2020  \n",
       "1373            NaN  2020  \n",
       "1419     500,000.00  2020  \n",
       "1528   5,000,000.00  2020  \n",
       "1536   1,500,000.00  2020  \n",
       "1622            NaN  2020  \n",
       "1641   3,400,000.00  2020  "
      ]
     },
     "execution_count": 133,
     "metadata": {},
     "output_type": "execute_result"
    }
   ],
   "source": [
    "Final_Startup_Data[Final_Startup_Data.isna().Sector]"
   ]
  },
  {
   "cell_type": "code",
   "execution_count": 134,
   "metadata": {},
   "outputs": [
    {
     "data": {
      "text/plain": [
       "0       False\n",
       "1       False\n",
       "2       False\n",
       "3       False\n",
       "4       False\n",
       "        ...  \n",
       "2848    False\n",
       "2849     True\n",
       "2850     True\n",
       "2851     True\n",
       "2852     True\n",
       "Name: Sector, Length: 2853, dtype: bool"
      ]
     },
     "execution_count": 134,
     "metadata": {},
     "output_type": "execute_result"
    }
   ],
   "source": [
    "#check Data duplicated sum on sector\n",
    "Final_Startup_Data['Sector'].duplicated()"
   ]
  },
  {
   "cell_type": "code",
   "execution_count": 135,
   "metadata": {},
   "outputs": [
    {
     "data": {
      "text/plain": [
       "False    2805\n",
       "True       48\n",
       "Name: Sector, dtype: int64"
      ]
     },
     "execution_count": 135,
     "metadata": {},
     "output_type": "execute_result"
    }
   ],
   "source": [
    "# Replace the missing values manually\n",
    "Final_Startup_Data['Sector'].isna().value_counts().sort_index()"
   ]
  },
  {
   "cell_type": "code",
   "execution_count": 136,
   "metadata": {},
   "outputs": [
    {
     "data": {
      "text/html": [
       "<div>\n",
       "<style scoped>\n",
       "    .dataframe tbody tr th:only-of-type {\n",
       "        vertical-align: middle;\n",
       "    }\n",
       "\n",
       "    .dataframe tbody tr th {\n",
       "        vertical-align: top;\n",
       "    }\n",
       "\n",
       "    .dataframe thead th {\n",
       "        text-align: right;\n",
       "    }\n",
       "</style>\n",
       "<table border=\"1\" class=\"dataframe\">\n",
       "  <thead>\n",
       "    <tr style=\"text-align: right;\">\n",
       "      <th></th>\n",
       "      <th>Company/Brand</th>\n",
       "      <th>Sector</th>\n",
       "      <th>Stage</th>\n",
       "      <th>HeadQuarter</th>\n",
       "      <th>What it does</th>\n",
       "      <th>Amount($)</th>\n",
       "      <th>Year</th>\n",
       "    </tr>\n",
       "  </thead>\n",
       "  <tbody>\n",
       "    <tr>\n",
       "      <th>58</th>\n",
       "      <td>MissMalini Entertainment</td>\n",
       "      <td>NaN</td>\n",
       "      <td>Seed</td>\n",
       "      <td>Mumbai</td>\n",
       "      <td>MissMalini Entertainment is a multi-platform new media network dedicated to Entertaining, Connecting &amp; Empowering young Indians.</td>\n",
       "      <td>1,518,400.00</td>\n",
       "      <td>2018</td>\n",
       "    </tr>\n",
       "    <tr>\n",
       "      <th>105</th>\n",
       "      <td>Jagaran Microfin</td>\n",
       "      <td>NaN</td>\n",
       "      <td>Debt Financing</td>\n",
       "      <td>Kolkata</td>\n",
       "      <td>Jagaran Microfin is a Microfinance institution which achieves a healthy amalgamation of social and financial</td>\n",
       "      <td>8,030,000.00</td>\n",
       "      <td>2018</td>\n",
       "    </tr>\n",
       "    <tr>\n",
       "      <th>121</th>\n",
       "      <td>FLEECA</td>\n",
       "      <td>NaN</td>\n",
       "      <td>Seed</td>\n",
       "      <td>Jaipur</td>\n",
       "      <td>FLEECA is a Tyre Care Provider company.</td>\n",
       "      <td>NaN</td>\n",
       "      <td>2018</td>\n",
       "    </tr>\n",
       "    <tr>\n",
       "      <th>146</th>\n",
       "      <td>WheelsEMI</td>\n",
       "      <td>NaN</td>\n",
       "      <td>Series B</td>\n",
       "      <td>Pune</td>\n",
       "      <td>WheelsEMI is the brand name of NBFC, WheelsEMI Pvt. Ltd.</td>\n",
       "      <td>14,000,000.00</td>\n",
       "      <td>2018</td>\n",
       "    </tr>\n",
       "    <tr>\n",
       "      <th>153</th>\n",
       "      <td>Fric Bergen</td>\n",
       "      <td>NaN</td>\n",
       "      <td>NaN</td>\n",
       "      <td>Alwar</td>\n",
       "      <td>Fric Bergen is a leader in the specialty food industry.</td>\n",
       "      <td>NaN</td>\n",
       "      <td>2018</td>\n",
       "    </tr>\n",
       "    <tr>\n",
       "      <th>174</th>\n",
       "      <td>Deftouch</td>\n",
       "      <td>NaN</td>\n",
       "      <td>Seed</td>\n",
       "      <td>Bangalore</td>\n",
       "      <td>Deftouch is a mobile game development company that currently focuses on winning the Cricket gaming market with a social multiplayer game.</td>\n",
       "      <td>NaN</td>\n",
       "      <td>2018</td>\n",
       "    </tr>\n",
       "    <tr>\n",
       "      <th>181</th>\n",
       "      <td>Corefactors</td>\n",
       "      <td>NaN</td>\n",
       "      <td>Seed</td>\n",
       "      <td>Bangalore</td>\n",
       "      <td>Corefactors is a leading campaign management, business communication and analytics company.</td>\n",
       "      <td>NaN</td>\n",
       "      <td>2018</td>\n",
       "    </tr>\n",
       "    <tr>\n",
       "      <th>210</th>\n",
       "      <td>Cell Propulsion</td>\n",
       "      <td>NaN</td>\n",
       "      <td>Seed</td>\n",
       "      <td>Bangalore</td>\n",
       "      <td>Cell Propulsion is an electric mobility startup that designs autonomous electric vehicles.</td>\n",
       "      <td>102,200.00</td>\n",
       "      <td>2018</td>\n",
       "    </tr>\n",
       "    <tr>\n",
       "      <th>230</th>\n",
       "      <td>Flathalt</td>\n",
       "      <td>NaN</td>\n",
       "      <td>Angel</td>\n",
       "      <td>Gurgaon</td>\n",
       "      <td>FInd your Customized Home here.</td>\n",
       "      <td>50,000.00</td>\n",
       "      <td>2018</td>\n",
       "    </tr>\n",
       "    <tr>\n",
       "      <th>235</th>\n",
       "      <td>dishq</td>\n",
       "      <td>NaN</td>\n",
       "      <td>Seed</td>\n",
       "      <td>Bengaluru</td>\n",
       "      <td>dishq leverages food science and machine learning (AI) to understand and predict people's tastes.</td>\n",
       "      <td>400,000.00</td>\n",
       "      <td>2018</td>\n",
       "    </tr>\n",
       "    <tr>\n",
       "      <th>238</th>\n",
       "      <td>Trell</td>\n",
       "      <td>NaN</td>\n",
       "      <td>Seed</td>\n",
       "      <td>Bangalore City</td>\n",
       "      <td>Trell is a location based network which helps you in exploring amazing experiences and annotating places around you.</td>\n",
       "      <td>1,250,000.00</td>\n",
       "      <td>2018</td>\n",
       "    </tr>\n",
       "    <tr>\n",
       "      <th>242</th>\n",
       "      <td>HousingMan.com</td>\n",
       "      <td>NaN</td>\n",
       "      <td>Seed</td>\n",
       "      <td>Bengaluru</td>\n",
       "      <td>New Apartments, Flats for Sale in Bangalore</td>\n",
       "      <td>1,503,800.00</td>\n",
       "      <td>2018</td>\n",
       "    </tr>\n",
       "    <tr>\n",
       "      <th>243</th>\n",
       "      <td>Steradian Semiconductors</td>\n",
       "      <td>NaN</td>\n",
       "      <td>Seed</td>\n",
       "      <td>Bangalore</td>\n",
       "      <td>It is a fabless semiconductor company focused on CMOS millimeter wave products for Radar.</td>\n",
       "      <td>NaN</td>\n",
       "      <td>2018</td>\n",
       "    </tr>\n",
       "    <tr>\n",
       "      <th>247</th>\n",
       "      <td>SaffronStays</td>\n",
       "      <td>NaN</td>\n",
       "      <td>Seed</td>\n",
       "      <td>Mumbai</td>\n",
       "      <td>SaffronStays connects travellers to India's Incredible hosts.</td>\n",
       "      <td>2,000,000.00</td>\n",
       "      <td>2018</td>\n",
       "    </tr>\n",
       "    <tr>\n",
       "      <th>251</th>\n",
       "      <td>Inner Being Wellness</td>\n",
       "      <td>NaN</td>\n",
       "      <td>Angel</td>\n",
       "      <td>Hyderabad</td>\n",
       "      <td>Inner Being Wellness manufactures beauty, wellness, and nutrition products.</td>\n",
       "      <td>511,000.00</td>\n",
       "      <td>2018</td>\n",
       "    </tr>\n",
       "    <tr>\n",
       "      <th>257</th>\n",
       "      <td>MySEODoc</td>\n",
       "      <td>NaN</td>\n",
       "      <td>Seed</td>\n",
       "      <td>Delhi</td>\n",
       "      <td>SEO, PPC, Search Engine Marketing, Social Media Optimization, Content Marketing, Brand Reputation Management</td>\n",
       "      <td>NaN</td>\n",
       "      <td>2018</td>\n",
       "    </tr>\n",
       "    <tr>\n",
       "      <th>258</th>\n",
       "      <td>ENLYFT DIGITAL SOLUTIONS PRIVATE LIMITED</td>\n",
       "      <td>NaN</td>\n",
       "      <td>Seed</td>\n",
       "      <td>Pune</td>\n",
       "      <td>Digital Marketing Agency</td>\n",
       "      <td>2,920.00</td>\n",
       "      <td>2018</td>\n",
       "    </tr>\n",
       "    <tr>\n",
       "      <th>259</th>\n",
       "      <td>Scale Labs</td>\n",
       "      <td>NaN</td>\n",
       "      <td>Seed</td>\n",
       "      <td>Delhi</td>\n",
       "      <td>Scale Labs is a cross border e-commerce solutions provider that drives global trade for brands.</td>\n",
       "      <td>1,000,000.00</td>\n",
       "      <td>2018</td>\n",
       "    </tr>\n",
       "    <tr>\n",
       "      <th>294</th>\n",
       "      <td>Roadcast</td>\n",
       "      <td>NaN</td>\n",
       "      <td>Angel</td>\n",
       "      <td>New Delhi</td>\n",
       "      <td>Transforming the way businesses deliver. Work-force &amp; fleet mobility tools.</td>\n",
       "      <td>250,000.00</td>\n",
       "      <td>2018</td>\n",
       "    </tr>\n",
       "    <tr>\n",
       "      <th>325</th>\n",
       "      <td>Toffee</td>\n",
       "      <td>NaN</td>\n",
       "      <td>Seed</td>\n",
       "      <td>Gurgaon</td>\n",
       "      <td>Toffee is a bite size, micro-event &amp; contextual insurtech startup which aims to de-jargonise the insurance buying experience.</td>\n",
       "      <td>1,500,000.00</td>\n",
       "      <td>2018</td>\n",
       "    </tr>\n",
       "    <tr>\n",
       "      <th>326</th>\n",
       "      <td>ORO Wealth</td>\n",
       "      <td>NaN</td>\n",
       "      <td>Series A</td>\n",
       "      <td>Mumbai</td>\n",
       "      <td>Online wealth management platform</td>\n",
       "      <td>1,600,000.00</td>\n",
       "      <td>2018</td>\n",
       "    </tr>\n",
       "    <tr>\n",
       "      <th>346</th>\n",
       "      <td>Finwego</td>\n",
       "      <td>NaN</td>\n",
       "      <td>Seed</td>\n",
       "      <td>Chennai</td>\n",
       "      <td>Finwego partners with Small and Medium Businesses in India to offer convenient and responsible credit to their employees</td>\n",
       "      <td>NaN</td>\n",
       "      <td>2018</td>\n",
       "    </tr>\n",
       "    <tr>\n",
       "      <th>397</th>\n",
       "      <td>Cred</td>\n",
       "      <td>NaN</td>\n",
       "      <td>Seed</td>\n",
       "      <td>Bengaluru</td>\n",
       "      <td>Cred is a platform to celebrate and reward the most creditworthy people of India.</td>\n",
       "      <td>NaN</td>\n",
       "      <td>2018</td>\n",
       "    </tr>\n",
       "    <tr>\n",
       "      <th>456</th>\n",
       "      <td>Origo</td>\n",
       "      <td>NaN</td>\n",
       "      <td>NaN</td>\n",
       "      <td>Gurgaon</td>\n",
       "      <td>Origo Commodities, a complete post-harvest management services for agricultural commodities, is the fastest growing company in its sector.</td>\n",
       "      <td>11,680,000.00</td>\n",
       "      <td>2018</td>\n",
       "    </tr>\n",
       "    <tr>\n",
       "      <th>471</th>\n",
       "      <td>Sequretek</td>\n",
       "      <td>NaN</td>\n",
       "      <td>NaN</td>\n",
       "      <td>Mumbai</td>\n",
       "      <td>Sequretek is a cyber security start-up.</td>\n",
       "      <td>3,700,000.00</td>\n",
       "      <td>2018</td>\n",
       "    </tr>\n",
       "    <tr>\n",
       "      <th>472</th>\n",
       "      <td>Avenues Payments India Pvt. Ltd.</td>\n",
       "      <td>NaN</td>\n",
       "      <td>Corporate Round</td>\n",
       "      <td>Mumbai</td>\n",
       "      <td>Avenues Payments is an IT solutions provider for the remittance\\money transfer and forex industries.</td>\n",
       "      <td>1,300,000.00</td>\n",
       "      <td>2018</td>\n",
       "    </tr>\n",
       "    <tr>\n",
       "      <th>475</th>\n",
       "      <td>Planet11 eCommerce Solutions India (Avenue11)</td>\n",
       "      <td>NaN</td>\n",
       "      <td>Corporate Round</td>\n",
       "      <td>Bengaluru</td>\n",
       "      <td>Planet11 is backed by SK Planet, which is a part of the SK Group – one of the largest conglomerates in South Korea.</td>\n",
       "      <td>3,796,000.00</td>\n",
       "      <td>2018</td>\n",
       "    </tr>\n",
       "    <tr>\n",
       "      <th>477</th>\n",
       "      <td>Iba Halal Care</td>\n",
       "      <td>NaN</td>\n",
       "      <td>Series A</td>\n",
       "      <td>Ahmedabad</td>\n",
       "      <td>Iba Halal Care is a cosmetics brand company.</td>\n",
       "      <td>2,190,000.00</td>\n",
       "      <td>2018</td>\n",
       "    </tr>\n",
       "    <tr>\n",
       "      <th>479</th>\n",
       "      <td>Togedr</td>\n",
       "      <td>NaN</td>\n",
       "      <td>NaN</td>\n",
       "      <td>Gurgaon</td>\n",
       "      <td>Togedr is an activity discovery &amp; booking platform.</td>\n",
       "      <td>NaN</td>\n",
       "      <td>2018</td>\n",
       "    </tr>\n",
       "    <tr>\n",
       "      <th>509</th>\n",
       "      <td>Scholify</td>\n",
       "      <td>NaN</td>\n",
       "      <td>Pre-Seed</td>\n",
       "      <td>Bengaluru</td>\n",
       "      <td>Edutech</td>\n",
       "      <td>NaN</td>\n",
       "      <td>2018</td>\n",
       "    </tr>\n",
       "    <tr>\n",
       "      <th>566</th>\n",
       "      <td>VMate</td>\n",
       "      <td>NaN</td>\n",
       "      <td>NaN</td>\n",
       "      <td>NaN</td>\n",
       "      <td>A short video platform</td>\n",
       "      <td>100,000,000.00</td>\n",
       "      <td>2019</td>\n",
       "    </tr>\n",
       "    <tr>\n",
       "      <th>574</th>\n",
       "      <td>Awign Enterprises</td>\n",
       "      <td>NaN</td>\n",
       "      <td>Series A</td>\n",
       "      <td>Bangalore</td>\n",
       "      <td>It supplies workforce to the economy</td>\n",
       "      <td>4,000,000.00</td>\n",
       "      <td>2019</td>\n",
       "    </tr>\n",
       "    <tr>\n",
       "      <th>577</th>\n",
       "      <td>TapChief</td>\n",
       "      <td>NaN</td>\n",
       "      <td>Pre series A</td>\n",
       "      <td>Bangalore</td>\n",
       "      <td>It connects individuals in need of advice in a specific domain to individuals who have expertise in the same</td>\n",
       "      <td>1,500,000.00</td>\n",
       "      <td>2019</td>\n",
       "    </tr>\n",
       "    <tr>\n",
       "      <th>581</th>\n",
       "      <td>KredX</td>\n",
       "      <td>NaN</td>\n",
       "      <td>Series B</td>\n",
       "      <td>Bangalore</td>\n",
       "      <td>Invoice discounting platform</td>\n",
       "      <td>26,000,000.00</td>\n",
       "      <td>2019</td>\n",
       "    </tr>\n",
       "    <tr>\n",
       "      <th>582</th>\n",
       "      <td>m.Paani</td>\n",
       "      <td>NaN</td>\n",
       "      <td>Series A</td>\n",
       "      <td>Mumbai</td>\n",
       "      <td>It digitizes and organises local retailers</td>\n",
       "      <td>5,500,000.00</td>\n",
       "      <td>2019</td>\n",
       "    </tr>\n",
       "    <tr>\n",
       "      <th>1128</th>\n",
       "      <td>Text Mercato</td>\n",
       "      <td>NaN</td>\n",
       "      <td>Series A</td>\n",
       "      <td>Bangalore</td>\n",
       "      <td>Cataloguing startup that serves ecommerce platforms</td>\n",
       "      <td>649,600.00</td>\n",
       "      <td>2020</td>\n",
       "    </tr>\n",
       "    <tr>\n",
       "      <th>1179</th>\n",
       "      <td>Magicpin</td>\n",
       "      <td>NaN</td>\n",
       "      <td>Series D</td>\n",
       "      <td>Gurugram</td>\n",
       "      <td>It is a local discovery, rewards, and commerce platform</td>\n",
       "      <td>7,000,000.00</td>\n",
       "      <td>2020</td>\n",
       "    </tr>\n",
       "    <tr>\n",
       "      <th>1297</th>\n",
       "      <td>Leap Club</td>\n",
       "      <td>NaN</td>\n",
       "      <td>Pre seed Round</td>\n",
       "      <td>Gurugram</td>\n",
       "      <td>Community led professional network for women</td>\n",
       "      <td>340,000.00</td>\n",
       "      <td>2020</td>\n",
       "    </tr>\n",
       "    <tr>\n",
       "      <th>1309</th>\n",
       "      <td>Juicy Chemistry</td>\n",
       "      <td>NaN</td>\n",
       "      <td>Series A</td>\n",
       "      <td>NaN</td>\n",
       "      <td>It focuses on organic based skincare products</td>\n",
       "      <td>650,000.00</td>\n",
       "      <td>2020</td>\n",
       "    </tr>\n",
       "    <tr>\n",
       "      <th>1317</th>\n",
       "      <td>Magicpin</td>\n",
       "      <td>NaN</td>\n",
       "      <td>NaN</td>\n",
       "      <td>Gurugram</td>\n",
       "      <td>It is a local discovery, rewards, and commerce platform</td>\n",
       "      <td>3,879,000.00</td>\n",
       "      <td>2020</td>\n",
       "    </tr>\n",
       "    <tr>\n",
       "      <th>1342</th>\n",
       "      <td>Servify</td>\n",
       "      <td>NaN</td>\n",
       "      <td>NaN</td>\n",
       "      <td>Mumbai</td>\n",
       "      <td>It is a technology company which serves as a platform for brands to offer end-to-end solutions to their users</td>\n",
       "      <td>250,000.00</td>\n",
       "      <td>2020</td>\n",
       "    </tr>\n",
       "    <tr>\n",
       "      <th>1356</th>\n",
       "      <td>Wagonfly</td>\n",
       "      <td>NaN</td>\n",
       "      <td>NaN</td>\n",
       "      <td>Bangalore</td>\n",
       "      <td>Contactless shopping and delivery experience by using radio frequency to tag retail items</td>\n",
       "      <td>500,000.00</td>\n",
       "      <td>2020</td>\n",
       "    </tr>\n",
       "    <tr>\n",
       "      <th>1373</th>\n",
       "      <td>DrinkPrime</td>\n",
       "      <td>NaN</td>\n",
       "      <td>Seed</td>\n",
       "      <td>Bangalore</td>\n",
       "      <td>Water purifier subscription service</td>\n",
       "      <td>NaN</td>\n",
       "      <td>2020</td>\n",
       "    </tr>\n",
       "    <tr>\n",
       "      <th>1419</th>\n",
       "      <td>Kitchens Centre</td>\n",
       "      <td>NaN</td>\n",
       "      <td>Seed</td>\n",
       "      <td>Delhi</td>\n",
       "      <td>Offers solutions to cloud kitchens by providing commercial space and kitchen infrastructure to assisting with branding and other services</td>\n",
       "      <td>500,000.00</td>\n",
       "      <td>2020</td>\n",
       "    </tr>\n",
       "    <tr>\n",
       "      <th>1528</th>\n",
       "      <td>Innoviti</td>\n",
       "      <td>NaN</td>\n",
       "      <td>NaN</td>\n",
       "      <td>Bangalore</td>\n",
       "      <td>Digital payments solutions company</td>\n",
       "      <td>5,000,000.00</td>\n",
       "      <td>2020</td>\n",
       "    </tr>\n",
       "    <tr>\n",
       "      <th>1536</th>\n",
       "      <td>Brick&amp;Bolt</td>\n",
       "      <td>NaN</td>\n",
       "      <td>Pre Series A</td>\n",
       "      <td>Bangalore</td>\n",
       "      <td>Operates in the residential construction space</td>\n",
       "      <td>1,500,000.00</td>\n",
       "      <td>2020</td>\n",
       "    </tr>\n",
       "    <tr>\n",
       "      <th>1622</th>\n",
       "      <td>Toddle</td>\n",
       "      <td>NaN</td>\n",
       "      <td>NaN</td>\n",
       "      <td>Bengaluru</td>\n",
       "      <td>Collaboration and productivity platform for teachers across the world</td>\n",
       "      <td>NaN</td>\n",
       "      <td>2020</td>\n",
       "    </tr>\n",
       "    <tr>\n",
       "      <th>1641</th>\n",
       "      <td>HaikuJAM</td>\n",
       "      <td>NaN</td>\n",
       "      <td>NaN</td>\n",
       "      <td>NaN</td>\n",
       "      <td>Creative writing mobile platform</td>\n",
       "      <td>3,400,000.00</td>\n",
       "      <td>2020</td>\n",
       "    </tr>\n",
       "  </tbody>\n",
       "</table>\n",
       "</div>"
      ],
      "text/plain": [
       "                                      Company/Brand Sector            Stage  \\\n",
       "58                         MissMalini Entertainment    NaN             Seed   \n",
       "105                                Jagaran Microfin    NaN   Debt Financing   \n",
       "121                                          FLEECA    NaN             Seed   \n",
       "146                                       WheelsEMI    NaN         Series B   \n",
       "153                                     Fric Bergen    NaN              NaN   \n",
       "174                                        Deftouch    NaN             Seed   \n",
       "181                                     Corefactors    NaN             Seed   \n",
       "210                                 Cell Propulsion    NaN             Seed   \n",
       "230                                        Flathalt    NaN            Angel   \n",
       "235                                           dishq    NaN             Seed   \n",
       "238                                           Trell    NaN             Seed   \n",
       "242                                  HousingMan.com    NaN             Seed   \n",
       "243                        Steradian Semiconductors    NaN             Seed   \n",
       "247                                    SaffronStays    NaN             Seed   \n",
       "251                            Inner Being Wellness    NaN            Angel   \n",
       "257                                        MySEODoc    NaN             Seed   \n",
       "258        ENLYFT DIGITAL SOLUTIONS PRIVATE LIMITED    NaN             Seed   \n",
       "259                                      Scale Labs    NaN             Seed   \n",
       "294                                        Roadcast    NaN            Angel   \n",
       "325                                          Toffee    NaN             Seed   \n",
       "326                                      ORO Wealth    NaN         Series A   \n",
       "346                                         Finwego    NaN             Seed   \n",
       "397                                            Cred    NaN             Seed   \n",
       "456                                           Origo    NaN              NaN   \n",
       "471                                       Sequretek    NaN              NaN   \n",
       "472                Avenues Payments India Pvt. Ltd.    NaN  Corporate Round   \n",
       "475   Planet11 eCommerce Solutions India (Avenue11)    NaN  Corporate Round   \n",
       "477                                  Iba Halal Care    NaN         Series A   \n",
       "479                                          Togedr    NaN              NaN   \n",
       "509                                        Scholify    NaN         Pre-Seed   \n",
       "566                                           VMate    NaN              NaN   \n",
       "574                               Awign Enterprises    NaN         Series A   \n",
       "577                                        TapChief    NaN     Pre series A   \n",
       "581                                           KredX    NaN         Series B   \n",
       "582                                         m.Paani    NaN         Series A   \n",
       "1128                                   Text Mercato    NaN         Series A   \n",
       "1179                                       Magicpin    NaN         Series D   \n",
       "1297                                      Leap Club    NaN   Pre seed Round   \n",
       "1309                                Juicy Chemistry    NaN         Series A   \n",
       "1317                                       Magicpin    NaN              NaN   \n",
       "1342                                        Servify    NaN              NaN   \n",
       "1356                                       Wagonfly    NaN              NaN   \n",
       "1373                                     DrinkPrime    NaN             Seed   \n",
       "1419                                Kitchens Centre    NaN             Seed   \n",
       "1528                                       Innoviti    NaN              NaN   \n",
       "1536                                     Brick&Bolt    NaN     Pre Series A   \n",
       "1622                                         Toddle    NaN              NaN   \n",
       "1641                                       HaikuJAM    NaN              NaN   \n",
       "\n",
       "         HeadQuarter  \\\n",
       "58            Mumbai   \n",
       "105          Kolkata   \n",
       "121           Jaipur   \n",
       "146             Pune   \n",
       "153            Alwar   \n",
       "174        Bangalore   \n",
       "181        Bangalore   \n",
       "210        Bangalore   \n",
       "230          Gurgaon   \n",
       "235        Bengaluru   \n",
       "238   Bangalore City   \n",
       "242        Bengaluru   \n",
       "243        Bangalore   \n",
       "247           Mumbai   \n",
       "251        Hyderabad   \n",
       "257            Delhi   \n",
       "258             Pune   \n",
       "259            Delhi   \n",
       "294        New Delhi   \n",
       "325          Gurgaon   \n",
       "326           Mumbai   \n",
       "346          Chennai   \n",
       "397        Bengaluru   \n",
       "456          Gurgaon   \n",
       "471           Mumbai   \n",
       "472           Mumbai   \n",
       "475        Bengaluru   \n",
       "477        Ahmedabad   \n",
       "479          Gurgaon   \n",
       "509        Bengaluru   \n",
       "566              NaN   \n",
       "574        Bangalore   \n",
       "577        Bangalore   \n",
       "581        Bangalore   \n",
       "582           Mumbai   \n",
       "1128       Bangalore   \n",
       "1179        Gurugram   \n",
       "1297        Gurugram   \n",
       "1309             NaN   \n",
       "1317        Gurugram   \n",
       "1342          Mumbai   \n",
       "1356       Bangalore   \n",
       "1373       Bangalore   \n",
       "1419           Delhi   \n",
       "1528       Bangalore   \n",
       "1536       Bangalore   \n",
       "1622       Bengaluru   \n",
       "1641             NaN   \n",
       "\n",
       "                                                                                                                                    What it does  \\\n",
       "58              MissMalini Entertainment is a multi-platform new media network dedicated to Entertaining, Connecting & Empowering young Indians.   \n",
       "105                                 Jagaran Microfin is a Microfinance institution which achieves a healthy amalgamation of social and financial   \n",
       "121                                                                                                      FLEECA is a Tyre Care Provider company.   \n",
       "146                                                                                     WheelsEMI is the brand name of NBFC, WheelsEMI Pvt. Ltd.   \n",
       "153                                                                                      Fric Bergen is a leader in the specialty food industry.   \n",
       "174    Deftouch is a mobile game development company that currently focuses on winning the Cricket gaming market with a social multiplayer game.   \n",
       "181                                                  Corefactors is a leading campaign management, business communication and analytics company.   \n",
       "210                                                   Cell Propulsion is an electric mobility startup that designs autonomous electric vehicles.   \n",
       "230                                                                                                              FInd your Customized Home here.   \n",
       "235                                            dishq leverages food science and machine learning (AI) to understand and predict people's tastes.   \n",
       "238                         Trell is a location based network which helps you in exploring amazing experiences and annotating places around you.   \n",
       "242                                                                                                  New Apartments, Flats for Sale in Bangalore   \n",
       "243                                                    It is a fabless semiconductor company focused on CMOS millimeter wave products for Radar.   \n",
       "247                                                                                SaffronStays connects travellers to India's Incredible hosts.   \n",
       "251                                                                  Inner Being Wellness manufactures beauty, wellness, and nutrition products.   \n",
       "257                                 SEO, PPC, Search Engine Marketing, Social Media Optimization, Content Marketing, Brand Reputation Management   \n",
       "258                                                                                                                     Digital Marketing Agency   \n",
       "259                                              Scale Labs is a cross border e-commerce solutions provider that drives global trade for brands.   \n",
       "294                                                                  Transforming the way businesses deliver. Work-force & fleet mobility tools.   \n",
       "325                Toffee is a bite size, micro-event & contextual insurtech startup which aims to de-jargonise the insurance buying experience.   \n",
       "326                                                                                                            Online wealth management platform   \n",
       "346                     Finwego partners with Small and Medium Businesses in India to offer convenient and responsible credit to their employees   \n",
       "397                                                            Cred is a platform to celebrate and reward the most creditworthy people of India.   \n",
       "456   Origo Commodities, a complete post-harvest management services for agricultural commodities, is the fastest growing company in its sector.   \n",
       "471                                                                                                      Sequretek is a cyber security start-up.   \n",
       "472                                         Avenues Payments is an IT solutions provider for the remittance\\money transfer and forex industries.   \n",
       "475                          Planet11 is backed by SK Planet, which is a part of the SK Group – one of the largest conglomerates in South Korea.   \n",
       "477                                                                                                 Iba Halal Care is a cosmetics brand company.   \n",
       "479                                                                                          Togedr is an activity discovery & booking platform.   \n",
       "509                                                                                                                                      Edutech   \n",
       "566                                                                                                                       A short video platform   \n",
       "574                                                                                                         It supplies workforce to the economy   \n",
       "577                                 It connects individuals in need of advice in a specific domain to individuals who have expertise in the same   \n",
       "581                                                                                                                 Invoice discounting platform   \n",
       "582                                                                                                   It digitizes and organises local retailers   \n",
       "1128                                                                                         Cataloguing startup that serves ecommerce platforms   \n",
       "1179                                                                                     It is a local discovery, rewards, and commerce platform   \n",
       "1297                                                                                                Community led professional network for women   \n",
       "1309                                                                                               It focuses on organic based skincare products   \n",
       "1317                                                                                     It is a local discovery, rewards, and commerce platform   \n",
       "1342                               It is a technology company which serves as a platform for brands to offer end-to-end solutions to their users   \n",
       "1356                                                   Contactless shopping and delivery experience by using radio frequency to tag retail items   \n",
       "1373                                                                                                         Water purifier subscription service   \n",
       "1419   Offers solutions to cloud kitchens by providing commercial space and kitchen infrastructure to assisting with branding and other services   \n",
       "1528                                                                                                          Digital payments solutions company   \n",
       "1536                                                                                              Operates in the residential construction space   \n",
       "1622                                                                       Collaboration and productivity platform for teachers across the world   \n",
       "1641                                                                                                            Creative writing mobile platform   \n",
       "\n",
       "          Amount($)  Year  \n",
       "58     1,518,400.00  2018  \n",
       "105    8,030,000.00  2018  \n",
       "121             NaN  2018  \n",
       "146   14,000,000.00  2018  \n",
       "153             NaN  2018  \n",
       "174             NaN  2018  \n",
       "181             NaN  2018  \n",
       "210      102,200.00  2018  \n",
       "230       50,000.00  2018  \n",
       "235      400,000.00  2018  \n",
       "238    1,250,000.00  2018  \n",
       "242    1,503,800.00  2018  \n",
       "243             NaN  2018  \n",
       "247    2,000,000.00  2018  \n",
       "251      511,000.00  2018  \n",
       "257             NaN  2018  \n",
       "258        2,920.00  2018  \n",
       "259    1,000,000.00  2018  \n",
       "294      250,000.00  2018  \n",
       "325    1,500,000.00  2018  \n",
       "326    1,600,000.00  2018  \n",
       "346             NaN  2018  \n",
       "397             NaN  2018  \n",
       "456   11,680,000.00  2018  \n",
       "471    3,700,000.00  2018  \n",
       "472    1,300,000.00  2018  \n",
       "475    3,796,000.00  2018  \n",
       "477    2,190,000.00  2018  \n",
       "479             NaN  2018  \n",
       "509             NaN  2018  \n",
       "566  100,000,000.00  2019  \n",
       "574    4,000,000.00  2019  \n",
       "577    1,500,000.00  2019  \n",
       "581   26,000,000.00  2019  \n",
       "582    5,500,000.00  2019  \n",
       "1128     649,600.00  2020  \n",
       "1179   7,000,000.00  2020  \n",
       "1297     340,000.00  2020  \n",
       "1309     650,000.00  2020  \n",
       "1317   3,879,000.00  2020  \n",
       "1342     250,000.00  2020  \n",
       "1356     500,000.00  2020  \n",
       "1373            NaN  2020  \n",
       "1419     500,000.00  2020  \n",
       "1528   5,000,000.00  2020  \n",
       "1536   1,500,000.00  2020  \n",
       "1622            NaN  2020  \n",
       "1641   3,400,000.00  2020  "
      ]
     },
     "execution_count": 136,
     "metadata": {},
     "output_type": "execute_result"
    }
   ],
   "source": [
    "Final_Startup_Data[Final_Startup_Data['Sector'].isna()== True] "
   ]
  },
  {
   "cell_type": "code",
   "execution_count": 137,
   "metadata": {},
   "outputs": [
    {
     "name": "stdout",
     "output_type": "stream",
     "text": [
      "<class 'pandas.core.frame.DataFrame'>\n",
      "RangeIndex: 2853 entries, 0 to 2852\n",
      "Data columns (total 7 columns):\n",
      " #   Column         Non-Null Count  Dtype  \n",
      "---  ------         --------------  -----  \n",
      " 0   Company/Brand  2853 non-null   object \n",
      " 1   Sector         2805 non-null   object \n",
      " 2   Stage          1881 non-null   object \n",
      " 3   HeadQuarter    2736 non-null   object \n",
      " 4   What it does   2853 non-null   object \n",
      " 5   Amount($)      2294 non-null   float64\n",
      " 6   Year           2853 non-null   object \n",
      "dtypes: float64(1), object(6)\n",
      "memory usage: 156.1+ KB\n"
     ]
    }
   ],
   "source": [
    "# show all occurences of duplicated rows\n",
    "Final_Startup_Data.info()"
   ]
  },
  {
   "cell_type": "markdown",
   "metadata": {},
   "source": [
    "##### We will group sectors and amounts to see which sector received more amount"
   ]
  },
  {
   "cell_type": "code",
   "execution_count": 138,
   "metadata": {},
   "outputs": [],
   "source": [
    "Final_Startup_Data_amount_by_sector = Final_Startup_Data.groupby('Sector')['Amount($)'].sum().reset_index()\n"
   ]
  },
  {
   "cell_type": "code",
   "execution_count": 139,
   "metadata": {},
   "outputs": [
    {
     "data": {
      "text/html": [
       "<div>\n",
       "<style scoped>\n",
       "    .dataframe tbody tr th:only-of-type {\n",
       "        vertical-align: middle;\n",
       "    }\n",
       "\n",
       "    .dataframe tbody tr th {\n",
       "        vertical-align: top;\n",
       "    }\n",
       "\n",
       "    .dataframe thead th {\n",
       "        text-align: right;\n",
       "    }\n",
       "</style>\n",
       "<table border=\"1\" class=\"dataframe\">\n",
       "  <thead>\n",
       "    <tr style=\"text-align: right;\">\n",
       "      <th></th>\n",
       "      <th>Sector</th>\n",
       "      <th>Amount($)</th>\n",
       "    </tr>\n",
       "  </thead>\n",
       "  <tbody>\n",
       "    <tr>\n",
       "      <th>0</th>\n",
       "      <td>3D Printing</td>\n",
       "      <td>0.00</td>\n",
       "    </tr>\n",
       "    <tr>\n",
       "      <th>1</th>\n",
       "      <td>AI</td>\n",
       "      <td>500,282,500.00</td>\n",
       "    </tr>\n",
       "    <tr>\n",
       "      <th>2</th>\n",
       "      <td>AI &amp; Data science</td>\n",
       "      <td>8,000,000.00</td>\n",
       "    </tr>\n",
       "    <tr>\n",
       "      <th>3</th>\n",
       "      <td>AI &amp; Debt</td>\n",
       "      <td>0.00</td>\n",
       "    </tr>\n",
       "    <tr>\n",
       "      <th>4</th>\n",
       "      <td>AI &amp; Deep learning</td>\n",
       "      <td>0.00</td>\n",
       "    </tr>\n",
       "    <tr>\n",
       "      <th>...</th>\n",
       "      <td>...</td>\n",
       "      <td>...</td>\n",
       "    </tr>\n",
       "    <tr>\n",
       "      <th>522</th>\n",
       "      <td>Wine &amp; Spirits</td>\n",
       "      <td>10,400,000.00</td>\n",
       "    </tr>\n",
       "    <tr>\n",
       "      <th>523</th>\n",
       "      <td>Work fulfillment</td>\n",
       "      <td>500,000.00</td>\n",
       "    </tr>\n",
       "    <tr>\n",
       "      <th>524</th>\n",
       "      <td>Yoga &amp; wellness</td>\n",
       "      <td>2,800,000.00</td>\n",
       "    </tr>\n",
       "    <tr>\n",
       "      <th>525</th>\n",
       "      <td>eMobility</td>\n",
       "      <td>1,000,000.00</td>\n",
       "    </tr>\n",
       "    <tr>\n",
       "      <th>526</th>\n",
       "      <td>eSports</td>\n",
       "      <td>584,000.00</td>\n",
       "    </tr>\n",
       "  </tbody>\n",
       "</table>\n",
       "<p>527 rows × 2 columns</p>\n",
       "</div>"
      ],
      "text/plain": [
       "                 Sector      Amount($)\n",
       "0           3D Printing           0.00\n",
       "1                    AI 500,282,500.00\n",
       "2     AI & Data science   8,000,000.00\n",
       "3             AI & Debt           0.00\n",
       "4    AI & Deep learning           0.00\n",
       "..                  ...            ...\n",
       "522      Wine & Spirits  10,400,000.00\n",
       "523    Work fulfillment     500,000.00\n",
       "524     Yoga & wellness   2,800,000.00\n",
       "525           eMobility   1,000,000.00\n",
       "526             eSports     584,000.00\n",
       "\n",
       "[527 rows x 2 columns]"
      ]
     },
     "execution_count": 139,
     "metadata": {},
     "output_type": "execute_result"
    }
   ],
   "source": [
    "Final_Startup_Data_amount_by_sector"
   ]
  },
  {
   "cell_type": "markdown",
   "metadata": {},
   "source": [
    "#### Now See graphe Funding Amount per Sector"
   ]
  },
  {
   "cell_type": "code",
   "execution_count": 177,
   "metadata": {},
   "outputs": [
    {
     "data": {
      "application/vnd.plotly.v1+json": {
       "config": {
        "plotlyServerURL": "https://plot.ly"
       },
       "data": [
        {
         "alignmentgroup": "True",
         "bingroup": "x",
         "histfunc": "sum",
         "hovertemplate": "Sector=%{x}<br>sum of Amount($)=%{y}<extra></extra>",
         "legendgroup": "",
         "marker": {
          "color": "#636efa",
          "pattern": {
           "shape": ""
          }
         },
         "name": "",
         "offsetgroup": "",
         "orientation": "v",
         "showlegend": false,
         "type": "histogram",
         "x": [
          "AI",
          "AI & Data science",
          "AI & Media",
          "AI & Tech",
          "AI Chatbot",
          "AI Platform",
          "AI Robotics",
          "AI health",
          "AI platform",
          "API platform",
          "AR",
          "AR platform",
          "AR startup",
          "AR/VR",
          "Accomodation",
          "Accounting",
          "Ad-tech",
          "Advertisement",
          "Advertising",
          "Aeorspace",
          "Aerospace",
          "AgTech",
          "AgriTech",
          "AgriTech startup",
          "AgriTech/Commerce",
          "Agriculture",
          "Air Transportation",
          "Analytics",
          "Apparel & Fashion",
          "Appliance",
          "Apps",
          "Artificial Intelligence",
          "Audio",
          "Automation",
          "Automation tech",
          "Automobile",
          "Automobile & Technology",
          "Automobile Technology",
          "Automotive",
          "Automotive and Rentals",
          "Automotive company",
          "Automotive tech",
          "Autonomous Vehicles",
          "Aviation",
          "Aviation & Aerospace",
          "Ayurveda tech",
          "B2B",
          "B2B AgriTech",
          "B2B E-commerce",
          "B2B Manufacturing",
          "B2B Marketplace",
          "B2B Travel",
          "B2B marketplace",
          "B2B service",
          "Banking",
          "Battery",
          "Battery design",
          "Battery manufacturer",
          "Beauty",
          "Beauty & wellness",
          "Beauty products",
          "Beverage",
          "Beverages",
          "Big Data",
          "Bike Rental",
          "Bike marketplace",
          "BioTechnology",
          "Biomaterial startup",
          "Biopharma",
          "Biotech",
          "Biotechnology",
          "Blockchain",
          "Blogging",
          "Brand Marketing",
          "Broadcasting",
          "Business Development",
          "Business Intelligence",
          "Business Supplies & Equipment",
          "CRM",
          "Cannabis startup",
          "Capital Markets",
          "Car Service",
          "Car Trade",
          "Career Planning",
          "Celebrity Engagement",
          "Children",
          "Classifieds",
          "Clean Energy",
          "CleanTech",
          "Cleantech",
          "Clothing",
          "Cloud Computing",
          "Cloud Infrastructure",
          "Cloud Kitchen",
          "Cloud company",
          "Cloud kitchen",
          "Co-living",
          "Co-working",
          "Collaboration",
          "Commerce",
          "Commercial",
          "Commercial Real Estate",
          "Communities",
          "Community",
          "Community platform",
          "Company-as-a-Service",
          "Computer",
          "Computer & Network Security",
          "Computer Games",
          "Computer Software",
          "Construction",
          "Construction tech",
          "Consultancy",
          "Consulting",
          "Consumer",
          "Consumer Electronics",
          "Consumer Goods",
          "Consumer Lending",
          "Consumer Services",
          "Consumer appliances",
          "Consumer software",
          "Content Marktplace",
          "Content management",
          "Content publishing",
          "Continuing Education",
          "Conversational AI platform",
          "Cosmetics",
          "Craft Beer",
          "Creative Agency",
          "Credit",
          "Credit Cards",
          "Crowdfunding",
          "Crowdsourcing",
          "Crypto",
          "Cryptocurrency",
          "Cultural",
          "Customer Service",
          "Customer service company",
          "Cybersecurity",
          "D2C",
          "D2C Fashion",
          "D2C jewellery",
          "Dairy",
          "Dairy startup",
          "Data Analytics",
          "Data Intelligence",
          "Dating",
          "Dating app",
          "Deeptech",
          "Deeptech startup",
          "Defense tech",
          "Deisgning",
          "Delivery",
          "Delivery Service",
          "Delivery service",
          "Dental",
          "Design",
          "Dietary Supplements",
          "Digital Entertainment",
          "Digital Marketing",
          "Digital Media",
          "Digital mortgage",
          "Digital platform",
          "Digital tech",
          "Drone",
          "E store",
          "E-Commerce",
          "E-Learning",
          "E-Sports",
          "E-commerce",
          "E-connect",
          "E-learning",
          "E-market",
          "E-marketplace",
          "E-mobility",
          "E-tail",
          "EV",
          "EV startup startup",
          "Ecommerce",
          "EdTech",
          "Edtech",
          "Education",
          "Education Management",
          "Electricity",
          "Electronics",
          "Energy",
          "Enterprise Resource Planning (ERP)",
          "Entertainment",
          "Environmental Consulting",
          "Environmental Services",
          "Equity Management",
          "Escrow",
          "Estore",
          "Events",
          "Eye Wear",
          "Eyeglasses",
          "Eyewear",
          "FM",
          "FMCG",
          "Facilities Services",
          "Fantasy Sports",
          "Farming",
          "Fashion",
          "Fashion & Lifestyle",
          "Fashion Tech",
          "FemTech",
          "Fertility tech",
          "FinTech",
          "Finance",
          "Finance company",
          "Financial Services",
          "Fintech",
          "Fishery",
          "Fitness",
          "Fitness startup",
          "Food",
          "Food & Bevarages",
          "Food & Beverage",
          "Food & Beverages",
          "Food & Logistics",
          "Food & Nutrition",
          "Food & tech",
          "Food Delivery",
          "Food Industry",
          "Food Processing",
          "Food Production",
          "Food and Beverage",
          "Food delivery",
          "FoodTech",
          "Foodtech",
          "Foootwear",
          "Funding Platform",
          "Furniture",
          "Furniture Rental",
          "Fusion beverages",
          "Gaming",
          "Gaming startup",
          "Government",
          "HR",
          "HR Tech",
          "HR tech",
          "HRTech",
          "Health",
          "Health Care",
          "Health Diagnostics",
          "Health Insurance",
          "Health and Fitness",
          "HealthCare",
          "HealthTech",
          "Healthcare",
          "Healthcare/EdTech",
          "Healthtech",
          "Helathcare",
          "Higher Education",
          "Home Decor",
          "Home Design",
          "Home interior services",
          "Home services",
          "Hospital & Health Care",
          "Hospitality",
          "Housing Marketplace",
          "Human Resources",
          "Hygiene",
          "IT",
          "IT & Services",
          "Industrial",
          "Industrial Automation",
          "Information Services",
          "Information Technology",
          "Information Technology & Services",
          "Infratech",
          "Innovation Management",
          "Insurance",
          "Insurance Tech",
          "Insurance technology",
          "InsureTech",
          "Interior & decor",
          "Interior Design",
          "Interior design",
          "Internet",
          "Internet of Things",
          "Investment",
          "Investment Banking",
          "Investment Management",
          "IoT",
          "IoT platform",
          "IoT/Automobile",
          "Jewellery",
          "Jewellery startup",
          "Job discovery platform",
          "Job portal",
          "Last Mile Transportation",
          "Legal Services",
          "Legal tech",
          "LegalTech",
          "Lifestyle",
          "Location Analytics",
          "Logistics",
          "Logistics & Supply Chain",
          "Logitech",
          "MLOps platform",
          "Management Consulting",
          "Manufacturing",
          "Manufacturing startup",
          "MarTech",
          "Maritime",
          "Market Research",
          "Marketing",
          "Marketing & Advertising",
          "Marketing & Customer loyalty",
          "Marketing company",
          "Marketing startup",
          "Marketplace",
          "Matrimony",
          "Mechanical & Industrial Engineering",
          "Med Tech",
          "Media",
          "Media & Networking",
          "Media Tech",
          "Media and Entertainment",
          "Medical",
          "Medtech",
          "Merchandise",
          "Micro-mobiity",
          "Milk startup",
          "Mobile",
          "Mobile Games",
          "Mobile Payments",
          "Mobility",
          "Mobility/Transport",
          "Multinational conglomerate company",
          "Music",
          "Mutual Funds",
          "NFT",
          "Nano Distribution Network",
          "Nanotechnology",
          "Networking",
          "Nutrition",
          "Nutrition Tech",
          "Nutrition sector",
          "OTT",
          "Oil & Energy",
          "Online Games",
          "Online Media",
          "Online Portals",
          "Online credit management startup",
          "Online financial service",
          "Online storytelling",
          "PaaS startup",
          "Personal Care",
          "Personal care startup",
          "Pet care",
          "Pharmaceutical",
          "Pharmacy",
          "Pollution control equiptment",
          "Preschool Daycare",
          "Product studio",
          "Professional Training & Coaching",
          "Proptech",
          "Publication",
          "QSR startup",
          "Reading Apps",
          "Real Estate",
          "Recruitment",
          "Recruitment startup",
          "Renewable Energy",
          "Renewable player",
          "Renewables & Environment",
          "Rental",
          "Rental space",
          "Retail",
          "Retail Tech",
          "Retail startup",
          "Robotics",
          "Robotics & AI",
          "SaaS",
          "SaaS platform",
          "SaaS/EdTech",
          "Sales & Services",
          "Sales and Distribution",
          "Sales and marketing",
          "Sanitation solutions",
          "Scanning app",
          "Search Engine",
          "Service industry",
          "Skill development",
          "Social Commerce",
          "Social Media",
          "Social audio",
          "Social commerce",
          "Social community",
          "Social e-commerce",
          "Social network",
          "Social platform",
          "Software",
          "Software Company",
          "Soil-Tech",
          "Solar",
          "Solar SaaS",
          "Solar Solution",
          "SpaceTech",
          "Spiritual",
          "Sports",
          "SportsTech",
          "Staffing & Recruiting",
          "Supply chain platform",
          "Supply chain, AgriTech",
          "TaaS startup",
          "Taxation",
          "Tech",
          "Tech Startup",
          "Tech platform",
          "Technology",
          "Techonology",
          "Telecommunication",
          "Telecommunications",
          "Textiles",
          "Tobacco",
          "Tourism",
          "Trading Platform",
          "Trading platform",
          "Training",
          "Translation & Localization",
          "Transport",
          "Transport & Rentals",
          "Transport Automation",
          "Transportation",
          "Travel",
          "Travel & SaaS",
          "VR & SaaS",
          "Vehicle repair startup",
          "Venture Capital",
          "Venture Capital & Private Equity",
          "Venture capital",
          "Venture capitalist",
          "Veterinary",
          "Video",
          "Video communication",
          "Video personalization",
          "Video sharing platform",
          "Virtual Banking",
          "Virtual auditing startup",
          "Visual Media",
          "WL & RAC protection",
          "Warehouse",
          "Water purification",
          "Wealth Management",
          "Wholesale",
          "Wine & Spirits",
          "Work fulfillment",
          "Yoga & wellness",
          "eMobility",
          "eSports"
         ],
         "xaxis": "x",
         "y": [
          500282500,
          8000000,
          3000000,
          20000000,
          7500000,
          8000000,
          281300,
          350000,
          3000000,
          4050000,
          300000,
          7000000,
          800000,
          1000000,
          16200000,
          59500000,
          3000000,
          1800000,
          788400,
          1800000,
          292000000,
          36500000,
          623420000,
          5060000,
          1000000,
          29172000,
          6000000,
          5680320,
          31200000,
          2879000,
          138019750,
          12080720,
          800000,
          102810000,
          500000,
          380069000,
          5000000,
          14700000,
          2250388722,
          209000000,
          360000,
          54530000,
          3934400,
          3000000,
          500000,
          2000000,
          330154000,
          12000000,
          236000000,
          2600000,
          5200000,
          2200000,
          10000000,
          400000,
          328156000,
          250000,
          2000000,
          2000000,
          24138000,
          150000,
          65000000,
          43440000,
          2000000,
          20580000,
          125000,
          2000000,
          324900000,
          1400000,
          107500000,
          864000,
          47600000,
          18250000,
          4100000,
          250000,
          292000,
          730000,
          500000,
          300000,
          320000,
          200000,
          6600000,
          1020000,
          42500000,
          3000000,
          1000000,
          730000,
          8030000,
          584000,
          18792000,
          22000000,
          50000000,
          792000,
          1600000,
          1000000,
          5000000,
          175000000,
          56000000,
          12640000,
          4500000,
          1000000,
          584000,
          15000000,
          657000,
          810000,
          26000000,
          3000000,
          6820000,
          7000000,
          2320000,
          389000000,
          233215000,
          1100000,
          15000000,
          28450000,
          2800000,
          48419000,
          205527200,
          5134000,
          51900000,
          9000000,
          1300000,
          4506900,
          3500000,
          1000000,
          40000000,
          1500000,
          90015000,
          764000,
          2000000,
          33449000,
          100000,
          6566000,
          1000000,
          276500000,
          4252000,
          300000,
          4022000,
          30000000,
          4000000,
          361000000,
          4000000,
          24000000,
          400000,
          25000000,
          4000000,
          1200000,
          2050000,
          110000,
          21300000,
          5060000,
          1000000,
          500000,
          13260000,
          25481800,
          40000000,
          200000,
          27000000,
          730000,
          12180000,
          1460,
          9374540,
          1200000,
          200000,
          40000000,
          3100000,
          60000000,
          225546000,
          13590600,
          100000,
          2951666800,
          2000000,
          308135000,
          336000000,
          150000,
          10000000,
          43700000,
          12900000,
          124000000,
          6300000,
          4979496530,
          736182700,
          6035460,
          19000000,
          7000000,
          46500000,
          581741000,
          3650000,
          518892000,
          242360,
          1000000,
          3000000,
          400000,
          3500000,
          1500000,
          3060000,
          3000000,
          222000000,
          5000000,
          1000000,
          200000,
          100600000,
          27000000,
          145430200,
          106000000,
          467000,
          7000000,
          200000,
          154751578900,
          636275200,
          113000000,
          2080802500,
          30000000,
          4000000,
          11530000,
          3100000,
          127129000,
          6400000,
          7749500,
          475001000,
          2300000,
          400000,
          6000000,
          1875836000,
          62600000,
          730000,
          2630000,
          64686200,
          962000000,
          460827300,
          132000000,
          1100000,
          1496500,
          84000000,
          10000000,
          1000000,
          738150000,
          11000000,
          100000,
          2000000,
          39044000,
          140500,
          20000000,
          452040900,
          160261185,
          730000,
          210000000,
          115000000,
          717770000,
          830268100,
          53200000,
          2800000,
          220000,
          800000,
          400000,
          35400000,
          10000000,
          8000000,
          438000000,
          224300000,
          1735561000,
          155000,
          76146000,
          1100000,
          112950000,
          711950000,
          175200,
          27000000,
          37457160,
          13314000,
          75000000,
          20000000,
          1000500000,
          1096925000,
          1050000,
          5500000,
          446840000,
          100000,
          114000000,
          31000000,
          179034040,
          1399300,
          887000,
          500000,
          17000000,
          110555000,
          1000000,
          293000,
          9090000,
          12500000,
          140000,
          41000000,
          1168000,
          10000000,
          100000,
          6100000,
          17000000,
          1000000,
          722674000,
          465470000,
          26354500,
          1000000,
          1500000,
          78266920,
          1500000,
          1000000,
          1600000,
          730000,
          26992000,
          12000000,
          1000000,
          700000,
          600000,
          57417000,
          3000000,
          750400000,
          229800,
          590138000,
          3000000,
          400000,
          584000,
          3000000,
          7900000,
          300000,
          3964000,
          100000,
          4517520,
          1100000,
          200000,
          643840000,
          3300000,
          2200000000,
          2250000,
          600000,
          4000000,
          5660000,
          2438000,
          620000,
          6000000,
          133000,
          500000,
          22000000,
          1100000,
          4088000,
          6850000,
          750000,
          803146,
          9000000,
          48000000,
          2000000,
          6000000,
          2900000,
          39600000,
          31000000,
          1400000,
          1000000,
          507000,
          10000000,
          9200000,
          7000000,
          1400000,
          2000000,
          365000,
          117717328,
          117600000,
          1000000,
          72500000,
          390000000,
          7000000,
          12388000,
          6500000,
          70542380000,
          8000000,
          900000,
          6000000,
          230000000,
          828359400,
          103050000,
          323000,
          19000000,
          1000000,
          4200000,
          19000000,
          575000,
          1000000,
          23000000,
          1000000,
          8000000,
          881000000,
          3000000,
          718350000,
          3200000,
          18900000,
          32000000,
          800000,
          159990000,
          40000000,
          1000000,
          131400000,
          5000000,
          31000000,
          38948000,
          4000000,
          895457000,
          4500000,
          3000000,
          3000000,
          5900000,
          250000,
          280000,
          365183900,
          3458433000,
          10000000,
          62100000,
          11000000,
          100000000,
          61000000,
          2570000,
          3500000,
          3400000,
          365000,
          2200000,
          500000,
          600000,
          17218700,
          34800000,
          39000000,
          374150000,
          67200000,
          13000000,
          1397000,
          1000000,
          225000000,
          65000000,
          100000000,
          194000000,
          5638700,
          15000000,
          3000000,
          4000000,
          400000,
          2100000,
          120000,
          2500000,
          900000,
          54000,
          1600000,
          150000,
          3500000,
          10400000,
          500000,
          2800000,
          1000000,
          584000
         ],
         "yaxis": "y"
        }
       ],
       "layout": {
        "barmode": "relative",
        "legend": {
         "tracegroupgap": 0
        },
        "template": {
         "data": {
          "bar": [
           {
            "error_x": {
             "color": "#2a3f5f"
            },
            "error_y": {
             "color": "#2a3f5f"
            },
            "marker": {
             "line": {
              "color": "#E5ECF6",
              "width": 0.5
             },
             "pattern": {
              "fillmode": "overlay",
              "size": 10,
              "solidity": 0.2
             }
            },
            "type": "bar"
           }
          ],
          "barpolar": [
           {
            "marker": {
             "line": {
              "color": "#E5ECF6",
              "width": 0.5
             },
             "pattern": {
              "fillmode": "overlay",
              "size": 10,
              "solidity": 0.2
             }
            },
            "type": "barpolar"
           }
          ],
          "carpet": [
           {
            "aaxis": {
             "endlinecolor": "#2a3f5f",
             "gridcolor": "white",
             "linecolor": "white",
             "minorgridcolor": "white",
             "startlinecolor": "#2a3f5f"
            },
            "baxis": {
             "endlinecolor": "#2a3f5f",
             "gridcolor": "white",
             "linecolor": "white",
             "minorgridcolor": "white",
             "startlinecolor": "#2a3f5f"
            },
            "type": "carpet"
           }
          ],
          "choropleth": [
           {
            "colorbar": {
             "outlinewidth": 0,
             "ticks": ""
            },
            "type": "choropleth"
           }
          ],
          "contour": [
           {
            "colorbar": {
             "outlinewidth": 0,
             "ticks": ""
            },
            "colorscale": [
             [
              0,
              "#0d0887"
             ],
             [
              0.1111111111111111,
              "#46039f"
             ],
             [
              0.2222222222222222,
              "#7201a8"
             ],
             [
              0.3333333333333333,
              "#9c179e"
             ],
             [
              0.4444444444444444,
              "#bd3786"
             ],
             [
              0.5555555555555556,
              "#d8576b"
             ],
             [
              0.6666666666666666,
              "#ed7953"
             ],
             [
              0.7777777777777778,
              "#fb9f3a"
             ],
             [
              0.8888888888888888,
              "#fdca26"
             ],
             [
              1,
              "#f0f921"
             ]
            ],
            "type": "contour"
           }
          ],
          "contourcarpet": [
           {
            "colorbar": {
             "outlinewidth": 0,
             "ticks": ""
            },
            "type": "contourcarpet"
           }
          ],
          "heatmap": [
           {
            "colorbar": {
             "outlinewidth": 0,
             "ticks": ""
            },
            "colorscale": [
             [
              0,
              "#0d0887"
             ],
             [
              0.1111111111111111,
              "#46039f"
             ],
             [
              0.2222222222222222,
              "#7201a8"
             ],
             [
              0.3333333333333333,
              "#9c179e"
             ],
             [
              0.4444444444444444,
              "#bd3786"
             ],
             [
              0.5555555555555556,
              "#d8576b"
             ],
             [
              0.6666666666666666,
              "#ed7953"
             ],
             [
              0.7777777777777778,
              "#fb9f3a"
             ],
             [
              0.8888888888888888,
              "#fdca26"
             ],
             [
              1,
              "#f0f921"
             ]
            ],
            "type": "heatmap"
           }
          ],
          "heatmapgl": [
           {
            "colorbar": {
             "outlinewidth": 0,
             "ticks": ""
            },
            "colorscale": [
             [
              0,
              "#0d0887"
             ],
             [
              0.1111111111111111,
              "#46039f"
             ],
             [
              0.2222222222222222,
              "#7201a8"
             ],
             [
              0.3333333333333333,
              "#9c179e"
             ],
             [
              0.4444444444444444,
              "#bd3786"
             ],
             [
              0.5555555555555556,
              "#d8576b"
             ],
             [
              0.6666666666666666,
              "#ed7953"
             ],
             [
              0.7777777777777778,
              "#fb9f3a"
             ],
             [
              0.8888888888888888,
              "#fdca26"
             ],
             [
              1,
              "#f0f921"
             ]
            ],
            "type": "heatmapgl"
           }
          ],
          "histogram": [
           {
            "marker": {
             "pattern": {
              "fillmode": "overlay",
              "size": 10,
              "solidity": 0.2
             }
            },
            "type": "histogram"
           }
          ],
          "histogram2d": [
           {
            "colorbar": {
             "outlinewidth": 0,
             "ticks": ""
            },
            "colorscale": [
             [
              0,
              "#0d0887"
             ],
             [
              0.1111111111111111,
              "#46039f"
             ],
             [
              0.2222222222222222,
              "#7201a8"
             ],
             [
              0.3333333333333333,
              "#9c179e"
             ],
             [
              0.4444444444444444,
              "#bd3786"
             ],
             [
              0.5555555555555556,
              "#d8576b"
             ],
             [
              0.6666666666666666,
              "#ed7953"
             ],
             [
              0.7777777777777778,
              "#fb9f3a"
             ],
             [
              0.8888888888888888,
              "#fdca26"
             ],
             [
              1,
              "#f0f921"
             ]
            ],
            "type": "histogram2d"
           }
          ],
          "histogram2dcontour": [
           {
            "colorbar": {
             "outlinewidth": 0,
             "ticks": ""
            },
            "colorscale": [
             [
              0,
              "#0d0887"
             ],
             [
              0.1111111111111111,
              "#46039f"
             ],
             [
              0.2222222222222222,
              "#7201a8"
             ],
             [
              0.3333333333333333,
              "#9c179e"
             ],
             [
              0.4444444444444444,
              "#bd3786"
             ],
             [
              0.5555555555555556,
              "#d8576b"
             ],
             [
              0.6666666666666666,
              "#ed7953"
             ],
             [
              0.7777777777777778,
              "#fb9f3a"
             ],
             [
              0.8888888888888888,
              "#fdca26"
             ],
             [
              1,
              "#f0f921"
             ]
            ],
            "type": "histogram2dcontour"
           }
          ],
          "mesh3d": [
           {
            "colorbar": {
             "outlinewidth": 0,
             "ticks": ""
            },
            "type": "mesh3d"
           }
          ],
          "parcoords": [
           {
            "line": {
             "colorbar": {
              "outlinewidth": 0,
              "ticks": ""
             }
            },
            "type": "parcoords"
           }
          ],
          "pie": [
           {
            "automargin": true,
            "type": "pie"
           }
          ],
          "scatter": [
           {
            "fillpattern": {
             "fillmode": "overlay",
             "size": 10,
             "solidity": 0.2
            },
            "type": "scatter"
           }
          ],
          "scatter3d": [
           {
            "line": {
             "colorbar": {
              "outlinewidth": 0,
              "ticks": ""
             }
            },
            "marker": {
             "colorbar": {
              "outlinewidth": 0,
              "ticks": ""
             }
            },
            "type": "scatter3d"
           }
          ],
          "scattercarpet": [
           {
            "marker": {
             "colorbar": {
              "outlinewidth": 0,
              "ticks": ""
             }
            },
            "type": "scattercarpet"
           }
          ],
          "scattergeo": [
           {
            "marker": {
             "colorbar": {
              "outlinewidth": 0,
              "ticks": ""
             }
            },
            "type": "scattergeo"
           }
          ],
          "scattergl": [
           {
            "marker": {
             "colorbar": {
              "outlinewidth": 0,
              "ticks": ""
             }
            },
            "type": "scattergl"
           }
          ],
          "scattermapbox": [
           {
            "marker": {
             "colorbar": {
              "outlinewidth": 0,
              "ticks": ""
             }
            },
            "type": "scattermapbox"
           }
          ],
          "scatterpolar": [
           {
            "marker": {
             "colorbar": {
              "outlinewidth": 0,
              "ticks": ""
             }
            },
            "type": "scatterpolar"
           }
          ],
          "scatterpolargl": [
           {
            "marker": {
             "colorbar": {
              "outlinewidth": 0,
              "ticks": ""
             }
            },
            "type": "scatterpolargl"
           }
          ],
          "scatterternary": [
           {
            "marker": {
             "colorbar": {
              "outlinewidth": 0,
              "ticks": ""
             }
            },
            "type": "scatterternary"
           }
          ],
          "surface": [
           {
            "colorbar": {
             "outlinewidth": 0,
             "ticks": ""
            },
            "colorscale": [
             [
              0,
              "#0d0887"
             ],
             [
              0.1111111111111111,
              "#46039f"
             ],
             [
              0.2222222222222222,
              "#7201a8"
             ],
             [
              0.3333333333333333,
              "#9c179e"
             ],
             [
              0.4444444444444444,
              "#bd3786"
             ],
             [
              0.5555555555555556,
              "#d8576b"
             ],
             [
              0.6666666666666666,
              "#ed7953"
             ],
             [
              0.7777777777777778,
              "#fb9f3a"
             ],
             [
              0.8888888888888888,
              "#fdca26"
             ],
             [
              1,
              "#f0f921"
             ]
            ],
            "type": "surface"
           }
          ],
          "table": [
           {
            "cells": {
             "fill": {
              "color": "#EBF0F8"
             },
             "line": {
              "color": "white"
             }
            },
            "header": {
             "fill": {
              "color": "#C8D4E3"
             },
             "line": {
              "color": "white"
             }
            },
            "type": "table"
           }
          ]
         },
         "layout": {
          "annotationdefaults": {
           "arrowcolor": "#2a3f5f",
           "arrowhead": 0,
           "arrowwidth": 1
          },
          "autotypenumbers": "strict",
          "coloraxis": {
           "colorbar": {
            "outlinewidth": 0,
            "ticks": ""
           }
          },
          "colorscale": {
           "diverging": [
            [
             0,
             "#8e0152"
            ],
            [
             0.1,
             "#c51b7d"
            ],
            [
             0.2,
             "#de77ae"
            ],
            [
             0.3,
             "#f1b6da"
            ],
            [
             0.4,
             "#fde0ef"
            ],
            [
             0.5,
             "#f7f7f7"
            ],
            [
             0.6,
             "#e6f5d0"
            ],
            [
             0.7,
             "#b8e186"
            ],
            [
             0.8,
             "#7fbc41"
            ],
            [
             0.9,
             "#4d9221"
            ],
            [
             1,
             "#276419"
            ]
           ],
           "sequential": [
            [
             0,
             "#0d0887"
            ],
            [
             0.1111111111111111,
             "#46039f"
            ],
            [
             0.2222222222222222,
             "#7201a8"
            ],
            [
             0.3333333333333333,
             "#9c179e"
            ],
            [
             0.4444444444444444,
             "#bd3786"
            ],
            [
             0.5555555555555556,
             "#d8576b"
            ],
            [
             0.6666666666666666,
             "#ed7953"
            ],
            [
             0.7777777777777778,
             "#fb9f3a"
            ],
            [
             0.8888888888888888,
             "#fdca26"
            ],
            [
             1,
             "#f0f921"
            ]
           ],
           "sequentialminus": [
            [
             0,
             "#0d0887"
            ],
            [
             0.1111111111111111,
             "#46039f"
            ],
            [
             0.2222222222222222,
             "#7201a8"
            ],
            [
             0.3333333333333333,
             "#9c179e"
            ],
            [
             0.4444444444444444,
             "#bd3786"
            ],
            [
             0.5555555555555556,
             "#d8576b"
            ],
            [
             0.6666666666666666,
             "#ed7953"
            ],
            [
             0.7777777777777778,
             "#fb9f3a"
            ],
            [
             0.8888888888888888,
             "#fdca26"
            ],
            [
             1,
             "#f0f921"
            ]
           ]
          },
          "colorway": [
           "#636efa",
           "#EF553B",
           "#00cc96",
           "#ab63fa",
           "#FFA15A",
           "#19d3f3",
           "#FF6692",
           "#B6E880",
           "#FF97FF",
           "#FECB52"
          ],
          "font": {
           "color": "#2a3f5f"
          },
          "geo": {
           "bgcolor": "white",
           "lakecolor": "white",
           "landcolor": "#E5ECF6",
           "showlakes": true,
           "showland": true,
           "subunitcolor": "white"
          },
          "hoverlabel": {
           "align": "left"
          },
          "hovermode": "closest",
          "mapbox": {
           "style": "light"
          },
          "paper_bgcolor": "white",
          "plot_bgcolor": "#E5ECF6",
          "polar": {
           "angularaxis": {
            "gridcolor": "white",
            "linecolor": "white",
            "ticks": ""
           },
           "bgcolor": "#E5ECF6",
           "radialaxis": {
            "gridcolor": "white",
            "linecolor": "white",
            "ticks": ""
           }
          },
          "scene": {
           "xaxis": {
            "backgroundcolor": "#E5ECF6",
            "gridcolor": "white",
            "gridwidth": 2,
            "linecolor": "white",
            "showbackground": true,
            "ticks": "",
            "zerolinecolor": "white"
           },
           "yaxis": {
            "backgroundcolor": "#E5ECF6",
            "gridcolor": "white",
            "gridwidth": 2,
            "linecolor": "white",
            "showbackground": true,
            "ticks": "",
            "zerolinecolor": "white"
           },
           "zaxis": {
            "backgroundcolor": "#E5ECF6",
            "gridcolor": "white",
            "gridwidth": 2,
            "linecolor": "white",
            "showbackground": true,
            "ticks": "",
            "zerolinecolor": "white"
           }
          },
          "shapedefaults": {
           "line": {
            "color": "#2a3f5f"
           }
          },
          "ternary": {
           "aaxis": {
            "gridcolor": "white",
            "linecolor": "white",
            "ticks": ""
           },
           "baxis": {
            "gridcolor": "white",
            "linecolor": "white",
            "ticks": ""
           },
           "bgcolor": "#E5ECF6",
           "caxis": {
            "gridcolor": "white",
            "linecolor": "white",
            "ticks": ""
           }
          },
          "title": {
           "x": 0.05
          },
          "xaxis": {
           "automargin": true,
           "gridcolor": "white",
           "linecolor": "white",
           "ticks": "",
           "title": {
            "standoff": 15
           },
           "zerolinecolor": "white",
           "zerolinewidth": 2
          },
          "yaxis": {
           "automargin": true,
           "gridcolor": "white",
           "linecolor": "white",
           "ticks": "",
           "title": {
            "standoff": 15
           },
           "zerolinecolor": "white",
           "zerolinewidth": 2
          }
         }
        },
        "title": {
         "text": "Amount ($) Funding By Sector"
        },
        "xaxis": {
         "anchor": "y",
         "domain": [
          0,
          1
         ],
         "title": {
          "text": "Sector"
         }
        },
        "yaxis": {
         "anchor": "x",
         "domain": [
          0,
          1
         ],
         "title": {
          "text": "sum of Amount($)"
         }
        }
       }
      },
      "text/html": [
       "<div>                            <div id=\"05bc9d57-ceec-4d1a-a114-c89514f47b36\" class=\"plotly-graph-div\" style=\"height:525px; width:100%;\"></div>            <script type=\"text/javascript\">                require([\"plotly\"], function(Plotly) {                    window.PLOTLYENV=window.PLOTLYENV || {};                                    if (document.getElementById(\"05bc9d57-ceec-4d1a-a114-c89514f47b36\")) {                    Plotly.newPlot(                        \"05bc9d57-ceec-4d1a-a114-c89514f47b36\",                        [{\"alignmentgroup\":\"True\",\"bingroup\":\"x\",\"histfunc\":\"sum\",\"hovertemplate\":\"Sector=%{x}\\u003cbr\\u003esum of Amount($)=%{y}\\u003cextra\\u003e\\u003c\\u002fextra\\u003e\",\"legendgroup\":\"\",\"marker\":{\"color\":\"#636efa\",\"pattern\":{\"shape\":\"\"}},\"name\":\"\",\"offsetgroup\":\"\",\"orientation\":\"v\",\"showlegend\":false,\"x\":[\"AI\",\"AI & Data science\",\"AI & Media\",\"AI & Tech\",\"AI Chatbot\",\"AI Platform\",\"AI Robotics\",\"AI health\",\"AI platform\",\"API platform\",\"AR\",\"AR platform\",\"AR startup\",\"AR\\u002fVR\",\"Accomodation\",\"Accounting\",\"Ad-tech\",\"Advertisement\",\"Advertising\",\"Aeorspace\",\"Aerospace\",\"AgTech\",\"AgriTech\",\"AgriTech startup\",\"AgriTech\\u002fCommerce\",\"Agriculture\",\"Air Transportation\",\"Analytics\",\"Apparel & Fashion\",\"Appliance\",\"Apps\",\"Artificial Intelligence\",\"Audio\",\"Automation\",\"Automation tech\",\"Automobile\",\"Automobile & Technology\",\"Automobile Technology\",\"Automotive\",\"Automotive and Rentals\",\"Automotive company\",\"Automotive tech\",\"Autonomous Vehicles\",\"Aviation\",\"Aviation & Aerospace\",\"Ayurveda tech\",\"B2B\",\"B2B AgriTech\",\"B2B E-commerce\",\"B2B Manufacturing\",\"B2B Marketplace\",\"B2B Travel\",\"B2B marketplace\",\"B2B service\",\"Banking\",\"Battery\",\"Battery design\",\"Battery manufacturer\",\"Beauty\",\"Beauty & wellness\",\"Beauty products\",\"Beverage\",\"Beverages\",\"Big Data\",\"Bike Rental\",\"Bike marketplace\",\"BioTechnology\",\"Biomaterial startup\",\"Biopharma\",\"Biotech\",\"Biotechnology\",\"Blockchain\",\"Blogging\",\"Brand Marketing\",\"Broadcasting\",\"Business Development\",\"Business Intelligence\",\"Business Supplies & Equipment\",\"CRM\",\"Cannabis startup\",\"Capital Markets\",\"Car Service\",\"Car Trade\",\"Career Planning\",\"Celebrity Engagement\",\"Children\",\"Classifieds\",\"Clean Energy\",\"CleanTech\",\"Cleantech\",\"Clothing\",\"Cloud Computing\",\"Cloud Infrastructure\",\"Cloud Kitchen\",\"Cloud company\",\"Cloud kitchen\",\"Co-living\",\"Co-working\",\"Collaboration\",\"Commerce\",\"Commercial\",\"Commercial Real Estate\",\"Communities\",\"Community\",\"Community platform\",\"Company-as-a-Service\",\"Computer\",\"Computer & Network Security\",\"Computer Games\",\"Computer Software\",\"Construction\",\"Construction tech\",\"Consultancy\",\"Consulting\",\"Consumer\",\"Consumer Electronics\",\"Consumer Goods\",\"Consumer Lending\",\"Consumer Services\",\"Consumer appliances\",\"Consumer software\",\"Content Marktplace\",\"Content management\",\"Content publishing\",\"Continuing Education\",\"Conversational AI platform\",\"Cosmetics\",\"Craft Beer\",\"Creative Agency\",\"Credit\",\"Credit Cards\",\"Crowdfunding\",\"Crowdsourcing\",\"Crypto\",\"Cryptocurrency\",\"Cultural\",\"Customer Service\",\"Customer service company\",\"Cybersecurity\",\"D2C\",\"D2C Fashion\",\"D2C jewellery\",\"Dairy\",\"Dairy startup\",\"Data Analytics\",\"Data Intelligence\",\"Dating\",\"Dating app\",\"Deeptech\",\"Deeptech startup\",\"Defense tech\",\"Deisgning\",\"Delivery\",\"Delivery Service\",\"Delivery service\",\"Dental\",\"Design\",\"Dietary Supplements\",\"Digital Entertainment\",\"Digital Marketing\",\"Digital Media\",\"Digital mortgage\",\"Digital platform\",\"Digital tech\",\"Drone\",\"E store\",\"E-Commerce\",\"E-Learning\",\"E-Sports\",\"E-commerce\",\"E-connect\",\"E-learning\",\"E-market\",\"E-marketplace\",\"E-mobility\",\"E-tail\",\"EV\",\"EV startup startup\",\"Ecommerce\",\"EdTech\",\"Edtech\",\"Education\",\"Education Management\",\"Electricity\",\"Electronics\",\"Energy\",\"Enterprise Resource Planning (ERP)\",\"Entertainment\",\"Environmental Consulting\",\"Environmental Services\",\"Equity Management\",\"Escrow\",\"Estore\",\"Events\",\"Eye Wear\",\"Eyeglasses\",\"Eyewear\",\"FM\",\"FMCG\",\"Facilities Services\",\"Fantasy Sports\",\"Farming\",\"Fashion\",\"Fashion & Lifestyle\",\"Fashion Tech\",\"FemTech\",\"Fertility tech\",\"FinTech\",\"Finance\",\"Finance company\",\"Financial Services\",\"Fintech\",\"Fishery\",\"Fitness\",\"Fitness startup\",\"Food\",\"Food & Bevarages\",\"Food & Beverage\",\"Food & Beverages\",\"Food & Logistics\",\"Food & Nutrition\",\"Food & tech\",\"Food Delivery\",\"Food Industry\",\"Food Processing\",\"Food Production\",\"Food and Beverage\",\"Food delivery\",\"FoodTech\",\"Foodtech\",\"Foootwear\",\"Funding Platform\",\"Furniture\",\"Furniture Rental\",\"Fusion beverages\",\"Gaming\",\"Gaming startup\",\"Government\",\"HR\",\"HR Tech\",\"HR tech\",\"HRTech\",\"Health\",\"Health Care\",\"Health Diagnostics\",\"Health Insurance\",\"Health and Fitness\",\"HealthCare\",\"HealthTech\",\"Healthcare\",\"Healthcare\\u002fEdTech\",\"Healthtech\",\"Helathcare\",\"Higher Education\",\"Home Decor\",\"Home Design\",\"Home interior services\",\"Home services\",\"Hospital & Health Care\",\"Hospitality\",\"Housing Marketplace\",\"Human Resources\",\"Hygiene\",\"IT\",\"IT & Services\",\"Industrial\",\"Industrial Automation\",\"Information Services\",\"Information Technology\",\"Information Technology & Services\",\"Infratech\",\"Innovation Management\",\"Insurance\",\"Insurance Tech\",\"Insurance technology\",\"InsureTech\",\"Interior & decor\",\"Interior Design\",\"Interior design\",\"Internet\",\"Internet of Things\",\"Investment\",\"Investment Banking\",\"Investment Management\",\"IoT\",\"IoT platform\",\"IoT\\u002fAutomobile\",\"Jewellery\",\"Jewellery startup\",\"Job discovery platform\",\"Job portal\",\"Last Mile Transportation\",\"Legal Services\",\"Legal tech\",\"LegalTech\",\"Lifestyle\",\"Location Analytics\",\"Logistics\",\"Logistics & Supply Chain\",\"Logitech\",\"MLOps platform\",\"Management Consulting\",\"Manufacturing\",\"Manufacturing startup\",\"MarTech\",\"Maritime\",\"Market Research\",\"Marketing\",\"Marketing & Advertising\",\"Marketing & Customer loyalty\",\"Marketing company\",\"Marketing startup\",\"Marketplace\",\"Matrimony\",\"Mechanical & Industrial Engineering\",\"Med Tech\",\"Media\",\"Media & Networking\",\"Media Tech\",\"Media and Entertainment\",\"Medical\",\"Medtech\",\"Merchandise\",\"Micro-mobiity\",\"Milk startup\",\"Mobile\",\"Mobile Games\",\"Mobile Payments\",\"Mobility\",\"Mobility\\u002fTransport\",\"Multinational conglomerate company\",\"Music\",\"Mutual Funds\",\"NFT\",\"Nano Distribution Network\",\"Nanotechnology\",\"Networking\",\"Nutrition\",\"Nutrition Tech\",\"Nutrition sector\",\"OTT\",\"Oil & Energy\",\"Online Games\",\"Online Media\",\"Online Portals\",\"Online credit management startup\",\"Online financial service\",\"Online storytelling\",\"PaaS startup\",\"Personal Care\",\"Personal care startup\",\"Pet care\",\"Pharmaceutical\",\"Pharmacy\",\"Pollution control equiptment\",\"Preschool Daycare\",\"Product studio\",\"Professional Training & Coaching\",\"Proptech\",\"Publication\",\"QSR startup\",\"Reading Apps\",\"Real Estate\",\"Recruitment\",\"Recruitment startup\",\"Renewable Energy\",\"Renewable player\",\"Renewables & Environment\",\"Rental\",\"Rental space\",\"Retail\",\"Retail Tech\",\"Retail startup\",\"Robotics\",\"Robotics & AI\",\"SaaS\",\"SaaS platform\",\"SaaS\\u002fEdTech\",\"Sales & Services\",\"Sales and Distribution\",\"Sales and marketing\",\"Sanitation solutions\",\"Scanning app\",\"Search Engine\",\"Service industry\",\"Skill development\",\"Social Commerce\",\"Social Media\",\"Social audio\",\"Social commerce\",\"Social community\",\"Social e-commerce\",\"Social network\",\"Social platform\",\"Software\",\"Software Company\",\"Soil-Tech\",\"Solar\",\"Solar SaaS\",\"Solar Solution\",\"SpaceTech\",\"Spiritual\",\"Sports\",\"SportsTech\",\"Staffing & Recruiting\",\"Supply chain platform\",\"Supply chain, AgriTech\",\"TaaS startup\",\"Taxation\",\"Tech\",\"Tech Startup\",\"Tech platform\",\"Technology\",\"Techonology\",\"Telecommunication\",\"Telecommunications\",\"Textiles\",\"Tobacco\",\"Tourism\",\"Trading Platform\",\"Trading platform\",\"Training\",\"Translation & Localization\",\"Transport\",\"Transport & Rentals\",\"Transport Automation\",\"Transportation\",\"Travel\",\"Travel & SaaS\",\"VR & SaaS\",\"Vehicle repair startup\",\"Venture Capital\",\"Venture Capital & Private Equity\",\"Venture capital\",\"Venture capitalist\",\"Veterinary\",\"Video\",\"Video communication\",\"Video personalization\",\"Video sharing platform\",\"Virtual Banking\",\"Virtual auditing startup\",\"Visual Media\",\"WL & RAC protection\",\"Warehouse\",\"Water purification\",\"Wealth Management\",\"Wholesale\",\"Wine & Spirits\",\"Work fulfillment\",\"Yoga & wellness\",\"eMobility\",\"eSports\"],\"xaxis\":\"x\",\"y\":[500282500.0,8000000.0,3000000.0,20000000.0,7500000.0,8000000.0,281300.0,350000.0,3000000.0,4050000.0,300000.0,7000000.0,800000.0,1000000.0,16200000.0,59500000.0,3000000.0,1800000.0,788400.0,1800000.0,292000000.0,36500000.0,623420000.0,5060000.0,1000000.0,29172000.0,6000000.0,5680320.0,31200000.0,2879000.0,138019750.0,12080720.0,800000.0,102810000.0,500000.0,380069000.0,5000000.0,14700000.0,2250388722.0,209000000.0,360000.0,54530000.0,3934400.0,3000000.0,500000.0,2000000.0,330154000.0,12000000.0,236000000.0,2600000.0,5200000.0,2200000.0,10000000.0,400000.0,328156000.0,250000.0,2000000.0,2000000.0,24138000.0,150000.0,65000000.0,43440000.0,2000000.0,20580000.0,125000.0,2000000.0,324900000.0,1400000.0,107500000.0,864000.0,47600000.0,18250000.0,4100000.0,250000.0,292000.0,730000.0,500000.0,300000.0,320000.0,200000.0,6600000.0,1020000.0,42500000.0,3000000.0,1000000.0,730000.0,8030000.0,584000.0,18792000.0,22000000.0,50000000.0,792000.0,1600000.0,1000000.0,5000000.0,175000000.0,56000000.0,12640000.0,4500000.0,1000000.0,584000.0,15000000.0,657000.0,810000.0,26000000.0,3000000.0,6820000.0,7000000.0,2320000.0,389000000.0,233215000.0,1100000.0,15000000.0,28450000.0,2800000.0,48419000.0,205527200.0,5134000.0,51900000.0,9000000.0,1300000.0,4506900.0,3500000.0,1000000.0,40000000.0,1500000.0,90015000.0,764000.0,2000000.0,33449000.0,100000.0,6566000.0,1000000.0,276500000.0,4252000.0,300000.0,4022000.0,30000000.0,4000000.0,361000000.0,4000000.0,24000000.0,400000.0,25000000.0,4000000.0,1200000.0,2050000.0,110000.0,21300000.0,5060000.0,1000000.0,500000.0,13260000.0,25481800.0,40000000.0,200000.0,27000000.0,730000.0,12180000.0,1460.0,9374540.0,1200000.0,200000.0,40000000.0,3100000.0,60000000.0,225546000.0,13590600.0,100000.0,2951666800.0,2000000.0,308135000.0,336000000.0,150000.0,10000000.0,43700000.0,12900000.0,124000000.0,6300000.0,4979496530.0,736182700.0,6035460.0,19000000.0,7000000.0,46500000.0,581741000.0,3650000.0,518892000.0,242360.0,1000000.0,3000000.0,400000.0,3500000.0,1500000.0,3060000.0,3000000.0,222000000.0,5000000.0,1000000.0,200000.0,100600000.0,27000000.0,145430200.0,106000000.0,467000.0,7000000.0,200000.0,154751578900.0,636275200.0,113000000.0,2080802500.0,30000000.0,4000000.0,11530000.0,3100000.0,127129000.0,6400000.0,7749500.0,475001000.0,2300000.0,400000.0,6000000.0,1875836000.0,62600000.0,730000.0,2630000.0,64686200.0,962000000.0,460827300.0,132000000.0,1100000.0,1496500.0,84000000.0,10000000.0,1000000.0,738150000.0,11000000.0,100000.0,2000000.0,39044000.0,140500.0,20000000.0,452040900.0,160261185.0,730000.0,210000000.0,115000000.0,717770000.0,830268100.0,53200000.0,2800000.0,220000.0,800000.0,400000.0,35400000.0,10000000.0,8000000.0,438000000.0,224300000.0,1735561000.0,155000.0,76146000.0,1100000.0,112950000.0,711950000.0,175200.0,27000000.0,37457160.0,13314000.0,75000000.0,20000000.0,1000500000.0,1096925000.0,1050000.0,5500000.0,446840000.0,100000.0,114000000.0,31000000.0,179034040.0,1399300.0,887000.0,500000.0,17000000.0,110555000.0,1000000.0,293000.0,9090000.0,12500000.0,140000.0,41000000.0,1168000.0,10000000.0,100000.0,6100000.0,17000000.0,1000000.0,722674000.0,465470000.0,26354500.0,1000000.0,1500000.0,78266920.0,1500000.0,1000000.0,1600000.0,730000.0,26992000.0,12000000.0,1000000.0,700000.0,600000.0,57417000.0,3000000.0,750400000.0,229800.0,590138000.0,3000000.0,400000.0,584000.0,3000000.0,7900000.0,300000.0,3964000.0,100000.0,4517520.0,1100000.0,200000.0,643840000.0,3300000.0,2200000000.0,2250000.0,600000.0,4000000.0,5660000.0,2438000.0,620000.0,6000000.0,133000.0,500000.0,22000000.0,1100000.0,4088000.0,6850000.0,750000.0,803146.0,9000000.0,48000000.0,2000000.0,6000000.0,2900000.0,39600000.0,31000000.0,1400000.0,1000000.0,507000.0,10000000.0,9200000.0,7000000.0,1400000.0,2000000.0,365000.0,117717328.0,117600000.0,1000000.0,72500000.0,390000000.0,7000000.0,12388000.0,6500000.0,70542380000.0,8000000.0,900000.0,6000000.0,230000000.0,828359400.0,103050000.0,323000.0,19000000.0,1000000.0,4200000.0,19000000.0,575000.0,1000000.0,23000000.0,1000000.0,8000000.0,881000000.0,3000000.0,718350000.0,3200000.0,18900000.0,32000000.0,800000.0,159990000.0,40000000.0,1000000.0,131400000.0,5000000.0,31000000.0,38948000.0,4000000.0,895457000.0,4500000.0,3000000.0,3000000.0,5900000.0,250000.0,280000.0,365183900.0,3458433000.0,10000000.0,62100000.0,11000000.0,100000000.0,61000000.0,2570000.0,3500000.0,3400000.0,365000.0,2200000.0,500000.0,600000.0,17218700.0,34800000.0,39000000.0,374150000.0,67200000.0,13000000.0,1397000.0,1000000.0,225000000.0,65000000.0,100000000.0,194000000.0,5638700.0,15000000.0,3000000.0,4000000.0,400000.0,2100000.0,120000.0,2500000.0,900000.0,54000.0,1600000.0,150000.0,3500000.0,10400000.0,500000.0,2800000.0,1000000.0,584000.0],\"yaxis\":\"y\",\"type\":\"histogram\"}],                        {\"template\":{\"data\":{\"histogram2dcontour\":[{\"type\":\"histogram2dcontour\",\"colorbar\":{\"outlinewidth\":0,\"ticks\":\"\"},\"colorscale\":[[0.0,\"#0d0887\"],[0.1111111111111111,\"#46039f\"],[0.2222222222222222,\"#7201a8\"],[0.3333333333333333,\"#9c179e\"],[0.4444444444444444,\"#bd3786\"],[0.5555555555555556,\"#d8576b\"],[0.6666666666666666,\"#ed7953\"],[0.7777777777777778,\"#fb9f3a\"],[0.8888888888888888,\"#fdca26\"],[1.0,\"#f0f921\"]]}],\"choropleth\":[{\"type\":\"choropleth\",\"colorbar\":{\"outlinewidth\":0,\"ticks\":\"\"}}],\"histogram2d\":[{\"type\":\"histogram2d\",\"colorbar\":{\"outlinewidth\":0,\"ticks\":\"\"},\"colorscale\":[[0.0,\"#0d0887\"],[0.1111111111111111,\"#46039f\"],[0.2222222222222222,\"#7201a8\"],[0.3333333333333333,\"#9c179e\"],[0.4444444444444444,\"#bd3786\"],[0.5555555555555556,\"#d8576b\"],[0.6666666666666666,\"#ed7953\"],[0.7777777777777778,\"#fb9f3a\"],[0.8888888888888888,\"#fdca26\"],[1.0,\"#f0f921\"]]}],\"heatmap\":[{\"type\":\"heatmap\",\"colorbar\":{\"outlinewidth\":0,\"ticks\":\"\"},\"colorscale\":[[0.0,\"#0d0887\"],[0.1111111111111111,\"#46039f\"],[0.2222222222222222,\"#7201a8\"],[0.3333333333333333,\"#9c179e\"],[0.4444444444444444,\"#bd3786\"],[0.5555555555555556,\"#d8576b\"],[0.6666666666666666,\"#ed7953\"],[0.7777777777777778,\"#fb9f3a\"],[0.8888888888888888,\"#fdca26\"],[1.0,\"#f0f921\"]]}],\"heatmapgl\":[{\"type\":\"heatmapgl\",\"colorbar\":{\"outlinewidth\":0,\"ticks\":\"\"},\"colorscale\":[[0.0,\"#0d0887\"],[0.1111111111111111,\"#46039f\"],[0.2222222222222222,\"#7201a8\"],[0.3333333333333333,\"#9c179e\"],[0.4444444444444444,\"#bd3786\"],[0.5555555555555556,\"#d8576b\"],[0.6666666666666666,\"#ed7953\"],[0.7777777777777778,\"#fb9f3a\"],[0.8888888888888888,\"#fdca26\"],[1.0,\"#f0f921\"]]}],\"contourcarpet\":[{\"type\":\"contourcarpet\",\"colorbar\":{\"outlinewidth\":0,\"ticks\":\"\"}}],\"contour\":[{\"type\":\"contour\",\"colorbar\":{\"outlinewidth\":0,\"ticks\":\"\"},\"colorscale\":[[0.0,\"#0d0887\"],[0.1111111111111111,\"#46039f\"],[0.2222222222222222,\"#7201a8\"],[0.3333333333333333,\"#9c179e\"],[0.4444444444444444,\"#bd3786\"],[0.5555555555555556,\"#d8576b\"],[0.6666666666666666,\"#ed7953\"],[0.7777777777777778,\"#fb9f3a\"],[0.8888888888888888,\"#fdca26\"],[1.0,\"#f0f921\"]]}],\"surface\":[{\"type\":\"surface\",\"colorbar\":{\"outlinewidth\":0,\"ticks\":\"\"},\"colorscale\":[[0.0,\"#0d0887\"],[0.1111111111111111,\"#46039f\"],[0.2222222222222222,\"#7201a8\"],[0.3333333333333333,\"#9c179e\"],[0.4444444444444444,\"#bd3786\"],[0.5555555555555556,\"#d8576b\"],[0.6666666666666666,\"#ed7953\"],[0.7777777777777778,\"#fb9f3a\"],[0.8888888888888888,\"#fdca26\"],[1.0,\"#f0f921\"]]}],\"mesh3d\":[{\"type\":\"mesh3d\",\"colorbar\":{\"outlinewidth\":0,\"ticks\":\"\"}}],\"scatter\":[{\"fillpattern\":{\"fillmode\":\"overlay\",\"size\":10,\"solidity\":0.2},\"type\":\"scatter\"}],\"parcoords\":[{\"type\":\"parcoords\",\"line\":{\"colorbar\":{\"outlinewidth\":0,\"ticks\":\"\"}}}],\"scatterpolargl\":[{\"type\":\"scatterpolargl\",\"marker\":{\"colorbar\":{\"outlinewidth\":0,\"ticks\":\"\"}}}],\"bar\":[{\"error_x\":{\"color\":\"#2a3f5f\"},\"error_y\":{\"color\":\"#2a3f5f\"},\"marker\":{\"line\":{\"color\":\"#E5ECF6\",\"width\":0.5},\"pattern\":{\"fillmode\":\"overlay\",\"size\":10,\"solidity\":0.2}},\"type\":\"bar\"}],\"scattergeo\":[{\"type\":\"scattergeo\",\"marker\":{\"colorbar\":{\"outlinewidth\":0,\"ticks\":\"\"}}}],\"scatterpolar\":[{\"type\":\"scatterpolar\",\"marker\":{\"colorbar\":{\"outlinewidth\":0,\"ticks\":\"\"}}}],\"histogram\":[{\"marker\":{\"pattern\":{\"fillmode\":\"overlay\",\"size\":10,\"solidity\":0.2}},\"type\":\"histogram\"}],\"scattergl\":[{\"type\":\"scattergl\",\"marker\":{\"colorbar\":{\"outlinewidth\":0,\"ticks\":\"\"}}}],\"scatter3d\":[{\"type\":\"scatter3d\",\"line\":{\"colorbar\":{\"outlinewidth\":0,\"ticks\":\"\"}},\"marker\":{\"colorbar\":{\"outlinewidth\":0,\"ticks\":\"\"}}}],\"scattermapbox\":[{\"type\":\"scattermapbox\",\"marker\":{\"colorbar\":{\"outlinewidth\":0,\"ticks\":\"\"}}}],\"scatterternary\":[{\"type\":\"scatterternary\",\"marker\":{\"colorbar\":{\"outlinewidth\":0,\"ticks\":\"\"}}}],\"scattercarpet\":[{\"type\":\"scattercarpet\",\"marker\":{\"colorbar\":{\"outlinewidth\":0,\"ticks\":\"\"}}}],\"carpet\":[{\"aaxis\":{\"endlinecolor\":\"#2a3f5f\",\"gridcolor\":\"white\",\"linecolor\":\"white\",\"minorgridcolor\":\"white\",\"startlinecolor\":\"#2a3f5f\"},\"baxis\":{\"endlinecolor\":\"#2a3f5f\",\"gridcolor\":\"white\",\"linecolor\":\"white\",\"minorgridcolor\":\"white\",\"startlinecolor\":\"#2a3f5f\"},\"type\":\"carpet\"}],\"table\":[{\"cells\":{\"fill\":{\"color\":\"#EBF0F8\"},\"line\":{\"color\":\"white\"}},\"header\":{\"fill\":{\"color\":\"#C8D4E3\"},\"line\":{\"color\":\"white\"}},\"type\":\"table\"}],\"barpolar\":[{\"marker\":{\"line\":{\"color\":\"#E5ECF6\",\"width\":0.5},\"pattern\":{\"fillmode\":\"overlay\",\"size\":10,\"solidity\":0.2}},\"type\":\"barpolar\"}],\"pie\":[{\"automargin\":true,\"type\":\"pie\"}]},\"layout\":{\"autotypenumbers\":\"strict\",\"colorway\":[\"#636efa\",\"#EF553B\",\"#00cc96\",\"#ab63fa\",\"#FFA15A\",\"#19d3f3\",\"#FF6692\",\"#B6E880\",\"#FF97FF\",\"#FECB52\"],\"font\":{\"color\":\"#2a3f5f\"},\"hovermode\":\"closest\",\"hoverlabel\":{\"align\":\"left\"},\"paper_bgcolor\":\"white\",\"plot_bgcolor\":\"#E5ECF6\",\"polar\":{\"bgcolor\":\"#E5ECF6\",\"angularaxis\":{\"gridcolor\":\"white\",\"linecolor\":\"white\",\"ticks\":\"\"},\"radialaxis\":{\"gridcolor\":\"white\",\"linecolor\":\"white\",\"ticks\":\"\"}},\"ternary\":{\"bgcolor\":\"#E5ECF6\",\"aaxis\":{\"gridcolor\":\"white\",\"linecolor\":\"white\",\"ticks\":\"\"},\"baxis\":{\"gridcolor\":\"white\",\"linecolor\":\"white\",\"ticks\":\"\"},\"caxis\":{\"gridcolor\":\"white\",\"linecolor\":\"white\",\"ticks\":\"\"}},\"coloraxis\":{\"colorbar\":{\"outlinewidth\":0,\"ticks\":\"\"}},\"colorscale\":{\"sequential\":[[0.0,\"#0d0887\"],[0.1111111111111111,\"#46039f\"],[0.2222222222222222,\"#7201a8\"],[0.3333333333333333,\"#9c179e\"],[0.4444444444444444,\"#bd3786\"],[0.5555555555555556,\"#d8576b\"],[0.6666666666666666,\"#ed7953\"],[0.7777777777777778,\"#fb9f3a\"],[0.8888888888888888,\"#fdca26\"],[1.0,\"#f0f921\"]],\"sequentialminus\":[[0.0,\"#0d0887\"],[0.1111111111111111,\"#46039f\"],[0.2222222222222222,\"#7201a8\"],[0.3333333333333333,\"#9c179e\"],[0.4444444444444444,\"#bd3786\"],[0.5555555555555556,\"#d8576b\"],[0.6666666666666666,\"#ed7953\"],[0.7777777777777778,\"#fb9f3a\"],[0.8888888888888888,\"#fdca26\"],[1.0,\"#f0f921\"]],\"diverging\":[[0,\"#8e0152\"],[0.1,\"#c51b7d\"],[0.2,\"#de77ae\"],[0.3,\"#f1b6da\"],[0.4,\"#fde0ef\"],[0.5,\"#f7f7f7\"],[0.6,\"#e6f5d0\"],[0.7,\"#b8e186\"],[0.8,\"#7fbc41\"],[0.9,\"#4d9221\"],[1,\"#276419\"]]},\"xaxis\":{\"gridcolor\":\"white\",\"linecolor\":\"white\",\"ticks\":\"\",\"title\":{\"standoff\":15},\"zerolinecolor\":\"white\",\"automargin\":true,\"zerolinewidth\":2},\"yaxis\":{\"gridcolor\":\"white\",\"linecolor\":\"white\",\"ticks\":\"\",\"title\":{\"standoff\":15},\"zerolinecolor\":\"white\",\"automargin\":true,\"zerolinewidth\":2},\"scene\":{\"xaxis\":{\"backgroundcolor\":\"#E5ECF6\",\"gridcolor\":\"white\",\"linecolor\":\"white\",\"showbackground\":true,\"ticks\":\"\",\"zerolinecolor\":\"white\",\"gridwidth\":2},\"yaxis\":{\"backgroundcolor\":\"#E5ECF6\",\"gridcolor\":\"white\",\"linecolor\":\"white\",\"showbackground\":true,\"ticks\":\"\",\"zerolinecolor\":\"white\",\"gridwidth\":2},\"zaxis\":{\"backgroundcolor\":\"#E5ECF6\",\"gridcolor\":\"white\",\"linecolor\":\"white\",\"showbackground\":true,\"ticks\":\"\",\"zerolinecolor\":\"white\",\"gridwidth\":2}},\"shapedefaults\":{\"line\":{\"color\":\"#2a3f5f\"}},\"annotationdefaults\":{\"arrowcolor\":\"#2a3f5f\",\"arrowhead\":0,\"arrowwidth\":1},\"geo\":{\"bgcolor\":\"white\",\"landcolor\":\"#E5ECF6\",\"subunitcolor\":\"white\",\"showland\":true,\"showlakes\":true,\"lakecolor\":\"white\"},\"title\":{\"x\":0.05},\"mapbox\":{\"style\":\"light\"}}},\"xaxis\":{\"anchor\":\"y\",\"domain\":[0.0,1.0],\"title\":{\"text\":\"Sector\"}},\"yaxis\":{\"anchor\":\"x\",\"domain\":[0.0,1.0],\"title\":{\"text\":\"sum of Amount($)\"}},\"legend\":{\"tracegroupgap\":0},\"title\":{\"text\":\"Amount ($) Funding By Sector\"},\"barmode\":\"relative\"},                        {\"responsive\": true}                    ).then(function(){\n",
       "                            \n",
       "var gd = document.getElementById('05bc9d57-ceec-4d1a-a114-c89514f47b36');\n",
       "var x = new MutationObserver(function (mutations, observer) {{\n",
       "        var display = window.getComputedStyle(gd).display;\n",
       "        if (!display || display === 'none') {{\n",
       "            console.log([gd, 'removed!']);\n",
       "            Plotly.purge(gd);\n",
       "            observer.disconnect();\n",
       "        }}\n",
       "}});\n",
       "\n",
       "// Listen for the removal of the full notebook cells\n",
       "var notebookContainer = gd.closest('#notebook-container');\n",
       "if (notebookContainer) {{\n",
       "    x.observe(notebookContainer, {childList: true});\n",
       "}}\n",
       "\n",
       "// Listen for the clearing of the current output cell\n",
       "var outputEl = gd.closest('.output');\n",
       "if (outputEl) {{\n",
       "    x.observe(outputEl, {childList: true});\n",
       "}}\n",
       "\n",
       "                        })                };                });            </script>        </div>"
      ]
     },
     "metadata": {},
     "output_type": "display_data"
    }
   ],
   "source": [
    "fig = px.histogram(Final_Startup_Data_amount_by_sector[Final_Startup_Data_amount_by_sector['Amount($)']>0], \n",
    "             x='Sector', \n",
    "             y='Amount($)', \n",
    "             title=\"Amount ($) Funding By Sector\",barmode=\"relative\"\n",
    "             \n",
    "\n",
    ")\n",
    "fig.show()"
   ]
  },
  {
   "cell_type": "markdown",
   "metadata": {},
   "source": [
    "##### Response Questions\n",
    "\n",
    "####  Which sector has the highest number of investors?"
   ]
  },
  {
   "cell_type": "code",
   "execution_count": 141,
   "metadata": {},
   "outputs": [
    {
     "data": {
      "text/html": [
       "<div>\n",
       "<style scoped>\n",
       "    .dataframe tbody tr th:only-of-type {\n",
       "        vertical-align: middle;\n",
       "    }\n",
       "\n",
       "    .dataframe tbody tr th {\n",
       "        vertical-align: top;\n",
       "    }\n",
       "\n",
       "    .dataframe thead th {\n",
       "        text-align: right;\n",
       "    }\n",
       "</style>\n",
       "<table border=\"1\" class=\"dataframe\">\n",
       "  <thead>\n",
       "    <tr style=\"text-align: right;\">\n",
       "      <th></th>\n",
       "      <th>Sector</th>\n",
       "      <th>Amount($)</th>\n",
       "    </tr>\n",
       "  </thead>\n",
       "  <tbody>\n",
       "    <tr>\n",
       "      <th>235</th>\n",
       "      <td>FinTech</td>\n",
       "      <td>154,751,578,900.00</td>\n",
       "    </tr>\n",
       "  </tbody>\n",
       "</table>\n",
       "</div>"
      ],
      "text/plain": [
       "      Sector          Amount($)\n",
       "235  FinTech 154,751,578,900.00"
      ]
     },
     "execution_count": 141,
     "metadata": {},
     "output_type": "execute_result"
    }
   ],
   "source": [
    "get_only_highest = Final_Startup_Data_amount_by_sector.sort_values(by=\"Amount($)\",ascending=False)\n",
    "get_only_highest.iloc[:1]"
   ]
  },
  {
   "cell_type": "markdown",
   "metadata": {},
   "source": [
    "##### the sector has the highest investor is Fintech \n",
    "##### Let tal 3 last highest sector investor and see that on pie graphe"
   ]
  },
  {
   "cell_type": "code",
   "execution_count": 165,
   "metadata": {},
   "outputs": [
    {
     "data": {
      "application/vnd.plotly.v1+json": {
       "config": {
        "plotlyServerURL": "https://plot.ly"
       },
       "data": [
        {
         "domain": {
          "x": [
           0,
           1
          ],
          "y": [
           0,
           1
          ]
         },
         "hole": 0.5,
         "hovertemplate": "Sector=%{label}<br>Amount($)=%{value}<extra></extra>",
         "labels": [
          "FinTech",
          "Retail",
          "EdTech",
          "Tech Startup",
          "E-commerce"
         ],
         "legendgroup": "",
         "name": "",
         "showlegend": true,
         "textinfo": "percent+label",
         "textposition": "inside",
         "type": "pie",
         "values": [
          154751578900,
          70542380000,
          4979496530,
          3458433000,
          2951666800
         ]
        }
       ],
       "layout": {
        "legend": {
         "tracegroupgap": 0
        },
        "margin": {
         "t": 60
        },
        "piecolorway": [
         "rgb(102, 197, 204)",
         "rgb(246, 207, 113)",
         "rgb(248, 156, 116)",
         "rgb(220, 176, 242)",
         "rgb(135, 197, 95)",
         "rgb(158, 185, 243)",
         "rgb(254, 136, 177)",
         "rgb(201, 219, 116)",
         "rgb(139, 224, 164)",
         "rgb(180, 151, 231)",
         "rgb(179, 179, 179)"
        ],
        "template": {
         "data": {
          "bar": [
           {
            "error_x": {
             "color": "#2a3f5f"
            },
            "error_y": {
             "color": "#2a3f5f"
            },
            "marker": {
             "line": {
              "color": "#E5ECF6",
              "width": 0.5
             },
             "pattern": {
              "fillmode": "overlay",
              "size": 10,
              "solidity": 0.2
             }
            },
            "type": "bar"
           }
          ],
          "barpolar": [
           {
            "marker": {
             "line": {
              "color": "#E5ECF6",
              "width": 0.5
             },
             "pattern": {
              "fillmode": "overlay",
              "size": 10,
              "solidity": 0.2
             }
            },
            "type": "barpolar"
           }
          ],
          "carpet": [
           {
            "aaxis": {
             "endlinecolor": "#2a3f5f",
             "gridcolor": "white",
             "linecolor": "white",
             "minorgridcolor": "white",
             "startlinecolor": "#2a3f5f"
            },
            "baxis": {
             "endlinecolor": "#2a3f5f",
             "gridcolor": "white",
             "linecolor": "white",
             "minorgridcolor": "white",
             "startlinecolor": "#2a3f5f"
            },
            "type": "carpet"
           }
          ],
          "choropleth": [
           {
            "colorbar": {
             "outlinewidth": 0,
             "ticks": ""
            },
            "type": "choropleth"
           }
          ],
          "contour": [
           {
            "colorbar": {
             "outlinewidth": 0,
             "ticks": ""
            },
            "colorscale": [
             [
              0,
              "#0d0887"
             ],
             [
              0.1111111111111111,
              "#46039f"
             ],
             [
              0.2222222222222222,
              "#7201a8"
             ],
             [
              0.3333333333333333,
              "#9c179e"
             ],
             [
              0.4444444444444444,
              "#bd3786"
             ],
             [
              0.5555555555555556,
              "#d8576b"
             ],
             [
              0.6666666666666666,
              "#ed7953"
             ],
             [
              0.7777777777777778,
              "#fb9f3a"
             ],
             [
              0.8888888888888888,
              "#fdca26"
             ],
             [
              1,
              "#f0f921"
             ]
            ],
            "type": "contour"
           }
          ],
          "contourcarpet": [
           {
            "colorbar": {
             "outlinewidth": 0,
             "ticks": ""
            },
            "type": "contourcarpet"
           }
          ],
          "heatmap": [
           {
            "colorbar": {
             "outlinewidth": 0,
             "ticks": ""
            },
            "colorscale": [
             [
              0,
              "#0d0887"
             ],
             [
              0.1111111111111111,
              "#46039f"
             ],
             [
              0.2222222222222222,
              "#7201a8"
             ],
             [
              0.3333333333333333,
              "#9c179e"
             ],
             [
              0.4444444444444444,
              "#bd3786"
             ],
             [
              0.5555555555555556,
              "#d8576b"
             ],
             [
              0.6666666666666666,
              "#ed7953"
             ],
             [
              0.7777777777777778,
              "#fb9f3a"
             ],
             [
              0.8888888888888888,
              "#fdca26"
             ],
             [
              1,
              "#f0f921"
             ]
            ],
            "type": "heatmap"
           }
          ],
          "heatmapgl": [
           {
            "colorbar": {
             "outlinewidth": 0,
             "ticks": ""
            },
            "colorscale": [
             [
              0,
              "#0d0887"
             ],
             [
              0.1111111111111111,
              "#46039f"
             ],
             [
              0.2222222222222222,
              "#7201a8"
             ],
             [
              0.3333333333333333,
              "#9c179e"
             ],
             [
              0.4444444444444444,
              "#bd3786"
             ],
             [
              0.5555555555555556,
              "#d8576b"
             ],
             [
              0.6666666666666666,
              "#ed7953"
             ],
             [
              0.7777777777777778,
              "#fb9f3a"
             ],
             [
              0.8888888888888888,
              "#fdca26"
             ],
             [
              1,
              "#f0f921"
             ]
            ],
            "type": "heatmapgl"
           }
          ],
          "histogram": [
           {
            "marker": {
             "pattern": {
              "fillmode": "overlay",
              "size": 10,
              "solidity": 0.2
             }
            },
            "type": "histogram"
           }
          ],
          "histogram2d": [
           {
            "colorbar": {
             "outlinewidth": 0,
             "ticks": ""
            },
            "colorscale": [
             [
              0,
              "#0d0887"
             ],
             [
              0.1111111111111111,
              "#46039f"
             ],
             [
              0.2222222222222222,
              "#7201a8"
             ],
             [
              0.3333333333333333,
              "#9c179e"
             ],
             [
              0.4444444444444444,
              "#bd3786"
             ],
             [
              0.5555555555555556,
              "#d8576b"
             ],
             [
              0.6666666666666666,
              "#ed7953"
             ],
             [
              0.7777777777777778,
              "#fb9f3a"
             ],
             [
              0.8888888888888888,
              "#fdca26"
             ],
             [
              1,
              "#f0f921"
             ]
            ],
            "type": "histogram2d"
           }
          ],
          "histogram2dcontour": [
           {
            "colorbar": {
             "outlinewidth": 0,
             "ticks": ""
            },
            "colorscale": [
             [
              0,
              "#0d0887"
             ],
             [
              0.1111111111111111,
              "#46039f"
             ],
             [
              0.2222222222222222,
              "#7201a8"
             ],
             [
              0.3333333333333333,
              "#9c179e"
             ],
             [
              0.4444444444444444,
              "#bd3786"
             ],
             [
              0.5555555555555556,
              "#d8576b"
             ],
             [
              0.6666666666666666,
              "#ed7953"
             ],
             [
              0.7777777777777778,
              "#fb9f3a"
             ],
             [
              0.8888888888888888,
              "#fdca26"
             ],
             [
              1,
              "#f0f921"
             ]
            ],
            "type": "histogram2dcontour"
           }
          ],
          "mesh3d": [
           {
            "colorbar": {
             "outlinewidth": 0,
             "ticks": ""
            },
            "type": "mesh3d"
           }
          ],
          "parcoords": [
           {
            "line": {
             "colorbar": {
              "outlinewidth": 0,
              "ticks": ""
             }
            },
            "type": "parcoords"
           }
          ],
          "pie": [
           {
            "automargin": true,
            "type": "pie"
           }
          ],
          "scatter": [
           {
            "fillpattern": {
             "fillmode": "overlay",
             "size": 10,
             "solidity": 0.2
            },
            "type": "scatter"
           }
          ],
          "scatter3d": [
           {
            "line": {
             "colorbar": {
              "outlinewidth": 0,
              "ticks": ""
             }
            },
            "marker": {
             "colorbar": {
              "outlinewidth": 0,
              "ticks": ""
             }
            },
            "type": "scatter3d"
           }
          ],
          "scattercarpet": [
           {
            "marker": {
             "colorbar": {
              "outlinewidth": 0,
              "ticks": ""
             }
            },
            "type": "scattercarpet"
           }
          ],
          "scattergeo": [
           {
            "marker": {
             "colorbar": {
              "outlinewidth": 0,
              "ticks": ""
             }
            },
            "type": "scattergeo"
           }
          ],
          "scattergl": [
           {
            "marker": {
             "colorbar": {
              "outlinewidth": 0,
              "ticks": ""
             }
            },
            "type": "scattergl"
           }
          ],
          "scattermapbox": [
           {
            "marker": {
             "colorbar": {
              "outlinewidth": 0,
              "ticks": ""
             }
            },
            "type": "scattermapbox"
           }
          ],
          "scatterpolar": [
           {
            "marker": {
             "colorbar": {
              "outlinewidth": 0,
              "ticks": ""
             }
            },
            "type": "scatterpolar"
           }
          ],
          "scatterpolargl": [
           {
            "marker": {
             "colorbar": {
              "outlinewidth": 0,
              "ticks": ""
             }
            },
            "type": "scatterpolargl"
           }
          ],
          "scatterternary": [
           {
            "marker": {
             "colorbar": {
              "outlinewidth": 0,
              "ticks": ""
             }
            },
            "type": "scatterternary"
           }
          ],
          "surface": [
           {
            "colorbar": {
             "outlinewidth": 0,
             "ticks": ""
            },
            "colorscale": [
             [
              0,
              "#0d0887"
             ],
             [
              0.1111111111111111,
              "#46039f"
             ],
             [
              0.2222222222222222,
              "#7201a8"
             ],
             [
              0.3333333333333333,
              "#9c179e"
             ],
             [
              0.4444444444444444,
              "#bd3786"
             ],
             [
              0.5555555555555556,
              "#d8576b"
             ],
             [
              0.6666666666666666,
              "#ed7953"
             ],
             [
              0.7777777777777778,
              "#fb9f3a"
             ],
             [
              0.8888888888888888,
              "#fdca26"
             ],
             [
              1,
              "#f0f921"
             ]
            ],
            "type": "surface"
           }
          ],
          "table": [
           {
            "cells": {
             "fill": {
              "color": "#EBF0F8"
             },
             "line": {
              "color": "white"
             }
            },
            "header": {
             "fill": {
              "color": "#C8D4E3"
             },
             "line": {
              "color": "white"
             }
            },
            "type": "table"
           }
          ]
         },
         "layout": {
          "annotationdefaults": {
           "arrowcolor": "#2a3f5f",
           "arrowhead": 0,
           "arrowwidth": 1
          },
          "autotypenumbers": "strict",
          "coloraxis": {
           "colorbar": {
            "outlinewidth": 0,
            "ticks": ""
           }
          },
          "colorscale": {
           "diverging": [
            [
             0,
             "#8e0152"
            ],
            [
             0.1,
             "#c51b7d"
            ],
            [
             0.2,
             "#de77ae"
            ],
            [
             0.3,
             "#f1b6da"
            ],
            [
             0.4,
             "#fde0ef"
            ],
            [
             0.5,
             "#f7f7f7"
            ],
            [
             0.6,
             "#e6f5d0"
            ],
            [
             0.7,
             "#b8e186"
            ],
            [
             0.8,
             "#7fbc41"
            ],
            [
             0.9,
             "#4d9221"
            ],
            [
             1,
             "#276419"
            ]
           ],
           "sequential": [
            [
             0,
             "#0d0887"
            ],
            [
             0.1111111111111111,
             "#46039f"
            ],
            [
             0.2222222222222222,
             "#7201a8"
            ],
            [
             0.3333333333333333,
             "#9c179e"
            ],
            [
             0.4444444444444444,
             "#bd3786"
            ],
            [
             0.5555555555555556,
             "#d8576b"
            ],
            [
             0.6666666666666666,
             "#ed7953"
            ],
            [
             0.7777777777777778,
             "#fb9f3a"
            ],
            [
             0.8888888888888888,
             "#fdca26"
            ],
            [
             1,
             "#f0f921"
            ]
           ],
           "sequentialminus": [
            [
             0,
             "#0d0887"
            ],
            [
             0.1111111111111111,
             "#46039f"
            ],
            [
             0.2222222222222222,
             "#7201a8"
            ],
            [
             0.3333333333333333,
             "#9c179e"
            ],
            [
             0.4444444444444444,
             "#bd3786"
            ],
            [
             0.5555555555555556,
             "#d8576b"
            ],
            [
             0.6666666666666666,
             "#ed7953"
            ],
            [
             0.7777777777777778,
             "#fb9f3a"
            ],
            [
             0.8888888888888888,
             "#fdca26"
            ],
            [
             1,
             "#f0f921"
            ]
           ]
          },
          "colorway": [
           "#636efa",
           "#EF553B",
           "#00cc96",
           "#ab63fa",
           "#FFA15A",
           "#19d3f3",
           "#FF6692",
           "#B6E880",
           "#FF97FF",
           "#FECB52"
          ],
          "font": {
           "color": "#2a3f5f"
          },
          "geo": {
           "bgcolor": "white",
           "lakecolor": "white",
           "landcolor": "#E5ECF6",
           "showlakes": true,
           "showland": true,
           "subunitcolor": "white"
          },
          "hoverlabel": {
           "align": "left"
          },
          "hovermode": "closest",
          "mapbox": {
           "style": "light"
          },
          "paper_bgcolor": "white",
          "plot_bgcolor": "#E5ECF6",
          "polar": {
           "angularaxis": {
            "gridcolor": "white",
            "linecolor": "white",
            "ticks": ""
           },
           "bgcolor": "#E5ECF6",
           "radialaxis": {
            "gridcolor": "white",
            "linecolor": "white",
            "ticks": ""
           }
          },
          "scene": {
           "xaxis": {
            "backgroundcolor": "#E5ECF6",
            "gridcolor": "white",
            "gridwidth": 2,
            "linecolor": "white",
            "showbackground": true,
            "ticks": "",
            "zerolinecolor": "white"
           },
           "yaxis": {
            "backgroundcolor": "#E5ECF6",
            "gridcolor": "white",
            "gridwidth": 2,
            "linecolor": "white",
            "showbackground": true,
            "ticks": "",
            "zerolinecolor": "white"
           },
           "zaxis": {
            "backgroundcolor": "#E5ECF6",
            "gridcolor": "white",
            "gridwidth": 2,
            "linecolor": "white",
            "showbackground": true,
            "ticks": "",
            "zerolinecolor": "white"
           }
          },
          "shapedefaults": {
           "line": {
            "color": "#2a3f5f"
           }
          },
          "ternary": {
           "aaxis": {
            "gridcolor": "white",
            "linecolor": "white",
            "ticks": ""
           },
           "baxis": {
            "gridcolor": "white",
            "linecolor": "white",
            "ticks": ""
           },
           "bgcolor": "#E5ECF6",
           "caxis": {
            "gridcolor": "white",
            "linecolor": "white",
            "ticks": ""
           }
          },
          "title": {
           "x": 0.05
          },
          "xaxis": {
           "automargin": true,
           "gridcolor": "white",
           "linecolor": "white",
           "ticks": "",
           "title": {
            "standoff": 15
           },
           "zerolinecolor": "white",
           "zerolinewidth": 2
          },
          "yaxis": {
           "automargin": true,
           "gridcolor": "white",
           "linecolor": "white",
           "ticks": "",
           "title": {
            "standoff": 15
           },
           "zerolinecolor": "white",
           "zerolinewidth": 2
          }
         }
        },
        "title": {
         "font": {
          "size": 24
         },
         "text": "three last highest Sector investor"
        }
       }
      },
      "text/html": [
       "<div>                            <div id=\"9985242e-4ab6-437a-bb06-94ab8b3c4e63\" class=\"plotly-graph-div\" style=\"height:525px; width:100%;\"></div>            <script type=\"text/javascript\">                require([\"plotly\"], function(Plotly) {                    window.PLOTLYENV=window.PLOTLYENV || {};                                    if (document.getElementById(\"9985242e-4ab6-437a-bb06-94ab8b3c4e63\")) {                    Plotly.newPlot(                        \"9985242e-4ab6-437a-bb06-94ab8b3c4e63\",                        [{\"domain\":{\"x\":[0.0,1.0],\"y\":[0.0,1.0]},\"hole\":0.5,\"hovertemplate\":\"Sector=%{label}\\u003cbr\\u003eAmount($)=%{value}\\u003cextra\\u003e\\u003c\\u002fextra\\u003e\",\"labels\":[\"FinTech\",\"Retail\",\"EdTech\",\"Tech Startup\",\"E-commerce\"],\"legendgroup\":\"\",\"name\":\"\",\"showlegend\":true,\"values\":[154751578900.0,70542380000.0,4979496530.0,3458433000.0,2951666800.0],\"type\":\"pie\",\"textinfo\":\"percent+label\",\"textposition\":\"inside\"}],                        {\"template\":{\"data\":{\"histogram2dcontour\":[{\"type\":\"histogram2dcontour\",\"colorbar\":{\"outlinewidth\":0,\"ticks\":\"\"},\"colorscale\":[[0.0,\"#0d0887\"],[0.1111111111111111,\"#46039f\"],[0.2222222222222222,\"#7201a8\"],[0.3333333333333333,\"#9c179e\"],[0.4444444444444444,\"#bd3786\"],[0.5555555555555556,\"#d8576b\"],[0.6666666666666666,\"#ed7953\"],[0.7777777777777778,\"#fb9f3a\"],[0.8888888888888888,\"#fdca26\"],[1.0,\"#f0f921\"]]}],\"choropleth\":[{\"type\":\"choropleth\",\"colorbar\":{\"outlinewidth\":0,\"ticks\":\"\"}}],\"histogram2d\":[{\"type\":\"histogram2d\",\"colorbar\":{\"outlinewidth\":0,\"ticks\":\"\"},\"colorscale\":[[0.0,\"#0d0887\"],[0.1111111111111111,\"#46039f\"],[0.2222222222222222,\"#7201a8\"],[0.3333333333333333,\"#9c179e\"],[0.4444444444444444,\"#bd3786\"],[0.5555555555555556,\"#d8576b\"],[0.6666666666666666,\"#ed7953\"],[0.7777777777777778,\"#fb9f3a\"],[0.8888888888888888,\"#fdca26\"],[1.0,\"#f0f921\"]]}],\"heatmap\":[{\"type\":\"heatmap\",\"colorbar\":{\"outlinewidth\":0,\"ticks\":\"\"},\"colorscale\":[[0.0,\"#0d0887\"],[0.1111111111111111,\"#46039f\"],[0.2222222222222222,\"#7201a8\"],[0.3333333333333333,\"#9c179e\"],[0.4444444444444444,\"#bd3786\"],[0.5555555555555556,\"#d8576b\"],[0.6666666666666666,\"#ed7953\"],[0.7777777777777778,\"#fb9f3a\"],[0.8888888888888888,\"#fdca26\"],[1.0,\"#f0f921\"]]}],\"heatmapgl\":[{\"type\":\"heatmapgl\",\"colorbar\":{\"outlinewidth\":0,\"ticks\":\"\"},\"colorscale\":[[0.0,\"#0d0887\"],[0.1111111111111111,\"#46039f\"],[0.2222222222222222,\"#7201a8\"],[0.3333333333333333,\"#9c179e\"],[0.4444444444444444,\"#bd3786\"],[0.5555555555555556,\"#d8576b\"],[0.6666666666666666,\"#ed7953\"],[0.7777777777777778,\"#fb9f3a\"],[0.8888888888888888,\"#fdca26\"],[1.0,\"#f0f921\"]]}],\"contourcarpet\":[{\"type\":\"contourcarpet\",\"colorbar\":{\"outlinewidth\":0,\"ticks\":\"\"}}],\"contour\":[{\"type\":\"contour\",\"colorbar\":{\"outlinewidth\":0,\"ticks\":\"\"},\"colorscale\":[[0.0,\"#0d0887\"],[0.1111111111111111,\"#46039f\"],[0.2222222222222222,\"#7201a8\"],[0.3333333333333333,\"#9c179e\"],[0.4444444444444444,\"#bd3786\"],[0.5555555555555556,\"#d8576b\"],[0.6666666666666666,\"#ed7953\"],[0.7777777777777778,\"#fb9f3a\"],[0.8888888888888888,\"#fdca26\"],[1.0,\"#f0f921\"]]}],\"surface\":[{\"type\":\"surface\",\"colorbar\":{\"outlinewidth\":0,\"ticks\":\"\"},\"colorscale\":[[0.0,\"#0d0887\"],[0.1111111111111111,\"#46039f\"],[0.2222222222222222,\"#7201a8\"],[0.3333333333333333,\"#9c179e\"],[0.4444444444444444,\"#bd3786\"],[0.5555555555555556,\"#d8576b\"],[0.6666666666666666,\"#ed7953\"],[0.7777777777777778,\"#fb9f3a\"],[0.8888888888888888,\"#fdca26\"],[1.0,\"#f0f921\"]]}],\"mesh3d\":[{\"type\":\"mesh3d\",\"colorbar\":{\"outlinewidth\":0,\"ticks\":\"\"}}],\"scatter\":[{\"fillpattern\":{\"fillmode\":\"overlay\",\"size\":10,\"solidity\":0.2},\"type\":\"scatter\"}],\"parcoords\":[{\"type\":\"parcoords\",\"line\":{\"colorbar\":{\"outlinewidth\":0,\"ticks\":\"\"}}}],\"scatterpolargl\":[{\"type\":\"scatterpolargl\",\"marker\":{\"colorbar\":{\"outlinewidth\":0,\"ticks\":\"\"}}}],\"bar\":[{\"error_x\":{\"color\":\"#2a3f5f\"},\"error_y\":{\"color\":\"#2a3f5f\"},\"marker\":{\"line\":{\"color\":\"#E5ECF6\",\"width\":0.5},\"pattern\":{\"fillmode\":\"overlay\",\"size\":10,\"solidity\":0.2}},\"type\":\"bar\"}],\"scattergeo\":[{\"type\":\"scattergeo\",\"marker\":{\"colorbar\":{\"outlinewidth\":0,\"ticks\":\"\"}}}],\"scatterpolar\":[{\"type\":\"scatterpolar\",\"marker\":{\"colorbar\":{\"outlinewidth\":0,\"ticks\":\"\"}}}],\"histogram\":[{\"marker\":{\"pattern\":{\"fillmode\":\"overlay\",\"size\":10,\"solidity\":0.2}},\"type\":\"histogram\"}],\"scattergl\":[{\"type\":\"scattergl\",\"marker\":{\"colorbar\":{\"outlinewidth\":0,\"ticks\":\"\"}}}],\"scatter3d\":[{\"type\":\"scatter3d\",\"line\":{\"colorbar\":{\"outlinewidth\":0,\"ticks\":\"\"}},\"marker\":{\"colorbar\":{\"outlinewidth\":0,\"ticks\":\"\"}}}],\"scattermapbox\":[{\"type\":\"scattermapbox\",\"marker\":{\"colorbar\":{\"outlinewidth\":0,\"ticks\":\"\"}}}],\"scatterternary\":[{\"type\":\"scatterternary\",\"marker\":{\"colorbar\":{\"outlinewidth\":0,\"ticks\":\"\"}}}],\"scattercarpet\":[{\"type\":\"scattercarpet\",\"marker\":{\"colorbar\":{\"outlinewidth\":0,\"ticks\":\"\"}}}],\"carpet\":[{\"aaxis\":{\"endlinecolor\":\"#2a3f5f\",\"gridcolor\":\"white\",\"linecolor\":\"white\",\"minorgridcolor\":\"white\",\"startlinecolor\":\"#2a3f5f\"},\"baxis\":{\"endlinecolor\":\"#2a3f5f\",\"gridcolor\":\"white\",\"linecolor\":\"white\",\"minorgridcolor\":\"white\",\"startlinecolor\":\"#2a3f5f\"},\"type\":\"carpet\"}],\"table\":[{\"cells\":{\"fill\":{\"color\":\"#EBF0F8\"},\"line\":{\"color\":\"white\"}},\"header\":{\"fill\":{\"color\":\"#C8D4E3\"},\"line\":{\"color\":\"white\"}},\"type\":\"table\"}],\"barpolar\":[{\"marker\":{\"line\":{\"color\":\"#E5ECF6\",\"width\":0.5},\"pattern\":{\"fillmode\":\"overlay\",\"size\":10,\"solidity\":0.2}},\"type\":\"barpolar\"}],\"pie\":[{\"automargin\":true,\"type\":\"pie\"}]},\"layout\":{\"autotypenumbers\":\"strict\",\"colorway\":[\"#636efa\",\"#EF553B\",\"#00cc96\",\"#ab63fa\",\"#FFA15A\",\"#19d3f3\",\"#FF6692\",\"#B6E880\",\"#FF97FF\",\"#FECB52\"],\"font\":{\"color\":\"#2a3f5f\"},\"hovermode\":\"closest\",\"hoverlabel\":{\"align\":\"left\"},\"paper_bgcolor\":\"white\",\"plot_bgcolor\":\"#E5ECF6\",\"polar\":{\"bgcolor\":\"#E5ECF6\",\"angularaxis\":{\"gridcolor\":\"white\",\"linecolor\":\"white\",\"ticks\":\"\"},\"radialaxis\":{\"gridcolor\":\"white\",\"linecolor\":\"white\",\"ticks\":\"\"}},\"ternary\":{\"bgcolor\":\"#E5ECF6\",\"aaxis\":{\"gridcolor\":\"white\",\"linecolor\":\"white\",\"ticks\":\"\"},\"baxis\":{\"gridcolor\":\"white\",\"linecolor\":\"white\",\"ticks\":\"\"},\"caxis\":{\"gridcolor\":\"white\",\"linecolor\":\"white\",\"ticks\":\"\"}},\"coloraxis\":{\"colorbar\":{\"outlinewidth\":0,\"ticks\":\"\"}},\"colorscale\":{\"sequential\":[[0.0,\"#0d0887\"],[0.1111111111111111,\"#46039f\"],[0.2222222222222222,\"#7201a8\"],[0.3333333333333333,\"#9c179e\"],[0.4444444444444444,\"#bd3786\"],[0.5555555555555556,\"#d8576b\"],[0.6666666666666666,\"#ed7953\"],[0.7777777777777778,\"#fb9f3a\"],[0.8888888888888888,\"#fdca26\"],[1.0,\"#f0f921\"]],\"sequentialminus\":[[0.0,\"#0d0887\"],[0.1111111111111111,\"#46039f\"],[0.2222222222222222,\"#7201a8\"],[0.3333333333333333,\"#9c179e\"],[0.4444444444444444,\"#bd3786\"],[0.5555555555555556,\"#d8576b\"],[0.6666666666666666,\"#ed7953\"],[0.7777777777777778,\"#fb9f3a\"],[0.8888888888888888,\"#fdca26\"],[1.0,\"#f0f921\"]],\"diverging\":[[0,\"#8e0152\"],[0.1,\"#c51b7d\"],[0.2,\"#de77ae\"],[0.3,\"#f1b6da\"],[0.4,\"#fde0ef\"],[0.5,\"#f7f7f7\"],[0.6,\"#e6f5d0\"],[0.7,\"#b8e186\"],[0.8,\"#7fbc41\"],[0.9,\"#4d9221\"],[1,\"#276419\"]]},\"xaxis\":{\"gridcolor\":\"white\",\"linecolor\":\"white\",\"ticks\":\"\",\"title\":{\"standoff\":15},\"zerolinecolor\":\"white\",\"automargin\":true,\"zerolinewidth\":2},\"yaxis\":{\"gridcolor\":\"white\",\"linecolor\":\"white\",\"ticks\":\"\",\"title\":{\"standoff\":15},\"zerolinecolor\":\"white\",\"automargin\":true,\"zerolinewidth\":2},\"scene\":{\"xaxis\":{\"backgroundcolor\":\"#E5ECF6\",\"gridcolor\":\"white\",\"linecolor\":\"white\",\"showbackground\":true,\"ticks\":\"\",\"zerolinecolor\":\"white\",\"gridwidth\":2},\"yaxis\":{\"backgroundcolor\":\"#E5ECF6\",\"gridcolor\":\"white\",\"linecolor\":\"white\",\"showbackground\":true,\"ticks\":\"\",\"zerolinecolor\":\"white\",\"gridwidth\":2},\"zaxis\":{\"backgroundcolor\":\"#E5ECF6\",\"gridcolor\":\"white\",\"linecolor\":\"white\",\"showbackground\":true,\"ticks\":\"\",\"zerolinecolor\":\"white\",\"gridwidth\":2}},\"shapedefaults\":{\"line\":{\"color\":\"#2a3f5f\"}},\"annotationdefaults\":{\"arrowcolor\":\"#2a3f5f\",\"arrowhead\":0,\"arrowwidth\":1},\"geo\":{\"bgcolor\":\"white\",\"landcolor\":\"#E5ECF6\",\"subunitcolor\":\"white\",\"showland\":true,\"showlakes\":true,\"lakecolor\":\"white\"},\"title\":{\"x\":0.05},\"mapbox\":{\"style\":\"light\"}}},\"legend\":{\"tracegroupgap\":0},\"margin\":{\"t\":60},\"piecolorway\":[\"rgb(102, 197, 204)\",\"rgb(246, 207, 113)\",\"rgb(248, 156, 116)\",\"rgb(220, 176, 242)\",\"rgb(135, 197, 95)\",\"rgb(158, 185, 243)\",\"rgb(254, 136, 177)\",\"rgb(201, 219, 116)\",\"rgb(139, 224, 164)\",\"rgb(180, 151, 231)\",\"rgb(179, 179, 179)\"],\"title\":{\"font\":{\"size\":24},\"text\":\"three last highest Sector investor\"}},                        {\"responsive\": true}                    ).then(function(){\n",
       "                            \n",
       "var gd = document.getElementById('9985242e-4ab6-437a-bb06-94ab8b3c4e63');\n",
       "var x = new MutationObserver(function (mutations, observer) {{\n",
       "        var display = window.getComputedStyle(gd).display;\n",
       "        if (!display || display === 'none') {{\n",
       "            console.log([gd, 'removed!']);\n",
       "            Plotly.purge(gd);\n",
       "            observer.disconnect();\n",
       "        }}\n",
       "}});\n",
       "\n",
       "// Listen for the removal of the full notebook cells\n",
       "var notebookContainer = gd.closest('#notebook-container');\n",
       "if (notebookContainer) {{\n",
       "    x.observe(notebookContainer, {childList: true});\n",
       "}}\n",
       "\n",
       "// Listen for the clearing of the current output cell\n",
       "var outputEl = gd.closest('.output');\n",
       "if (outputEl) {{\n",
       "    x.observe(outputEl, {childList: true});\n",
       "}}\n",
       "\n",
       "                        })                };                });            </script>        </div>"
      ]
     },
     "metadata": {},
     "output_type": "display_data"
    }
   ],
   "source": [
    "\n",
    "highest_sector_investor = px.pie(get_only_highest.iloc[:5], \n",
    "             values='Amount($)', \n",
    "             names='Sector', \n",
    "             hole=0.5, \n",
    "             color_discrete_sequence=px.colors.qualitative.Pastel)\n",
    "\n",
    "highest_sector_investor.update_traces(textposition='inside', textinfo='percent+label')\n",
    "highest_sector_investor.update_layout(title_text='three last highest Sector investor', title_font=dict(size=24))\n",
    "\n",
    "highest_sector_investor.show()"
   ]
  },
  {
   "cell_type": "markdown",
   "metadata": {},
   "source": [
    "##### Which region has the most startups?"
   ]
  },
  {
   "cell_type": "markdown",
   "metadata": {},
   "source": [
    "##### To answer this question we will group the HeadQuarter ,Amount and the sector"
   ]
  },
  {
   "cell_type": "code",
   "execution_count": 143,
   "metadata": {},
   "outputs": [
    {
     "data": {
      "text/html": [
       "<div>\n",
       "<style scoped>\n",
       "    .dataframe tbody tr th:only-of-type {\n",
       "        vertical-align: middle;\n",
       "    }\n",
       "\n",
       "    .dataframe tbody tr th {\n",
       "        vertical-align: top;\n",
       "    }\n",
       "\n",
       "    .dataframe thead th {\n",
       "        text-align: right;\n",
       "    }\n",
       "</style>\n",
       "<table border=\"1\" class=\"dataframe\">\n",
       "  <thead>\n",
       "    <tr style=\"text-align: right;\">\n",
       "      <th></th>\n",
       "      <th>HeadQuarter</th>\n",
       "      <th>Sector</th>\n",
       "      <th>Amount($)</th>\n",
       "    </tr>\n",
       "  </thead>\n",
       "  <tbody>\n",
       "    <tr>\n",
       "      <th>1737</th>\n",
       "      <td>Mumbai</td>\n",
       "      <td>FinTech</td>\n",
       "      <td>150,000,000,000.00</td>\n",
       "    </tr>\n",
       "    <tr>\n",
       "      <th>891</th>\n",
       "      <td>Mumbai</td>\n",
       "      <td>Retail</td>\n",
       "      <td>70,000,000,000.00</td>\n",
       "    </tr>\n",
       "    <tr>\n",
       "      <th>928</th>\n",
       "      <td>California</td>\n",
       "      <td>Tech Startup</td>\n",
       "      <td>3,000,000,000.00</td>\n",
       "    </tr>\n",
       "    <tr>\n",
       "      <th>939</th>\n",
       "      <td>Mumbai</td>\n",
       "      <td>Multinational conglomerate company</td>\n",
       "      <td>2,200,000,000.00</td>\n",
       "    </tr>\n",
       "    <tr>\n",
       "      <th>101</th>\n",
       "      <td>Bangalore</td>\n",
       "      <td>Food Delivery</td>\n",
       "      <td>1,000,000,000.00</td>\n",
       "    </tr>\n",
       "    <tr>\n",
       "      <th>...</th>\n",
       "      <td>...</td>\n",
       "      <td>...</td>\n",
       "      <td>...</td>\n",
       "    </tr>\n",
       "    <tr>\n",
       "      <th>2792</th>\n",
       "      <td>Mumbai</td>\n",
       "      <td>Logistics &amp; Supply Chain</td>\n",
       "      <td>NaN</td>\n",
       "    </tr>\n",
       "    <tr>\n",
       "      <th>2804</th>\n",
       "      <td>Mumbai</td>\n",
       "      <td>Consumer Electronics</td>\n",
       "      <td>NaN</td>\n",
       "    </tr>\n",
       "    <tr>\n",
       "      <th>2805</th>\n",
       "      <td>Mumbai</td>\n",
       "      <td>EdTech</td>\n",
       "      <td>NaN</td>\n",
       "    </tr>\n",
       "    <tr>\n",
       "      <th>2810</th>\n",
       "      <td>Gurugram</td>\n",
       "      <td>EdTech</td>\n",
       "      <td>NaN</td>\n",
       "    </tr>\n",
       "    <tr>\n",
       "      <th>2837</th>\n",
       "      <td>Mumbai</td>\n",
       "      <td>Computer Software</td>\n",
       "      <td>NaN</td>\n",
       "    </tr>\n",
       "  </tbody>\n",
       "</table>\n",
       "<p>2853 rows × 3 columns</p>\n",
       "</div>"
      ],
      "text/plain": [
       "     HeadQuarter                              Sector          Amount($)\n",
       "1737      Mumbai                             FinTech 150,000,000,000.00\n",
       "891       Mumbai                              Retail  70,000,000,000.00\n",
       "928   California                        Tech Startup   3,000,000,000.00\n",
       "939       Mumbai  Multinational conglomerate company   2,200,000,000.00\n",
       "101    Bangalore                       Food Delivery   1,000,000,000.00\n",
       "...          ...                                 ...                ...\n",
       "2792      Mumbai            Logistics & Supply Chain                NaN\n",
       "2804      Mumbai                Consumer Electronics                NaN\n",
       "2805      Mumbai                              EdTech                NaN\n",
       "2810    Gurugram                              EdTech                NaN\n",
       "2837      Mumbai                   Computer Software                NaN\n",
       "\n",
       "[2853 rows x 3 columns]"
      ]
     },
     "execution_count": 143,
     "metadata": {},
     "output_type": "execute_result"
    }
   ],
   "source": [
    "final_data_region_most_startups = Final_Startup_Data[['HeadQuarter','Sector','Amount($)']].sort_values(by='Amount($)',ascending=False)\n",
    "final_data_region_most_startups "
   ]
  },
  {
   "cell_type": "code",
   "execution_count": 144,
   "metadata": {},
   "outputs": [
    {
     "data": {
      "text/plain": [
       "Bangalore      859\n",
       "Mumbai         467\n",
       "Gurugram       239\n",
       "New Delhi      230\n",
       "Chennai        106\n",
       "              ... \n",
       "Orissia          1\n",
       "Santra           1\n",
       "Jharkhand        1\n",
       "Bhilwara         1\n",
       "Gandhinagar      1\n",
       "Name: HeadQuarter, Length: 122, dtype: int64"
      ]
     },
     "execution_count": 144,
     "metadata": {},
     "output_type": "execute_result"
    }
   ],
   "source": [
    "final_most_statrtup_by_region =  Final_Startup_Data['HeadQuarter'].value_counts().sort_values(ascending=False)\n",
    "final_most_statrtup_by_region"
   ]
  },
  {
   "cell_type": "markdown",
   "metadata": {},
   "source": [
    "#### Bangalore has the most startup \n"
   ]
  },
  {
   "cell_type": "code",
   "execution_count": 145,
   "metadata": {},
   "outputs": [
    {
     "data": {
      "application/vnd.plotly.v1+json": {
       "config": {
        "plotlyServerURL": "https://plot.ly"
       },
       "data": [
        {
         "alignmentgroup": "True",
         "hovertemplate": "Sector=%{x}<br>Amount($)=%{y}<extra></extra>",
         "legendgroup": "",
         "marker": {
          "color": "#636efa",
          "pattern": {
           "shape": ""
          }
         },
         "name": "",
         "offsetgroup": "",
         "orientation": "v",
         "showlegend": false,
         "textposition": "auto",
         "type": "bar",
         "x": [
          "Food Delivery",
          "Innovation Management",
          "Food delivery",
          "Mechanical & Industrial Engineering",
          "Social commerce",
          "EdTech",
          "Mobility",
          "EdTech",
          "Social Media",
          "EdTech"
         ],
         "xaxis": "x",
         "y": [
          1000000000,
          1000000000,
          800000000,
          600000000,
          570000000,
          540000000,
          500000000,
          500000000,
          500000000,
          460000000
         ],
         "yaxis": "y"
        }
       ],
       "layout": {
        "barmode": "relative",
        "legend": {
         "tracegroupgap": 0
        },
        "template": {
         "data": {
          "bar": [
           {
            "error_x": {
             "color": "#2a3f5f"
            },
            "error_y": {
             "color": "#2a3f5f"
            },
            "marker": {
             "line": {
              "color": "#E5ECF6",
              "width": 0.5
             },
             "pattern": {
              "fillmode": "overlay",
              "size": 10,
              "solidity": 0.2
             }
            },
            "type": "bar"
           }
          ],
          "barpolar": [
           {
            "marker": {
             "line": {
              "color": "#E5ECF6",
              "width": 0.5
             },
             "pattern": {
              "fillmode": "overlay",
              "size": 10,
              "solidity": 0.2
             }
            },
            "type": "barpolar"
           }
          ],
          "carpet": [
           {
            "aaxis": {
             "endlinecolor": "#2a3f5f",
             "gridcolor": "white",
             "linecolor": "white",
             "minorgridcolor": "white",
             "startlinecolor": "#2a3f5f"
            },
            "baxis": {
             "endlinecolor": "#2a3f5f",
             "gridcolor": "white",
             "linecolor": "white",
             "minorgridcolor": "white",
             "startlinecolor": "#2a3f5f"
            },
            "type": "carpet"
           }
          ],
          "choropleth": [
           {
            "colorbar": {
             "outlinewidth": 0,
             "ticks": ""
            },
            "type": "choropleth"
           }
          ],
          "contour": [
           {
            "colorbar": {
             "outlinewidth": 0,
             "ticks": ""
            },
            "colorscale": [
             [
              0,
              "#0d0887"
             ],
             [
              0.1111111111111111,
              "#46039f"
             ],
             [
              0.2222222222222222,
              "#7201a8"
             ],
             [
              0.3333333333333333,
              "#9c179e"
             ],
             [
              0.4444444444444444,
              "#bd3786"
             ],
             [
              0.5555555555555556,
              "#d8576b"
             ],
             [
              0.6666666666666666,
              "#ed7953"
             ],
             [
              0.7777777777777778,
              "#fb9f3a"
             ],
             [
              0.8888888888888888,
              "#fdca26"
             ],
             [
              1,
              "#f0f921"
             ]
            ],
            "type": "contour"
           }
          ],
          "contourcarpet": [
           {
            "colorbar": {
             "outlinewidth": 0,
             "ticks": ""
            },
            "type": "contourcarpet"
           }
          ],
          "heatmap": [
           {
            "colorbar": {
             "outlinewidth": 0,
             "ticks": ""
            },
            "colorscale": [
             [
              0,
              "#0d0887"
             ],
             [
              0.1111111111111111,
              "#46039f"
             ],
             [
              0.2222222222222222,
              "#7201a8"
             ],
             [
              0.3333333333333333,
              "#9c179e"
             ],
             [
              0.4444444444444444,
              "#bd3786"
             ],
             [
              0.5555555555555556,
              "#d8576b"
             ],
             [
              0.6666666666666666,
              "#ed7953"
             ],
             [
              0.7777777777777778,
              "#fb9f3a"
             ],
             [
              0.8888888888888888,
              "#fdca26"
             ],
             [
              1,
              "#f0f921"
             ]
            ],
            "type": "heatmap"
           }
          ],
          "heatmapgl": [
           {
            "colorbar": {
             "outlinewidth": 0,
             "ticks": ""
            },
            "colorscale": [
             [
              0,
              "#0d0887"
             ],
             [
              0.1111111111111111,
              "#46039f"
             ],
             [
              0.2222222222222222,
              "#7201a8"
             ],
             [
              0.3333333333333333,
              "#9c179e"
             ],
             [
              0.4444444444444444,
              "#bd3786"
             ],
             [
              0.5555555555555556,
              "#d8576b"
             ],
             [
              0.6666666666666666,
              "#ed7953"
             ],
             [
              0.7777777777777778,
              "#fb9f3a"
             ],
             [
              0.8888888888888888,
              "#fdca26"
             ],
             [
              1,
              "#f0f921"
             ]
            ],
            "type": "heatmapgl"
           }
          ],
          "histogram": [
           {
            "marker": {
             "pattern": {
              "fillmode": "overlay",
              "size": 10,
              "solidity": 0.2
             }
            },
            "type": "histogram"
           }
          ],
          "histogram2d": [
           {
            "colorbar": {
             "outlinewidth": 0,
             "ticks": ""
            },
            "colorscale": [
             [
              0,
              "#0d0887"
             ],
             [
              0.1111111111111111,
              "#46039f"
             ],
             [
              0.2222222222222222,
              "#7201a8"
             ],
             [
              0.3333333333333333,
              "#9c179e"
             ],
             [
              0.4444444444444444,
              "#bd3786"
             ],
             [
              0.5555555555555556,
              "#d8576b"
             ],
             [
              0.6666666666666666,
              "#ed7953"
             ],
             [
              0.7777777777777778,
              "#fb9f3a"
             ],
             [
              0.8888888888888888,
              "#fdca26"
             ],
             [
              1,
              "#f0f921"
             ]
            ],
            "type": "histogram2d"
           }
          ],
          "histogram2dcontour": [
           {
            "colorbar": {
             "outlinewidth": 0,
             "ticks": ""
            },
            "colorscale": [
             [
              0,
              "#0d0887"
             ],
             [
              0.1111111111111111,
              "#46039f"
             ],
             [
              0.2222222222222222,
              "#7201a8"
             ],
             [
              0.3333333333333333,
              "#9c179e"
             ],
             [
              0.4444444444444444,
              "#bd3786"
             ],
             [
              0.5555555555555556,
              "#d8576b"
             ],
             [
              0.6666666666666666,
              "#ed7953"
             ],
             [
              0.7777777777777778,
              "#fb9f3a"
             ],
             [
              0.8888888888888888,
              "#fdca26"
             ],
             [
              1,
              "#f0f921"
             ]
            ],
            "type": "histogram2dcontour"
           }
          ],
          "mesh3d": [
           {
            "colorbar": {
             "outlinewidth": 0,
             "ticks": ""
            },
            "type": "mesh3d"
           }
          ],
          "parcoords": [
           {
            "line": {
             "colorbar": {
              "outlinewidth": 0,
              "ticks": ""
             }
            },
            "type": "parcoords"
           }
          ],
          "pie": [
           {
            "automargin": true,
            "type": "pie"
           }
          ],
          "scatter": [
           {
            "fillpattern": {
             "fillmode": "overlay",
             "size": 10,
             "solidity": 0.2
            },
            "type": "scatter"
           }
          ],
          "scatter3d": [
           {
            "line": {
             "colorbar": {
              "outlinewidth": 0,
              "ticks": ""
             }
            },
            "marker": {
             "colorbar": {
              "outlinewidth": 0,
              "ticks": ""
             }
            },
            "type": "scatter3d"
           }
          ],
          "scattercarpet": [
           {
            "marker": {
             "colorbar": {
              "outlinewidth": 0,
              "ticks": ""
             }
            },
            "type": "scattercarpet"
           }
          ],
          "scattergeo": [
           {
            "marker": {
             "colorbar": {
              "outlinewidth": 0,
              "ticks": ""
             }
            },
            "type": "scattergeo"
           }
          ],
          "scattergl": [
           {
            "marker": {
             "colorbar": {
              "outlinewidth": 0,
              "ticks": ""
             }
            },
            "type": "scattergl"
           }
          ],
          "scattermapbox": [
           {
            "marker": {
             "colorbar": {
              "outlinewidth": 0,
              "ticks": ""
             }
            },
            "type": "scattermapbox"
           }
          ],
          "scatterpolar": [
           {
            "marker": {
             "colorbar": {
              "outlinewidth": 0,
              "ticks": ""
             }
            },
            "type": "scatterpolar"
           }
          ],
          "scatterpolargl": [
           {
            "marker": {
             "colorbar": {
              "outlinewidth": 0,
              "ticks": ""
             }
            },
            "type": "scatterpolargl"
           }
          ],
          "scatterternary": [
           {
            "marker": {
             "colorbar": {
              "outlinewidth": 0,
              "ticks": ""
             }
            },
            "type": "scatterternary"
           }
          ],
          "surface": [
           {
            "colorbar": {
             "outlinewidth": 0,
             "ticks": ""
            },
            "colorscale": [
             [
              0,
              "#0d0887"
             ],
             [
              0.1111111111111111,
              "#46039f"
             ],
             [
              0.2222222222222222,
              "#7201a8"
             ],
             [
              0.3333333333333333,
              "#9c179e"
             ],
             [
              0.4444444444444444,
              "#bd3786"
             ],
             [
              0.5555555555555556,
              "#d8576b"
             ],
             [
              0.6666666666666666,
              "#ed7953"
             ],
             [
              0.7777777777777778,
              "#fb9f3a"
             ],
             [
              0.8888888888888888,
              "#fdca26"
             ],
             [
              1,
              "#f0f921"
             ]
            ],
            "type": "surface"
           }
          ],
          "table": [
           {
            "cells": {
             "fill": {
              "color": "#EBF0F8"
             },
             "line": {
              "color": "white"
             }
            },
            "header": {
             "fill": {
              "color": "#C8D4E3"
             },
             "line": {
              "color": "white"
             }
            },
            "type": "table"
           }
          ]
         },
         "layout": {
          "annotationdefaults": {
           "arrowcolor": "#2a3f5f",
           "arrowhead": 0,
           "arrowwidth": 1
          },
          "autotypenumbers": "strict",
          "coloraxis": {
           "colorbar": {
            "outlinewidth": 0,
            "ticks": ""
           }
          },
          "colorscale": {
           "diverging": [
            [
             0,
             "#8e0152"
            ],
            [
             0.1,
             "#c51b7d"
            ],
            [
             0.2,
             "#de77ae"
            ],
            [
             0.3,
             "#f1b6da"
            ],
            [
             0.4,
             "#fde0ef"
            ],
            [
             0.5,
             "#f7f7f7"
            ],
            [
             0.6,
             "#e6f5d0"
            ],
            [
             0.7,
             "#b8e186"
            ],
            [
             0.8,
             "#7fbc41"
            ],
            [
             0.9,
             "#4d9221"
            ],
            [
             1,
             "#276419"
            ]
           ],
           "sequential": [
            [
             0,
             "#0d0887"
            ],
            [
             0.1111111111111111,
             "#46039f"
            ],
            [
             0.2222222222222222,
             "#7201a8"
            ],
            [
             0.3333333333333333,
             "#9c179e"
            ],
            [
             0.4444444444444444,
             "#bd3786"
            ],
            [
             0.5555555555555556,
             "#d8576b"
            ],
            [
             0.6666666666666666,
             "#ed7953"
            ],
            [
             0.7777777777777778,
             "#fb9f3a"
            ],
            [
             0.8888888888888888,
             "#fdca26"
            ],
            [
             1,
             "#f0f921"
            ]
           ],
           "sequentialminus": [
            [
             0,
             "#0d0887"
            ],
            [
             0.1111111111111111,
             "#46039f"
            ],
            [
             0.2222222222222222,
             "#7201a8"
            ],
            [
             0.3333333333333333,
             "#9c179e"
            ],
            [
             0.4444444444444444,
             "#bd3786"
            ],
            [
             0.5555555555555556,
             "#d8576b"
            ],
            [
             0.6666666666666666,
             "#ed7953"
            ],
            [
             0.7777777777777778,
             "#fb9f3a"
            ],
            [
             0.8888888888888888,
             "#fdca26"
            ],
            [
             1,
             "#f0f921"
            ]
           ]
          },
          "colorway": [
           "#636efa",
           "#EF553B",
           "#00cc96",
           "#ab63fa",
           "#FFA15A",
           "#19d3f3",
           "#FF6692",
           "#B6E880",
           "#FF97FF",
           "#FECB52"
          ],
          "font": {
           "color": "#2a3f5f"
          },
          "geo": {
           "bgcolor": "white",
           "lakecolor": "white",
           "landcolor": "#E5ECF6",
           "showlakes": true,
           "showland": true,
           "subunitcolor": "white"
          },
          "hoverlabel": {
           "align": "left"
          },
          "hovermode": "closest",
          "mapbox": {
           "style": "light"
          },
          "paper_bgcolor": "white",
          "plot_bgcolor": "#E5ECF6",
          "polar": {
           "angularaxis": {
            "gridcolor": "white",
            "linecolor": "white",
            "ticks": ""
           },
           "bgcolor": "#E5ECF6",
           "radialaxis": {
            "gridcolor": "white",
            "linecolor": "white",
            "ticks": ""
           }
          },
          "scene": {
           "xaxis": {
            "backgroundcolor": "#E5ECF6",
            "gridcolor": "white",
            "gridwidth": 2,
            "linecolor": "white",
            "showbackground": true,
            "ticks": "",
            "zerolinecolor": "white"
           },
           "yaxis": {
            "backgroundcolor": "#E5ECF6",
            "gridcolor": "white",
            "gridwidth": 2,
            "linecolor": "white",
            "showbackground": true,
            "ticks": "",
            "zerolinecolor": "white"
           },
           "zaxis": {
            "backgroundcolor": "#E5ECF6",
            "gridcolor": "white",
            "gridwidth": 2,
            "linecolor": "white",
            "showbackground": true,
            "ticks": "",
            "zerolinecolor": "white"
           }
          },
          "shapedefaults": {
           "line": {
            "color": "#2a3f5f"
           }
          },
          "ternary": {
           "aaxis": {
            "gridcolor": "white",
            "linecolor": "white",
            "ticks": ""
           },
           "baxis": {
            "gridcolor": "white",
            "linecolor": "white",
            "ticks": ""
           },
           "bgcolor": "#E5ECF6",
           "caxis": {
            "gridcolor": "white",
            "linecolor": "white",
            "ticks": ""
           }
          },
          "title": {
           "x": 0.05
          },
          "xaxis": {
           "automargin": true,
           "gridcolor": "white",
           "linecolor": "white",
           "ticks": "",
           "title": {
            "standoff": 15
           },
           "zerolinecolor": "white",
           "zerolinewidth": 2
          },
          "yaxis": {
           "automargin": true,
           "gridcolor": "white",
           "linecolor": "white",
           "ticks": "",
           "title": {
            "standoff": 15
           },
           "zerolinecolor": "white",
           "zerolinewidth": 2
          }
         }
        },
        "title": {
         "text": "Distribution of startups in Bangalore by sector"
        },
        "xaxis": {
         "anchor": "y",
         "domain": [
          0,
          1
         ],
         "title": {
          "text": "Sector"
         }
        },
        "yaxis": {
         "anchor": "x",
         "domain": [
          0,
          1
         ],
         "title": {
          "text": "Amount($)"
         }
        }
       }
      },
      "text/html": [
       "<div>                            <div id=\"f49ac529-0dda-441c-b450-32f038ecba78\" class=\"plotly-graph-div\" style=\"height:525px; width:100%;\"></div>            <script type=\"text/javascript\">                require([\"plotly\"], function(Plotly) {                    window.PLOTLYENV=window.PLOTLYENV || {};                                    if (document.getElementById(\"f49ac529-0dda-441c-b450-32f038ecba78\")) {                    Plotly.newPlot(                        \"f49ac529-0dda-441c-b450-32f038ecba78\",                        [{\"alignmentgroup\":\"True\",\"hovertemplate\":\"Sector=%{x}\\u003cbr\\u003eAmount($)=%{y}\\u003cextra\\u003e\\u003c\\u002fextra\\u003e\",\"legendgroup\":\"\",\"marker\":{\"color\":\"#636efa\",\"pattern\":{\"shape\":\"\"}},\"name\":\"\",\"offsetgroup\":\"\",\"orientation\":\"v\",\"showlegend\":false,\"textposition\":\"auto\",\"x\":[\"Food Delivery\",\"Innovation Management\",\"Food delivery\",\"Mechanical & Industrial Engineering\",\"Social commerce\",\"EdTech\",\"Mobility\",\"EdTech\",\"Social Media\",\"EdTech\"],\"xaxis\":\"x\",\"y\":[1000000000.0,1000000000.0,800000000.0,600000000.0,570000000.0,540000000.0,500000000.0,500000000.0,500000000.0,460000000.0],\"yaxis\":\"y\",\"type\":\"bar\"}],                        {\"template\":{\"data\":{\"histogram2dcontour\":[{\"type\":\"histogram2dcontour\",\"colorbar\":{\"outlinewidth\":0,\"ticks\":\"\"},\"colorscale\":[[0.0,\"#0d0887\"],[0.1111111111111111,\"#46039f\"],[0.2222222222222222,\"#7201a8\"],[0.3333333333333333,\"#9c179e\"],[0.4444444444444444,\"#bd3786\"],[0.5555555555555556,\"#d8576b\"],[0.6666666666666666,\"#ed7953\"],[0.7777777777777778,\"#fb9f3a\"],[0.8888888888888888,\"#fdca26\"],[1.0,\"#f0f921\"]]}],\"choropleth\":[{\"type\":\"choropleth\",\"colorbar\":{\"outlinewidth\":0,\"ticks\":\"\"}}],\"histogram2d\":[{\"type\":\"histogram2d\",\"colorbar\":{\"outlinewidth\":0,\"ticks\":\"\"},\"colorscale\":[[0.0,\"#0d0887\"],[0.1111111111111111,\"#46039f\"],[0.2222222222222222,\"#7201a8\"],[0.3333333333333333,\"#9c179e\"],[0.4444444444444444,\"#bd3786\"],[0.5555555555555556,\"#d8576b\"],[0.6666666666666666,\"#ed7953\"],[0.7777777777777778,\"#fb9f3a\"],[0.8888888888888888,\"#fdca26\"],[1.0,\"#f0f921\"]]}],\"heatmap\":[{\"type\":\"heatmap\",\"colorbar\":{\"outlinewidth\":0,\"ticks\":\"\"},\"colorscale\":[[0.0,\"#0d0887\"],[0.1111111111111111,\"#46039f\"],[0.2222222222222222,\"#7201a8\"],[0.3333333333333333,\"#9c179e\"],[0.4444444444444444,\"#bd3786\"],[0.5555555555555556,\"#d8576b\"],[0.6666666666666666,\"#ed7953\"],[0.7777777777777778,\"#fb9f3a\"],[0.8888888888888888,\"#fdca26\"],[1.0,\"#f0f921\"]]}],\"heatmapgl\":[{\"type\":\"heatmapgl\",\"colorbar\":{\"outlinewidth\":0,\"ticks\":\"\"},\"colorscale\":[[0.0,\"#0d0887\"],[0.1111111111111111,\"#46039f\"],[0.2222222222222222,\"#7201a8\"],[0.3333333333333333,\"#9c179e\"],[0.4444444444444444,\"#bd3786\"],[0.5555555555555556,\"#d8576b\"],[0.6666666666666666,\"#ed7953\"],[0.7777777777777778,\"#fb9f3a\"],[0.8888888888888888,\"#fdca26\"],[1.0,\"#f0f921\"]]}],\"contourcarpet\":[{\"type\":\"contourcarpet\",\"colorbar\":{\"outlinewidth\":0,\"ticks\":\"\"}}],\"contour\":[{\"type\":\"contour\",\"colorbar\":{\"outlinewidth\":0,\"ticks\":\"\"},\"colorscale\":[[0.0,\"#0d0887\"],[0.1111111111111111,\"#46039f\"],[0.2222222222222222,\"#7201a8\"],[0.3333333333333333,\"#9c179e\"],[0.4444444444444444,\"#bd3786\"],[0.5555555555555556,\"#d8576b\"],[0.6666666666666666,\"#ed7953\"],[0.7777777777777778,\"#fb9f3a\"],[0.8888888888888888,\"#fdca26\"],[1.0,\"#f0f921\"]]}],\"surface\":[{\"type\":\"surface\",\"colorbar\":{\"outlinewidth\":0,\"ticks\":\"\"},\"colorscale\":[[0.0,\"#0d0887\"],[0.1111111111111111,\"#46039f\"],[0.2222222222222222,\"#7201a8\"],[0.3333333333333333,\"#9c179e\"],[0.4444444444444444,\"#bd3786\"],[0.5555555555555556,\"#d8576b\"],[0.6666666666666666,\"#ed7953\"],[0.7777777777777778,\"#fb9f3a\"],[0.8888888888888888,\"#fdca26\"],[1.0,\"#f0f921\"]]}],\"mesh3d\":[{\"type\":\"mesh3d\",\"colorbar\":{\"outlinewidth\":0,\"ticks\":\"\"}}],\"scatter\":[{\"fillpattern\":{\"fillmode\":\"overlay\",\"size\":10,\"solidity\":0.2},\"type\":\"scatter\"}],\"parcoords\":[{\"type\":\"parcoords\",\"line\":{\"colorbar\":{\"outlinewidth\":0,\"ticks\":\"\"}}}],\"scatterpolargl\":[{\"type\":\"scatterpolargl\",\"marker\":{\"colorbar\":{\"outlinewidth\":0,\"ticks\":\"\"}}}],\"bar\":[{\"error_x\":{\"color\":\"#2a3f5f\"},\"error_y\":{\"color\":\"#2a3f5f\"},\"marker\":{\"line\":{\"color\":\"#E5ECF6\",\"width\":0.5},\"pattern\":{\"fillmode\":\"overlay\",\"size\":10,\"solidity\":0.2}},\"type\":\"bar\"}],\"scattergeo\":[{\"type\":\"scattergeo\",\"marker\":{\"colorbar\":{\"outlinewidth\":0,\"ticks\":\"\"}}}],\"scatterpolar\":[{\"type\":\"scatterpolar\",\"marker\":{\"colorbar\":{\"outlinewidth\":0,\"ticks\":\"\"}}}],\"histogram\":[{\"marker\":{\"pattern\":{\"fillmode\":\"overlay\",\"size\":10,\"solidity\":0.2}},\"type\":\"histogram\"}],\"scattergl\":[{\"type\":\"scattergl\",\"marker\":{\"colorbar\":{\"outlinewidth\":0,\"ticks\":\"\"}}}],\"scatter3d\":[{\"type\":\"scatter3d\",\"line\":{\"colorbar\":{\"outlinewidth\":0,\"ticks\":\"\"}},\"marker\":{\"colorbar\":{\"outlinewidth\":0,\"ticks\":\"\"}}}],\"scattermapbox\":[{\"type\":\"scattermapbox\",\"marker\":{\"colorbar\":{\"outlinewidth\":0,\"ticks\":\"\"}}}],\"scatterternary\":[{\"type\":\"scatterternary\",\"marker\":{\"colorbar\":{\"outlinewidth\":0,\"ticks\":\"\"}}}],\"scattercarpet\":[{\"type\":\"scattercarpet\",\"marker\":{\"colorbar\":{\"outlinewidth\":0,\"ticks\":\"\"}}}],\"carpet\":[{\"aaxis\":{\"endlinecolor\":\"#2a3f5f\",\"gridcolor\":\"white\",\"linecolor\":\"white\",\"minorgridcolor\":\"white\",\"startlinecolor\":\"#2a3f5f\"},\"baxis\":{\"endlinecolor\":\"#2a3f5f\",\"gridcolor\":\"white\",\"linecolor\":\"white\",\"minorgridcolor\":\"white\",\"startlinecolor\":\"#2a3f5f\"},\"type\":\"carpet\"}],\"table\":[{\"cells\":{\"fill\":{\"color\":\"#EBF0F8\"},\"line\":{\"color\":\"white\"}},\"header\":{\"fill\":{\"color\":\"#C8D4E3\"},\"line\":{\"color\":\"white\"}},\"type\":\"table\"}],\"barpolar\":[{\"marker\":{\"line\":{\"color\":\"#E5ECF6\",\"width\":0.5},\"pattern\":{\"fillmode\":\"overlay\",\"size\":10,\"solidity\":0.2}},\"type\":\"barpolar\"}],\"pie\":[{\"automargin\":true,\"type\":\"pie\"}]},\"layout\":{\"autotypenumbers\":\"strict\",\"colorway\":[\"#636efa\",\"#EF553B\",\"#00cc96\",\"#ab63fa\",\"#FFA15A\",\"#19d3f3\",\"#FF6692\",\"#B6E880\",\"#FF97FF\",\"#FECB52\"],\"font\":{\"color\":\"#2a3f5f\"},\"hovermode\":\"closest\",\"hoverlabel\":{\"align\":\"left\"},\"paper_bgcolor\":\"white\",\"plot_bgcolor\":\"#E5ECF6\",\"polar\":{\"bgcolor\":\"#E5ECF6\",\"angularaxis\":{\"gridcolor\":\"white\",\"linecolor\":\"white\",\"ticks\":\"\"},\"radialaxis\":{\"gridcolor\":\"white\",\"linecolor\":\"white\",\"ticks\":\"\"}},\"ternary\":{\"bgcolor\":\"#E5ECF6\",\"aaxis\":{\"gridcolor\":\"white\",\"linecolor\":\"white\",\"ticks\":\"\"},\"baxis\":{\"gridcolor\":\"white\",\"linecolor\":\"white\",\"ticks\":\"\"},\"caxis\":{\"gridcolor\":\"white\",\"linecolor\":\"white\",\"ticks\":\"\"}},\"coloraxis\":{\"colorbar\":{\"outlinewidth\":0,\"ticks\":\"\"}},\"colorscale\":{\"sequential\":[[0.0,\"#0d0887\"],[0.1111111111111111,\"#46039f\"],[0.2222222222222222,\"#7201a8\"],[0.3333333333333333,\"#9c179e\"],[0.4444444444444444,\"#bd3786\"],[0.5555555555555556,\"#d8576b\"],[0.6666666666666666,\"#ed7953\"],[0.7777777777777778,\"#fb9f3a\"],[0.8888888888888888,\"#fdca26\"],[1.0,\"#f0f921\"]],\"sequentialminus\":[[0.0,\"#0d0887\"],[0.1111111111111111,\"#46039f\"],[0.2222222222222222,\"#7201a8\"],[0.3333333333333333,\"#9c179e\"],[0.4444444444444444,\"#bd3786\"],[0.5555555555555556,\"#d8576b\"],[0.6666666666666666,\"#ed7953\"],[0.7777777777777778,\"#fb9f3a\"],[0.8888888888888888,\"#fdca26\"],[1.0,\"#f0f921\"]],\"diverging\":[[0,\"#8e0152\"],[0.1,\"#c51b7d\"],[0.2,\"#de77ae\"],[0.3,\"#f1b6da\"],[0.4,\"#fde0ef\"],[0.5,\"#f7f7f7\"],[0.6,\"#e6f5d0\"],[0.7,\"#b8e186\"],[0.8,\"#7fbc41\"],[0.9,\"#4d9221\"],[1,\"#276419\"]]},\"xaxis\":{\"gridcolor\":\"white\",\"linecolor\":\"white\",\"ticks\":\"\",\"title\":{\"standoff\":15},\"zerolinecolor\":\"white\",\"automargin\":true,\"zerolinewidth\":2},\"yaxis\":{\"gridcolor\":\"white\",\"linecolor\":\"white\",\"ticks\":\"\",\"title\":{\"standoff\":15},\"zerolinecolor\":\"white\",\"automargin\":true,\"zerolinewidth\":2},\"scene\":{\"xaxis\":{\"backgroundcolor\":\"#E5ECF6\",\"gridcolor\":\"white\",\"linecolor\":\"white\",\"showbackground\":true,\"ticks\":\"\",\"zerolinecolor\":\"white\",\"gridwidth\":2},\"yaxis\":{\"backgroundcolor\":\"#E5ECF6\",\"gridcolor\":\"white\",\"linecolor\":\"white\",\"showbackground\":true,\"ticks\":\"\",\"zerolinecolor\":\"white\",\"gridwidth\":2},\"zaxis\":{\"backgroundcolor\":\"#E5ECF6\",\"gridcolor\":\"white\",\"linecolor\":\"white\",\"showbackground\":true,\"ticks\":\"\",\"zerolinecolor\":\"white\",\"gridwidth\":2}},\"shapedefaults\":{\"line\":{\"color\":\"#2a3f5f\"}},\"annotationdefaults\":{\"arrowcolor\":\"#2a3f5f\",\"arrowhead\":0,\"arrowwidth\":1},\"geo\":{\"bgcolor\":\"white\",\"landcolor\":\"#E5ECF6\",\"subunitcolor\":\"white\",\"showland\":true,\"showlakes\":true,\"lakecolor\":\"white\"},\"title\":{\"x\":0.05},\"mapbox\":{\"style\":\"light\"}}},\"xaxis\":{\"anchor\":\"y\",\"domain\":[0.0,1.0],\"title\":{\"text\":\"Sector\"}},\"yaxis\":{\"anchor\":\"x\",\"domain\":[0.0,1.0],\"title\":{\"text\":\"Amount($)\"}},\"legend\":{\"tracegroupgap\":0},\"title\":{\"text\":\"Distribution of startups in Bangalore by sector\"},\"barmode\":\"relative\"},                        {\"responsive\": true}                    ).then(function(){\n",
       "                            \n",
       "var gd = document.getElementById('f49ac529-0dda-441c-b450-32f038ecba78');\n",
       "var x = new MutationObserver(function (mutations, observer) {{\n",
       "        var display = window.getComputedStyle(gd).display;\n",
       "        if (!display || display === 'none') {{\n",
       "            console.log([gd, 'removed!']);\n",
       "            Plotly.purge(gd);\n",
       "            observer.disconnect();\n",
       "        }}\n",
       "}});\n",
       "\n",
       "// Listen for the removal of the full notebook cells\n",
       "var notebookContainer = gd.closest('#notebook-container');\n",
       "if (notebookContainer) {{\n",
       "    x.observe(notebookContainer, {childList: true});\n",
       "}}\n",
       "\n",
       "// Listen for the clearing of the current output cell\n",
       "var outputEl = gd.closest('.output');\n",
       "if (outputEl) {{\n",
       "    x.observe(outputEl, {childList: true});\n",
       "}}\n",
       "\n",
       "                        })                };                });            </script>        </div>"
      ]
     },
     "metadata": {},
     "output_type": "display_data"
    }
   ],
   "source": [
    "region_most_startup = final_data_region_most_startups[final_data_region_most_startups[\"HeadQuarter\"] ==\"Bangalore\"]\n",
    "fig = px.bar(region_most_startup.sort_values(by=\"Amount($)\",ascending=False).iloc[:10], \n",
    "             x='Sector', \n",
    "             y='Amount($)', \n",
    "             title='Distribution of startups in Bangalore by sector')\n",
    "fig.show()"
   ]
  },
  {
   "cell_type": "markdown",
   "metadata": {},
   "source": [
    "#### Analysis Response \n",
    "##### In large part we have Edtech ,Food Delivery and Innvovation Management"
   ]
  },
  {
   "cell_type": "markdown",
   "metadata": {},
   "source": [
    "## Wich Region received the most amount"
   ]
  },
  {
   "cell_type": "code",
   "execution_count": 151,
   "metadata": {},
   "outputs": [
    {
     "data": {
      "application/vnd.plotly.v1+json": {
       "config": {
        "plotlyServerURL": "https://plot.ly"
       },
       "data": [
        {
         "alignmentgroup": "True",
         "hovertemplate": "HeadQuarter=%{x}<br>Amount($)=%{y}<extra></extra>",
         "legendgroup": "",
         "marker": {
          "color": "#636efa",
          "pattern": {
           "shape": ""
          }
         },
         "name": "",
         "offsetgroup": "",
         "orientation": "v",
         "showlegend": false,
         "textposition": "auto",
         "type": "bar",
         "x": [
          "Mumbai",
          "Bangalore",
          "Gurugram",
          "New Delhi",
          "California",
          "Pune",
          "Gurgaon",
          "Chennai",
          "Haryana",
          "Delhi"
         ],
         "xaxis": "x",
         "y": [
          230677414700,
          23875874404,
          5548231500,
          3421521040,
          3078300000,
          1395938705,
          1380056180,
          1123975826,
          918985000,
          827324600
         ],
         "yaxis": "y"
        }
       ],
       "layout": {
        "barmode": "relative",
        "legend": {
         "tracegroupgap": 0
        },
        "template": {
         "data": {
          "bar": [
           {
            "error_x": {
             "color": "#2a3f5f"
            },
            "error_y": {
             "color": "#2a3f5f"
            },
            "marker": {
             "line": {
              "color": "#E5ECF6",
              "width": 0.5
             },
             "pattern": {
              "fillmode": "overlay",
              "size": 10,
              "solidity": 0.2
             }
            },
            "type": "bar"
           }
          ],
          "barpolar": [
           {
            "marker": {
             "line": {
              "color": "#E5ECF6",
              "width": 0.5
             },
             "pattern": {
              "fillmode": "overlay",
              "size": 10,
              "solidity": 0.2
             }
            },
            "type": "barpolar"
           }
          ],
          "carpet": [
           {
            "aaxis": {
             "endlinecolor": "#2a3f5f",
             "gridcolor": "white",
             "linecolor": "white",
             "minorgridcolor": "white",
             "startlinecolor": "#2a3f5f"
            },
            "baxis": {
             "endlinecolor": "#2a3f5f",
             "gridcolor": "white",
             "linecolor": "white",
             "minorgridcolor": "white",
             "startlinecolor": "#2a3f5f"
            },
            "type": "carpet"
           }
          ],
          "choropleth": [
           {
            "colorbar": {
             "outlinewidth": 0,
             "ticks": ""
            },
            "type": "choropleth"
           }
          ],
          "contour": [
           {
            "colorbar": {
             "outlinewidth": 0,
             "ticks": ""
            },
            "colorscale": [
             [
              0,
              "#0d0887"
             ],
             [
              0.1111111111111111,
              "#46039f"
             ],
             [
              0.2222222222222222,
              "#7201a8"
             ],
             [
              0.3333333333333333,
              "#9c179e"
             ],
             [
              0.4444444444444444,
              "#bd3786"
             ],
             [
              0.5555555555555556,
              "#d8576b"
             ],
             [
              0.6666666666666666,
              "#ed7953"
             ],
             [
              0.7777777777777778,
              "#fb9f3a"
             ],
             [
              0.8888888888888888,
              "#fdca26"
             ],
             [
              1,
              "#f0f921"
             ]
            ],
            "type": "contour"
           }
          ],
          "contourcarpet": [
           {
            "colorbar": {
             "outlinewidth": 0,
             "ticks": ""
            },
            "type": "contourcarpet"
           }
          ],
          "heatmap": [
           {
            "colorbar": {
             "outlinewidth": 0,
             "ticks": ""
            },
            "colorscale": [
             [
              0,
              "#0d0887"
             ],
             [
              0.1111111111111111,
              "#46039f"
             ],
             [
              0.2222222222222222,
              "#7201a8"
             ],
             [
              0.3333333333333333,
              "#9c179e"
             ],
             [
              0.4444444444444444,
              "#bd3786"
             ],
             [
              0.5555555555555556,
              "#d8576b"
             ],
             [
              0.6666666666666666,
              "#ed7953"
             ],
             [
              0.7777777777777778,
              "#fb9f3a"
             ],
             [
              0.8888888888888888,
              "#fdca26"
             ],
             [
              1,
              "#f0f921"
             ]
            ],
            "type": "heatmap"
           }
          ],
          "heatmapgl": [
           {
            "colorbar": {
             "outlinewidth": 0,
             "ticks": ""
            },
            "colorscale": [
             [
              0,
              "#0d0887"
             ],
             [
              0.1111111111111111,
              "#46039f"
             ],
             [
              0.2222222222222222,
              "#7201a8"
             ],
             [
              0.3333333333333333,
              "#9c179e"
             ],
             [
              0.4444444444444444,
              "#bd3786"
             ],
             [
              0.5555555555555556,
              "#d8576b"
             ],
             [
              0.6666666666666666,
              "#ed7953"
             ],
             [
              0.7777777777777778,
              "#fb9f3a"
             ],
             [
              0.8888888888888888,
              "#fdca26"
             ],
             [
              1,
              "#f0f921"
             ]
            ],
            "type": "heatmapgl"
           }
          ],
          "histogram": [
           {
            "marker": {
             "pattern": {
              "fillmode": "overlay",
              "size": 10,
              "solidity": 0.2
             }
            },
            "type": "histogram"
           }
          ],
          "histogram2d": [
           {
            "colorbar": {
             "outlinewidth": 0,
             "ticks": ""
            },
            "colorscale": [
             [
              0,
              "#0d0887"
             ],
             [
              0.1111111111111111,
              "#46039f"
             ],
             [
              0.2222222222222222,
              "#7201a8"
             ],
             [
              0.3333333333333333,
              "#9c179e"
             ],
             [
              0.4444444444444444,
              "#bd3786"
             ],
             [
              0.5555555555555556,
              "#d8576b"
             ],
             [
              0.6666666666666666,
              "#ed7953"
             ],
             [
              0.7777777777777778,
              "#fb9f3a"
             ],
             [
              0.8888888888888888,
              "#fdca26"
             ],
             [
              1,
              "#f0f921"
             ]
            ],
            "type": "histogram2d"
           }
          ],
          "histogram2dcontour": [
           {
            "colorbar": {
             "outlinewidth": 0,
             "ticks": ""
            },
            "colorscale": [
             [
              0,
              "#0d0887"
             ],
             [
              0.1111111111111111,
              "#46039f"
             ],
             [
              0.2222222222222222,
              "#7201a8"
             ],
             [
              0.3333333333333333,
              "#9c179e"
             ],
             [
              0.4444444444444444,
              "#bd3786"
             ],
             [
              0.5555555555555556,
              "#d8576b"
             ],
             [
              0.6666666666666666,
              "#ed7953"
             ],
             [
              0.7777777777777778,
              "#fb9f3a"
             ],
             [
              0.8888888888888888,
              "#fdca26"
             ],
             [
              1,
              "#f0f921"
             ]
            ],
            "type": "histogram2dcontour"
           }
          ],
          "mesh3d": [
           {
            "colorbar": {
             "outlinewidth": 0,
             "ticks": ""
            },
            "type": "mesh3d"
           }
          ],
          "parcoords": [
           {
            "line": {
             "colorbar": {
              "outlinewidth": 0,
              "ticks": ""
             }
            },
            "type": "parcoords"
           }
          ],
          "pie": [
           {
            "automargin": true,
            "type": "pie"
           }
          ],
          "scatter": [
           {
            "fillpattern": {
             "fillmode": "overlay",
             "size": 10,
             "solidity": 0.2
            },
            "type": "scatter"
           }
          ],
          "scatter3d": [
           {
            "line": {
             "colorbar": {
              "outlinewidth": 0,
              "ticks": ""
             }
            },
            "marker": {
             "colorbar": {
              "outlinewidth": 0,
              "ticks": ""
             }
            },
            "type": "scatter3d"
           }
          ],
          "scattercarpet": [
           {
            "marker": {
             "colorbar": {
              "outlinewidth": 0,
              "ticks": ""
             }
            },
            "type": "scattercarpet"
           }
          ],
          "scattergeo": [
           {
            "marker": {
             "colorbar": {
              "outlinewidth": 0,
              "ticks": ""
             }
            },
            "type": "scattergeo"
           }
          ],
          "scattergl": [
           {
            "marker": {
             "colorbar": {
              "outlinewidth": 0,
              "ticks": ""
             }
            },
            "type": "scattergl"
           }
          ],
          "scattermapbox": [
           {
            "marker": {
             "colorbar": {
              "outlinewidth": 0,
              "ticks": ""
             }
            },
            "type": "scattermapbox"
           }
          ],
          "scatterpolar": [
           {
            "marker": {
             "colorbar": {
              "outlinewidth": 0,
              "ticks": ""
             }
            },
            "type": "scatterpolar"
           }
          ],
          "scatterpolargl": [
           {
            "marker": {
             "colorbar": {
              "outlinewidth": 0,
              "ticks": ""
             }
            },
            "type": "scatterpolargl"
           }
          ],
          "scatterternary": [
           {
            "marker": {
             "colorbar": {
              "outlinewidth": 0,
              "ticks": ""
             }
            },
            "type": "scatterternary"
           }
          ],
          "surface": [
           {
            "colorbar": {
             "outlinewidth": 0,
             "ticks": ""
            },
            "colorscale": [
             [
              0,
              "#0d0887"
             ],
             [
              0.1111111111111111,
              "#46039f"
             ],
             [
              0.2222222222222222,
              "#7201a8"
             ],
             [
              0.3333333333333333,
              "#9c179e"
             ],
             [
              0.4444444444444444,
              "#bd3786"
             ],
             [
              0.5555555555555556,
              "#d8576b"
             ],
             [
              0.6666666666666666,
              "#ed7953"
             ],
             [
              0.7777777777777778,
              "#fb9f3a"
             ],
             [
              0.8888888888888888,
              "#fdca26"
             ],
             [
              1,
              "#f0f921"
             ]
            ],
            "type": "surface"
           }
          ],
          "table": [
           {
            "cells": {
             "fill": {
              "color": "#EBF0F8"
             },
             "line": {
              "color": "white"
             }
            },
            "header": {
             "fill": {
              "color": "#C8D4E3"
             },
             "line": {
              "color": "white"
             }
            },
            "type": "table"
           }
          ]
         },
         "layout": {
          "annotationdefaults": {
           "arrowcolor": "#2a3f5f",
           "arrowhead": 0,
           "arrowwidth": 1
          },
          "autotypenumbers": "strict",
          "coloraxis": {
           "colorbar": {
            "outlinewidth": 0,
            "ticks": ""
           }
          },
          "colorscale": {
           "diverging": [
            [
             0,
             "#8e0152"
            ],
            [
             0.1,
             "#c51b7d"
            ],
            [
             0.2,
             "#de77ae"
            ],
            [
             0.3,
             "#f1b6da"
            ],
            [
             0.4,
             "#fde0ef"
            ],
            [
             0.5,
             "#f7f7f7"
            ],
            [
             0.6,
             "#e6f5d0"
            ],
            [
             0.7,
             "#b8e186"
            ],
            [
             0.8,
             "#7fbc41"
            ],
            [
             0.9,
             "#4d9221"
            ],
            [
             1,
             "#276419"
            ]
           ],
           "sequential": [
            [
             0,
             "#0d0887"
            ],
            [
             0.1111111111111111,
             "#46039f"
            ],
            [
             0.2222222222222222,
             "#7201a8"
            ],
            [
             0.3333333333333333,
             "#9c179e"
            ],
            [
             0.4444444444444444,
             "#bd3786"
            ],
            [
             0.5555555555555556,
             "#d8576b"
            ],
            [
             0.6666666666666666,
             "#ed7953"
            ],
            [
             0.7777777777777778,
             "#fb9f3a"
            ],
            [
             0.8888888888888888,
             "#fdca26"
            ],
            [
             1,
             "#f0f921"
            ]
           ],
           "sequentialminus": [
            [
             0,
             "#0d0887"
            ],
            [
             0.1111111111111111,
             "#46039f"
            ],
            [
             0.2222222222222222,
             "#7201a8"
            ],
            [
             0.3333333333333333,
             "#9c179e"
            ],
            [
             0.4444444444444444,
             "#bd3786"
            ],
            [
             0.5555555555555556,
             "#d8576b"
            ],
            [
             0.6666666666666666,
             "#ed7953"
            ],
            [
             0.7777777777777778,
             "#fb9f3a"
            ],
            [
             0.8888888888888888,
             "#fdca26"
            ],
            [
             1,
             "#f0f921"
            ]
           ]
          },
          "colorway": [
           "#636efa",
           "#EF553B",
           "#00cc96",
           "#ab63fa",
           "#FFA15A",
           "#19d3f3",
           "#FF6692",
           "#B6E880",
           "#FF97FF",
           "#FECB52"
          ],
          "font": {
           "color": "#2a3f5f"
          },
          "geo": {
           "bgcolor": "white",
           "lakecolor": "white",
           "landcolor": "#E5ECF6",
           "showlakes": true,
           "showland": true,
           "subunitcolor": "white"
          },
          "hoverlabel": {
           "align": "left"
          },
          "hovermode": "closest",
          "mapbox": {
           "style": "light"
          },
          "paper_bgcolor": "white",
          "plot_bgcolor": "#E5ECF6",
          "polar": {
           "angularaxis": {
            "gridcolor": "white",
            "linecolor": "white",
            "ticks": ""
           },
           "bgcolor": "#E5ECF6",
           "radialaxis": {
            "gridcolor": "white",
            "linecolor": "white",
            "ticks": ""
           }
          },
          "scene": {
           "xaxis": {
            "backgroundcolor": "#E5ECF6",
            "gridcolor": "white",
            "gridwidth": 2,
            "linecolor": "white",
            "showbackground": true,
            "ticks": "",
            "zerolinecolor": "white"
           },
           "yaxis": {
            "backgroundcolor": "#E5ECF6",
            "gridcolor": "white",
            "gridwidth": 2,
            "linecolor": "white",
            "showbackground": true,
            "ticks": "",
            "zerolinecolor": "white"
           },
           "zaxis": {
            "backgroundcolor": "#E5ECF6",
            "gridcolor": "white",
            "gridwidth": 2,
            "linecolor": "white",
            "showbackground": true,
            "ticks": "",
            "zerolinecolor": "white"
           }
          },
          "shapedefaults": {
           "line": {
            "color": "#2a3f5f"
           }
          },
          "ternary": {
           "aaxis": {
            "gridcolor": "white",
            "linecolor": "white",
            "ticks": ""
           },
           "baxis": {
            "gridcolor": "white",
            "linecolor": "white",
            "ticks": ""
           },
           "bgcolor": "#E5ECF6",
           "caxis": {
            "gridcolor": "white",
            "linecolor": "white",
            "ticks": ""
           }
          },
          "title": {
           "x": 0.05
          },
          "xaxis": {
           "automargin": true,
           "gridcolor": "white",
           "linecolor": "white",
           "ticks": "",
           "title": {
            "standoff": 15
           },
           "zerolinecolor": "white",
           "zerolinewidth": 2
          },
          "yaxis": {
           "automargin": true,
           "gridcolor": "white",
           "linecolor": "white",
           "ticks": "",
           "title": {
            "standoff": 15
           },
           "zerolinecolor": "white",
           "zerolinewidth": 2
          }
         }
        },
        "title": {
         "text": "Region has the most startup received amount"
        },
        "xaxis": {
         "anchor": "y",
         "domain": [
          0,
          1
         ],
         "title": {
          "text": "HeadQuarter"
         }
        },
        "yaxis": {
         "anchor": "x",
         "domain": [
          0,
          1
         ],
         "title": {
          "text": "Amount($)"
         }
        }
       }
      },
      "text/html": [
       "<div>                            <div id=\"f90e63ee-bd34-4a24-ac59-a1c629a11ca7\" class=\"plotly-graph-div\" style=\"height:525px; width:100%;\"></div>            <script type=\"text/javascript\">                require([\"plotly\"], function(Plotly) {                    window.PLOTLYENV=window.PLOTLYENV || {};                                    if (document.getElementById(\"f90e63ee-bd34-4a24-ac59-a1c629a11ca7\")) {                    Plotly.newPlot(                        \"f90e63ee-bd34-4a24-ac59-a1c629a11ca7\",                        [{\"alignmentgroup\":\"True\",\"hovertemplate\":\"HeadQuarter=%{x}\\u003cbr\\u003eAmount($)=%{y}\\u003cextra\\u003e\\u003c\\u002fextra\\u003e\",\"legendgroup\":\"\",\"marker\":{\"color\":\"#636efa\",\"pattern\":{\"shape\":\"\"}},\"name\":\"\",\"offsetgroup\":\"\",\"orientation\":\"v\",\"showlegend\":false,\"textposition\":\"auto\",\"x\":[\"Mumbai\",\"Bangalore\",\"Gurugram\",\"New Delhi\",\"California\",\"Pune\",\"Gurgaon\",\"Chennai\",\"Haryana\",\"Delhi\"],\"xaxis\":\"x\",\"y\":[230677414700.0,23875874404.0,5548231500.0,3421521040.0,3078300000.0,1395938705.0,1380056180.0,1123975826.0,918985000.0,827324600.0],\"yaxis\":\"y\",\"type\":\"bar\"}],                        {\"template\":{\"data\":{\"histogram2dcontour\":[{\"type\":\"histogram2dcontour\",\"colorbar\":{\"outlinewidth\":0,\"ticks\":\"\"},\"colorscale\":[[0.0,\"#0d0887\"],[0.1111111111111111,\"#46039f\"],[0.2222222222222222,\"#7201a8\"],[0.3333333333333333,\"#9c179e\"],[0.4444444444444444,\"#bd3786\"],[0.5555555555555556,\"#d8576b\"],[0.6666666666666666,\"#ed7953\"],[0.7777777777777778,\"#fb9f3a\"],[0.8888888888888888,\"#fdca26\"],[1.0,\"#f0f921\"]]}],\"choropleth\":[{\"type\":\"choropleth\",\"colorbar\":{\"outlinewidth\":0,\"ticks\":\"\"}}],\"histogram2d\":[{\"type\":\"histogram2d\",\"colorbar\":{\"outlinewidth\":0,\"ticks\":\"\"},\"colorscale\":[[0.0,\"#0d0887\"],[0.1111111111111111,\"#46039f\"],[0.2222222222222222,\"#7201a8\"],[0.3333333333333333,\"#9c179e\"],[0.4444444444444444,\"#bd3786\"],[0.5555555555555556,\"#d8576b\"],[0.6666666666666666,\"#ed7953\"],[0.7777777777777778,\"#fb9f3a\"],[0.8888888888888888,\"#fdca26\"],[1.0,\"#f0f921\"]]}],\"heatmap\":[{\"type\":\"heatmap\",\"colorbar\":{\"outlinewidth\":0,\"ticks\":\"\"},\"colorscale\":[[0.0,\"#0d0887\"],[0.1111111111111111,\"#46039f\"],[0.2222222222222222,\"#7201a8\"],[0.3333333333333333,\"#9c179e\"],[0.4444444444444444,\"#bd3786\"],[0.5555555555555556,\"#d8576b\"],[0.6666666666666666,\"#ed7953\"],[0.7777777777777778,\"#fb9f3a\"],[0.8888888888888888,\"#fdca26\"],[1.0,\"#f0f921\"]]}],\"heatmapgl\":[{\"type\":\"heatmapgl\",\"colorbar\":{\"outlinewidth\":0,\"ticks\":\"\"},\"colorscale\":[[0.0,\"#0d0887\"],[0.1111111111111111,\"#46039f\"],[0.2222222222222222,\"#7201a8\"],[0.3333333333333333,\"#9c179e\"],[0.4444444444444444,\"#bd3786\"],[0.5555555555555556,\"#d8576b\"],[0.6666666666666666,\"#ed7953\"],[0.7777777777777778,\"#fb9f3a\"],[0.8888888888888888,\"#fdca26\"],[1.0,\"#f0f921\"]]}],\"contourcarpet\":[{\"type\":\"contourcarpet\",\"colorbar\":{\"outlinewidth\":0,\"ticks\":\"\"}}],\"contour\":[{\"type\":\"contour\",\"colorbar\":{\"outlinewidth\":0,\"ticks\":\"\"},\"colorscale\":[[0.0,\"#0d0887\"],[0.1111111111111111,\"#46039f\"],[0.2222222222222222,\"#7201a8\"],[0.3333333333333333,\"#9c179e\"],[0.4444444444444444,\"#bd3786\"],[0.5555555555555556,\"#d8576b\"],[0.6666666666666666,\"#ed7953\"],[0.7777777777777778,\"#fb9f3a\"],[0.8888888888888888,\"#fdca26\"],[1.0,\"#f0f921\"]]}],\"surface\":[{\"type\":\"surface\",\"colorbar\":{\"outlinewidth\":0,\"ticks\":\"\"},\"colorscale\":[[0.0,\"#0d0887\"],[0.1111111111111111,\"#46039f\"],[0.2222222222222222,\"#7201a8\"],[0.3333333333333333,\"#9c179e\"],[0.4444444444444444,\"#bd3786\"],[0.5555555555555556,\"#d8576b\"],[0.6666666666666666,\"#ed7953\"],[0.7777777777777778,\"#fb9f3a\"],[0.8888888888888888,\"#fdca26\"],[1.0,\"#f0f921\"]]}],\"mesh3d\":[{\"type\":\"mesh3d\",\"colorbar\":{\"outlinewidth\":0,\"ticks\":\"\"}}],\"scatter\":[{\"fillpattern\":{\"fillmode\":\"overlay\",\"size\":10,\"solidity\":0.2},\"type\":\"scatter\"}],\"parcoords\":[{\"type\":\"parcoords\",\"line\":{\"colorbar\":{\"outlinewidth\":0,\"ticks\":\"\"}}}],\"scatterpolargl\":[{\"type\":\"scatterpolargl\",\"marker\":{\"colorbar\":{\"outlinewidth\":0,\"ticks\":\"\"}}}],\"bar\":[{\"error_x\":{\"color\":\"#2a3f5f\"},\"error_y\":{\"color\":\"#2a3f5f\"},\"marker\":{\"line\":{\"color\":\"#E5ECF6\",\"width\":0.5},\"pattern\":{\"fillmode\":\"overlay\",\"size\":10,\"solidity\":0.2}},\"type\":\"bar\"}],\"scattergeo\":[{\"type\":\"scattergeo\",\"marker\":{\"colorbar\":{\"outlinewidth\":0,\"ticks\":\"\"}}}],\"scatterpolar\":[{\"type\":\"scatterpolar\",\"marker\":{\"colorbar\":{\"outlinewidth\":0,\"ticks\":\"\"}}}],\"histogram\":[{\"marker\":{\"pattern\":{\"fillmode\":\"overlay\",\"size\":10,\"solidity\":0.2}},\"type\":\"histogram\"}],\"scattergl\":[{\"type\":\"scattergl\",\"marker\":{\"colorbar\":{\"outlinewidth\":0,\"ticks\":\"\"}}}],\"scatter3d\":[{\"type\":\"scatter3d\",\"line\":{\"colorbar\":{\"outlinewidth\":0,\"ticks\":\"\"}},\"marker\":{\"colorbar\":{\"outlinewidth\":0,\"ticks\":\"\"}}}],\"scattermapbox\":[{\"type\":\"scattermapbox\",\"marker\":{\"colorbar\":{\"outlinewidth\":0,\"ticks\":\"\"}}}],\"scatterternary\":[{\"type\":\"scatterternary\",\"marker\":{\"colorbar\":{\"outlinewidth\":0,\"ticks\":\"\"}}}],\"scattercarpet\":[{\"type\":\"scattercarpet\",\"marker\":{\"colorbar\":{\"outlinewidth\":0,\"ticks\":\"\"}}}],\"carpet\":[{\"aaxis\":{\"endlinecolor\":\"#2a3f5f\",\"gridcolor\":\"white\",\"linecolor\":\"white\",\"minorgridcolor\":\"white\",\"startlinecolor\":\"#2a3f5f\"},\"baxis\":{\"endlinecolor\":\"#2a3f5f\",\"gridcolor\":\"white\",\"linecolor\":\"white\",\"minorgridcolor\":\"white\",\"startlinecolor\":\"#2a3f5f\"},\"type\":\"carpet\"}],\"table\":[{\"cells\":{\"fill\":{\"color\":\"#EBF0F8\"},\"line\":{\"color\":\"white\"}},\"header\":{\"fill\":{\"color\":\"#C8D4E3\"},\"line\":{\"color\":\"white\"}},\"type\":\"table\"}],\"barpolar\":[{\"marker\":{\"line\":{\"color\":\"#E5ECF6\",\"width\":0.5},\"pattern\":{\"fillmode\":\"overlay\",\"size\":10,\"solidity\":0.2}},\"type\":\"barpolar\"}],\"pie\":[{\"automargin\":true,\"type\":\"pie\"}]},\"layout\":{\"autotypenumbers\":\"strict\",\"colorway\":[\"#636efa\",\"#EF553B\",\"#00cc96\",\"#ab63fa\",\"#FFA15A\",\"#19d3f3\",\"#FF6692\",\"#B6E880\",\"#FF97FF\",\"#FECB52\"],\"font\":{\"color\":\"#2a3f5f\"},\"hovermode\":\"closest\",\"hoverlabel\":{\"align\":\"left\"},\"paper_bgcolor\":\"white\",\"plot_bgcolor\":\"#E5ECF6\",\"polar\":{\"bgcolor\":\"#E5ECF6\",\"angularaxis\":{\"gridcolor\":\"white\",\"linecolor\":\"white\",\"ticks\":\"\"},\"radialaxis\":{\"gridcolor\":\"white\",\"linecolor\":\"white\",\"ticks\":\"\"}},\"ternary\":{\"bgcolor\":\"#E5ECF6\",\"aaxis\":{\"gridcolor\":\"white\",\"linecolor\":\"white\",\"ticks\":\"\"},\"baxis\":{\"gridcolor\":\"white\",\"linecolor\":\"white\",\"ticks\":\"\"},\"caxis\":{\"gridcolor\":\"white\",\"linecolor\":\"white\",\"ticks\":\"\"}},\"coloraxis\":{\"colorbar\":{\"outlinewidth\":0,\"ticks\":\"\"}},\"colorscale\":{\"sequential\":[[0.0,\"#0d0887\"],[0.1111111111111111,\"#46039f\"],[0.2222222222222222,\"#7201a8\"],[0.3333333333333333,\"#9c179e\"],[0.4444444444444444,\"#bd3786\"],[0.5555555555555556,\"#d8576b\"],[0.6666666666666666,\"#ed7953\"],[0.7777777777777778,\"#fb9f3a\"],[0.8888888888888888,\"#fdca26\"],[1.0,\"#f0f921\"]],\"sequentialminus\":[[0.0,\"#0d0887\"],[0.1111111111111111,\"#46039f\"],[0.2222222222222222,\"#7201a8\"],[0.3333333333333333,\"#9c179e\"],[0.4444444444444444,\"#bd3786\"],[0.5555555555555556,\"#d8576b\"],[0.6666666666666666,\"#ed7953\"],[0.7777777777777778,\"#fb9f3a\"],[0.8888888888888888,\"#fdca26\"],[1.0,\"#f0f921\"]],\"diverging\":[[0,\"#8e0152\"],[0.1,\"#c51b7d\"],[0.2,\"#de77ae\"],[0.3,\"#f1b6da\"],[0.4,\"#fde0ef\"],[0.5,\"#f7f7f7\"],[0.6,\"#e6f5d0\"],[0.7,\"#b8e186\"],[0.8,\"#7fbc41\"],[0.9,\"#4d9221\"],[1,\"#276419\"]]},\"xaxis\":{\"gridcolor\":\"white\",\"linecolor\":\"white\",\"ticks\":\"\",\"title\":{\"standoff\":15},\"zerolinecolor\":\"white\",\"automargin\":true,\"zerolinewidth\":2},\"yaxis\":{\"gridcolor\":\"white\",\"linecolor\":\"white\",\"ticks\":\"\",\"title\":{\"standoff\":15},\"zerolinecolor\":\"white\",\"automargin\":true,\"zerolinewidth\":2},\"scene\":{\"xaxis\":{\"backgroundcolor\":\"#E5ECF6\",\"gridcolor\":\"white\",\"linecolor\":\"white\",\"showbackground\":true,\"ticks\":\"\",\"zerolinecolor\":\"white\",\"gridwidth\":2},\"yaxis\":{\"backgroundcolor\":\"#E5ECF6\",\"gridcolor\":\"white\",\"linecolor\":\"white\",\"showbackground\":true,\"ticks\":\"\",\"zerolinecolor\":\"white\",\"gridwidth\":2},\"zaxis\":{\"backgroundcolor\":\"#E5ECF6\",\"gridcolor\":\"white\",\"linecolor\":\"white\",\"showbackground\":true,\"ticks\":\"\",\"zerolinecolor\":\"white\",\"gridwidth\":2}},\"shapedefaults\":{\"line\":{\"color\":\"#2a3f5f\"}},\"annotationdefaults\":{\"arrowcolor\":\"#2a3f5f\",\"arrowhead\":0,\"arrowwidth\":1},\"geo\":{\"bgcolor\":\"white\",\"landcolor\":\"#E5ECF6\",\"subunitcolor\":\"white\",\"showland\":true,\"showlakes\":true,\"lakecolor\":\"white\"},\"title\":{\"x\":0.05},\"mapbox\":{\"style\":\"light\"}}},\"xaxis\":{\"anchor\":\"y\",\"domain\":[0.0,1.0],\"title\":{\"text\":\"HeadQuarter\"}},\"yaxis\":{\"anchor\":\"x\",\"domain\":[0.0,1.0],\"title\":{\"text\":\"Amount($)\"}},\"legend\":{\"tracegroupgap\":0},\"title\":{\"text\":\"Region has the most startup received amount\"},\"barmode\":\"relative\"},                        {\"responsive\": true}                    ).then(function(){\n",
       "                            \n",
       "var gd = document.getElementById('f90e63ee-bd34-4a24-ac59-a1c629a11ca7');\n",
       "var x = new MutationObserver(function (mutations, observer) {{\n",
       "        var display = window.getComputedStyle(gd).display;\n",
       "        if (!display || display === 'none') {{\n",
       "            console.log([gd, 'removed!']);\n",
       "            Plotly.purge(gd);\n",
       "            observer.disconnect();\n",
       "        }}\n",
       "}});\n",
       "\n",
       "// Listen for the removal of the full notebook cells\n",
       "var notebookContainer = gd.closest('#notebook-container');\n",
       "if (notebookContainer) {{\n",
       "    x.observe(notebookContainer, {childList: true});\n",
       "}}\n",
       "\n",
       "// Listen for the clearing of the current output cell\n",
       "var outputEl = gd.closest('.output');\n",
       "if (outputEl) {{\n",
       "    x.observe(outputEl, {childList: true});\n",
       "}}\n",
       "\n",
       "                        })                };                });            </script>        </div>"
      ]
     },
     "metadata": {},
     "output_type": "display_data"
    }
   ],
   "source": [
    "region_most_startup = final_data_region_most_startups.groupby('HeadQuarter')['Amount($)'].sum().reset_index()\n",
    "fig = px.bar(region_most_startup.sort_values(by=\"Amount($)\",ascending=False).iloc[:10], \n",
    "             x='HeadQuarter', \n",
    "             y='Amount($)', \n",
    "             title='Region has the most startup received amount')\n",
    "fig.show()"
   ]
  },
  {
   "cell_type": "code",
   "execution_count": 147,
   "metadata": {},
   "outputs": [
    {
     "data": {
      "text/html": [
       "<div>\n",
       "<style scoped>\n",
       "    .dataframe tbody tr th:only-of-type {\n",
       "        vertical-align: middle;\n",
       "    }\n",
       "\n",
       "    .dataframe tbody tr th {\n",
       "        vertical-align: top;\n",
       "    }\n",
       "\n",
       "    .dataframe thead th {\n",
       "        text-align: right;\n",
       "    }\n",
       "</style>\n",
       "<table border=\"1\" class=\"dataframe\">\n",
       "  <thead>\n",
       "    <tr style=\"text-align: right;\">\n",
       "      <th></th>\n",
       "      <th>HeadQuarter</th>\n",
       "      <th>Sector</th>\n",
       "      <th>Amount($)</th>\n",
       "    </tr>\n",
       "  </thead>\n",
       "  <tbody>\n",
       "    <tr>\n",
       "      <th>1737</th>\n",
       "      <td>Mumbai</td>\n",
       "      <td>FinTech</td>\n",
       "      <td>150,000,000,000.00</td>\n",
       "    </tr>\n",
       "    <tr>\n",
       "      <th>891</th>\n",
       "      <td>Mumbai</td>\n",
       "      <td>Retail</td>\n",
       "      <td>70,000,000,000.00</td>\n",
       "    </tr>\n",
       "    <tr>\n",
       "      <th>939</th>\n",
       "      <td>Mumbai</td>\n",
       "      <td>Multinational conglomerate company</td>\n",
       "      <td>2,200,000,000.00</td>\n",
       "    </tr>\n",
       "    <tr>\n",
       "      <th>2579</th>\n",
       "      <td>Mumbai</td>\n",
       "      <td>Sports</td>\n",
       "      <td>840,000,000.00</td>\n",
       "    </tr>\n",
       "    <tr>\n",
       "      <th>913</th>\n",
       "      <td>Mumbai</td>\n",
       "      <td>E-commerce</td>\n",
       "      <td>800,000,000.00</td>\n",
       "    </tr>\n",
       "    <tr>\n",
       "      <th>...</th>\n",
       "      <td>...</td>\n",
       "      <td>...</td>\n",
       "      <td>...</td>\n",
       "    </tr>\n",
       "    <tr>\n",
       "      <th>2771</th>\n",
       "      <td>Mumbai</td>\n",
       "      <td>Online Media</td>\n",
       "      <td>NaN</td>\n",
       "    </tr>\n",
       "    <tr>\n",
       "      <th>2792</th>\n",
       "      <td>Mumbai</td>\n",
       "      <td>Logistics &amp; Supply Chain</td>\n",
       "      <td>NaN</td>\n",
       "    </tr>\n",
       "    <tr>\n",
       "      <th>2804</th>\n",
       "      <td>Mumbai</td>\n",
       "      <td>Consumer Electronics</td>\n",
       "      <td>NaN</td>\n",
       "    </tr>\n",
       "    <tr>\n",
       "      <th>2805</th>\n",
       "      <td>Mumbai</td>\n",
       "      <td>EdTech</td>\n",
       "      <td>NaN</td>\n",
       "    </tr>\n",
       "    <tr>\n",
       "      <th>2837</th>\n",
       "      <td>Mumbai</td>\n",
       "      <td>Computer Software</td>\n",
       "      <td>NaN</td>\n",
       "    </tr>\n",
       "  </tbody>\n",
       "</table>\n",
       "<p>467 rows × 3 columns</p>\n",
       "</div>"
      ],
      "text/plain": [
       "     HeadQuarter                              Sector          Amount($)\n",
       "1737      Mumbai                             FinTech 150,000,000,000.00\n",
       "891       Mumbai                              Retail  70,000,000,000.00\n",
       "939       Mumbai  Multinational conglomerate company   2,200,000,000.00\n",
       "2579      Mumbai                              Sports     840,000,000.00\n",
       "913       Mumbai                          E-commerce     800,000,000.00\n",
       "...          ...                                 ...                ...\n",
       "2771      Mumbai                        Online Media                NaN\n",
       "2792      Mumbai            Logistics & Supply Chain                NaN\n",
       "2804      Mumbai                Consumer Electronics                NaN\n",
       "2805      Mumbai                              EdTech                NaN\n",
       "2837      Mumbai                   Computer Software                NaN\n",
       "\n",
       "[467 rows x 3 columns]"
      ]
     },
     "execution_count": 147,
     "metadata": {},
     "output_type": "execute_result"
    }
   ],
   "source": [
    "final_data_region_most_startups[final_data_region_most_startups[\"HeadQuarter\"] ==\"Mumbai\"]\n"
   ]
  },
  {
   "cell_type": "code",
   "execution_count": 148,
   "metadata": {},
   "outputs": [
    {
     "data": {
      "application/vnd.plotly.v1+json": {
       "config": {
        "plotlyServerURL": "https://plot.ly"
       },
       "data": [
        {
         "domain": {
          "x": [
           0,
           1
          ],
          "y": [
           0,
           1
          ]
         },
         "hole": 0.5,
         "hovertemplate": "Sector=%{label}<br>Amount($)=%{value}<extra></extra>",
         "labels": [
          "FinTech",
          "Retail",
          "Multinational conglomerate company",
          "Sports",
          "E-commerce",
          "Insurance",
          "Gaming",
          "Energy",
          "HealthTech",
          "Entertainment",
          "Financial Services",
          "SaaS",
          "Cloud kitchen",
          "Edtech",
          "Foodtech",
          "EdTech",
          "IT & Services",
          "HealthTech",
          "Fantasy Sports",
          "Fashion & Lifestyle",
          "B2B E-commerce",
          "Banking",
          "Health Care",
          "HealthTech",
          "E-commerce",
          "Tech",
          "Venture capitalist",
          "InsureTech",
          "HealthCare",
          "E-commerce",
          "B2B E-commerce",
          "Venture Capital & Private Equity",
          "Food & Beverages",
          "Sports",
          "EdTech",
          "InsureTech",
          "Beauty products",
          "Banking",
          "Car Trade",
          "Banking",
          "FinTech",
          "Food & Beverages",
          "Mobility",
          "E-market",
          "Tech",
          "Continuing Education",
          "D2C",
          "FinTech",
          "Finance",
          "EdTech",
          "EdTech",
          "Credit",
          "EdTech",
          "FinTech",
          "Marketplace",
          "Cosmetics",
          "FinTech",
          "HealthTech",
          "Financial Services",
          "Customer service company",
          "E-commerce",
          "Gaming",
          "Consumer Electronics",
          "Edtech",
          "EdTech",
          "EdTech",
          "FoodTech",
          "EdTech",
          "E-commerce",
          "Fashion",
          "Health",
          "Service industry",
          "Consumer Goods",
          "Beauty products",
          "Infratech",
          "Consumer Electronics",
          "Health",
          "FinTech",
          "Logistics",
          "Retail",
          "Beauty",
          "HealthTech",
          "E-Commerce",
          "FinTech",
          "Renewable Energy",
          "Video",
          "E-commerce",
          "E-learning",
          "EdTech",
          "Financial Services",
          "HealthCare",
          "Manufacturing",
          "SaaS",
          "Food & Beverages",
          "SaaS",
          "Apps",
          "E-commerce",
          "Investment Management",
          "E-commerce",
          "FinTech",
          "IT & Services",
          "Gaming",
          "Computer Software",
          "FinTech",
          "Logistics",
          "Logistics & Supply Chain",
          "FinTech",
          "Financial Services",
          "FinTech",
          "Financial Services",
          "E-learning",
          "FinTech",
          "Consumer appliances",
          "E-commerce",
          "Cosmetics",
          "Apparel & Fashion",
          "FinTech",
          "Consumer Services",
          "E-commerce",
          "Finance",
          "EdTech",
          "EdTech",
          "Fashion",
          "E-commerce",
          "Investment Management",
          "Marketing & Advertising",
          "IT & Services",
          "IT & Services",
          "IT",
          "Transportation",
          "Insurance",
          "HealthTech",
          "IT & Services",
          "FinTech",
          "Tech Startup",
          "Food & Beverages",
          "Real Estate",
          "FinTech",
          "EdTech",
          "Automobile",
          "Food & Beverages",
          "FinTech",
          "Personal Care",
          "Robotics",
          "Air Transportation",
          "FinTech",
          "Financial Services",
          "Media",
          null,
          "Food",
          "HealthCare",
          "HealthCare",
          "FinTech",
          "Cosmetics",
          "Health",
          "Banking",
          "Transportation",
          "B2B",
          "Finance",
          "HealthCare",
          "FinTech",
          "FinTech",
          "IT & Services",
          "FinTech",
          "HealthTech",
          "Delivery",
          "Beauty",
          "Media",
          "Content Marktplace",
          "HealthCare",
          "Analytics",
          "B2B",
          "FinTech",
          "Food and Beverage",
          "FoodTech",
          "D2C Fashion",
          "Retail",
          "Financial Services",
          "FinTech",
          "FinTech",
          "Marketplace",
          "Fashion",
          "Furniture",
          "FinTech",
          null,
          "Automotive",
          "Media",
          "Crowdfunding",
          "FinTech",
          "B2B",
          "HealthTech",
          "Equity Management",
          "Marketing & Advertising",
          "FinTech",
          "Entertainment",
          "FinTech",
          "IT & Services",
          "Fashion",
          "FinTech",
          "Gaming startup",
          "E-commerce",
          "EdTech",
          "EdTech",
          "AI & Media",
          "AI",
          "Personal care startup",
          "FinTech",
          "Cryptocurrency",
          "Financial Services",
          "EdTech",
          "IT",
          "Banking",
          "Automotive",
          "SportsTech",
          "SportsTech",
          "Cosmetics",
          "QSR startup",
          "Sports",
          "EdTech",
          "FinTech",
          "E-commerce",
          "Fitness",
          "EdTech",
          "Bike marketplace",
          "Media",
          "Real Estate",
          "Automotive",
          "Design",
          "Financial Services",
          null,
          "Entertainment",
          "Drone",
          "Creative Agency",
          "Renewable Energy",
          "SaaS",
          "FinTech",
          "Textiles",
          "Health Care",
          "Computer Software",
          "InsureTech",
          "HRTech",
          "FinTech",
          null,
          null,
          "Events",
          "Crypto",
          "Music",
          "Manufacturing startup",
          "Crowdfunding",
          "Pharmacy",
          null,
          "Professional Training & Coaching",
          "Real Estate",
          "FinTech",
          "Internet of Things",
          "Foootwear",
          "Health Care",
          "Insurance Tech",
          "Energy",
          "EdTech",
          "Cloud Kitchen",
          "E-commerce",
          "FemTech",
          "Jewellery",
          "Consumer Goods",
          "Fitness",
          "IT & Services",
          "EdTech",
          "Blockchain",
          "FinTech",
          "Fashion",
          "FinTech",
          "E-Commerce",
          "Hospitality",
          "E-Commerce",
          "E-commerce",
          "Apparel & Fashion",
          "FinTech",
          "Tech Startup",
          "Content publishing",
          "Financial Services",
          "AI",
          "FinTech",
          "Retail",
          "Apps",
          "FinTech",
          "Hospitality",
          "WL & RAC protection",
          "Food & Bevarages",
          "AR startup",
          "Finance",
          "Audio",
          "IT",
          "Blockchain",
          "FinTech",
          "Music",
          "Food Processing",
          "Automotive",
          "E-commerce",
          "Marketing company",
          "Financial Services",
          "SaaS platform",
          "Healthcare",
          "Financial Services",
          "Agriculture",
          "Textiles",
          "Tech Startup",
          "Information Technology",
          "SaaS",
          "Gaming",
          "Innovation Management",
          "Gaming",
          "Logistics",
          "Finance",
          "E-Commerce",
          "HealthCare",
          "Food and Beverage",
          "FinTech",
          "Consumer Goods",
          "Consumer Goods",
          "Education",
          "FinTech",
          "Finance",
          "Consumer Goods",
          "Mobile",
          "Delivery Service",
          "Consumer Goods",
          "E-commerce",
          "Consumer Goods",
          "Entertainment",
          "Sports",
          "E-learning",
          "Fashion",
          "Fashion",
          "Food & Beverages",
          "Computer Games",
          "Content Marktplace",
          "Merchandise",
          "HealthCare",
          "Health",
          "E-commerce",
          "Human Resources",
          "Deeptech",
          "EdTech",
          "Gaming",
          "EdTech",
          "Food and Beverage",
          null,
          "AI",
          "Dental",
          "Consumer Services",
          "Entertainment",
          "EdTech",
          "EdTech",
          "EdTech",
          "Apparel & Fashion",
          "Trading platform",
          "Food and Beverage",
          "Logistics",
          "Tech Startup",
          "Finance",
          "Computer Software",
          "Wealth Management",
          "Advertising",
          "Nutrition Tech",
          "Interior & decor",
          "EdTech",
          "Fashion",
          "Tech",
          "HealthTech",
          "FinTech",
          "Food and Beverage",
          "Information Services",
          "Health Care",
          "Advertising",
          "Health Care",
          "Automotive",
          "Information Services",
          "Hospital",
          "Information Services",
          "Information Technology",
          "Consumer Lending",
          "Automotive",
          "Cloud Computing",
          "Analytics",
          "Internet",
          "Consumer Goods",
          "Apps",
          "Smart Cities",
          "Advertising",
          "Financial Services",
          "Financial Services",
          "Apps",
          "Agriculture",
          "Automotive",
          "Child Care",
          "E-commerce & AR",
          "Games",
          "HealthTech",
          "SaaS",
          "Video streaming platform",
          "Cosmetics",
          "FoodTech",
          "EdTech",
          "HealthTech",
          "EdTech",
          "Healthcare",
          "E-commerce",
          "Social Media",
          "Publication",
          "Education",
          "Healthcare",
          "Gaming",
          "Mental Health",
          "FoodTech",
          "Fashion",
          "Food",
          "Automobile",
          "Health & Wellness",
          "Yoga & wellness",
          "Nutrition",
          "FinTech",
          "InsureTech",
          "Media",
          "Fitness",
          "AI",
          "Automobile",
          "Tech",
          "Food",
          "SaaS",
          "FMCG",
          "E-commerce",
          "EdTech",
          "Food",
          "FinTech",
          "HealthTech",
          "E-commerce",
          "HealthTech",
          "Food & Beverages",
          "HealthTech",
          "HealthTech",
          "Consumer Goods",
          "Food & Beverages",
          "Hospital & Health Care",
          "HealthCare",
          "E-commerce",
          "HealthCare",
          "Fashion & Lifestyle",
          "Advisory firm",
          "EdTech",
          "HealthCare",
          "FinTech",
          "HealthCare",
          "FinTech",
          "Commercial Real Estate",
          "Consumer Services",
          "Tech Startup",
          "FinTech",
          "Crypto",
          "Logistics",
          "Food & Beverages",
          "E-learning",
          "Online Media",
          "Logistics & Supply Chain",
          "Consumer Electronics",
          "EdTech",
          "Computer Software"
         ],
         "legendgroup": "",
         "name": "",
         "showlegend": true,
         "textinfo": "percent+label",
         "textposition": "inside",
         "type": "pie",
         "values": [
          150000000000,
          70000000000,
          2200000000,
          840000000,
          800000000,
          742000000,
          400000000,
          365000000,
          350000000,
          225000000,
          224723200,
          200000000,
          175000000,
          150000000,
          120000000,
          120000000,
          100000000,
          100000000,
          100000000,
          100000000,
          100000000,
          86000000,
          80000000,
          75000000,
          70000000,
          68525000,
          64000000,
          60000000,
          60000000,
          60000000,
          51000000,
          50000000,
          50000000,
          50000000,
          46761000,
          45000000,
          45000000,
          44000000,
          42500000,
          41900000,
          40000000,
          40000000,
          40000000,
          40000000,
          40000000,
          40000000,
          40000000,
          40000000,
          36500000,
          35000000,
          35000000,
          30000000,
          30000000,
          30000000,
          30000000,
          30000000,
          30000000,
          30000000,
          30000000,
          30000000,
          30000000,
          30000000,
          28000000,
          28000000,
          28000000,
          28000000,
          26500000,
          25000000,
          25000000,
          24700000,
          24000000,
          23000000,
          20000000,
          20000000,
          20000000,
          20000000,
          20000000,
          18500000,
          18370000,
          18000000,
          16498000,
          16000000,
          15000000,
          15000000,
          15000000,
          15000000,
          13137000,
          13000000,
          12618300,
          12000000,
          12000000,
          11370000,
          11370000,
          11000000,
          11000000,
          11000000,
          10220000,
          10000000,
          10000000,
          10000000,
          10000000,
          10000000,
          10000000,
          10000000,
          10000000,
          10000000,
          10000000,
          10000000,
          10000000,
          10000000,
          10000000,
          10000000,
          9000000,
          8800000,
          8000000,
          8000000,
          8000000,
          8000000,
          8000000,
          7700000,
          7500000,
          7500000,
          7446000,
          7400000,
          7000000,
          7000000,
          7000000,
          7000000,
          7000000,
          7000000,
          6700000,
          6609000,
          6200000,
          6000000,
          6000000,
          6000000,
          6000000,
          6000000,
          6000000,
          6000000,
          6000000,
          6000000,
          6000000,
          6000000,
          6000000,
          5500000,
          5500000,
          5500000,
          5500000,
          5305000,
          5200000,
          5000000,
          5000000,
          5000000,
          5000000,
          5000000,
          5000000,
          5000000,
          5000000,
          5000000,
          5000000,
          4800000,
          4700000,
          4500000,
          4500000,
          4500000,
          4327000,
          4300000,
          4200000,
          4000000,
          4000000,
          4000000,
          4000000,
          4000000,
          4000000,
          4000000,
          4000000,
          4000000,
          4000000,
          3937000,
          3900000,
          3854400,
          3800000,
          3800000,
          3700000,
          3600000,
          3500000,
          3500000,
          3500000,
          3344000,
          3000000,
          3000000,
          3000000,
          3000000,
          3000000,
          3000000,
          3000000,
          3000000,
          3000000,
          3000000,
          3000000,
          3000000,
          3000000,
          3000000,
          3000000,
          2900000,
          2700000,
          2500000,
          2400000,
          2300000,
          2110000,
          2044000,
          2000000,
          2000000,
          2000000,
          2000000,
          2000000,
          2000000,
          2000000,
          2000000,
          2000000,
          2000000,
          2000000,
          2000000,
          2000000,
          2000000,
          2000000,
          2000000,
          2000000,
          2000000,
          2000000,
          2000000,
          2000000,
          2000000,
          2000000,
          2000000,
          2000000,
          1971000,
          1900000,
          1700000,
          1700000,
          1700000,
          1600000,
          1518400,
          1500000,
          1500000,
          1500000,
          1500000,
          1460000,
          1400000,
          1300000,
          1200000,
          1200000,
          1200000,
          1100000,
          1100000,
          1051200,
          1050000,
          1041000,
          1000000,
          1000000,
          1000000,
          1000000,
          1000000,
          1000000,
          1000000,
          1000000,
          1000000,
          1000000,
          1000000,
          1000000,
          1000000,
          1000000,
          1000000,
          1000000,
          1000000,
          1000000,
          1000000,
          1000000,
          1000000,
          1000000,
          1000000,
          1000000,
          1000000,
          1000000,
          1000000,
          1000000,
          900000,
          800000,
          800000,
          800000,
          800000,
          800000,
          750000,
          750000,
          750000,
          730000,
          730000,
          720000,
          700000,
          650000,
          600000,
          600000,
          584000,
          584000,
          570000,
          560000,
          511000,
          500000,
          500000,
          500000,
          500000,
          500000,
          500000,
          500000,
          500000,
          500000,
          500000,
          500000,
          500000,
          500000,
          500000,
          500000,
          500000,
          500000,
          481800,
          467200,
          409000,
          400000,
          400000,
          400000,
          400000,
          400000,
          340000,
          340000,
          320000,
          306900,
          300000,
          300000,
          300000,
          300000,
          300000,
          300000,
          300000,
          300000,
          300000,
          292000,
          250000,
          220000,
          200000,
          200000,
          200000,
          200000,
          200000,
          200000,
          200000,
          200000,
          182500,
          160000,
          150000,
          150000,
          150000,
          150000,
          146000,
          133000,
          100000,
          100000,
          43000,
          40900,
          12700,
          12700,
          7500,
          null,
          null,
          null,
          null,
          null,
          null,
          null,
          null,
          null,
          null,
          null,
          null,
          null,
          null,
          null,
          null,
          null,
          null,
          null,
          null,
          null,
          null,
          null,
          null,
          null,
          null,
          null,
          null,
          null,
          null,
          null,
          null,
          null,
          null,
          null,
          null,
          null,
          null,
          null,
          null,
          null,
          null,
          null,
          null,
          null,
          null,
          null,
          null,
          null,
          null,
          null,
          null,
          null,
          null,
          null,
          null,
          null,
          null,
          null,
          null,
          null,
          null,
          null,
          null,
          null,
          null,
          null,
          null,
          null,
          null,
          null,
          null,
          null,
          null,
          null,
          null,
          null,
          null,
          null,
          null,
          null,
          null,
          null,
          null,
          null,
          null,
          null,
          null,
          null,
          null,
          null,
          null,
          null,
          null,
          null
         ]
        }
       ],
       "layout": {
        "legend": {
         "tracegroupgap": 0
        },
        "margin": {
         "t": 60
        },
        "piecolorway": [
         "rgb(102, 197, 204)",
         "rgb(246, 207, 113)",
         "rgb(248, 156, 116)",
         "rgb(220, 176, 242)",
         "rgb(135, 197, 95)",
         "rgb(158, 185, 243)",
         "rgb(254, 136, 177)",
         "rgb(201, 219, 116)",
         "rgb(139, 224, 164)",
         "rgb(180, 151, 231)",
         "rgb(179, 179, 179)"
        ],
        "template": {
         "data": {
          "bar": [
           {
            "error_x": {
             "color": "#2a3f5f"
            },
            "error_y": {
             "color": "#2a3f5f"
            },
            "marker": {
             "line": {
              "color": "#E5ECF6",
              "width": 0.5
             },
             "pattern": {
              "fillmode": "overlay",
              "size": 10,
              "solidity": 0.2
             }
            },
            "type": "bar"
           }
          ],
          "barpolar": [
           {
            "marker": {
             "line": {
              "color": "#E5ECF6",
              "width": 0.5
             },
             "pattern": {
              "fillmode": "overlay",
              "size": 10,
              "solidity": 0.2
             }
            },
            "type": "barpolar"
           }
          ],
          "carpet": [
           {
            "aaxis": {
             "endlinecolor": "#2a3f5f",
             "gridcolor": "white",
             "linecolor": "white",
             "minorgridcolor": "white",
             "startlinecolor": "#2a3f5f"
            },
            "baxis": {
             "endlinecolor": "#2a3f5f",
             "gridcolor": "white",
             "linecolor": "white",
             "minorgridcolor": "white",
             "startlinecolor": "#2a3f5f"
            },
            "type": "carpet"
           }
          ],
          "choropleth": [
           {
            "colorbar": {
             "outlinewidth": 0,
             "ticks": ""
            },
            "type": "choropleth"
           }
          ],
          "contour": [
           {
            "colorbar": {
             "outlinewidth": 0,
             "ticks": ""
            },
            "colorscale": [
             [
              0,
              "#0d0887"
             ],
             [
              0.1111111111111111,
              "#46039f"
             ],
             [
              0.2222222222222222,
              "#7201a8"
             ],
             [
              0.3333333333333333,
              "#9c179e"
             ],
             [
              0.4444444444444444,
              "#bd3786"
             ],
             [
              0.5555555555555556,
              "#d8576b"
             ],
             [
              0.6666666666666666,
              "#ed7953"
             ],
             [
              0.7777777777777778,
              "#fb9f3a"
             ],
             [
              0.8888888888888888,
              "#fdca26"
             ],
             [
              1,
              "#f0f921"
             ]
            ],
            "type": "contour"
           }
          ],
          "contourcarpet": [
           {
            "colorbar": {
             "outlinewidth": 0,
             "ticks": ""
            },
            "type": "contourcarpet"
           }
          ],
          "heatmap": [
           {
            "colorbar": {
             "outlinewidth": 0,
             "ticks": ""
            },
            "colorscale": [
             [
              0,
              "#0d0887"
             ],
             [
              0.1111111111111111,
              "#46039f"
             ],
             [
              0.2222222222222222,
              "#7201a8"
             ],
             [
              0.3333333333333333,
              "#9c179e"
             ],
             [
              0.4444444444444444,
              "#bd3786"
             ],
             [
              0.5555555555555556,
              "#d8576b"
             ],
             [
              0.6666666666666666,
              "#ed7953"
             ],
             [
              0.7777777777777778,
              "#fb9f3a"
             ],
             [
              0.8888888888888888,
              "#fdca26"
             ],
             [
              1,
              "#f0f921"
             ]
            ],
            "type": "heatmap"
           }
          ],
          "heatmapgl": [
           {
            "colorbar": {
             "outlinewidth": 0,
             "ticks": ""
            },
            "colorscale": [
             [
              0,
              "#0d0887"
             ],
             [
              0.1111111111111111,
              "#46039f"
             ],
             [
              0.2222222222222222,
              "#7201a8"
             ],
             [
              0.3333333333333333,
              "#9c179e"
             ],
             [
              0.4444444444444444,
              "#bd3786"
             ],
             [
              0.5555555555555556,
              "#d8576b"
             ],
             [
              0.6666666666666666,
              "#ed7953"
             ],
             [
              0.7777777777777778,
              "#fb9f3a"
             ],
             [
              0.8888888888888888,
              "#fdca26"
             ],
             [
              1,
              "#f0f921"
             ]
            ],
            "type": "heatmapgl"
           }
          ],
          "histogram": [
           {
            "marker": {
             "pattern": {
              "fillmode": "overlay",
              "size": 10,
              "solidity": 0.2
             }
            },
            "type": "histogram"
           }
          ],
          "histogram2d": [
           {
            "colorbar": {
             "outlinewidth": 0,
             "ticks": ""
            },
            "colorscale": [
             [
              0,
              "#0d0887"
             ],
             [
              0.1111111111111111,
              "#46039f"
             ],
             [
              0.2222222222222222,
              "#7201a8"
             ],
             [
              0.3333333333333333,
              "#9c179e"
             ],
             [
              0.4444444444444444,
              "#bd3786"
             ],
             [
              0.5555555555555556,
              "#d8576b"
             ],
             [
              0.6666666666666666,
              "#ed7953"
             ],
             [
              0.7777777777777778,
              "#fb9f3a"
             ],
             [
              0.8888888888888888,
              "#fdca26"
             ],
             [
              1,
              "#f0f921"
             ]
            ],
            "type": "histogram2d"
           }
          ],
          "histogram2dcontour": [
           {
            "colorbar": {
             "outlinewidth": 0,
             "ticks": ""
            },
            "colorscale": [
             [
              0,
              "#0d0887"
             ],
             [
              0.1111111111111111,
              "#46039f"
             ],
             [
              0.2222222222222222,
              "#7201a8"
             ],
             [
              0.3333333333333333,
              "#9c179e"
             ],
             [
              0.4444444444444444,
              "#bd3786"
             ],
             [
              0.5555555555555556,
              "#d8576b"
             ],
             [
              0.6666666666666666,
              "#ed7953"
             ],
             [
              0.7777777777777778,
              "#fb9f3a"
             ],
             [
              0.8888888888888888,
              "#fdca26"
             ],
             [
              1,
              "#f0f921"
             ]
            ],
            "type": "histogram2dcontour"
           }
          ],
          "mesh3d": [
           {
            "colorbar": {
             "outlinewidth": 0,
             "ticks": ""
            },
            "type": "mesh3d"
           }
          ],
          "parcoords": [
           {
            "line": {
             "colorbar": {
              "outlinewidth": 0,
              "ticks": ""
             }
            },
            "type": "parcoords"
           }
          ],
          "pie": [
           {
            "automargin": true,
            "type": "pie"
           }
          ],
          "scatter": [
           {
            "fillpattern": {
             "fillmode": "overlay",
             "size": 10,
             "solidity": 0.2
            },
            "type": "scatter"
           }
          ],
          "scatter3d": [
           {
            "line": {
             "colorbar": {
              "outlinewidth": 0,
              "ticks": ""
             }
            },
            "marker": {
             "colorbar": {
              "outlinewidth": 0,
              "ticks": ""
             }
            },
            "type": "scatter3d"
           }
          ],
          "scattercarpet": [
           {
            "marker": {
             "colorbar": {
              "outlinewidth": 0,
              "ticks": ""
             }
            },
            "type": "scattercarpet"
           }
          ],
          "scattergeo": [
           {
            "marker": {
             "colorbar": {
              "outlinewidth": 0,
              "ticks": ""
             }
            },
            "type": "scattergeo"
           }
          ],
          "scattergl": [
           {
            "marker": {
             "colorbar": {
              "outlinewidth": 0,
              "ticks": ""
             }
            },
            "type": "scattergl"
           }
          ],
          "scattermapbox": [
           {
            "marker": {
             "colorbar": {
              "outlinewidth": 0,
              "ticks": ""
             }
            },
            "type": "scattermapbox"
           }
          ],
          "scatterpolar": [
           {
            "marker": {
             "colorbar": {
              "outlinewidth": 0,
              "ticks": ""
             }
            },
            "type": "scatterpolar"
           }
          ],
          "scatterpolargl": [
           {
            "marker": {
             "colorbar": {
              "outlinewidth": 0,
              "ticks": ""
             }
            },
            "type": "scatterpolargl"
           }
          ],
          "scatterternary": [
           {
            "marker": {
             "colorbar": {
              "outlinewidth": 0,
              "ticks": ""
             }
            },
            "type": "scatterternary"
           }
          ],
          "surface": [
           {
            "colorbar": {
             "outlinewidth": 0,
             "ticks": ""
            },
            "colorscale": [
             [
              0,
              "#0d0887"
             ],
             [
              0.1111111111111111,
              "#46039f"
             ],
             [
              0.2222222222222222,
              "#7201a8"
             ],
             [
              0.3333333333333333,
              "#9c179e"
             ],
             [
              0.4444444444444444,
              "#bd3786"
             ],
             [
              0.5555555555555556,
              "#d8576b"
             ],
             [
              0.6666666666666666,
              "#ed7953"
             ],
             [
              0.7777777777777778,
              "#fb9f3a"
             ],
             [
              0.8888888888888888,
              "#fdca26"
             ],
             [
              1,
              "#f0f921"
             ]
            ],
            "type": "surface"
           }
          ],
          "table": [
           {
            "cells": {
             "fill": {
              "color": "#EBF0F8"
             },
             "line": {
              "color": "white"
             }
            },
            "header": {
             "fill": {
              "color": "#C8D4E3"
             },
             "line": {
              "color": "white"
             }
            },
            "type": "table"
           }
          ]
         },
         "layout": {
          "annotationdefaults": {
           "arrowcolor": "#2a3f5f",
           "arrowhead": 0,
           "arrowwidth": 1
          },
          "autotypenumbers": "strict",
          "coloraxis": {
           "colorbar": {
            "outlinewidth": 0,
            "ticks": ""
           }
          },
          "colorscale": {
           "diverging": [
            [
             0,
             "#8e0152"
            ],
            [
             0.1,
             "#c51b7d"
            ],
            [
             0.2,
             "#de77ae"
            ],
            [
             0.3,
             "#f1b6da"
            ],
            [
             0.4,
             "#fde0ef"
            ],
            [
             0.5,
             "#f7f7f7"
            ],
            [
             0.6,
             "#e6f5d0"
            ],
            [
             0.7,
             "#b8e186"
            ],
            [
             0.8,
             "#7fbc41"
            ],
            [
             0.9,
             "#4d9221"
            ],
            [
             1,
             "#276419"
            ]
           ],
           "sequential": [
            [
             0,
             "#0d0887"
            ],
            [
             0.1111111111111111,
             "#46039f"
            ],
            [
             0.2222222222222222,
             "#7201a8"
            ],
            [
             0.3333333333333333,
             "#9c179e"
            ],
            [
             0.4444444444444444,
             "#bd3786"
            ],
            [
             0.5555555555555556,
             "#d8576b"
            ],
            [
             0.6666666666666666,
             "#ed7953"
            ],
            [
             0.7777777777777778,
             "#fb9f3a"
            ],
            [
             0.8888888888888888,
             "#fdca26"
            ],
            [
             1,
             "#f0f921"
            ]
           ],
           "sequentialminus": [
            [
             0,
             "#0d0887"
            ],
            [
             0.1111111111111111,
             "#46039f"
            ],
            [
             0.2222222222222222,
             "#7201a8"
            ],
            [
             0.3333333333333333,
             "#9c179e"
            ],
            [
             0.4444444444444444,
             "#bd3786"
            ],
            [
             0.5555555555555556,
             "#d8576b"
            ],
            [
             0.6666666666666666,
             "#ed7953"
            ],
            [
             0.7777777777777778,
             "#fb9f3a"
            ],
            [
             0.8888888888888888,
             "#fdca26"
            ],
            [
             1,
             "#f0f921"
            ]
           ]
          },
          "colorway": [
           "#636efa",
           "#EF553B",
           "#00cc96",
           "#ab63fa",
           "#FFA15A",
           "#19d3f3",
           "#FF6692",
           "#B6E880",
           "#FF97FF",
           "#FECB52"
          ],
          "font": {
           "color": "#2a3f5f"
          },
          "geo": {
           "bgcolor": "white",
           "lakecolor": "white",
           "landcolor": "#E5ECF6",
           "showlakes": true,
           "showland": true,
           "subunitcolor": "white"
          },
          "hoverlabel": {
           "align": "left"
          },
          "hovermode": "closest",
          "mapbox": {
           "style": "light"
          },
          "paper_bgcolor": "white",
          "plot_bgcolor": "#E5ECF6",
          "polar": {
           "angularaxis": {
            "gridcolor": "white",
            "linecolor": "white",
            "ticks": ""
           },
           "bgcolor": "#E5ECF6",
           "radialaxis": {
            "gridcolor": "white",
            "linecolor": "white",
            "ticks": ""
           }
          },
          "scene": {
           "xaxis": {
            "backgroundcolor": "#E5ECF6",
            "gridcolor": "white",
            "gridwidth": 2,
            "linecolor": "white",
            "showbackground": true,
            "ticks": "",
            "zerolinecolor": "white"
           },
           "yaxis": {
            "backgroundcolor": "#E5ECF6",
            "gridcolor": "white",
            "gridwidth": 2,
            "linecolor": "white",
            "showbackground": true,
            "ticks": "",
            "zerolinecolor": "white"
           },
           "zaxis": {
            "backgroundcolor": "#E5ECF6",
            "gridcolor": "white",
            "gridwidth": 2,
            "linecolor": "white",
            "showbackground": true,
            "ticks": "",
            "zerolinecolor": "white"
           }
          },
          "shapedefaults": {
           "line": {
            "color": "#2a3f5f"
           }
          },
          "ternary": {
           "aaxis": {
            "gridcolor": "white",
            "linecolor": "white",
            "ticks": ""
           },
           "baxis": {
            "gridcolor": "white",
            "linecolor": "white",
            "ticks": ""
           },
           "bgcolor": "#E5ECF6",
           "caxis": {
            "gridcolor": "white",
            "linecolor": "white",
            "ticks": ""
           }
          },
          "title": {
           "x": 0.05
          },
          "xaxis": {
           "automargin": true,
           "gridcolor": "white",
           "linecolor": "white",
           "ticks": "",
           "title": {
            "standoff": 15
           },
           "zerolinecolor": "white",
           "zerolinewidth": 2
          },
          "yaxis": {
           "automargin": true,
           "gridcolor": "white",
           "linecolor": "white",
           "ticks": "",
           "title": {
            "standoff": 15
           },
           "zerolinecolor": "white",
           "zerolinewidth": 2
          }
         }
        },
        "title": {
         "font": {
          "size": 24
         },
         "text": "Distribution of startups in Mumbai by sector"
        }
       }
      },
      "text/html": [
       "<div>                            <div id=\"ceb989e2-ba2d-4a38-9fc0-87324ceaebc8\" class=\"plotly-graph-div\" style=\"height:525px; width:100%;\"></div>            <script type=\"text/javascript\">                require([\"plotly\"], function(Plotly) {                    window.PLOTLYENV=window.PLOTLYENV || {};                                    if (document.getElementById(\"ceb989e2-ba2d-4a38-9fc0-87324ceaebc8\")) {                    Plotly.newPlot(                        \"ceb989e2-ba2d-4a38-9fc0-87324ceaebc8\",                        [{\"domain\":{\"x\":[0.0,1.0],\"y\":[0.0,1.0]},\"hole\":0.5,\"hovertemplate\":\"Sector=%{label}\\u003cbr\\u003eAmount($)=%{value}\\u003cextra\\u003e\\u003c\\u002fextra\\u003e\",\"labels\":[\"FinTech\",\"Retail\",\"Multinational conglomerate company\",\"Sports\",\"E-commerce\",\"Insurance\",\"Gaming\",\"Energy\",\"HealthTech\",\"Entertainment\",\"Financial Services\",\"SaaS\",\"Cloud kitchen\",\"Edtech\",\"Foodtech\",\"EdTech\",\"IT & Services\",\"HealthTech\",\"Fantasy Sports\",\"Fashion & Lifestyle\",\"B2B E-commerce\",\"Banking\",\"Health Care\",\"HealthTech\",\"E-commerce\",\"Tech\",\"Venture capitalist\",\"InsureTech\",\"HealthCare\",\"E-commerce\",\"B2B E-commerce\",\"Venture Capital & Private Equity\",\"Food & Beverages\",\"Sports\",\"EdTech\",\"InsureTech\",\"Beauty products\",\"Banking\",\"Car Trade\",\"Banking\",\"FinTech\",\"Food & Beverages\",\"Mobility\",\"E-market\",\"Tech\",\"Continuing Education\",\"D2C\",\"FinTech\",\"Finance\",\"EdTech\",\"EdTech\",\"Credit\",\"EdTech\",\"FinTech\",\"Marketplace\",\"Cosmetics\",\"FinTech\",\"HealthTech\",\"Financial Services\",\"Customer service company\",\"E-commerce\",\"Gaming\",\"Consumer Electronics\",\"Edtech\",\"EdTech\",\"EdTech\",\"FoodTech\",\"EdTech\",\"E-commerce\",\"Fashion\",\"Health\",\"Service industry\",\"Consumer Goods\",\"Beauty products\",\"Infratech\",\"Consumer Electronics\",\"Health\",\"FinTech\",\"Logistics\",\"Retail\",\"Beauty\",\"HealthTech\",\"E-Commerce\",\"FinTech\",\"Renewable Energy\",\"Video\",\"E-commerce\",\"E-learning\",\"EdTech\",\"Financial Services\",\"HealthCare\",\"Manufacturing\",\"SaaS\",\"Food & Beverages\",\"SaaS\",\"Apps\",\"E-commerce\",\"Investment Management\",\"E-commerce\",\"FinTech\",\"IT & Services\",\"Gaming\",\"Computer Software\",\"FinTech\",\"Logistics\",\"Logistics & Supply Chain\",\"FinTech\",\"Financial Services\",\"FinTech\",\"Financial Services\",\"E-learning\",\"FinTech\",\"Consumer appliances\",\"E-commerce\",\"Cosmetics\",\"Apparel & Fashion\",\"FinTech\",\"Consumer Services\",\"E-commerce\",\"Finance\",\"EdTech\",\"EdTech\",\"Fashion\",\"E-commerce\",\"Investment Management\",\"Marketing & Advertising\",\"IT & Services\",\"IT & Services\",\"IT\",\"Transportation\",\"Insurance\",\"HealthTech\",\"IT & Services\",\"FinTech\",\"Tech Startup\",\"Food & Beverages\",\"Real Estate\",\"FinTech\",\"EdTech\",\"Automobile\",\"Food & Beverages\",\"FinTech\",\"Personal Care\",\"Robotics\",\"Air Transportation\",\"FinTech\",\"Financial Services\",\"Media\",null,\"Food\",\"HealthCare\",\"HealthCare\",\"FinTech\",\"Cosmetics\",\"Health\",\"Banking\",\"Transportation\",\"B2B\",\"Finance\",\"HealthCare\",\"FinTech\",\"FinTech\",\"IT & Services\",\"FinTech\",\"HealthTech\",\"Delivery\",\"Beauty\",\"Media\",\"Content Marktplace\",\"HealthCare\",\"Analytics\",\"B2B\",\"FinTech\",\"Food and Beverage\",\"FoodTech\",\"D2C Fashion\",\"Retail\",\"Financial Services\",\"FinTech\",\"FinTech\",\"Marketplace\",\"Fashion\",\"Furniture\",\"FinTech\",null,\"Automotive\",\"Media\",\"Crowdfunding\",\"FinTech\",\"B2B\",\"HealthTech\",\"Equity Management\",\"Marketing & Advertising\",\"FinTech\",\"Entertainment\",\"FinTech\",\"IT & Services\",\"Fashion\",\"FinTech\",\"Gaming startup\",\"E-commerce\",\"EdTech\",\"EdTech\",\"AI & Media\",\"AI\",\"Personal care startup\",\"FinTech\",\"Cryptocurrency\",\"Financial Services\",\"EdTech\",\"IT\",\"Banking\",\"Automotive\",\"SportsTech\",\"SportsTech\",\"Cosmetics\",\"QSR startup\",\"Sports\",\"EdTech\",\"FinTech\",\"E-commerce\",\"Fitness\",\"EdTech\",\"Bike marketplace\",\"Media\",\"Real Estate\",\"Automotive\",\"Design\",\"Financial Services\",null,\"Entertainment\",\"Drone\",\"Creative Agency\",\"Renewable Energy\",\"SaaS\",\"FinTech\",\"Textiles\",\"Health Care\",\"Computer Software\",\"InsureTech\",\"HRTech\",\"FinTech\",null,null,\"Events\",\"Crypto\",\"Music\",\"Manufacturing startup\",\"Crowdfunding\",\"Pharmacy\",null,\"Professional Training & Coaching\",\"Real Estate\",\"FinTech\",\"Internet of Things\",\"Foootwear\",\"Health Care\",\"Insurance Tech\",\"Energy\",\"EdTech\",\"Cloud Kitchen\",\"E-commerce\",\"FemTech\",\"Jewellery\",\"Consumer Goods\",\"Fitness\",\"IT & Services\",\"EdTech\",\"Blockchain\",\"FinTech\",\"Fashion\",\"FinTech\",\"E-Commerce\",\"Hospitality\",\"E-Commerce\",\"E-commerce\",\"Apparel & Fashion\",\"FinTech\",\"Tech Startup\",\"Content publishing\",\"Financial Services\",\"AI\",\"FinTech\",\"Retail\",\"Apps\",\"FinTech\",\"Hospitality\",\"WL & RAC protection\",\"Food & Bevarages\",\"AR startup\",\"Finance\",\"Audio\",\"IT\",\"Blockchain\",\"FinTech\",\"Music\",\"Food Processing\",\"Automotive\",\"E-commerce\",\"Marketing company\",\"Financial Services\",\"SaaS platform\",\"Healthcare\",\"Financial Services\",\"Agriculture\",\"Textiles\",\"Tech Startup\",\"Information Technology\",\"SaaS\",\"Gaming\",\"Innovation Management\",\"Gaming\",\"Logistics\",\"Finance\",\"E-Commerce\",\"HealthCare\",\"Food and Beverage\",\"FinTech\",\"Consumer Goods\",\"Consumer Goods\",\"Education\",\"FinTech\",\"Finance\",\"Consumer Goods\",\"Mobile\",\"Delivery Service\",\"Consumer Goods\",\"E-commerce\",\"Consumer Goods\",\"Entertainment\",\"Sports\",\"E-learning\",\"Fashion\",\"Fashion\",\"Food & Beverages\",\"Computer Games\",\"Content Marktplace\",\"Merchandise\",\"HealthCare\",\"Health\",\"E-commerce\",\"Human Resources\",\"Deeptech\",\"EdTech\",\"Gaming\",\"EdTech\",\"Food and Beverage\",null,\"AI\",\"Dental\",\"Consumer Services\",\"Entertainment\",\"EdTech\",\"EdTech\",\"EdTech\",\"Apparel & Fashion\",\"Trading platform\",\"Food and Beverage\",\"Logistics\",\"Tech Startup\",\"Finance\",\"Computer Software\",\"Wealth Management\",\"Advertising\",\"Nutrition Tech\",\"Interior & decor\",\"EdTech\",\"Fashion\",\"Tech\",\"HealthTech\",\"FinTech\",\"Food and Beverage\",\"Information Services\",\"Health Care\",\"Advertising\",\"Health Care\",\"Automotive\",\"Information Services\",\"Hospital\",\"Information Services\",\"Information Technology\",\"Consumer Lending\",\"Automotive\",\"Cloud Computing\",\"Analytics\",\"Internet\",\"Consumer Goods\",\"Apps\",\"Smart Cities\",\"Advertising\",\"Financial Services\",\"Financial Services\",\"Apps\",\"Agriculture\",\"Automotive\",\"Child Care\",\"E-commerce & AR\",\"Games\",\"HealthTech\",\"SaaS\",\"Video streaming platform\",\"Cosmetics\",\"FoodTech\",\"EdTech\",\"HealthTech\",\"EdTech\",\"Healthcare\",\"E-commerce\",\"Social Media\",\"Publication\",\"Education\",\"Healthcare\",\"Gaming\",\"Mental Health\",\"FoodTech\",\"Fashion\",\"Food\",\"Automobile\",\"Health & Wellness\",\"Yoga & wellness\",\"Nutrition\",\"FinTech\",\"InsureTech\",\"Media\",\"Fitness\",\"AI\",\"Automobile\",\"Tech\",\"Food\",\"SaaS\",\"FMCG\",\"E-commerce\",\"EdTech\",\"Food\",\"FinTech\",\"HealthTech\",\"E-commerce\",\"HealthTech\",\"Food & Beverages\",\"HealthTech\",\"HealthTech\",\"Consumer Goods\",\"Food & Beverages\",\"Hospital & Health Care\",\"HealthCare\",\"E-commerce\",\"HealthCare\",\"Fashion & Lifestyle\",\"Advisory firm\",\"EdTech\",\"HealthCare\",\"FinTech\",\"HealthCare\",\"FinTech\",\"Commercial Real Estate\",\"Consumer Services\",\"Tech Startup\",\"FinTech\",\"Crypto\",\"Logistics\",\"Food & Beverages\",\"E-learning\",\"Online Media\",\"Logistics & Supply Chain\",\"Consumer Electronics\",\"EdTech\",\"Computer Software\"],\"legendgroup\":\"\",\"name\":\"\",\"showlegend\":true,\"values\":[150000000000.0,70000000000.0,2200000000.0,840000000.0,800000000.0,742000000.0,400000000.0,365000000.0,350000000.0,225000000.0,224723200.0,200000000.0,175000000.0,150000000.0,120000000.0,120000000.0,100000000.0,100000000.0,100000000.0,100000000.0,100000000.0,86000000.0,80000000.0,75000000.0,70000000.0,68525000.0,64000000.0,60000000.0,60000000.0,60000000.0,51000000.0,50000000.0,50000000.0,50000000.0,46761000.0,45000000.0,45000000.0,44000000.0,42500000.0,41900000.0,40000000.0,40000000.0,40000000.0,40000000.0,40000000.0,40000000.0,40000000.0,40000000.0,36500000.0,35000000.0,35000000.0,30000000.0,30000000.0,30000000.0,30000000.0,30000000.0,30000000.0,30000000.0,30000000.0,30000000.0,30000000.0,30000000.0,28000000.0,28000000.0,28000000.0,28000000.0,26500000.0,25000000.0,25000000.0,24700000.0,24000000.0,23000000.0,20000000.0,20000000.0,20000000.0,20000000.0,20000000.0,18500000.0,18370000.0,18000000.0,16498000.0,16000000.0,15000000.0,15000000.0,15000000.0,15000000.0,13137000.0,13000000.0,12618300.0,12000000.0,12000000.0,11370000.0,11370000.0,11000000.0,11000000.0,11000000.0,10220000.0,10000000.0,10000000.0,10000000.0,10000000.0,10000000.0,10000000.0,10000000.0,10000000.0,10000000.0,10000000.0,10000000.0,10000000.0,10000000.0,10000000.0,10000000.0,9000000.0,8800000.0,8000000.0,8000000.0,8000000.0,8000000.0,8000000.0,7700000.0,7500000.0,7500000.0,7446000.0,7400000.0,7000000.0,7000000.0,7000000.0,7000000.0,7000000.0,7000000.0,6700000.0,6609000.0,6200000.0,6000000.0,6000000.0,6000000.0,6000000.0,6000000.0,6000000.0,6000000.0,6000000.0,6000000.0,6000000.0,6000000.0,6000000.0,5500000.0,5500000.0,5500000.0,5500000.0,5305000.0,5200000.0,5000000.0,5000000.0,5000000.0,5000000.0,5000000.0,5000000.0,5000000.0,5000000.0,5000000.0,5000000.0,4800000.0,4700000.0,4500000.0,4500000.0,4500000.0,4327000.0,4300000.0,4200000.0,4000000.0,4000000.0,4000000.0,4000000.0,4000000.0,4000000.0,4000000.0,4000000.0,4000000.0,4000000.0,3937000.0,3900000.0,3854400.0,3800000.0,3800000.0,3700000.0,3600000.0,3500000.0,3500000.0,3500000.0,3344000.0,3000000.0,3000000.0,3000000.0,3000000.0,3000000.0,3000000.0,3000000.0,3000000.0,3000000.0,3000000.0,3000000.0,3000000.0,3000000.0,3000000.0,3000000.0,2900000.0,2700000.0,2500000.0,2400000.0,2300000.0,2110000.0,2044000.0,2000000.0,2000000.0,2000000.0,2000000.0,2000000.0,2000000.0,2000000.0,2000000.0,2000000.0,2000000.0,2000000.0,2000000.0,2000000.0,2000000.0,2000000.0,2000000.0,2000000.0,2000000.0,2000000.0,2000000.0,2000000.0,2000000.0,2000000.0,2000000.0,2000000.0,1971000.0,1900000.0,1700000.0,1700000.0,1700000.0,1600000.0,1518400.0,1500000.0,1500000.0,1500000.0,1500000.0,1460000.0,1400000.0,1300000.0,1200000.0,1200000.0,1200000.0,1100000.0,1100000.0,1051200.0,1050000.0,1041000.0,1000000.0,1000000.0,1000000.0,1000000.0,1000000.0,1000000.0,1000000.0,1000000.0,1000000.0,1000000.0,1000000.0,1000000.0,1000000.0,1000000.0,1000000.0,1000000.0,1000000.0,1000000.0,1000000.0,1000000.0,1000000.0,1000000.0,1000000.0,1000000.0,1000000.0,1000000.0,1000000.0,1000000.0,900000.0,800000.0,800000.0,800000.0,800000.0,800000.0,750000.0,750000.0,750000.0,730000.0,730000.0,720000.0,700000.0,650000.0,600000.0,600000.0,584000.0,584000.0,570000.0,560000.0,511000.0,500000.0,500000.0,500000.0,500000.0,500000.0,500000.0,500000.0,500000.0,500000.0,500000.0,500000.0,500000.0,500000.0,500000.0,500000.0,500000.0,500000.0,481800.0,467200.0,409000.0,400000.0,400000.0,400000.0,400000.0,400000.0,340000.0,340000.0,320000.0,306900.0,300000.0,300000.0,300000.0,300000.0,300000.0,300000.0,300000.0,300000.0,300000.0,292000.0,250000.0,220000.0,200000.0,200000.0,200000.0,200000.0,200000.0,200000.0,200000.0,200000.0,182500.0,160000.0,150000.0,150000.0,150000.0,150000.0,146000.0,133000.0,100000.0,100000.0,43000.0,40900.0,12700.0,12700.0,7500.0,null,null,null,null,null,null,null,null,null,null,null,null,null,null,null,null,null,null,null,null,null,null,null,null,null,null,null,null,null,null,null,null,null,null,null,null,null,null,null,null,null,null,null,null,null,null,null,null,null,null,null,null,null,null,null,null,null,null,null,null,null,null,null,null,null,null,null,null,null,null,null,null,null,null,null,null,null,null,null,null,null,null,null,null,null,null,null,null,null,null,null,null,null,null,null],\"type\":\"pie\",\"textinfo\":\"percent+label\",\"textposition\":\"inside\"}],                        {\"template\":{\"data\":{\"histogram2dcontour\":[{\"type\":\"histogram2dcontour\",\"colorbar\":{\"outlinewidth\":0,\"ticks\":\"\"},\"colorscale\":[[0.0,\"#0d0887\"],[0.1111111111111111,\"#46039f\"],[0.2222222222222222,\"#7201a8\"],[0.3333333333333333,\"#9c179e\"],[0.4444444444444444,\"#bd3786\"],[0.5555555555555556,\"#d8576b\"],[0.6666666666666666,\"#ed7953\"],[0.7777777777777778,\"#fb9f3a\"],[0.8888888888888888,\"#fdca26\"],[1.0,\"#f0f921\"]]}],\"choropleth\":[{\"type\":\"choropleth\",\"colorbar\":{\"outlinewidth\":0,\"ticks\":\"\"}}],\"histogram2d\":[{\"type\":\"histogram2d\",\"colorbar\":{\"outlinewidth\":0,\"ticks\":\"\"},\"colorscale\":[[0.0,\"#0d0887\"],[0.1111111111111111,\"#46039f\"],[0.2222222222222222,\"#7201a8\"],[0.3333333333333333,\"#9c179e\"],[0.4444444444444444,\"#bd3786\"],[0.5555555555555556,\"#d8576b\"],[0.6666666666666666,\"#ed7953\"],[0.7777777777777778,\"#fb9f3a\"],[0.8888888888888888,\"#fdca26\"],[1.0,\"#f0f921\"]]}],\"heatmap\":[{\"type\":\"heatmap\",\"colorbar\":{\"outlinewidth\":0,\"ticks\":\"\"},\"colorscale\":[[0.0,\"#0d0887\"],[0.1111111111111111,\"#46039f\"],[0.2222222222222222,\"#7201a8\"],[0.3333333333333333,\"#9c179e\"],[0.4444444444444444,\"#bd3786\"],[0.5555555555555556,\"#d8576b\"],[0.6666666666666666,\"#ed7953\"],[0.7777777777777778,\"#fb9f3a\"],[0.8888888888888888,\"#fdca26\"],[1.0,\"#f0f921\"]]}],\"heatmapgl\":[{\"type\":\"heatmapgl\",\"colorbar\":{\"outlinewidth\":0,\"ticks\":\"\"},\"colorscale\":[[0.0,\"#0d0887\"],[0.1111111111111111,\"#46039f\"],[0.2222222222222222,\"#7201a8\"],[0.3333333333333333,\"#9c179e\"],[0.4444444444444444,\"#bd3786\"],[0.5555555555555556,\"#d8576b\"],[0.6666666666666666,\"#ed7953\"],[0.7777777777777778,\"#fb9f3a\"],[0.8888888888888888,\"#fdca26\"],[1.0,\"#f0f921\"]]}],\"contourcarpet\":[{\"type\":\"contourcarpet\",\"colorbar\":{\"outlinewidth\":0,\"ticks\":\"\"}}],\"contour\":[{\"type\":\"contour\",\"colorbar\":{\"outlinewidth\":0,\"ticks\":\"\"},\"colorscale\":[[0.0,\"#0d0887\"],[0.1111111111111111,\"#46039f\"],[0.2222222222222222,\"#7201a8\"],[0.3333333333333333,\"#9c179e\"],[0.4444444444444444,\"#bd3786\"],[0.5555555555555556,\"#d8576b\"],[0.6666666666666666,\"#ed7953\"],[0.7777777777777778,\"#fb9f3a\"],[0.8888888888888888,\"#fdca26\"],[1.0,\"#f0f921\"]]}],\"surface\":[{\"type\":\"surface\",\"colorbar\":{\"outlinewidth\":0,\"ticks\":\"\"},\"colorscale\":[[0.0,\"#0d0887\"],[0.1111111111111111,\"#46039f\"],[0.2222222222222222,\"#7201a8\"],[0.3333333333333333,\"#9c179e\"],[0.4444444444444444,\"#bd3786\"],[0.5555555555555556,\"#d8576b\"],[0.6666666666666666,\"#ed7953\"],[0.7777777777777778,\"#fb9f3a\"],[0.8888888888888888,\"#fdca26\"],[1.0,\"#f0f921\"]]}],\"mesh3d\":[{\"type\":\"mesh3d\",\"colorbar\":{\"outlinewidth\":0,\"ticks\":\"\"}}],\"scatter\":[{\"fillpattern\":{\"fillmode\":\"overlay\",\"size\":10,\"solidity\":0.2},\"type\":\"scatter\"}],\"parcoords\":[{\"type\":\"parcoords\",\"line\":{\"colorbar\":{\"outlinewidth\":0,\"ticks\":\"\"}}}],\"scatterpolargl\":[{\"type\":\"scatterpolargl\",\"marker\":{\"colorbar\":{\"outlinewidth\":0,\"ticks\":\"\"}}}],\"bar\":[{\"error_x\":{\"color\":\"#2a3f5f\"},\"error_y\":{\"color\":\"#2a3f5f\"},\"marker\":{\"line\":{\"color\":\"#E5ECF6\",\"width\":0.5},\"pattern\":{\"fillmode\":\"overlay\",\"size\":10,\"solidity\":0.2}},\"type\":\"bar\"}],\"scattergeo\":[{\"type\":\"scattergeo\",\"marker\":{\"colorbar\":{\"outlinewidth\":0,\"ticks\":\"\"}}}],\"scatterpolar\":[{\"type\":\"scatterpolar\",\"marker\":{\"colorbar\":{\"outlinewidth\":0,\"ticks\":\"\"}}}],\"histogram\":[{\"marker\":{\"pattern\":{\"fillmode\":\"overlay\",\"size\":10,\"solidity\":0.2}},\"type\":\"histogram\"}],\"scattergl\":[{\"type\":\"scattergl\",\"marker\":{\"colorbar\":{\"outlinewidth\":0,\"ticks\":\"\"}}}],\"scatter3d\":[{\"type\":\"scatter3d\",\"line\":{\"colorbar\":{\"outlinewidth\":0,\"ticks\":\"\"}},\"marker\":{\"colorbar\":{\"outlinewidth\":0,\"ticks\":\"\"}}}],\"scattermapbox\":[{\"type\":\"scattermapbox\",\"marker\":{\"colorbar\":{\"outlinewidth\":0,\"ticks\":\"\"}}}],\"scatterternary\":[{\"type\":\"scatterternary\",\"marker\":{\"colorbar\":{\"outlinewidth\":0,\"ticks\":\"\"}}}],\"scattercarpet\":[{\"type\":\"scattercarpet\",\"marker\":{\"colorbar\":{\"outlinewidth\":0,\"ticks\":\"\"}}}],\"carpet\":[{\"aaxis\":{\"endlinecolor\":\"#2a3f5f\",\"gridcolor\":\"white\",\"linecolor\":\"white\",\"minorgridcolor\":\"white\",\"startlinecolor\":\"#2a3f5f\"},\"baxis\":{\"endlinecolor\":\"#2a3f5f\",\"gridcolor\":\"white\",\"linecolor\":\"white\",\"minorgridcolor\":\"white\",\"startlinecolor\":\"#2a3f5f\"},\"type\":\"carpet\"}],\"table\":[{\"cells\":{\"fill\":{\"color\":\"#EBF0F8\"},\"line\":{\"color\":\"white\"}},\"header\":{\"fill\":{\"color\":\"#C8D4E3\"},\"line\":{\"color\":\"white\"}},\"type\":\"table\"}],\"barpolar\":[{\"marker\":{\"line\":{\"color\":\"#E5ECF6\",\"width\":0.5},\"pattern\":{\"fillmode\":\"overlay\",\"size\":10,\"solidity\":0.2}},\"type\":\"barpolar\"}],\"pie\":[{\"automargin\":true,\"type\":\"pie\"}]},\"layout\":{\"autotypenumbers\":\"strict\",\"colorway\":[\"#636efa\",\"#EF553B\",\"#00cc96\",\"#ab63fa\",\"#FFA15A\",\"#19d3f3\",\"#FF6692\",\"#B6E880\",\"#FF97FF\",\"#FECB52\"],\"font\":{\"color\":\"#2a3f5f\"},\"hovermode\":\"closest\",\"hoverlabel\":{\"align\":\"left\"},\"paper_bgcolor\":\"white\",\"plot_bgcolor\":\"#E5ECF6\",\"polar\":{\"bgcolor\":\"#E5ECF6\",\"angularaxis\":{\"gridcolor\":\"white\",\"linecolor\":\"white\",\"ticks\":\"\"},\"radialaxis\":{\"gridcolor\":\"white\",\"linecolor\":\"white\",\"ticks\":\"\"}},\"ternary\":{\"bgcolor\":\"#E5ECF6\",\"aaxis\":{\"gridcolor\":\"white\",\"linecolor\":\"white\",\"ticks\":\"\"},\"baxis\":{\"gridcolor\":\"white\",\"linecolor\":\"white\",\"ticks\":\"\"},\"caxis\":{\"gridcolor\":\"white\",\"linecolor\":\"white\",\"ticks\":\"\"}},\"coloraxis\":{\"colorbar\":{\"outlinewidth\":0,\"ticks\":\"\"}},\"colorscale\":{\"sequential\":[[0.0,\"#0d0887\"],[0.1111111111111111,\"#46039f\"],[0.2222222222222222,\"#7201a8\"],[0.3333333333333333,\"#9c179e\"],[0.4444444444444444,\"#bd3786\"],[0.5555555555555556,\"#d8576b\"],[0.6666666666666666,\"#ed7953\"],[0.7777777777777778,\"#fb9f3a\"],[0.8888888888888888,\"#fdca26\"],[1.0,\"#f0f921\"]],\"sequentialminus\":[[0.0,\"#0d0887\"],[0.1111111111111111,\"#46039f\"],[0.2222222222222222,\"#7201a8\"],[0.3333333333333333,\"#9c179e\"],[0.4444444444444444,\"#bd3786\"],[0.5555555555555556,\"#d8576b\"],[0.6666666666666666,\"#ed7953\"],[0.7777777777777778,\"#fb9f3a\"],[0.8888888888888888,\"#fdca26\"],[1.0,\"#f0f921\"]],\"diverging\":[[0,\"#8e0152\"],[0.1,\"#c51b7d\"],[0.2,\"#de77ae\"],[0.3,\"#f1b6da\"],[0.4,\"#fde0ef\"],[0.5,\"#f7f7f7\"],[0.6,\"#e6f5d0\"],[0.7,\"#b8e186\"],[0.8,\"#7fbc41\"],[0.9,\"#4d9221\"],[1,\"#276419\"]]},\"xaxis\":{\"gridcolor\":\"white\",\"linecolor\":\"white\",\"ticks\":\"\",\"title\":{\"standoff\":15},\"zerolinecolor\":\"white\",\"automargin\":true,\"zerolinewidth\":2},\"yaxis\":{\"gridcolor\":\"white\",\"linecolor\":\"white\",\"ticks\":\"\",\"title\":{\"standoff\":15},\"zerolinecolor\":\"white\",\"automargin\":true,\"zerolinewidth\":2},\"scene\":{\"xaxis\":{\"backgroundcolor\":\"#E5ECF6\",\"gridcolor\":\"white\",\"linecolor\":\"white\",\"showbackground\":true,\"ticks\":\"\",\"zerolinecolor\":\"white\",\"gridwidth\":2},\"yaxis\":{\"backgroundcolor\":\"#E5ECF6\",\"gridcolor\":\"white\",\"linecolor\":\"white\",\"showbackground\":true,\"ticks\":\"\",\"zerolinecolor\":\"white\",\"gridwidth\":2},\"zaxis\":{\"backgroundcolor\":\"#E5ECF6\",\"gridcolor\":\"white\",\"linecolor\":\"white\",\"showbackground\":true,\"ticks\":\"\",\"zerolinecolor\":\"white\",\"gridwidth\":2}},\"shapedefaults\":{\"line\":{\"color\":\"#2a3f5f\"}},\"annotationdefaults\":{\"arrowcolor\":\"#2a3f5f\",\"arrowhead\":0,\"arrowwidth\":1},\"geo\":{\"bgcolor\":\"white\",\"landcolor\":\"#E5ECF6\",\"subunitcolor\":\"white\",\"showland\":true,\"showlakes\":true,\"lakecolor\":\"white\"},\"title\":{\"x\":0.05},\"mapbox\":{\"style\":\"light\"}}},\"legend\":{\"tracegroupgap\":0},\"margin\":{\"t\":60},\"piecolorway\":[\"rgb(102, 197, 204)\",\"rgb(246, 207, 113)\",\"rgb(248, 156, 116)\",\"rgb(220, 176, 242)\",\"rgb(135, 197, 95)\",\"rgb(158, 185, 243)\",\"rgb(254, 136, 177)\",\"rgb(201, 219, 116)\",\"rgb(139, 224, 164)\",\"rgb(180, 151, 231)\",\"rgb(179, 179, 179)\"],\"title\":{\"font\":{\"size\":24},\"text\":\"Distribution of startups in Mumbai by sector\"}},                        {\"responsive\": true}                    ).then(function(){\n",
       "                            \n",
       "var gd = document.getElementById('ceb989e2-ba2d-4a38-9fc0-87324ceaebc8');\n",
       "var x = new MutationObserver(function (mutations, observer) {{\n",
       "        var display = window.getComputedStyle(gd).display;\n",
       "        if (!display || display === 'none') {{\n",
       "            console.log([gd, 'removed!']);\n",
       "            Plotly.purge(gd);\n",
       "            observer.disconnect();\n",
       "        }}\n",
       "}});\n",
       "\n",
       "// Listen for the removal of the full notebook cells\n",
       "var notebookContainer = gd.closest('#notebook-container');\n",
       "if (notebookContainer) {{\n",
       "    x.observe(notebookContainer, {childList: true});\n",
       "}}\n",
       "\n",
       "// Listen for the clearing of the current output cell\n",
       "var outputEl = gd.closest('.output');\n",
       "if (outputEl) {{\n",
       "    x.observe(outputEl, {childList: true});\n",
       "}}\n",
       "\n",
       "                        })                };                });            </script>        </div>"
      ]
     },
     "metadata": {},
     "output_type": "display_data"
    }
   ],
   "source": [
    "\n",
    "highest_sector_investor = px.pie(final_data_region_most_startups[final_data_region_most_startups[\"HeadQuarter\"] ==\"Mumbai\"], \n",
    "             values='Amount($)', \n",
    "             names='Sector', \n",
    "             hole=0.5, \n",
    "             color_discrete_sequence=px.colors.qualitative.Pastel)\n",
    "\n",
    "highest_sector_investor.update_traces(textposition='inside', textinfo='percent+label')\n",
    "highest_sector_investor.update_layout(title_text='Distribution of startups in Mumbai by sector', title_font=dict(size=24))\n",
    "\n",
    "highest_sector_investor.show()"
   ]
  },
  {
   "cell_type": "markdown",
   "metadata": {},
   "source": [
    "#### Mumbai has the most startup \n",
    "##### We note that there is an uneven distribution of startups by sector.\n",
    "##### In large part we have Fintech and Retail which represent respectively 65 and 30 percent"
   ]
  },
  {
   "cell_type": "markdown",
   "metadata": {},
   "source": [
    "### 4. Which sector received the lowest amount of funding collectively?\n",
    "To ensure that the data used is not null I will eliminate the sectors which have an amount equal to 0 then I order them in ascending order."
   ]
  },
  {
   "cell_type": "code",
   "execution_count": 161,
   "metadata": {},
   "outputs": [
    {
     "data": {
      "text/html": [
       "<div>\n",
       "<style scoped>\n",
       "    .dataframe tbody tr th:only-of-type {\n",
       "        vertical-align: middle;\n",
       "    }\n",
       "\n",
       "    .dataframe tbody tr th {\n",
       "        vertical-align: top;\n",
       "    }\n",
       "\n",
       "    .dataframe thead th {\n",
       "        text-align: right;\n",
       "    }\n",
       "</style>\n",
       "<table border=\"1\" class=\"dataframe\">\n",
       "  <thead>\n",
       "    <tr style=\"text-align: right;\">\n",
       "      <th></th>\n",
       "      <th>Sector</th>\n",
       "      <th>Amount($)</th>\n",
       "    </tr>\n",
       "  </thead>\n",
       "  <tbody>\n",
       "    <tr>\n",
       "      <th>176</th>\n",
       "      <td>Digital Marketing</td>\n",
       "      <td>1,460.00</td>\n",
       "    </tr>\n",
       "    <tr>\n",
       "      <th>517</th>\n",
       "      <td>Warehouse</td>\n",
       "      <td>54,000.00</td>\n",
       "    </tr>\n",
       "    <tr>\n",
       "      <th>371</th>\n",
       "      <td>Milk startup</td>\n",
       "      <td>100,000.00</td>\n",
       "    </tr>\n",
       "    <tr>\n",
       "      <th>315</th>\n",
       "      <td>Interior &amp; decor</td>\n",
       "      <td>100,000.00</td>\n",
       "    </tr>\n",
       "    <tr>\n",
       "      <th>187</th>\n",
       "      <td>E-Sports</td>\n",
       "      <td>100,000.00</td>\n",
       "    </tr>\n",
       "    <tr>\n",
       "      <th>...</th>\n",
       "      <td>...</td>\n",
       "      <td>...</td>\n",
       "    </tr>\n",
       "    <tr>\n",
       "      <th>188</th>\n",
       "      <td>E-commerce</td>\n",
       "      <td>2,951,666,800.00</td>\n",
       "    </tr>\n",
       "    <tr>\n",
       "      <th>477</th>\n",
       "      <td>Tech Startup</td>\n",
       "      <td>3,458,433,000.00</td>\n",
       "    </tr>\n",
       "    <tr>\n",
       "      <th>200</th>\n",
       "      <td>EdTech</td>\n",
       "      <td>4,979,496,530.00</td>\n",
       "    </tr>\n",
       "    <tr>\n",
       "      <th>429</th>\n",
       "      <td>Retail</td>\n",
       "      <td>70,542,380,000.00</td>\n",
       "    </tr>\n",
       "    <tr>\n",
       "      <th>235</th>\n",
       "      <td>FinTech</td>\n",
       "      <td>154,751,578,900.00</td>\n",
       "    </tr>\n",
       "  </tbody>\n",
       "</table>\n",
       "<p>453 rows × 2 columns</p>\n",
       "</div>"
      ],
      "text/plain": [
       "                Sector          Amount($)\n",
       "176  Digital Marketing           1,460.00\n",
       "517          Warehouse          54,000.00\n",
       "371       Milk startup         100,000.00\n",
       "315   Interior & decor         100,000.00\n",
       "187           E-Sports         100,000.00\n",
       "..                 ...                ...\n",
       "188         E-commerce   2,951,666,800.00\n",
       "477       Tech Startup   3,458,433,000.00\n",
       "200             EdTech   4,979,496,530.00\n",
       "429             Retail  70,542,380,000.00\n",
       "235            FinTech 154,751,578,900.00\n",
       "\n",
       "[453 rows x 2 columns]"
      ]
     },
     "execution_count": 161,
     "metadata": {},
     "output_type": "execute_result"
    }
   ],
   "source": [
    "fundind_sector_received_lowest_amount =  Final_Startup_Data.groupby('Sector')['Amount($)'].sum().reset_index()\n",
    "funding_sector_amount_sup_zero = fundind_sector_received_lowest_amount[fundind_sector_received_lowest_amount['Amount($)']> 0]\n",
    "funding_lowest_amount = funding_sector_amount_sup_zero.sort_values(by='Amount($)',ascending=True)\n",
    "funding_lowest_amount"
   ]
  },
  {
   "cell_type": "code",
   "execution_count": 164,
   "metadata": {},
   "outputs": [
    {
     "data": {
      "image/png": "[encoded data removed]",
      "text/plain": [
       "<Figure size 1200x1000 with 1 Axes>"
      ]
     },
     "metadata": {},
     "output_type": "display_data"
    }
   ],
   "source": [
    "plt.figure(figsize=(12,10))\n",
    "plt.title(\"Top 5 Sector received the lowest amount of funding\")\n",
    "plt.style.use(\"fivethirtyeight\")\n",
    "sns.barplot(y=\"Sector\",x=\"Amount($)\",palette=\"Blues_d\",data=funding_lowest_amount[:5])\n",
    "\n",
    "plt.ylabel(\"Sector\")\n",
    "plt.xlabel(\"Total Amounts of Billionaires\")\n",
    "plt.show()\n"
   ]
  },
  {
   "cell_type": "markdown",
   "metadata": {},
   "source": [
    "#### Digital Marketing is the sector which receives lowest amount collectivelly"
   ]
  },
  {
   "cell_type": "markdown",
   "metadata": {},
   "source": [
    "## 6. What is the average amount of capital invested for the top 5 sectors?\n"
   ]
  },
  {
   "cell_type": "code",
   "execution_count": 180,
   "metadata": {},
   "outputs": [
    {
     "data": {
      "text/html": [
       "<div>\n",
       "<style scoped>\n",
       "    .dataframe tbody tr th:only-of-type {\n",
       "        vertical-align: middle;\n",
       "    }\n",
       "\n",
       "    .dataframe tbody tr th {\n",
       "        vertical-align: top;\n",
       "    }\n",
       "\n",
       "    .dataframe thead th {\n",
       "        text-align: right;\n",
       "    }\n",
       "</style>\n",
       "<table border=\"1\" class=\"dataframe\">\n",
       "  <thead>\n",
       "    <tr style=\"text-align: right;\">\n",
       "      <th></th>\n",
       "      <th>Sector</th>\n",
       "      <th>Amount($)</th>\n",
       "    </tr>\n",
       "  </thead>\n",
       "  <tbody>\n",
       "    <tr>\n",
       "      <th>235</th>\n",
       "      <td>FinTech</td>\n",
       "      <td>154,751,578,900.00</td>\n",
       "    </tr>\n",
       "    <tr>\n",
       "      <th>429</th>\n",
       "      <td>Retail</td>\n",
       "      <td>70,542,380,000.00</td>\n",
       "    </tr>\n",
       "    <tr>\n",
       "      <th>200</th>\n",
       "      <td>EdTech</td>\n",
       "      <td>4,979,496,530.00</td>\n",
       "    </tr>\n",
       "    <tr>\n",
       "      <th>477</th>\n",
       "      <td>Tech Startup</td>\n",
       "      <td>3,458,433,000.00</td>\n",
       "    </tr>\n",
       "    <tr>\n",
       "      <th>188</th>\n",
       "      <td>E-commerce</td>\n",
       "      <td>2,951,666,800.00</td>\n",
       "    </tr>\n",
       "  </tbody>\n",
       "</table>\n",
       "</div>"
      ],
      "text/plain": [
       "           Sector          Amount($)\n",
       "235       FinTech 154,751,578,900.00\n",
       "429        Retail  70,542,380,000.00\n",
       "200        EdTech   4,979,496,530.00\n",
       "477  Tech Startup   3,458,433,000.00\n",
       "188    E-commerce   2,951,666,800.00"
      ]
     },
     "execution_count": 180,
     "metadata": {},
     "output_type": "execute_result"
    }
   ],
   "source": [
    "top_5_sector_insvest  =  get_only_highest[:5]\n",
    "top_5_sector_insvest"
   ]
  },
  {
   "cell_type": "code",
   "execution_count": 183,
   "metadata": {},
   "outputs": [
    {
     "data": {
      "text/html": [
       "<div>\n",
       "<style scoped>\n",
       "    .dataframe tbody tr th:only-of-type {\n",
       "        vertical-align: middle;\n",
       "    }\n",
       "\n",
       "    .dataframe tbody tr th {\n",
       "        vertical-align: top;\n",
       "    }\n",
       "\n",
       "    .dataframe thead th {\n",
       "        text-align: right;\n",
       "    }\n",
       "</style>\n",
       "<table border=\"1\" class=\"dataframe\">\n",
       "  <thead>\n",
       "    <tr style=\"text-align: right;\">\n",
       "      <th></th>\n",
       "      <th>Amount($)</th>\n",
       "    </tr>\n",
       "  </thead>\n",
       "  <tbody>\n",
       "    <tr>\n",
       "      <th>count</th>\n",
       "      <td>5.00</td>\n",
       "    </tr>\n",
       "    <tr>\n",
       "      <th>mean</th>\n",
       "      <td>47,336,711,046.00</td>\n",
       "    </tr>\n",
       "    <tr>\n",
       "      <th>std</th>\n",
       "      <td>66,644,440,815.14</td>\n",
       "    </tr>\n",
       "    <tr>\n",
       "      <th>min</th>\n",
       "      <td>2,951,666,800.00</td>\n",
       "    </tr>\n",
       "    <tr>\n",
       "      <th>25%</th>\n",
       "      <td>3,458,433,000.00</td>\n",
       "    </tr>\n",
       "    <tr>\n",
       "      <th>50%</th>\n",
       "      <td>4,979,496,530.00</td>\n",
       "    </tr>\n",
       "    <tr>\n",
       "      <th>75%</th>\n",
       "      <td>70,542,380,000.00</td>\n",
       "    </tr>\n",
       "    <tr>\n",
       "      <th>max</th>\n",
       "      <td>154,751,578,900.00</td>\n",
       "    </tr>\n",
       "  </tbody>\n",
       "</table>\n",
       "</div>"
      ],
      "text/plain": [
       "               Amount($)\n",
       "count               5.00\n",
       "mean   47,336,711,046.00\n",
       "std    66,644,440,815.14\n",
       "min     2,951,666,800.00\n",
       "25%     3,458,433,000.00\n",
       "50%     4,979,496,530.00\n",
       "75%    70,542,380,000.00\n",
       "max   154,751,578,900.00"
      ]
     },
     "execution_count": 183,
     "metadata": {},
     "output_type": "execute_result"
    }
   ],
   "source": [
    "top_5_sector_insvest.describe()"
   ]
  },
  {
   "cell_type": "markdown",
   "metadata": {},
   "source": [
    "### the average amount of capital invested for the top 5 sector is mean : 42.336.711.045 "
   ]
  },
  {
   "cell_type": "code",
   "execution_count": null,
   "metadata": {},
   "outputs": [],
   "source": []
  }
 ],
 "metadata": {
  "kernelspec": {
   "display_name": "Python 3 (ipykernel)",
   "language": "python",
   "name": "python3"
  },
  "language_info": {
   "codemirror_mode": {
    "name": "ipython",
    "version": 3
   },
   "file_extension": ".py",
   "mimetype": "text/x-python",
   "name": "python",
   "nbconvert_exporter": "python",
   "pygments_lexer": "ipython3",
   "version": "3.10.11"
  }
 },
 "nbformat": 4,
 "nbformat_minor": 2
}
